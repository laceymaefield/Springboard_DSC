{
 "cells": [
  {
   "cell_type": "code",
   "execution_count": 2,
   "metadata": {},
   "outputs": [],
   "source": [
    "import numpy as np\n",
    "import pandas as pd\n",
    "import matplotlib.pyplot as plt"
   ]
  },
  {
   "cell_type": "code",
   "execution_count": 14,
   "metadata": {},
   "outputs": [],
   "source": [
    "users = pd.read_csv(\"Downloads/1481069814_relax_challenge/relax_challenge/takehome_users.csv\", encoding='latin')"
   ]
  },
  {
   "cell_type": "code",
   "execution_count": 86,
   "metadata": {},
   "outputs": [],
   "source": [
    "engage = pd.read_csv(\"Downloads/1481069814_relax_challenge/relax_challenge/takehome_user_engagement.csv\")"
   ]
  },
  {
   "cell_type": "code",
   "execution_count": 15,
   "metadata": {},
   "outputs": [
    {
     "data": {
      "text/html": [
       "<div>\n",
       "<style scoped>\n",
       "    .dataframe tbody tr th:only-of-type {\n",
       "        vertical-align: middle;\n",
       "    }\n",
       "\n",
       "    .dataframe tbody tr th {\n",
       "        vertical-align: top;\n",
       "    }\n",
       "\n",
       "    .dataframe thead th {\n",
       "        text-align: right;\n",
       "    }\n",
       "</style>\n",
       "<table border=\"1\" class=\"dataframe\">\n",
       "  <thead>\n",
       "    <tr style=\"text-align: right;\">\n",
       "      <th></th>\n",
       "      <th>object_id</th>\n",
       "      <th>creation_time</th>\n",
       "      <th>name</th>\n",
       "      <th>email</th>\n",
       "      <th>creation_source</th>\n",
       "      <th>last_session_creation_time</th>\n",
       "      <th>opted_in_to_mailing_list</th>\n",
       "      <th>enabled_for_marketing_drip</th>\n",
       "      <th>org_id</th>\n",
       "      <th>invited_by_user_id</th>\n",
       "    </tr>\n",
       "  </thead>\n",
       "  <tbody>\n",
       "    <tr>\n",
       "      <th>0</th>\n",
       "      <td>1</td>\n",
       "      <td>2014-04-22 03:53:30</td>\n",
       "      <td>Clausen August</td>\n",
       "      <td>AugustCClausen@yahoo.com</td>\n",
       "      <td>GUEST_INVITE</td>\n",
       "      <td>1.398139e+09</td>\n",
       "      <td>1</td>\n",
       "      <td>0</td>\n",
       "      <td>11</td>\n",
       "      <td>10803.0</td>\n",
       "    </tr>\n",
       "    <tr>\n",
       "      <th>1</th>\n",
       "      <td>2</td>\n",
       "      <td>2013-11-15 03:45:04</td>\n",
       "      <td>Poole Matthew</td>\n",
       "      <td>MatthewPoole@gustr.com</td>\n",
       "      <td>ORG_INVITE</td>\n",
       "      <td>1.396238e+09</td>\n",
       "      <td>0</td>\n",
       "      <td>0</td>\n",
       "      <td>1</td>\n",
       "      <td>316.0</td>\n",
       "    </tr>\n",
       "    <tr>\n",
       "      <th>2</th>\n",
       "      <td>3</td>\n",
       "      <td>2013-03-19 23:14:52</td>\n",
       "      <td>Bottrill Mitchell</td>\n",
       "      <td>MitchellBottrill@gustr.com</td>\n",
       "      <td>ORG_INVITE</td>\n",
       "      <td>1.363735e+09</td>\n",
       "      <td>0</td>\n",
       "      <td>0</td>\n",
       "      <td>94</td>\n",
       "      <td>1525.0</td>\n",
       "    </tr>\n",
       "    <tr>\n",
       "      <th>3</th>\n",
       "      <td>4</td>\n",
       "      <td>2013-05-21 08:09:28</td>\n",
       "      <td>Clausen Nicklas</td>\n",
       "      <td>NicklasSClausen@yahoo.com</td>\n",
       "      <td>GUEST_INVITE</td>\n",
       "      <td>1.369210e+09</td>\n",
       "      <td>0</td>\n",
       "      <td>0</td>\n",
       "      <td>1</td>\n",
       "      <td>5151.0</td>\n",
       "    </tr>\n",
       "    <tr>\n",
       "      <th>4</th>\n",
       "      <td>5</td>\n",
       "      <td>2013-01-17 10:14:20</td>\n",
       "      <td>Raw Grace</td>\n",
       "      <td>GraceRaw@yahoo.com</td>\n",
       "      <td>GUEST_INVITE</td>\n",
       "      <td>1.358850e+09</td>\n",
       "      <td>0</td>\n",
       "      <td>0</td>\n",
       "      <td>193</td>\n",
       "      <td>5240.0</td>\n",
       "    </tr>\n",
       "  </tbody>\n",
       "</table>\n",
       "</div>"
      ],
      "text/plain": [
       "   object_id        creation_time               name  \\\n",
       "0          1  2014-04-22 03:53:30     Clausen August   \n",
       "1          2  2013-11-15 03:45:04      Poole Matthew   \n",
       "2          3  2013-03-19 23:14:52  Bottrill Mitchell   \n",
       "3          4  2013-05-21 08:09:28    Clausen Nicklas   \n",
       "4          5  2013-01-17 10:14:20          Raw Grace   \n",
       "\n",
       "                        email creation_source  last_session_creation_time  \\\n",
       "0    AugustCClausen@yahoo.com    GUEST_INVITE                1.398139e+09   \n",
       "1      MatthewPoole@gustr.com      ORG_INVITE                1.396238e+09   \n",
       "2  MitchellBottrill@gustr.com      ORG_INVITE                1.363735e+09   \n",
       "3   NicklasSClausen@yahoo.com    GUEST_INVITE                1.369210e+09   \n",
       "4          GraceRaw@yahoo.com    GUEST_INVITE                1.358850e+09   \n",
       "\n",
       "   opted_in_to_mailing_list  enabled_for_marketing_drip  org_id  \\\n",
       "0                         1                           0      11   \n",
       "1                         0                           0       1   \n",
       "2                         0                           0      94   \n",
       "3                         0                           0       1   \n",
       "4                         0                           0     193   \n",
       "\n",
       "   invited_by_user_id  \n",
       "0             10803.0  \n",
       "1               316.0  \n",
       "2              1525.0  \n",
       "3              5151.0  \n",
       "4              5240.0  "
      ]
     },
     "execution_count": 15,
     "metadata": {},
     "output_type": "execute_result"
    }
   ],
   "source": [
    "users.head()"
   ]
  },
  {
   "cell_type": "code",
   "execution_count": 20,
   "metadata": {},
   "outputs": [
    {
     "name": "stdout",
     "output_type": "stream",
     "text": [
      "<class 'pandas.core.frame.DataFrame'>\n",
      "RangeIndex: 207917 entries, 0 to 207916\n",
      "Data columns (total 3 columns):\n",
      "time_stamp    207917 non-null object\n",
      "user_id       207917 non-null int64\n",
      "visited       207917 non-null int64\n",
      "dtypes: int64(2), object(1)\n",
      "memory usage: 4.8+ MB\n"
     ]
    }
   ],
   "source": [
    "#adopted user is a user who has logged into product on three seperate days in at least one 70 day period\n",
    "#what features predict future user adoption \n",
    "#so object_id in the users table is the user_id so will need to use that for comparison \n",
    "#I think first step is to see if the user is adopted by creating a list\n",
    "engage.info()"
   ]
  },
  {
   "cell_type": "code",
   "execution_count": 88,
   "metadata": {},
   "outputs": [],
   "source": [
    "#going to change the time_stamp column to actual datetime \n",
    "engage['time_stamp'] = pd.to_datetime(engage['time_stamp'])"
   ]
  },
  {
   "cell_type": "code",
   "execution_count": 89,
   "metadata": {},
   "outputs": [],
   "source": [
    "engage.index=engage['time_stamp']\n",
    "engage.drop(labels='time_stamp', axis=1, inplace=True)\n",
    "engage2 = engage.groupby([pd.Grouper(freq='W'), 'user_id']).sum()\n",
    "#grouping by week so that I can then see which users have visited 3 or more times"
   ]
  },
  {
   "cell_type": "code",
   "execution_count": 90,
   "metadata": {},
   "outputs": [
    {
     "data": {
      "text/plain": [
       "count    207917.0\n",
       "mean          1.0\n",
       "std           0.0\n",
       "min           1.0\n",
       "25%           1.0\n",
       "50%           1.0\n",
       "75%           1.0\n",
       "max           1.0\n",
       "Name: visited, dtype: float64"
      ]
     },
     "execution_count": 90,
     "metadata": {},
     "output_type": "execute_result"
    }
   ],
   "source": [
    "engage['visited'].describe()\n",
    "#so visited is always 1 so can essentially drop this column"
   ]
  },
  {
   "cell_type": "code",
   "execution_count": 93,
   "metadata": {},
   "outputs": [],
   "source": [
    "engage_sum = engage2[engage2.visited>=3].unstack(level=1).melt()"
   ]
  },
  {
   "cell_type": "code",
   "execution_count": 119,
   "metadata": {},
   "outputs": [],
   "source": [
    "user_ids = pd.DataFrame(engage_sum.user_id.unique(), columns=['user_ids'])"
   ]
  },
  {
   "cell_type": "code",
   "execution_count": 120,
   "metadata": {},
   "outputs": [
    {
     "data": {
      "text/html": [
       "<div>\n",
       "<style scoped>\n",
       "    .dataframe tbody tr th:only-of-type {\n",
       "        vertical-align: middle;\n",
       "    }\n",
       "\n",
       "    .dataframe tbody tr th {\n",
       "        vertical-align: top;\n",
       "    }\n",
       "\n",
       "    .dataframe thead th {\n",
       "        text-align: right;\n",
       "    }\n",
       "</style>\n",
       "<table border=\"1\" class=\"dataframe\">\n",
       "  <thead>\n",
       "    <tr style=\"text-align: right;\">\n",
       "      <th></th>\n",
       "      <th>user_ids</th>\n",
       "    </tr>\n",
       "  </thead>\n",
       "  <tbody>\n",
       "    <tr>\n",
       "      <th>0</th>\n",
       "      <td>1693</td>\n",
       "    </tr>\n",
       "    <tr>\n",
       "      <th>1</th>\n",
       "      <td>728</td>\n",
       "    </tr>\n",
       "    <tr>\n",
       "      <th>2</th>\n",
       "      <td>11764</td>\n",
       "    </tr>\n",
       "    <tr>\n",
       "      <th>3</th>\n",
       "      <td>5297</td>\n",
       "    </tr>\n",
       "    <tr>\n",
       "      <th>4</th>\n",
       "      <td>6171</td>\n",
       "    </tr>\n",
       "  </tbody>\n",
       "</table>\n",
       "</div>"
      ],
      "text/plain": [
       "   user_ids\n",
       "0      1693\n",
       "1       728\n",
       "2     11764\n",
       "3      5297\n",
       "4      6171"
      ]
     },
     "execution_count": 120,
     "metadata": {},
     "output_type": "execute_result"
    }
   ],
   "source": [
    "#now I have the unique user_ids that logged onto product 3 times. \n",
    "user_ids.head()"
   ]
  },
  {
   "cell_type": "code",
   "execution_count": 100,
   "metadata": {},
   "outputs": [
    {
     "data": {
      "text/html": [
       "<div>\n",
       "<style scoped>\n",
       "    .dataframe tbody tr th:only-of-type {\n",
       "        vertical-align: middle;\n",
       "    }\n",
       "\n",
       "    .dataframe tbody tr th {\n",
       "        vertical-align: top;\n",
       "    }\n",
       "\n",
       "    .dataframe thead th {\n",
       "        text-align: right;\n",
       "    }\n",
       "</style>\n",
       "<table border=\"1\" class=\"dataframe\">\n",
       "  <thead>\n",
       "    <tr style=\"text-align: right;\">\n",
       "      <th></th>\n",
       "      <th>None</th>\n",
       "      <th>user_id</th>\n",
       "      <th>value</th>\n",
       "    </tr>\n",
       "  </thead>\n",
       "  <tbody>\n",
       "    <tr>\n",
       "      <th>0</th>\n",
       "      <td>visited</td>\n",
       "      <td>1693</td>\n",
       "      <td>3.0</td>\n",
       "    </tr>\n",
       "    <tr>\n",
       "      <th>1</th>\n",
       "      <td>visited</td>\n",
       "      <td>1693</td>\n",
       "      <td>NaN</td>\n",
       "    </tr>\n",
       "    <tr>\n",
       "      <th>2</th>\n",
       "      <td>visited</td>\n",
       "      <td>1693</td>\n",
       "      <td>3.0</td>\n",
       "    </tr>\n",
       "    <tr>\n",
       "      <th>3</th>\n",
       "      <td>visited</td>\n",
       "      <td>1693</td>\n",
       "      <td>NaN</td>\n",
       "    </tr>\n",
       "    <tr>\n",
       "      <th>4</th>\n",
       "      <td>visited</td>\n",
       "      <td>1693</td>\n",
       "      <td>3.0</td>\n",
       "    </tr>\n",
       "  </tbody>\n",
       "</table>\n",
       "</div>"
      ],
      "text/plain": [
       "       NaN  user_id  value\n",
       "0  visited     1693    3.0\n",
       "1  visited     1693    NaN\n",
       "2  visited     1693    3.0\n",
       "3  visited     1693    NaN\n",
       "4  visited     1693    3.0"
      ]
     },
     "execution_count": 100,
     "metadata": {},
     "output_type": "execute_result"
    }
   ],
   "source": [
    "engage_sum.head()"
   ]
  },
  {
   "cell_type": "code",
   "execution_count": 181,
   "metadata": {},
   "outputs": [
    {
     "data": {
      "text/html": [
       "<div>\n",
       "<style scoped>\n",
       "    .dataframe tbody tr th:only-of-type {\n",
       "        vertical-align: middle;\n",
       "    }\n",
       "\n",
       "    .dataframe tbody tr th {\n",
       "        vertical-align: top;\n",
       "    }\n",
       "\n",
       "    .dataframe thead th {\n",
       "        text-align: right;\n",
       "    }\n",
       "</style>\n",
       "<table border=\"1\" class=\"dataframe\">\n",
       "  <thead>\n",
       "    <tr style=\"text-align: right;\">\n",
       "      <th></th>\n",
       "      <th>object_id</th>\n",
       "      <th>creation_time</th>\n",
       "      <th>name</th>\n",
       "      <th>email</th>\n",
       "      <th>creation_source</th>\n",
       "      <th>last_session_creation_time</th>\n",
       "      <th>opted_in_to_mailing_list</th>\n",
       "      <th>enabled_for_marketing_drip</th>\n",
       "      <th>org_id</th>\n",
       "      <th>invited_by_user_id</th>\n",
       "      <th>user_ids</th>\n",
       "    </tr>\n",
       "  </thead>\n",
       "  <tbody>\n",
       "    <tr>\n",
       "      <th>0</th>\n",
       "      <td>2</td>\n",
       "      <td>2013-11-15 03:45:04</td>\n",
       "      <td>Poole Matthew</td>\n",
       "      <td>MatthewPoole@gustr.com</td>\n",
       "      <td>ORG_INVITE</td>\n",
       "      <td>1.396238e+09</td>\n",
       "      <td>0</td>\n",
       "      <td>0</td>\n",
       "      <td>1</td>\n",
       "      <td>316.0</td>\n",
       "      <td>2</td>\n",
       "    </tr>\n",
       "    <tr>\n",
       "      <th>1</th>\n",
       "      <td>10</td>\n",
       "      <td>2013-01-16 22:08:03</td>\n",
       "      <td>Santos Carla</td>\n",
       "      <td>CarlaFerreiraSantos@gustr.com</td>\n",
       "      <td>ORG_INVITE</td>\n",
       "      <td>1.401833e+09</td>\n",
       "      <td>1</td>\n",
       "      <td>1</td>\n",
       "      <td>318</td>\n",
       "      <td>4143.0</td>\n",
       "      <td>10</td>\n",
       "    </tr>\n",
       "    <tr>\n",
       "      <th>2</th>\n",
       "      <td>20</td>\n",
       "      <td>2014-03-06 11:46:38</td>\n",
       "      <td>Helms Mikayla</td>\n",
       "      <td>lqyvjilf@uhzdq.com</td>\n",
       "      <td>SIGNUP</td>\n",
       "      <td>1.401364e+09</td>\n",
       "      <td>0</td>\n",
       "      <td>0</td>\n",
       "      <td>58</td>\n",
       "      <td>NaN</td>\n",
       "      <td>20</td>\n",
       "    </tr>\n",
       "    <tr>\n",
       "      <th>3</th>\n",
       "      <td>33</td>\n",
       "      <td>2014-03-11 06:29:09</td>\n",
       "      <td>Araujo José</td>\n",
       "      <td>JoseMartinsAraujo@cuvox.de</td>\n",
       "      <td>GUEST_INVITE</td>\n",
       "      <td>1.401518e+09</td>\n",
       "      <td>0</td>\n",
       "      <td>0</td>\n",
       "      <td>401</td>\n",
       "      <td>79.0</td>\n",
       "      <td>33</td>\n",
       "    </tr>\n",
       "    <tr>\n",
       "      <th>4</th>\n",
       "      <td>42</td>\n",
       "      <td>2012-11-11 19:05:07</td>\n",
       "      <td>Pinto Giovanna</td>\n",
       "      <td>GiovannaCunhaPinto@cuvox.de</td>\n",
       "      <td>SIGNUP</td>\n",
       "      <td>1.401045e+09</td>\n",
       "      <td>1</td>\n",
       "      <td>0</td>\n",
       "      <td>235</td>\n",
       "      <td>NaN</td>\n",
       "      <td>42</td>\n",
       "    </tr>\n",
       "  </tbody>\n",
       "</table>\n",
       "</div>"
      ],
      "text/plain": [
       "   object_id        creation_time            name  \\\n",
       "0          2  2013-11-15 03:45:04   Poole Matthew   \n",
       "1         10  2013-01-16 22:08:03    Santos Carla   \n",
       "2         20  2014-03-06 11:46:38   Helms Mikayla   \n",
       "3         33  2014-03-11 06:29:09     Araujo José   \n",
       "4         42  2012-11-11 19:05:07  Pinto Giovanna   \n",
       "\n",
       "                           email creation_source  last_session_creation_time  \\\n",
       "0         MatthewPoole@gustr.com      ORG_INVITE                1.396238e+09   \n",
       "1  CarlaFerreiraSantos@gustr.com      ORG_INVITE                1.401833e+09   \n",
       "2             lqyvjilf@uhzdq.com          SIGNUP                1.401364e+09   \n",
       "3     JoseMartinsAraujo@cuvox.de    GUEST_INVITE                1.401518e+09   \n",
       "4    GiovannaCunhaPinto@cuvox.de          SIGNUP                1.401045e+09   \n",
       "\n",
       "   opted_in_to_mailing_list  enabled_for_marketing_drip  org_id  \\\n",
       "0                         0                           0       1   \n",
       "1                         1                           1     318   \n",
       "2                         0                           0      58   \n",
       "3                         0                           0     401   \n",
       "4                         1                           0     235   \n",
       "\n",
       "   invited_by_user_id  user_ids  \n",
       "0               316.0         2  \n",
       "1              4143.0        10  \n",
       "2                 NaN        20  \n",
       "3                79.0        33  \n",
       "4                 NaN        42  "
      ]
     },
     "execution_count": 181,
     "metadata": {},
     "output_type": "execute_result"
    }
   ],
   "source": [
    "#joined the user columns with the user_ids so that there is now a list of users that logged on 3 times, now I do EDA for top features\n",
    "engage_join = users.merge(user_ids, how='inner', left_on='object_id', right_on='user_ids')\n",
    "engage_join.head()"
   ]
  },
  {
   "cell_type": "code",
   "execution_count": 127,
   "metadata": {},
   "outputs": [
    {
     "data": {
      "text/plain": [
       "(array([491.,   0., 275.,   0.,   0., 326.,   0., 206.,   0., 147.]),\n",
       " array([0. , 0.4, 0.8, 1.2, 1.6, 2. , 2.4, 2.8, 3.2, 3.6, 4. ]),\n",
       " <a list of 10 Patch objects>)"
      ]
     },
     "execution_count": 127,
     "metadata": {},
     "output_type": "execute_result"
    },
    {
     "data": {
      "image/png": "[encoded data removed]",
      "text/plain": [
       "<Figure size 720x288 with 1 Axes>"
      ]
     },
     "metadata": {
      "needs_background": "light"
     },
     "output_type": "display_data"
    }
   ],
   "source": [
    "#since this a grouping of the users that logged on at least 3 times, I want to see which features are strongest. going to look at creation source, opted into mailing list, and perhaps invited bye user id\n",
    "fig = plt.figure(figsize=(10,4))\n",
    "plt.hist(engage_join['creation_source'])\n",
    "#so does look like there is some variety in the creation source, which will be good to model, org invite is pretty high as wella s guestinvite"
   ]
  },
  {
   "cell_type": "code",
   "execution_count": 128,
   "metadata": {
    "collapsed": true
   },
   "outputs": [
    {
     "data": {
      "text/plain": [
       "(array([1067.,    0.,    0.,    0.,    0.,    0.,    0.,    0.,    0.,\n",
       "         378.]),\n",
       " array([0. , 0.1, 0.2, 0.3, 0.4, 0.5, 0.6, 0.7, 0.8, 0.9, 1. ]),\n",
       " <a list of 10 Patch objects>)"
      ]
     },
     "execution_count": 128,
     "metadata": {},
     "output_type": "execute_result"
    },
    {
     "data": {
      "image/png": "[encoded data removed]",
      "text/plain": [
       "<Figure size 432x288 with 1 Axes>"
      ]
     },
     "metadata": {
      "needs_background": "light"
     },
     "output_type": "display_data"
    }
   ],
   "source": [
    "plt.hist(engage_join['opted_in_to_mailing_list'])\n",
    "#so we see majority of people are not opted into the mailing list"
   ]
  },
  {
   "cell_type": "code",
   "execution_count": 129,
   "metadata": {},
   "outputs": [
    {
     "data": {
      "text/plain": [
       "(array([1221.,    0.,    0.,    0.,    0.,    0.,    0.,    0.,    0.,\n",
       "         224.]),\n",
       " array([0. , 0.1, 0.2, 0.3, 0.4, 0.5, 0.6, 0.7, 0.8, 0.9, 1. ]),\n",
       " <a list of 10 Patch objects>)"
      ]
     },
     "execution_count": 129,
     "metadata": {},
     "output_type": "execute_result"
    },
    {
     "data": {
      "image/png": "[encoded data removed]",
      "text/plain": [
       "<Figure size 432x288 with 1 Axes>"
      ]
     },
     "metadata": {
      "needs_background": "light"
     },
     "output_type": "display_data"
    }
   ],
   "source": [
    "plt.hist(engage_join['enabled_for_marketing_drip'])\n",
    "#also majority are note enabled for marketing drip "
   ]
  },
  {
   "cell_type": "code",
   "execution_count": 182,
   "metadata": {},
   "outputs": [],
   "source": [
    "#got dummy variables for columns of interest to use for modeling \n",
    "engage_join = pd.get_dummies(engage_join, columns=['creation_source', 'opted_in_to_mailing_list', 'enabled_for_marketing_drip'])"
   ]
  },
  {
   "cell_type": "code",
   "execution_count": 134,
   "metadata": {},
   "outputs": [
    {
     "data": {
      "text/html": [
       "<div>\n",
       "<style scoped>\n",
       "    .dataframe tbody tr th:only-of-type {\n",
       "        vertical-align: middle;\n",
       "    }\n",
       "\n",
       "    .dataframe tbody tr th {\n",
       "        vertical-align: top;\n",
       "    }\n",
       "\n",
       "    .dataframe thead th {\n",
       "        text-align: right;\n",
       "    }\n",
       "</style>\n",
       "<table border=\"1\" class=\"dataframe\">\n",
       "  <thead>\n",
       "    <tr style=\"text-align: right;\">\n",
       "      <th></th>\n",
       "      <th>object_id</th>\n",
       "      <th>creation_time</th>\n",
       "      <th>name</th>\n",
       "      <th>email</th>\n",
       "      <th>last_session_creation_time</th>\n",
       "      <th>org_id</th>\n",
       "      <th>invited_by_user_id</th>\n",
       "      <th>user_ids</th>\n",
       "      <th>creation_source_GUEST_INVITE</th>\n",
       "      <th>creation_source_ORG_INVITE</th>\n",
       "      <th>creation_source_PERSONAL_PROJECTS</th>\n",
       "      <th>creation_source_SIGNUP</th>\n",
       "      <th>creation_source_SIGNUP_GOOGLE_AUTH</th>\n",
       "      <th>opted_in_to_mailing_list_0</th>\n",
       "      <th>opted_in_to_mailing_list_1</th>\n",
       "      <th>enabled_for_marketing_drip_0</th>\n",
       "      <th>enabled_for_marketing_drip_1</th>\n",
       "    </tr>\n",
       "  </thead>\n",
       "  <tbody>\n",
       "    <tr>\n",
       "      <th>0</th>\n",
       "      <td>2</td>\n",
       "      <td>2013-11-15 03:45:04</td>\n",
       "      <td>Poole Matthew</td>\n",
       "      <td>MatthewPoole@gustr.com</td>\n",
       "      <td>1.396238e+09</td>\n",
       "      <td>1</td>\n",
       "      <td>316.0</td>\n",
       "      <td>2</td>\n",
       "      <td>0</td>\n",
       "      <td>1</td>\n",
       "      <td>0</td>\n",
       "      <td>0</td>\n",
       "      <td>0</td>\n",
       "      <td>1</td>\n",
       "      <td>0</td>\n",
       "      <td>1</td>\n",
       "      <td>0</td>\n",
       "    </tr>\n",
       "    <tr>\n",
       "      <th>1</th>\n",
       "      <td>10</td>\n",
       "      <td>2013-01-16 22:08:03</td>\n",
       "      <td>Santos Carla</td>\n",
       "      <td>CarlaFerreiraSantos@gustr.com</td>\n",
       "      <td>1.401833e+09</td>\n",
       "      <td>318</td>\n",
       "      <td>4143.0</td>\n",
       "      <td>10</td>\n",
       "      <td>0</td>\n",
       "      <td>1</td>\n",
       "      <td>0</td>\n",
       "      <td>0</td>\n",
       "      <td>0</td>\n",
       "      <td>0</td>\n",
       "      <td>1</td>\n",
       "      <td>0</td>\n",
       "      <td>1</td>\n",
       "    </tr>\n",
       "    <tr>\n",
       "      <th>2</th>\n",
       "      <td>20</td>\n",
       "      <td>2014-03-06 11:46:38</td>\n",
       "      <td>Helms Mikayla</td>\n",
       "      <td>lqyvjilf@uhzdq.com</td>\n",
       "      <td>1.401364e+09</td>\n",
       "      <td>58</td>\n",
       "      <td>NaN</td>\n",
       "      <td>20</td>\n",
       "      <td>0</td>\n",
       "      <td>0</td>\n",
       "      <td>0</td>\n",
       "      <td>1</td>\n",
       "      <td>0</td>\n",
       "      <td>1</td>\n",
       "      <td>0</td>\n",
       "      <td>1</td>\n",
       "      <td>0</td>\n",
       "    </tr>\n",
       "    <tr>\n",
       "      <th>3</th>\n",
       "      <td>33</td>\n",
       "      <td>2014-03-11 06:29:09</td>\n",
       "      <td>Araujo José</td>\n",
       "      <td>JoseMartinsAraujo@cuvox.de</td>\n",
       "      <td>1.401518e+09</td>\n",
       "      <td>401</td>\n",
       "      <td>79.0</td>\n",
       "      <td>33</td>\n",
       "      <td>1</td>\n",
       "      <td>0</td>\n",
       "      <td>0</td>\n",
       "      <td>0</td>\n",
       "      <td>0</td>\n",
       "      <td>1</td>\n",
       "      <td>0</td>\n",
       "      <td>1</td>\n",
       "      <td>0</td>\n",
       "    </tr>\n",
       "    <tr>\n",
       "      <th>4</th>\n",
       "      <td>42</td>\n",
       "      <td>2012-11-11 19:05:07</td>\n",
       "      <td>Pinto Giovanna</td>\n",
       "      <td>GiovannaCunhaPinto@cuvox.de</td>\n",
       "      <td>1.401045e+09</td>\n",
       "      <td>235</td>\n",
       "      <td>NaN</td>\n",
       "      <td>42</td>\n",
       "      <td>0</td>\n",
       "      <td>0</td>\n",
       "      <td>0</td>\n",
       "      <td>1</td>\n",
       "      <td>0</td>\n",
       "      <td>0</td>\n",
       "      <td>1</td>\n",
       "      <td>1</td>\n",
       "      <td>0</td>\n",
       "    </tr>\n",
       "  </tbody>\n",
       "</table>\n",
       "</div>"
      ],
      "text/plain": [
       "   object_id        creation_time            name  \\\n",
       "0          2  2013-11-15 03:45:04   Poole Matthew   \n",
       "1         10  2013-01-16 22:08:03    Santos Carla   \n",
       "2         20  2014-03-06 11:46:38   Helms Mikayla   \n",
       "3         33  2014-03-11 06:29:09     Araujo José   \n",
       "4         42  2012-11-11 19:05:07  Pinto Giovanna   \n",
       "\n",
       "                           email  last_session_creation_time  org_id  \\\n",
       "0         MatthewPoole@gustr.com                1.396238e+09       1   \n",
       "1  CarlaFerreiraSantos@gustr.com                1.401833e+09     318   \n",
       "2             lqyvjilf@uhzdq.com                1.401364e+09      58   \n",
       "3     JoseMartinsAraujo@cuvox.de                1.401518e+09     401   \n",
       "4    GiovannaCunhaPinto@cuvox.de                1.401045e+09     235   \n",
       "\n",
       "   invited_by_user_id  user_ids  creation_source_GUEST_INVITE  \\\n",
       "0               316.0         2                             0   \n",
       "1              4143.0        10                             0   \n",
       "2                 NaN        20                             0   \n",
       "3                79.0        33                             1   \n",
       "4                 NaN        42                             0   \n",
       "\n",
       "   creation_source_ORG_INVITE  creation_source_PERSONAL_PROJECTS  \\\n",
       "0                           1                                  0   \n",
       "1                           1                                  0   \n",
       "2                           0                                  0   \n",
       "3                           0                                  0   \n",
       "4                           0                                  0   \n",
       "\n",
       "   creation_source_SIGNUP  creation_source_SIGNUP_GOOGLE_AUTH  \\\n",
       "0                       0                                   0   \n",
       "1                       0                                   0   \n",
       "2                       1                                   0   \n",
       "3                       0                                   0   \n",
       "4                       1                                   0   \n",
       "\n",
       "   opted_in_to_mailing_list_0  opted_in_to_mailing_list_1  \\\n",
       "0                           1                           0   \n",
       "1                           0                           1   \n",
       "2                           1                           0   \n",
       "3                           1                           0   \n",
       "4                           0                           1   \n",
       "\n",
       "   enabled_for_marketing_drip_0  enabled_for_marketing_drip_1  \n",
       "0                             1                             0  \n",
       "1                             0                             1  \n",
       "2                             1                             0  \n",
       "3                             1                             0  \n",
       "4                             1                             0  "
      ]
     },
     "execution_count": 134,
     "metadata": {},
     "output_type": "execute_result"
    }
   ],
   "source": [
    "engage_join.head()"
   ]
  },
  {
   "cell_type": "code",
   "execution_count": 183,
   "metadata": {},
   "outputs": [
    {
     "data": {
      "text/plain": [
       "['object_id',\n",
       " 'creation_time',\n",
       " 'name',\n",
       " 'email',\n",
       " 'last_session_creation_time',\n",
       " 'org_id',\n",
       " 'invited_by_user_id',\n",
       " 'user_ids',\n",
       " 'creation_source_GUEST_INVITE',\n",
       " 'creation_source_ORG_INVITE',\n",
       " 'creation_source_PERSONAL_PROJECTS',\n",
       " 'creation_source_SIGNUP',\n",
       " 'creation_source_SIGNUP_GOOGLE_AUTH',\n",
       " 'opted_in_to_mailing_list_0',\n",
       " 'opted_in_to_mailing_list_1',\n",
       " 'enabled_for_marketing_drip_0',\n",
       " 'enabled_for_marketing_drip_1']"
      ]
     },
     "execution_count": 183,
     "metadata": {},
     "output_type": "execute_result"
    }
   ],
   "source": [
    "list(engage_join.columns)"
   ]
  },
  {
   "cell_type": "code",
   "execution_count": 184,
   "metadata": {},
   "outputs": [
    {
     "name": "stdout",
     "output_type": "stream",
     "text": [
      "[0.21793322 0.32160495 0.11481091 0.15967907 0.18597185]\n"
     ]
    }
   ],
   "source": [
    "#after playing around with some modeling and thinking about the goal of the project,I don't think that a model will be beneficial\n",
    "#because the user ids are all distinct numbers, so that really isn't ideal for modeling. instead, I need to find a way to see how \n",
    "#how the features are weighted for this group of users that are active to see if there is any pattern or deductions that can be drawn\n",
    "from sklearn.ensemble import ExtraTreesClassifier\n",
    "X = engage_join[['creation_source_GUEST_INVITE', 'creation_source_ORG_INVITE', 'creation_source_PERSONAL_PROJECTS', 'creation_source_SIGNUP', 'creation_source_SIGNUP_GOOGLE_AUTH']]\n",
    "y = engage_join[['creation_source_GUEST_INVITE', 'creation_source_ORG_INVITE', 'creation_source_PERSONAL_PROJECTS', 'creation_source_SIGNUP', 'creation_source_SIGNUP_GOOGLE_AUTH']]\n",
    "model = ExtraTreesClassifier(n_estimators=10)\n",
    "model.fit(X,y)\n",
    "print(model.feature_importances_)\n",
    "#looking at the feature importances for the creation source in regards to the active users, we can see that the highest is org invite, which makes sense\n",
    "#since that was the highest we saw in the graphs plotted - going to look at other features than compare"
   ]
  },
  {
   "cell_type": "code",
   "execution_count": 148,
   "metadata": {},
   "outputs": [
    {
     "name": "stdout",
     "output_type": "stream",
     "text": [
      "[0.35905847 0.28565596 0.25229586 0.10298971]\n"
     ]
    }
   ],
   "source": [
    "X = engage_join[['opted_in_to_mailing_list_0', 'opted_in_to_mailing_list_1', 'enabled_for_marketing_drip_0', 'enabled_for_marketing_drip_1']]\n",
    "y = engage_join[['opted_in_to_mailing_list_0', 'opted_in_to_mailing_list_1', 'enabled_for_marketing_drip_0', 'enabled_for_marketing_drip_1']]\n",
    "model = ExtraTreesClassifier(n_estimators=10)\n",
    "model.fit(X,y)\n",
    "print(model.feature_importances_)\n",
    "#looking at these features, we can see that not opting into mailing list is the most indicative "
   ]
  },
  {
   "cell_type": "code",
   "execution_count": 189,
   "metadata": {},
   "outputs": [],
   "source": [
    "#going to convert the invited by user ids to dummys but need to remove nans\n",
    "#df[1].fillna(0, inplace=True)\n",
    "engage_join['invited_by_user_id'].fillna(0, inplace=True)"
   ]
  },
  {
   "cell_type": "code",
   "execution_count": 166,
   "metadata": {},
   "outputs": [
    {
     "name": "stdout",
     "output_type": "stream",
     "text": [
      "<class 'pandas.core.frame.DataFrame'>\n",
      "Int64Index: 1445 entries, 0 to 1444\n",
      "Data columns (total 11 columns):\n",
      "object_id                     1445 non-null int64\n",
      "creation_time                 1445 non-null object\n",
      "name                          1445 non-null object\n",
      "email                         1445 non-null object\n",
      "creation_source               1445 non-null object\n",
      "last_session_creation_time    1445 non-null float64\n",
      "opted_in_to_mailing_list      1445 non-null int64\n",
      "enabled_for_marketing_drip    1445 non-null int64\n",
      "org_id                        1445 non-null int64\n",
      "invited_by_user_id            1445 non-null float64\n",
      "user_ids                      1445 non-null int64\n",
      "dtypes: float64(2), int64(5), object(4)\n",
      "memory usage: 135.5+ KB\n"
     ]
    }
   ],
   "source": [
    "engage_join.info()"
   ]
  },
  {
   "cell_type": "code",
   "execution_count": 190,
   "metadata": {},
   "outputs": [],
   "source": [
    "engage_join['invited_true'] = engage_join.loc[engage_join.invited_by_user_id > 0.0] = 1"
   ]
  },
  {
   "cell_type": "code",
   "execution_count": 170,
   "metadata": {},
   "outputs": [
    {
     "data": {
      "text/html": [
       "<div>\n",
       "<style scoped>\n",
       "    .dataframe tbody tr th:only-of-type {\n",
       "        vertical-align: middle;\n",
       "    }\n",
       "\n",
       "    .dataframe tbody tr th {\n",
       "        vertical-align: top;\n",
       "    }\n",
       "\n",
       "    .dataframe thead th {\n",
       "        text-align: right;\n",
       "    }\n",
       "</style>\n",
       "<table border=\"1\" class=\"dataframe\">\n",
       "  <thead>\n",
       "    <tr style=\"text-align: right;\">\n",
       "      <th></th>\n",
       "      <th>object_id</th>\n",
       "      <th>creation_time</th>\n",
       "      <th>name</th>\n",
       "      <th>email</th>\n",
       "      <th>creation_source</th>\n",
       "      <th>last_session_creation_time</th>\n",
       "      <th>opted_in_to_mailing_list</th>\n",
       "      <th>enabled_for_marketing_drip</th>\n",
       "      <th>org_id</th>\n",
       "      <th>invited_by_user_id</th>\n",
       "      <th>user_ids</th>\n",
       "      <th>invited_true</th>\n",
       "    </tr>\n",
       "  </thead>\n",
       "  <tbody>\n",
       "    <tr>\n",
       "      <th>0</th>\n",
       "      <td>1</td>\n",
       "      <td>1</td>\n",
       "      <td>1</td>\n",
       "      <td>1</td>\n",
       "      <td>1</td>\n",
       "      <td>1.000000e+00</td>\n",
       "      <td>1</td>\n",
       "      <td>1</td>\n",
       "      <td>1</td>\n",
       "      <td>1.0</td>\n",
       "      <td>1</td>\n",
       "      <td>1</td>\n",
       "    </tr>\n",
       "    <tr>\n",
       "      <th>1</th>\n",
       "      <td>1</td>\n",
       "      <td>1</td>\n",
       "      <td>1</td>\n",
       "      <td>1</td>\n",
       "      <td>1</td>\n",
       "      <td>1.000000e+00</td>\n",
       "      <td>1</td>\n",
       "      <td>1</td>\n",
       "      <td>1</td>\n",
       "      <td>1.0</td>\n",
       "      <td>1</td>\n",
       "      <td>1</td>\n",
       "    </tr>\n",
       "    <tr>\n",
       "      <th>2</th>\n",
       "      <td>20</td>\n",
       "      <td>2014-03-06 11:46:38</td>\n",
       "      <td>Helms Mikayla</td>\n",
       "      <td>lqyvjilf@uhzdq.com</td>\n",
       "      <td>SIGNUP</td>\n",
       "      <td>1.401364e+09</td>\n",
       "      <td>0</td>\n",
       "      <td>0</td>\n",
       "      <td>58</td>\n",
       "      <td>0.0</td>\n",
       "      <td>20</td>\n",
       "      <td>1</td>\n",
       "    </tr>\n",
       "    <tr>\n",
       "      <th>3</th>\n",
       "      <td>1</td>\n",
       "      <td>1</td>\n",
       "      <td>1</td>\n",
       "      <td>1</td>\n",
       "      <td>1</td>\n",
       "      <td>1.000000e+00</td>\n",
       "      <td>1</td>\n",
       "      <td>1</td>\n",
       "      <td>1</td>\n",
       "      <td>1.0</td>\n",
       "      <td>1</td>\n",
       "      <td>1</td>\n",
       "    </tr>\n",
       "    <tr>\n",
       "      <th>4</th>\n",
       "      <td>42</td>\n",
       "      <td>2012-11-11 19:05:07</td>\n",
       "      <td>Pinto Giovanna</td>\n",
       "      <td>GiovannaCunhaPinto@cuvox.de</td>\n",
       "      <td>SIGNUP</td>\n",
       "      <td>1.401045e+09</td>\n",
       "      <td>1</td>\n",
       "      <td>0</td>\n",
       "      <td>235</td>\n",
       "      <td>0.0</td>\n",
       "      <td>42</td>\n",
       "      <td>1</td>\n",
       "    </tr>\n",
       "  </tbody>\n",
       "</table>\n",
       "</div>"
      ],
      "text/plain": [
       "   object_id        creation_time            name  \\\n",
       "0          1                    1               1   \n",
       "1          1                    1               1   \n",
       "2         20  2014-03-06 11:46:38   Helms Mikayla   \n",
       "3          1                    1               1   \n",
       "4         42  2012-11-11 19:05:07  Pinto Giovanna   \n",
       "\n",
       "                         email creation_source  last_session_creation_time  \\\n",
       "0                            1               1                1.000000e+00   \n",
       "1                            1               1                1.000000e+00   \n",
       "2           lqyvjilf@uhzdq.com          SIGNUP                1.401364e+09   \n",
       "3                            1               1                1.000000e+00   \n",
       "4  GiovannaCunhaPinto@cuvox.de          SIGNUP                1.401045e+09   \n",
       "\n",
       "   opted_in_to_mailing_list  enabled_for_marketing_drip  org_id  \\\n",
       "0                         1                           1       1   \n",
       "1                         1                           1       1   \n",
       "2                         0                           0      58   \n",
       "3                         1                           1       1   \n",
       "4                         1                           0     235   \n",
       "\n",
       "   invited_by_user_id  user_ids  invited_true  \n",
       "0                 1.0         1             1  \n",
       "1                 1.0         1             1  \n",
       "2                 0.0        20             1  \n",
       "3                 1.0         1             1  \n",
       "4                 0.0        42             1  "
      ]
     },
     "execution_count": 170,
     "metadata": {},
     "output_type": "execute_result"
    }
   ],
   "source": [
    "engage_join.head()"
   ]
  },
  {
   "cell_type": "code",
   "execution_count": 175,
   "metadata": {},
   "outputs": [
    {
     "data": {
      "text/plain": [
       "(array([628.,   0.,   0.,   0.,   0.,   0.,   0.,   0.,   0., 817.]),\n",
       " array([0. , 0.1, 0.2, 0.3, 0.4, 0.5, 0.6, 0.7, 0.8, 0.9, 1. ]),\n",
       " <a list of 10 Patch objects>)"
      ]
     },
     "execution_count": 175,
     "metadata": {},
     "output_type": "execute_result"
    },
    {
     "data": {
      "image/png": "[encoded data removed]",
      "text/plain": [
       "<Figure size 432x288 with 1 Axes>"
      ]
     },
     "metadata": {
      "needs_background": "light"
     },
     "output_type": "display_data"
    }
   ],
   "source": [
    "plt.hist(engage_join['invited_by_user_id'])\n",
    "#so can see in plot that more users were invited by user id "
   ]
  },
  {
   "cell_type": "code",
   "execution_count": 195,
   "metadata": {},
   "outputs": [
    {
     "name": "stdout",
     "output_type": "stream",
     "text": [
      "[0.11858994 0.21405546 0.07706128 0.05950102 0.04958386 0.0396131\n",
      " 0.09088219 0.03210479 0.07731168 0.24129668]\n"
     ]
    }
   ],
   "source": [
    "X = engage_join[['creation_source_GUEST_INVITE', 'creation_source_ORG_INVITE', 'creation_source_PERSONAL_PROJECTS', 'creation_source_SIGNUP', 'creation_source_SIGNUP_GOOGLE_AUTH', 'opted_in_to_mailing_list_0', 'opted_in_to_mailing_list_1', 'enabled_for_marketing_drip_0', 'enabled_for_marketing_drip_1', 'invited_by_user_id']]\n",
    "y = engage_join[['creation_source_GUEST_INVITE', 'creation_source_ORG_INVITE', 'creation_source_PERSONAL_PROJECTS', 'creation_source_SIGNUP', 'creation_source_SIGNUP_GOOGLE_AUTH', 'opted_in_to_mailing_list_0', 'opted_in_to_mailing_list_1', 'enabled_for_marketing_drip_0', 'enabled_for_marketing_drip_1', 'invited_by_user_id']]\n",
    "model = ExtraTreesClassifier(n_estimators=10)\n",
    "model.fit(X,y)\n",
    "print(model.feature_importances_)\n",
    "#so looking at the features all together, we see that the strongest is actually being invited by user ID with second strongest being opted into mailing list "
   ]
  },
  {
   "cell_type": "code",
   "execution_count": 197,
   "metadata": {},
   "outputs": [],
   "source": [
    "fit = model.fit(X,y)\n",
    "model2 = model.feature_importances_\n",
    "indices = np.argsort(model2)"
   ]
  },
  {
   "cell_type": "code",
   "execution_count": 200,
   "metadata": {},
   "outputs": [],
   "source": [
    "normalized_feat = np.std([tree.feature_importances_ for tree in model.estimators_], axis=0)"
   ]
  },
  {
   "cell_type": "code",
   "execution_count": 204,
   "metadata": {},
   "outputs": [
    {
     "data": {
      "image/png": "[encoded data removed]",
      "text/plain": [
       "<Figure size 1440x360 with 1 Axes>"
      ]
     },
     "metadata": {
      "needs_background": "light"
     },
     "output_type": "display_data"
    }
   ],
   "source": [
    "ig = plt.figure(figsize=(20,5))\n",
    "plt.bar(X.columns, normalized_feat)\n",
    "plt.xticks(rotation=45)\n",
    "plt.xlabel('Feature Labels')\n",
    "plt.ylabel('Feature Importances')\n",
    "plt.title('Comparison of Feature Importances')\n",
    "plt.show()\n",
    "#looking at the graphical representation of the features, we can see that creation source org invite is highest, second is\n",
    "#guest invite, and last is being invited by user id "
   ]
  },
  {
   "cell_type": "code",
   "execution_count": null,
   "metadata": {},
   "outputs": [],
   "source": []
  },
  {
   "cell_type": "code",
   "execution_count": null,
   "metadata": {},
   "outputs": [],
   "source": []
  },
  {
   "cell_type": "code",
   "execution_count": null,
   "metadata": {},
   "outputs": [],
   "source": []
  }
 ],
 "metadata": {
  "kernelspec": {
   "display_name": "Python 3",
   "language": "python",
   "name": "python3"
  },
  "language_info": {
   "codemirror_mode": {
    "name": "ipython",
    "version": 3
   },
   "file_extension": ".py",
   "mimetype": "text/x-python",
   "name": "python",
   "nbconvert_exporter": "python",
   "pygments_lexer": "ipython3",
   "version": "3.7.3"
  }
 },
 "nbformat": 4,
 "nbformat_minor": 2
}
