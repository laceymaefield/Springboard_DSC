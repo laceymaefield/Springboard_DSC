{
 "cells": [
  {
   "cell_type": "code",
   "execution_count": 1,
   "metadata": {},
   "outputs": [],
   "source": [
    "#Data wrangling AAC data-set\n",
    "import pandas as pd\n",
    "import numpy as np\n",
    "import datetime\n",
    "from dateutil.relativedelta import relativedelta\n",
    "from datetime import date\n",
    "import matplotlib.pyplot as plt"
   ]
  },
  {
   "cell_type": "code",
   "execution_count": 2,
   "metadata": {},
   "outputs": [
    {
     "data": {
      "text/html": [
       "<div>\n",
       "<style scoped>\n",
       "    .dataframe tbody tr th:only-of-type {\n",
       "        vertical-align: middle;\n",
       "    }\n",
       "\n",
       "    .dataframe tbody tr th {\n",
       "        vertical-align: top;\n",
       "    }\n",
       "\n",
       "    .dataframe thead th {\n",
       "        text-align: right;\n",
       "    }\n",
       "</style>\n",
       "<table border=\"1\" class=\"dataframe\">\n",
       "  <thead>\n",
       "    <tr style=\"text-align: right;\">\n",
       "      <th></th>\n",
       "      <th>date_of_birth</th>\n",
       "      <th>outcome_type</th>\n",
       "      <th>outcome_datetime</th>\n",
       "      <th>animal_type</th>\n",
       "      <th>breed</th>\n",
       "      <th>intake_datetime</th>\n",
       "    </tr>\n",
       "  </thead>\n",
       "  <tbody>\n",
       "    <tr>\n",
       "      <th>0</th>\n",
       "      <td>2007-07-09 00:00:00</td>\n",
       "      <td>Return to Owner</td>\n",
       "      <td>2017-12-07 14:07:00</td>\n",
       "      <td>Dog</td>\n",
       "      <td>Spinone Italiano Mix</td>\n",
       "      <td>2017-12-07 00:00:00</td>\n",
       "    </tr>\n",
       "    <tr>\n",
       "      <th>1</th>\n",
       "      <td>2007-07-09 00:00:00</td>\n",
       "      <td>Return to Owner</td>\n",
       "      <td>2014-12-20 16:35:00</td>\n",
       "      <td>Dog</td>\n",
       "      <td>Spinone Italiano Mix</td>\n",
       "      <td>2014-12-19 10:21:00</td>\n",
       "    </tr>\n",
       "    <tr>\n",
       "      <th>2</th>\n",
       "      <td>2007-07-09 00:00:00</td>\n",
       "      <td>Return to Owner</td>\n",
       "      <td>2014-03-08 17:10:00</td>\n",
       "      <td>Dog</td>\n",
       "      <td>Spinone Italiano Mix</td>\n",
       "      <td>2014-03-07 14:26:00</td>\n",
       "    </tr>\n",
       "    <tr>\n",
       "      <th>3</th>\n",
       "      <td>2004-04-02 00:00:00</td>\n",
       "      <td>Transfer</td>\n",
       "      <td>2014-04-07 15:12:00</td>\n",
       "      <td>Dog</td>\n",
       "      <td>Dachshund</td>\n",
       "      <td>2014-04-02 15:55:00</td>\n",
       "    </tr>\n",
       "    <tr>\n",
       "      <th>4</th>\n",
       "      <td>1997-10-16 00:00:00</td>\n",
       "      <td>Return to Owner</td>\n",
       "      <td>2013-11-16 11:54:00</td>\n",
       "      <td>Dog</td>\n",
       "      <td>Shetland Sheepdog</td>\n",
       "      <td>2013-11-16 09:02:00</td>\n",
       "    </tr>\n",
       "  </tbody>\n",
       "</table>\n",
       "</div>"
      ],
      "text/plain": [
       "         date_of_birth     outcome_type     outcome_datetime animal_type  \\\n",
       "0  2007-07-09 00:00:00  Return to Owner  2017-12-07 14:07:00         Dog   \n",
       "1  2007-07-09 00:00:00  Return to Owner  2014-12-20 16:35:00         Dog   \n",
       "2  2007-07-09 00:00:00  Return to Owner  2014-03-08 17:10:00         Dog   \n",
       "3  2004-04-02 00:00:00         Transfer  2014-04-07 15:12:00         Dog   \n",
       "4  1997-10-16 00:00:00  Return to Owner  2013-11-16 11:54:00         Dog   \n",
       "\n",
       "                  breed      intake_datetime  \n",
       "0  Spinone Italiano Mix  2017-12-07 00:00:00  \n",
       "1  Spinone Italiano Mix  2014-12-19 10:21:00  \n",
       "2  Spinone Italiano Mix  2014-03-07 14:26:00  \n",
       "3             Dachshund  2014-04-02 15:55:00  \n",
       "4     Shetland Sheepdog  2013-11-16 09:02:00  "
      ]
     },
     "execution_count": 2,
     "metadata": {},
     "output_type": "execute_result"
    }
   ],
   "source": [
    "aac = pd.read_csv(\"../Documents/aac_intakes_outcomes.csv\", usecols=['outcome_datetime', 'intake_datetime', 'outcome_type', 'animal_type', 'breed', 'date_of_birth'])\n",
    "aac.head()"
   ]
  },
  {
   "cell_type": "code",
   "execution_count": 3,
   "metadata": {},
   "outputs": [],
   "source": [
    "aac['outcome_datetime'] = pd.to_datetime(aac['outcome_datetime'])\n",
    "aac['intake_datetime'] = pd.to_datetime(aac['intake_datetime'])"
   ]
  },
  {
   "cell_type": "code",
   "execution_count": 4,
   "metadata": {},
   "outputs": [
    {
     "name": "stdout",
     "output_type": "stream",
     "text": [
      "<class 'pandas.core.frame.DataFrame'>\n",
      "RangeIndex: 79672 entries, 0 to 79671\n",
      "Data columns (total 6 columns):\n",
      "date_of_birth       79672 non-null object\n",
      "outcome_type        79662 non-null object\n",
      "outcome_datetime    79672 non-null datetime64[ns]\n",
      "animal_type         79672 non-null object\n",
      "breed               79672 non-null object\n",
      "intake_datetime     79672 non-null datetime64[ns]\n",
      "dtypes: datetime64[ns](2), object(4)\n",
      "memory usage: 3.6+ MB\n"
     ]
    }
   ],
   "source": [
    "aac.info()"
   ]
  },
  {
   "cell_type": "code",
   "execution_count": 5,
   "metadata": {},
   "outputs": [
    {
     "data": {
      "text/html": [
       "<div>\n",
       "<style scoped>\n",
       "    .dataframe tbody tr th:only-of-type {\n",
       "        vertical-align: middle;\n",
       "    }\n",
       "\n",
       "    .dataframe tbody tr th {\n",
       "        vertical-align: top;\n",
       "    }\n",
       "\n",
       "    .dataframe thead th {\n",
       "        text-align: right;\n",
       "    }\n",
       "</style>\n",
       "<table border=\"1\" class=\"dataframe\">\n",
       "  <thead>\n",
       "    <tr style=\"text-align: right;\">\n",
       "      <th></th>\n",
       "      <th>date_of_birth</th>\n",
       "      <th>outcome_type</th>\n",
       "      <th>outcome_datetime</th>\n",
       "      <th>animal_type</th>\n",
       "      <th>breed</th>\n",
       "      <th>intake_datetime</th>\n",
       "      <th>shelter_length</th>\n",
       "    </tr>\n",
       "  </thead>\n",
       "  <tbody>\n",
       "    <tr>\n",
       "      <th>0</th>\n",
       "      <td>2007-07-09 00:00:00</td>\n",
       "      <td>Return to Owner</td>\n",
       "      <td>2017-12-07 14:07:00</td>\n",
       "      <td>Dog</td>\n",
       "      <td>Spinone Italiano Mix</td>\n",
       "      <td>2017-12-07 00:00:00</td>\n",
       "      <td>0 days 14:07:00</td>\n",
       "    </tr>\n",
       "    <tr>\n",
       "      <th>1</th>\n",
       "      <td>2007-07-09 00:00:00</td>\n",
       "      <td>Return to Owner</td>\n",
       "      <td>2014-12-20 16:35:00</td>\n",
       "      <td>Dog</td>\n",
       "      <td>Spinone Italiano Mix</td>\n",
       "      <td>2014-12-19 10:21:00</td>\n",
       "      <td>1 days 06:14:00</td>\n",
       "    </tr>\n",
       "    <tr>\n",
       "      <th>2</th>\n",
       "      <td>2007-07-09 00:00:00</td>\n",
       "      <td>Return to Owner</td>\n",
       "      <td>2014-03-08 17:10:00</td>\n",
       "      <td>Dog</td>\n",
       "      <td>Spinone Italiano Mix</td>\n",
       "      <td>2014-03-07 14:26:00</td>\n",
       "      <td>1 days 02:44:00</td>\n",
       "    </tr>\n",
       "    <tr>\n",
       "      <th>3</th>\n",
       "      <td>2004-04-02 00:00:00</td>\n",
       "      <td>Transfer</td>\n",
       "      <td>2014-04-07 15:12:00</td>\n",
       "      <td>Dog</td>\n",
       "      <td>Dachshund</td>\n",
       "      <td>2014-04-02 15:55:00</td>\n",
       "      <td>4 days 23:17:00</td>\n",
       "    </tr>\n",
       "    <tr>\n",
       "      <th>4</th>\n",
       "      <td>1997-10-16 00:00:00</td>\n",
       "      <td>Return to Owner</td>\n",
       "      <td>2013-11-16 11:54:00</td>\n",
       "      <td>Dog</td>\n",
       "      <td>Shetland Sheepdog</td>\n",
       "      <td>2013-11-16 09:02:00</td>\n",
       "      <td>0 days 02:52:00</td>\n",
       "    </tr>\n",
       "  </tbody>\n",
       "</table>\n",
       "</div>"
      ],
      "text/plain": [
       "         date_of_birth     outcome_type    outcome_datetime animal_type  \\\n",
       "0  2007-07-09 00:00:00  Return to Owner 2017-12-07 14:07:00         Dog   \n",
       "1  2007-07-09 00:00:00  Return to Owner 2014-12-20 16:35:00         Dog   \n",
       "2  2007-07-09 00:00:00  Return to Owner 2014-03-08 17:10:00         Dog   \n",
       "3  2004-04-02 00:00:00         Transfer 2014-04-07 15:12:00         Dog   \n",
       "4  1997-10-16 00:00:00  Return to Owner 2013-11-16 11:54:00         Dog   \n",
       "\n",
       "                  breed     intake_datetime  shelter_length  \n",
       "0  Spinone Italiano Mix 2017-12-07 00:00:00 0 days 14:07:00  \n",
       "1  Spinone Italiano Mix 2014-12-19 10:21:00 1 days 06:14:00  \n",
       "2  Spinone Italiano Mix 2014-03-07 14:26:00 1 days 02:44:00  \n",
       "3             Dachshund 2014-04-02 15:55:00 4 days 23:17:00  \n",
       "4     Shetland Sheepdog 2013-11-16 09:02:00 0 days 02:52:00  "
      ]
     },
     "execution_count": 5,
     "metadata": {},
     "output_type": "execute_result"
    }
   ],
   "source": [
    "#created a columne to show length of stay at shelter\n",
    "aac['shelter_length'] = (aac['outcome_datetime'] - aac['intake_datetime'])\n",
    "aac.head()"
   ]
  },
  {
   "cell_type": "code",
   "execution_count": 14,
   "metadata": {},
   "outputs": [
    {
     "name": "stdout",
     "output_type": "stream",
     "text": [
      "<class 'pandas.core.frame.DataFrame'>\n",
      "Int64Index: 64881 entries, 3 to 79671\n",
      "Data columns (total 7 columns):\n",
      "date_of_birth       64881 non-null object\n",
      "outcome_type        64871 non-null object\n",
      "outcome_datetime    64881 non-null datetime64[ns]\n",
      "animal_type         64881 non-null object\n",
      "breed               64881 non-null object\n",
      "intake_datetime     64881 non-null datetime64[ns]\n",
      "shelter_length      64881 non-null float64\n",
      "dtypes: datetime64[ns](2), float64(1), object(4)\n",
      "memory usage: 4.0+ MB\n"
     ]
    }
   ],
   "source": [
    "#removed return to owner as this implies dog ran away and was sent to shelter as lost dog(null value)\n",
    "aac = aac[aac.outcome_type != 'Return to Owner']\n",
    "aac.info()"
   ]
  },
  {
   "cell_type": "code",
   "execution_count": 15,
   "metadata": {},
   "outputs": [],
   "source": [
    "aac['shelter_length'] = aac['shelter_length'].astype('timedelta64[W]')\n"
   ]
  },
  {
   "cell_type": "code",
   "execution_count": 16,
   "metadata": {},
   "outputs": [],
   "source": [
    "aac['shelter_length'] = aac['shelter_length'] / np.timedelta64(1,'W')"
   ]
  },
  {
   "cell_type": "code",
   "execution_count": 17,
   "metadata": {},
   "outputs": [
    {
     "data": {
      "text/html": [
       "<div>\n",
       "<style scoped>\n",
       "    .dataframe tbody tr th:only-of-type {\n",
       "        vertical-align: middle;\n",
       "    }\n",
       "\n",
       "    .dataframe tbody tr th {\n",
       "        vertical-align: top;\n",
       "    }\n",
       "\n",
       "    .dataframe thead th {\n",
       "        text-align: right;\n",
       "    }\n",
       "</style>\n",
       "<table border=\"1\" class=\"dataframe\">\n",
       "  <thead>\n",
       "    <tr style=\"text-align: right;\">\n",
       "      <th></th>\n",
       "      <th>date_of_birth</th>\n",
       "      <th>outcome_type</th>\n",
       "      <th>outcome_datetime</th>\n",
       "      <th>animal_type</th>\n",
       "      <th>breed</th>\n",
       "      <th>intake_datetime</th>\n",
       "      <th>shelter_length</th>\n",
       "    </tr>\n",
       "  </thead>\n",
       "  <tbody>\n",
       "    <tr>\n",
       "      <th>3</th>\n",
       "      <td>2004-04-02 00:00:00</td>\n",
       "      <td>Transfer</td>\n",
       "      <td>2014-04-07 15:12:00</td>\n",
       "      <td>Dog</td>\n",
       "      <td>Dachshund</td>\n",
       "      <td>2014-04-02 15:55:00</td>\n",
       "      <td>0.0</td>\n",
       "    </tr>\n",
       "    <tr>\n",
       "      <th>11</th>\n",
       "      <td>2000-01-21 00:00:00</td>\n",
       "      <td>Transfer</td>\n",
       "      <td>2014-12-22 15:23:00</td>\n",
       "      <td>Cat</td>\n",
       "      <td>American Shorthair Mix</td>\n",
       "      <td>2014-12-08 12:30:00</td>\n",
       "      <td>2.0</td>\n",
       "    </tr>\n",
       "    <tr>\n",
       "      <th>12</th>\n",
       "      <td>1997-10-03 00:00:00</td>\n",
       "      <td>Adoption</td>\n",
       "      <td>2013-11-22 09:44:00</td>\n",
       "      <td>Dog</td>\n",
       "      <td>Dachshund Mix</td>\n",
       "      <td>2013-10-03 15:47:00</td>\n",
       "      <td>7.0</td>\n",
       "    </tr>\n",
       "    <tr>\n",
       "      <th>13</th>\n",
       "      <td>2000-04-27 00:00:00</td>\n",
       "      <td>Euthanasia</td>\n",
       "      <td>2015-02-17 16:25:00</td>\n",
       "      <td>Dog</td>\n",
       "      <td>Border Collie Mix</td>\n",
       "      <td>2015-02-17 13:17:00</td>\n",
       "      <td>0.0</td>\n",
       "    </tr>\n",
       "    <tr>\n",
       "      <th>14</th>\n",
       "      <td>1999-06-01 00:00:00</td>\n",
       "      <td>Adoption</td>\n",
       "      <td>2016-10-07 12:34:00</td>\n",
       "      <td>Dog</td>\n",
       "      <td>Chihuahua Shorthair</td>\n",
       "      <td>2016-09-28 12:05:00</td>\n",
       "      <td>1.0</td>\n",
       "    </tr>\n",
       "  </tbody>\n",
       "</table>\n",
       "</div>"
      ],
      "text/plain": [
       "          date_of_birth outcome_type    outcome_datetime animal_type  \\\n",
       "3   2004-04-02 00:00:00     Transfer 2014-04-07 15:12:00         Dog   \n",
       "11  2000-01-21 00:00:00     Transfer 2014-12-22 15:23:00         Cat   \n",
       "12  1997-10-03 00:00:00     Adoption 2013-11-22 09:44:00         Dog   \n",
       "13  2000-04-27 00:00:00   Euthanasia 2015-02-17 16:25:00         Dog   \n",
       "14  1999-06-01 00:00:00     Adoption 2016-10-07 12:34:00         Dog   \n",
       "\n",
       "                     breed     intake_datetime  shelter_length  \n",
       "3                Dachshund 2014-04-02 15:55:00             0.0  \n",
       "11  American Shorthair Mix 2014-12-08 12:30:00             2.0  \n",
       "12           Dachshund Mix 2013-10-03 15:47:00             7.0  \n",
       "13       Border Collie Mix 2015-02-17 13:17:00             0.0  \n",
       "14     Chihuahua Shorthair 2016-09-28 12:05:00             1.0  "
      ]
     },
     "execution_count": 17,
     "metadata": {},
     "output_type": "execute_result"
    }
   ],
   "source": [
    "#rounded the shelther length column to weeks for comparison but may need to change to month - lowest is 0 and highest is 181\n",
    "aac.head()"
   ]
  },
  {
   "cell_type": "code",
   "execution_count": 18,
   "metadata": {},
   "outputs": [],
   "source": [
    "aac['date_of_birth'] = pd.to_datetime(aac['date_of_birth'])\n",
    "aac['age_of_outcome'] = (aac['outcome_datetime'] - aac['date_of_birth'])"
   ]
  },
  {
   "cell_type": "code",
   "execution_count": 19,
   "metadata": {},
   "outputs": [
    {
     "data": {
      "text/html": [
       "<div>\n",
       "<style scoped>\n",
       "    .dataframe tbody tr th:only-of-type {\n",
       "        vertical-align: middle;\n",
       "    }\n",
       "\n",
       "    .dataframe tbody tr th {\n",
       "        vertical-align: top;\n",
       "    }\n",
       "\n",
       "    .dataframe thead th {\n",
       "        text-align: right;\n",
       "    }\n",
       "</style>\n",
       "<table border=\"1\" class=\"dataframe\">\n",
       "  <thead>\n",
       "    <tr style=\"text-align: right;\">\n",
       "      <th></th>\n",
       "      <th>date_of_birth</th>\n",
       "      <th>outcome_type</th>\n",
       "      <th>outcome_datetime</th>\n",
       "      <th>animal_type</th>\n",
       "      <th>breed</th>\n",
       "      <th>intake_datetime</th>\n",
       "      <th>shelter_length</th>\n",
       "      <th>age_of_outcome</th>\n",
       "    </tr>\n",
       "  </thead>\n",
       "  <tbody>\n",
       "    <tr>\n",
       "      <th>3</th>\n",
       "      <td>2004-04-02</td>\n",
       "      <td>Transfer</td>\n",
       "      <td>2014-04-07 15:12:00</td>\n",
       "      <td>Dog</td>\n",
       "      <td>Dachshund</td>\n",
       "      <td>2014-04-02 15:55:00</td>\n",
       "      <td>0.0</td>\n",
       "      <td>3657 days 15:12:00</td>\n",
       "    </tr>\n",
       "    <tr>\n",
       "      <th>11</th>\n",
       "      <td>2000-01-21</td>\n",
       "      <td>Transfer</td>\n",
       "      <td>2014-12-22 15:23:00</td>\n",
       "      <td>Cat</td>\n",
       "      <td>American Shorthair Mix</td>\n",
       "      <td>2014-12-08 12:30:00</td>\n",
       "      <td>2.0</td>\n",
       "      <td>5449 days 15:23:00</td>\n",
       "    </tr>\n",
       "    <tr>\n",
       "      <th>12</th>\n",
       "      <td>1997-10-03</td>\n",
       "      <td>Adoption</td>\n",
       "      <td>2013-11-22 09:44:00</td>\n",
       "      <td>Dog</td>\n",
       "      <td>Dachshund Mix</td>\n",
       "      <td>2013-10-03 15:47:00</td>\n",
       "      <td>7.0</td>\n",
       "      <td>5894 days 09:44:00</td>\n",
       "    </tr>\n",
       "    <tr>\n",
       "      <th>13</th>\n",
       "      <td>2000-04-27</td>\n",
       "      <td>Euthanasia</td>\n",
       "      <td>2015-02-17 16:25:00</td>\n",
       "      <td>Dog</td>\n",
       "      <td>Border Collie Mix</td>\n",
       "      <td>2015-02-17 13:17:00</td>\n",
       "      <td>0.0</td>\n",
       "      <td>5409 days 16:25:00</td>\n",
       "    </tr>\n",
       "    <tr>\n",
       "      <th>14</th>\n",
       "      <td>1999-06-01</td>\n",
       "      <td>Adoption</td>\n",
       "      <td>2016-10-07 12:34:00</td>\n",
       "      <td>Dog</td>\n",
       "      <td>Chihuahua Shorthair</td>\n",
       "      <td>2016-09-28 12:05:00</td>\n",
       "      <td>1.0</td>\n",
       "      <td>6338 days 12:34:00</td>\n",
       "    </tr>\n",
       "  </tbody>\n",
       "</table>\n",
       "</div>"
      ],
      "text/plain": [
       "   date_of_birth outcome_type    outcome_datetime animal_type  \\\n",
       "3     2004-04-02     Transfer 2014-04-07 15:12:00         Dog   \n",
       "11    2000-01-21     Transfer 2014-12-22 15:23:00         Cat   \n",
       "12    1997-10-03     Adoption 2013-11-22 09:44:00         Dog   \n",
       "13    2000-04-27   Euthanasia 2015-02-17 16:25:00         Dog   \n",
       "14    1999-06-01     Adoption 2016-10-07 12:34:00         Dog   \n",
       "\n",
       "                     breed     intake_datetime  shelter_length  \\\n",
       "3                Dachshund 2014-04-02 15:55:00             0.0   \n",
       "11  American Shorthair Mix 2014-12-08 12:30:00             2.0   \n",
       "12           Dachshund Mix 2013-10-03 15:47:00             7.0   \n",
       "13       Border Collie Mix 2015-02-17 13:17:00             0.0   \n",
       "14     Chihuahua Shorthair 2016-09-28 12:05:00             1.0   \n",
       "\n",
       "       age_of_outcome  \n",
       "3  3657 days 15:12:00  \n",
       "11 5449 days 15:23:00  \n",
       "12 5894 days 09:44:00  \n",
       "13 5409 days 16:25:00  \n",
       "14 6338 days 12:34:00  "
      ]
     },
     "execution_count": 19,
     "metadata": {},
     "output_type": "execute_result"
    }
   ],
   "source": [
    "aac.head()"
   ]
  },
  {
   "cell_type": "code",
   "execution_count": null,
   "metadata": {},
   "outputs": [],
   "source": []
  },
  {
   "cell_type": "code",
   "execution_count": 23,
   "metadata": {},
   "outputs": [],
   "source": [
    "#calculating the age of the animal at outcome so that this can be sorted on - calculating based on years\n",
    "aac['age_of_outcome'] = aac['age_of_outcome'].astype('timedelta64[Y]')"
   ]
  },
  {
   "cell_type": "code",
   "execution_count": 24,
   "metadata": {},
   "outputs": [],
   "source": [
    "aac['age_of_outcome'] = aac['age_of_outcome'] / np.timedelta64(1,'Y')"
   ]
  },
  {
   "cell_type": "code",
   "execution_count": 26,
   "metadata": {},
   "outputs": [
    {
     "data": {
      "text/html": [
       "<div>\n",
       "<style scoped>\n",
       "    .dataframe tbody tr th:only-of-type {\n",
       "        vertical-align: middle;\n",
       "    }\n",
       "\n",
       "    .dataframe tbody tr th {\n",
       "        vertical-align: top;\n",
       "    }\n",
       "\n",
       "    .dataframe thead th {\n",
       "        text-align: right;\n",
       "    }\n",
       "</style>\n",
       "<table border=\"1\" class=\"dataframe\">\n",
       "  <thead>\n",
       "    <tr style=\"text-align: right;\">\n",
       "      <th></th>\n",
       "      <th>date_of_birth</th>\n",
       "      <th>outcome_type</th>\n",
       "      <th>outcome_datetime</th>\n",
       "      <th>animal_type</th>\n",
       "      <th>breed</th>\n",
       "      <th>intake_datetime</th>\n",
       "      <th>shelter_length</th>\n",
       "      <th>age_of_outcome</th>\n",
       "    </tr>\n",
       "  </thead>\n",
       "  <tbody>\n",
       "    <tr>\n",
       "      <th>3</th>\n",
       "      <td>2004-04-02</td>\n",
       "      <td>Transfer</td>\n",
       "      <td>2014-04-07 15:12:00</td>\n",
       "      <td>Dog</td>\n",
       "      <td>Dachshund</td>\n",
       "      <td>2014-04-02 15:55:00</td>\n",
       "      <td>0.0</td>\n",
       "      <td>10.0</td>\n",
       "    </tr>\n",
       "    <tr>\n",
       "      <th>11</th>\n",
       "      <td>2000-01-21</td>\n",
       "      <td>Transfer</td>\n",
       "      <td>2014-12-22 15:23:00</td>\n",
       "      <td>Cat</td>\n",
       "      <td>American Shorthair Mix</td>\n",
       "      <td>2014-12-08 12:30:00</td>\n",
       "      <td>2.0</td>\n",
       "      <td>14.0</td>\n",
       "    </tr>\n",
       "    <tr>\n",
       "      <th>12</th>\n",
       "      <td>1997-10-03</td>\n",
       "      <td>Adoption</td>\n",
       "      <td>2013-11-22 09:44:00</td>\n",
       "      <td>Dog</td>\n",
       "      <td>Dachshund Mix</td>\n",
       "      <td>2013-10-03 15:47:00</td>\n",
       "      <td>7.0</td>\n",
       "      <td>16.0</td>\n",
       "    </tr>\n",
       "    <tr>\n",
       "      <th>13</th>\n",
       "      <td>2000-04-27</td>\n",
       "      <td>Euthanasia</td>\n",
       "      <td>2015-02-17 16:25:00</td>\n",
       "      <td>Dog</td>\n",
       "      <td>Border Collie Mix</td>\n",
       "      <td>2015-02-17 13:17:00</td>\n",
       "      <td>0.0</td>\n",
       "      <td>14.0</td>\n",
       "    </tr>\n",
       "    <tr>\n",
       "      <th>14</th>\n",
       "      <td>1999-06-01</td>\n",
       "      <td>Adoption</td>\n",
       "      <td>2016-10-07 12:34:00</td>\n",
       "      <td>Dog</td>\n",
       "      <td>Chihuahua Shorthair</td>\n",
       "      <td>2016-09-28 12:05:00</td>\n",
       "      <td>1.0</td>\n",
       "      <td>17.0</td>\n",
       "    </tr>\n",
       "  </tbody>\n",
       "</table>\n",
       "</div>"
      ],
      "text/plain": [
       "   date_of_birth outcome_type    outcome_datetime animal_type  \\\n",
       "3     2004-04-02     Transfer 2014-04-07 15:12:00         Dog   \n",
       "11    2000-01-21     Transfer 2014-12-22 15:23:00         Cat   \n",
       "12    1997-10-03     Adoption 2013-11-22 09:44:00         Dog   \n",
       "13    2000-04-27   Euthanasia 2015-02-17 16:25:00         Dog   \n",
       "14    1999-06-01     Adoption 2016-10-07 12:34:00         Dog   \n",
       "\n",
       "                     breed     intake_datetime  shelter_length  age_of_outcome  \n",
       "3                Dachshund 2014-04-02 15:55:00             0.0            10.0  \n",
       "11  American Shorthair Mix 2014-12-08 12:30:00             2.0            14.0  \n",
       "12           Dachshund Mix 2013-10-03 15:47:00             7.0            16.0  \n",
       "13       Border Collie Mix 2015-02-17 13:17:00             0.0            14.0  \n",
       "14     Chihuahua Shorthair 2016-09-28 12:05:00             1.0            17.0  "
      ]
     },
     "execution_count": 26,
     "metadata": {},
     "output_type": "execute_result"
    }
   ],
   "source": [
    "aac.head()"
   ]
  },
  {
   "cell_type": "code",
   "execution_count": 27,
   "metadata": {},
   "outputs": [
    {
     "data": {
      "text/html": [
       "<div>\n",
       "<style scoped>\n",
       "    .dataframe tbody tr th:only-of-type {\n",
       "        vertical-align: middle;\n",
       "    }\n",
       "\n",
       "    .dataframe tbody tr th {\n",
       "        vertical-align: top;\n",
       "    }\n",
       "\n",
       "    .dataframe thead th {\n",
       "        text-align: right;\n",
       "    }\n",
       "</style>\n",
       "<table border=\"1\" class=\"dataframe\">\n",
       "  <thead>\n",
       "    <tr style=\"text-align: right;\">\n",
       "      <th></th>\n",
       "      <th>date_of_birth</th>\n",
       "      <th>outcome_type</th>\n",
       "      <th>outcome_datetime</th>\n",
       "      <th>animal_type</th>\n",
       "      <th>breed</th>\n",
       "      <th>intake_datetime</th>\n",
       "      <th>shelter_length</th>\n",
       "      <th>age_of_outcome</th>\n",
       "    </tr>\n",
       "  </thead>\n",
       "  <tbody>\n",
       "    <tr>\n",
       "      <th>66636</th>\n",
       "      <td>2017-07-01</td>\n",
       "      <td>Euthanasia</td>\n",
       "      <td>2017-05-12 16:43:00</td>\n",
       "      <td>Cat</td>\n",
       "      <td>Domestic Shorthair Mix</td>\n",
       "      <td>2017-05-12 15:50:00</td>\n",
       "      <td>0.0</td>\n",
       "      <td>-1.0</td>\n",
       "    </tr>\n",
       "    <tr>\n",
       "      <th>35969</th>\n",
       "      <td>2015-07-06</td>\n",
       "      <td>Transfer</td>\n",
       "      <td>2015-07-05 14:46:00</td>\n",
       "      <td>Cat</td>\n",
       "      <td>Domestic Shorthair Mix</td>\n",
       "      <td>2015-07-05 13:25:00</td>\n",
       "      <td>0.0</td>\n",
       "      <td>-1.0</td>\n",
       "    </tr>\n",
       "    <tr>\n",
       "      <th>57630</th>\n",
       "      <td>2016-10-28</td>\n",
       "      <td>Transfer</td>\n",
       "      <td>2016-10-04 15:13:00</td>\n",
       "      <td>Cat</td>\n",
       "      <td>Domestic Shorthair Mix</td>\n",
       "      <td>2016-10-04 12:49:00</td>\n",
       "      <td>0.0</td>\n",
       "      <td>-1.0</td>\n",
       "    </tr>\n",
       "    <tr>\n",
       "      <th>68511</th>\n",
       "      <td>2014-12-12</td>\n",
       "      <td>Adoption</td>\n",
       "      <td>2014-09-10 17:29:00</td>\n",
       "      <td>Dog</td>\n",
       "      <td>Border Collie Mix</td>\n",
       "      <td>2014-09-09 11:02:00</td>\n",
       "      <td>0.0</td>\n",
       "      <td>-1.0</td>\n",
       "    </tr>\n",
       "    <tr>\n",
       "      <th>32209</th>\n",
       "      <td>2015-08-29</td>\n",
       "      <td>Adoption</td>\n",
       "      <td>2015-05-24 17:01:00</td>\n",
       "      <td>Cat</td>\n",
       "      <td>Domestic Shorthair Mix</td>\n",
       "      <td>2015-05-12 12:37:00</td>\n",
       "      <td>1.0</td>\n",
       "      <td>-1.0</td>\n",
       "    </tr>\n",
       "  </tbody>\n",
       "</table>\n",
       "</div>"
      ],
      "text/plain": [
       "      date_of_birth outcome_type    outcome_datetime animal_type  \\\n",
       "66636    2017-07-01   Euthanasia 2017-05-12 16:43:00         Cat   \n",
       "35969    2015-07-06     Transfer 2015-07-05 14:46:00         Cat   \n",
       "57630    2016-10-28     Transfer 2016-10-04 15:13:00         Cat   \n",
       "68511    2014-12-12     Adoption 2014-09-10 17:29:00         Dog   \n",
       "32209    2015-08-29     Adoption 2015-05-24 17:01:00         Cat   \n",
       "\n",
       "                        breed     intake_datetime  shelter_length  \\\n",
       "66636  Domestic Shorthair Mix 2017-05-12 15:50:00             0.0   \n",
       "35969  Domestic Shorthair Mix 2015-07-05 13:25:00             0.0   \n",
       "57630  Domestic Shorthair Mix 2016-10-04 12:49:00             0.0   \n",
       "68511       Border Collie Mix 2014-09-09 11:02:00             0.0   \n",
       "32209  Domestic Shorthair Mix 2015-05-12 12:37:00             1.0   \n",
       "\n",
       "       age_of_outcome  \n",
       "66636            -1.0  \n",
       "35969            -1.0  \n",
       "57630            -1.0  \n",
       "68511            -1.0  \n",
       "32209            -1.0  "
      ]
     },
     "execution_count": 27,
     "metadata": {},
     "output_type": "execute_result"
    }
   ],
   "source": [
    "aac = aac.sort_values(['age_of_outcome'])\n",
    "aac.head()"
   ]
  },
  {
   "cell_type": "code",
   "execution_count": 28,
   "metadata": {},
   "outputs": [
    {
     "data": {
      "text/html": [
       "<div>\n",
       "<style scoped>\n",
       "    .dataframe tbody tr th:only-of-type {\n",
       "        vertical-align: middle;\n",
       "    }\n",
       "\n",
       "    .dataframe tbody tr th {\n",
       "        vertical-align: top;\n",
       "    }\n",
       "\n",
       "    .dataframe thead th {\n",
       "        text-align: right;\n",
       "    }\n",
       "</style>\n",
       "<table border=\"1\" class=\"dataframe\">\n",
       "  <thead>\n",
       "    <tr style=\"text-align: right;\">\n",
       "      <th></th>\n",
       "      <th>date_of_birth</th>\n",
       "      <th>outcome_type</th>\n",
       "      <th>outcome_datetime</th>\n",
       "      <th>animal_type</th>\n",
       "      <th>breed</th>\n",
       "      <th>intake_datetime</th>\n",
       "      <th>shelter_length</th>\n",
       "      <th>age_of_outcome</th>\n",
       "    </tr>\n",
       "  </thead>\n",
       "  <tbody>\n",
       "    <tr>\n",
       "      <th>39561</th>\n",
       "      <td>2015-04-06</td>\n",
       "      <td>Transfer</td>\n",
       "      <td>2015-09-21 15:56:00</td>\n",
       "      <td>Cat</td>\n",
       "      <td>Domestic Shorthair Mix</td>\n",
       "      <td>2015-09-12 12:17:00</td>\n",
       "      <td>1.0</td>\n",
       "      <td>0.0</td>\n",
       "    </tr>\n",
       "    <tr>\n",
       "      <th>35002</th>\n",
       "      <td>2015-05-20</td>\n",
       "      <td>Adoption</td>\n",
       "      <td>2015-08-25 08:13:00</td>\n",
       "      <td>Cat</td>\n",
       "      <td>Domestic Shorthair Mix</td>\n",
       "      <td>2015-06-20 14:25:00</td>\n",
       "      <td>9.0</td>\n",
       "      <td>0.0</td>\n",
       "    </tr>\n",
       "    <tr>\n",
       "      <th>64776</th>\n",
       "      <td>2016-08-03</td>\n",
       "      <td>Adoption</td>\n",
       "      <td>2017-04-10 18:55:00</td>\n",
       "      <td>Cat</td>\n",
       "      <td>Domestic Shorthair Mix</td>\n",
       "      <td>2017-04-03 16:27:00</td>\n",
       "      <td>1.0</td>\n",
       "      <td>0.0</td>\n",
       "    </tr>\n",
       "    <tr>\n",
       "      <th>35004</th>\n",
       "      <td>2015-05-05</td>\n",
       "      <td>Adoption</td>\n",
       "      <td>2015-07-01 18:00:00</td>\n",
       "      <td>Cat</td>\n",
       "      <td>Domestic Shorthair Mix</td>\n",
       "      <td>2015-06-20 14:30:00</td>\n",
       "      <td>1.0</td>\n",
       "      <td>0.0</td>\n",
       "    </tr>\n",
       "    <tr>\n",
       "      <th>35006</th>\n",
       "      <td>2015-05-11</td>\n",
       "      <td>Died</td>\n",
       "      <td>2015-06-27 08:36:00</td>\n",
       "      <td>Cat</td>\n",
       "      <td>Domestic Shorthair Mix</td>\n",
       "      <td>2015-06-20 14:37:00</td>\n",
       "      <td>0.0</td>\n",
       "      <td>0.0</td>\n",
       "    </tr>\n",
       "  </tbody>\n",
       "</table>\n",
       "</div>"
      ],
      "text/plain": [
       "      date_of_birth outcome_type    outcome_datetime animal_type  \\\n",
       "39561    2015-04-06     Transfer 2015-09-21 15:56:00         Cat   \n",
       "35002    2015-05-20     Adoption 2015-08-25 08:13:00         Cat   \n",
       "64776    2016-08-03     Adoption 2017-04-10 18:55:00         Cat   \n",
       "35004    2015-05-05     Adoption 2015-07-01 18:00:00         Cat   \n",
       "35006    2015-05-11         Died 2015-06-27 08:36:00         Cat   \n",
       "\n",
       "                        breed     intake_datetime  shelter_length  \\\n",
       "39561  Domestic Shorthair Mix 2015-09-12 12:17:00             1.0   \n",
       "35002  Domestic Shorthair Mix 2015-06-20 14:25:00             9.0   \n",
       "64776  Domestic Shorthair Mix 2017-04-03 16:27:00             1.0   \n",
       "35004  Domestic Shorthair Mix 2015-06-20 14:30:00             1.0   \n",
       "35006  Domestic Shorthair Mix 2015-06-20 14:37:00             0.0   \n",
       "\n",
       "       age_of_outcome  \n",
       "39561             0.0  \n",
       "35002             0.0  \n",
       "64776             0.0  \n",
       "35004             0.0  \n",
       "35006             0.0  "
      ]
     },
     "execution_count": 28,
     "metadata": {},
     "output_type": "execute_result"
    }
   ],
   "source": [
    "#removed ages that are -1 aprox 5 as most likely human error\n",
    "aac = aac[aac.age_of_outcome != -1.0]\n",
    "aac.head()\n"
   ]
  },
  {
   "cell_type": "code",
   "execution_count": 29,
   "metadata": {},
   "outputs": [
    {
     "data": {
      "text/html": [
       "<div>\n",
       "<style scoped>\n",
       "    .dataframe tbody tr th:only-of-type {\n",
       "        vertical-align: middle;\n",
       "    }\n",
       "\n",
       "    .dataframe tbody tr th {\n",
       "        vertical-align: top;\n",
       "    }\n",
       "\n",
       "    .dataframe thead th {\n",
       "        text-align: right;\n",
       "    }\n",
       "</style>\n",
       "<table border=\"1\" class=\"dataframe\">\n",
       "  <thead>\n",
       "    <tr style=\"text-align: right;\">\n",
       "      <th></th>\n",
       "      <th>date_of_birth</th>\n",
       "      <th>outcome_type</th>\n",
       "      <th>outcome_datetime</th>\n",
       "      <th>animal_type</th>\n",
       "      <th>breed</th>\n",
       "      <th>intake_datetime</th>\n",
       "      <th>shelter_length</th>\n",
       "      <th>age_of_outcome</th>\n",
       "    </tr>\n",
       "  </thead>\n",
       "  <tbody>\n",
       "    <tr>\n",
       "      <th>68455</th>\n",
       "      <td>1997-06-11</td>\n",
       "      <td>Euthanasia</td>\n",
       "      <td>2017-06-12 11:04:00</td>\n",
       "      <td>Cat</td>\n",
       "      <td>Domestic Shorthair Mix</td>\n",
       "      <td>2017-06-11 11:16:00</td>\n",
       "      <td>0.0</td>\n",
       "      <td>20.0</td>\n",
       "    </tr>\n",
       "    <tr>\n",
       "      <th>23051</th>\n",
       "      <td>1994-10-11</td>\n",
       "      <td>Euthanasia</td>\n",
       "      <td>2014-10-11 17:58:00</td>\n",
       "      <td>Cat</td>\n",
       "      <td>Domestic Medium Hair Mix</td>\n",
       "      <td>2014-10-11 17:26:00</td>\n",
       "      <td>0.0</td>\n",
       "      <td>20.0</td>\n",
       "    </tr>\n",
       "    <tr>\n",
       "      <th>60535</th>\n",
       "      <td>1996-12-11</td>\n",
       "      <td>Transfer</td>\n",
       "      <td>2016-12-16 00:00:00</td>\n",
       "      <td>Bird</td>\n",
       "      <td>Cockatoo</td>\n",
       "      <td>2016-12-11 14:55:00</td>\n",
       "      <td>0.0</td>\n",
       "      <td>20.0</td>\n",
       "    </tr>\n",
       "    <tr>\n",
       "      <th>63649</th>\n",
       "      <td>1995-03-06</td>\n",
       "      <td>Euthanasia</td>\n",
       "      <td>2017-03-06 17:09:00</td>\n",
       "      <td>Cat</td>\n",
       "      <td>Domestic Shorthair Mix</td>\n",
       "      <td>2017-03-06 16:31:00</td>\n",
       "      <td>0.0</td>\n",
       "      <td>22.0</td>\n",
       "    </tr>\n",
       "    <tr>\n",
       "      <th>60536</th>\n",
       "      <td>1991-12-11</td>\n",
       "      <td>Transfer</td>\n",
       "      <td>2016-12-16 00:00:00</td>\n",
       "      <td>Bird</td>\n",
       "      <td>Cockatoo</td>\n",
       "      <td>2016-12-11 14:55:00</td>\n",
       "      <td>0.0</td>\n",
       "      <td>25.0</td>\n",
       "    </tr>\n",
       "  </tbody>\n",
       "</table>\n",
       "</div>"
      ],
      "text/plain": [
       "      date_of_birth outcome_type    outcome_datetime animal_type  \\\n",
       "68455    1997-06-11   Euthanasia 2017-06-12 11:04:00         Cat   \n",
       "23051    1994-10-11   Euthanasia 2014-10-11 17:58:00         Cat   \n",
       "60535    1996-12-11     Transfer 2016-12-16 00:00:00        Bird   \n",
       "63649    1995-03-06   Euthanasia 2017-03-06 17:09:00         Cat   \n",
       "60536    1991-12-11     Transfer 2016-12-16 00:00:00        Bird   \n",
       "\n",
       "                          breed     intake_datetime  shelter_length  \\\n",
       "68455    Domestic Shorthair Mix 2017-06-11 11:16:00             0.0   \n",
       "23051  Domestic Medium Hair Mix 2014-10-11 17:26:00             0.0   \n",
       "60535                  Cockatoo 2016-12-11 14:55:00             0.0   \n",
       "63649    Domestic Shorthair Mix 2017-03-06 16:31:00             0.0   \n",
       "60536                  Cockatoo 2016-12-11 14:55:00             0.0   \n",
       "\n",
       "       age_of_outcome  \n",
       "68455            20.0  \n",
       "23051            20.0  \n",
       "60535            20.0  \n",
       "63649            22.0  \n",
       "60536            25.0  "
      ]
     },
     "execution_count": 29,
     "metadata": {},
     "output_type": "execute_result"
    }
   ],
   "source": [
    "aac.tail()"
   ]
  },
  {
   "cell_type": "code",
   "execution_count": 30,
   "metadata": {},
   "outputs": [
    {
     "data": {
      "text/plain": [
       "date_of_birth       False\n",
       "outcome_type         True\n",
       "outcome_datetime    False\n",
       "animal_type         False\n",
       "breed               False\n",
       "intake_datetime     False\n",
       "shelter_length      False\n",
       "age_of_outcome      False\n",
       "dtype: bool"
      ]
     },
     "execution_count": 30,
     "metadata": {},
     "output_type": "execute_result"
    }
   ],
   "source": [
    "#checking for any null values - see that outcome_type contains some\n",
    "aac.isna().any()"
   ]
  },
  {
   "cell_type": "code",
   "execution_count": 31,
   "metadata": {},
   "outputs": [
    {
     "data": {
      "text/plain": [
       "16566    False\n",
       "16568    False\n",
       "70554    False\n",
       "16528    False\n",
       "16526    False\n",
       "70584    False\n",
       "16574    False\n",
       "60536    False\n",
       "70572    False\n",
       "16478    False\n",
       "59034     True\n",
       "20020     True\n",
       "63150     True\n",
       "71335     True\n",
       "71341     True\n",
       "11057     True\n",
       "9016      True\n",
       "71339     True\n",
       "14583     True\n",
       "44097     True\n",
       "Name: outcome_type, dtype: bool"
      ]
     },
     "execution_count": 31,
     "metadata": {},
     "output_type": "execute_result"
    }
   ],
   "source": [
    "#used sort_values to isolate the Nan values\n",
    "aac['outcome_type'].isna().sort_values().tail(20)"
   ]
  },
  {
   "cell_type": "code",
   "execution_count": 32,
   "metadata": {},
   "outputs": [
    {
     "data": {
      "text/plain": [
       "date_of_birth       2014-03-09 00:00:00\n",
       "outcome_type                        NaN\n",
       "outcome_datetime    2014-03-09 18:15:00\n",
       "animal_type                       Other\n",
       "breed                           Bat Mix\n",
       "intake_datetime     2014-03-09 16:38:00\n",
       "shelter_length                        0\n",
       "age_of_outcome                        0\n",
       "Name: 11057, dtype: object"
      ]
     },
     "execution_count": 32,
     "metadata": {},
     "output_type": "execute_result"
    }
   ],
   "source": [
    "aac.loc[11057]"
   ]
  },
  {
   "cell_type": "code",
   "execution_count": 33,
   "metadata": {},
   "outputs": [],
   "source": [
    "#since only 10 entries had Nan values, I decided to drop, especially since entries seemed inconsistent upon reviewing\n",
    "aac = aac.dropna(subset = ['outcome_type'])"
   ]
  },
  {
   "cell_type": "code",
   "execution_count": 34,
   "metadata": {},
   "outputs": [
    {
     "data": {
      "text/plain": [
       "date_of_birth       False\n",
       "outcome_type        False\n",
       "outcome_datetime    False\n",
       "animal_type         False\n",
       "breed               False\n",
       "intake_datetime     False\n",
       "shelter_length      False\n",
       "age_of_outcome      False\n",
       "dtype: bool"
      ]
     },
     "execution_count": 34,
     "metadata": {},
     "output_type": "execute_result"
    }
   ],
   "source": [
    "aac.isna().any()"
   ]
  },
  {
   "cell_type": "code",
   "execution_count": null,
   "metadata": {},
   "outputs": [],
   "source": []
  },
  {
   "cell_type": "code",
   "execution_count": 35,
   "metadata": {
    "scrolled": true
   },
   "outputs": [
    {
     "data": {
      "text/html": [
       "<div>\n",
       "<style scoped>\n",
       "    .dataframe tbody tr th:only-of-type {\n",
       "        vertical-align: middle;\n",
       "    }\n",
       "\n",
       "    .dataframe tbody tr th {\n",
       "        vertical-align: top;\n",
       "    }\n",
       "\n",
       "    .dataframe thead th {\n",
       "        text-align: right;\n",
       "    }\n",
       "</style>\n",
       "<table border=\"1\" class=\"dataframe\">\n",
       "  <thead>\n",
       "    <tr style=\"text-align: right;\">\n",
       "      <th></th>\n",
       "      <th>date_of_birth</th>\n",
       "      <th>outcome_type</th>\n",
       "      <th>outcome_datetime</th>\n",
       "      <th>animal_type</th>\n",
       "      <th>breed</th>\n",
       "      <th>intake_datetime</th>\n",
       "      <th>shelter_length</th>\n",
       "      <th>age_of_outcome</th>\n",
       "    </tr>\n",
       "  </thead>\n",
       "  <tbody>\n",
       "    <tr>\n",
       "      <th>39561</th>\n",
       "      <td>2015-04-06</td>\n",
       "      <td>Transfer</td>\n",
       "      <td>2015-09-21 15:56:00</td>\n",
       "      <td>Cat</td>\n",
       "      <td>Domestic Shorthair Mix</td>\n",
       "      <td>2015-09-12 12:17:00</td>\n",
       "      <td>1.0</td>\n",
       "      <td>0.0</td>\n",
       "    </tr>\n",
       "    <tr>\n",
       "      <th>35002</th>\n",
       "      <td>2015-05-20</td>\n",
       "      <td>Adoption</td>\n",
       "      <td>2015-08-25 08:13:00</td>\n",
       "      <td>Cat</td>\n",
       "      <td>Domestic Shorthair Mix</td>\n",
       "      <td>2015-06-20 14:25:00</td>\n",
       "      <td>9.0</td>\n",
       "      <td>0.0</td>\n",
       "    </tr>\n",
       "    <tr>\n",
       "      <th>64776</th>\n",
       "      <td>2016-08-03</td>\n",
       "      <td>Adoption</td>\n",
       "      <td>2017-04-10 18:55:00</td>\n",
       "      <td>Cat</td>\n",
       "      <td>Domestic Shorthair Mix</td>\n",
       "      <td>2017-04-03 16:27:00</td>\n",
       "      <td>1.0</td>\n",
       "      <td>0.0</td>\n",
       "    </tr>\n",
       "    <tr>\n",
       "      <th>35004</th>\n",
       "      <td>2015-05-05</td>\n",
       "      <td>Adoption</td>\n",
       "      <td>2015-07-01 18:00:00</td>\n",
       "      <td>Cat</td>\n",
       "      <td>Domestic Shorthair Mix</td>\n",
       "      <td>2015-06-20 14:30:00</td>\n",
       "      <td>1.0</td>\n",
       "      <td>0.0</td>\n",
       "    </tr>\n",
       "    <tr>\n",
       "      <th>35006</th>\n",
       "      <td>2015-05-11</td>\n",
       "      <td>Died</td>\n",
       "      <td>2015-06-27 08:36:00</td>\n",
       "      <td>Cat</td>\n",
       "      <td>Domestic Shorthair Mix</td>\n",
       "      <td>2015-06-20 14:37:00</td>\n",
       "      <td>0.0</td>\n",
       "      <td>0.0</td>\n",
       "    </tr>\n",
       "  </tbody>\n",
       "</table>\n",
       "</div>"
      ],
      "text/plain": [
       "      date_of_birth outcome_type    outcome_datetime animal_type  \\\n",
       "39561    2015-04-06     Transfer 2015-09-21 15:56:00         Cat   \n",
       "35002    2015-05-20     Adoption 2015-08-25 08:13:00         Cat   \n",
       "64776    2016-08-03     Adoption 2017-04-10 18:55:00         Cat   \n",
       "35004    2015-05-05     Adoption 2015-07-01 18:00:00         Cat   \n",
       "35006    2015-05-11         Died 2015-06-27 08:36:00         Cat   \n",
       "\n",
       "                        breed     intake_datetime  shelter_length  \\\n",
       "39561  Domestic Shorthair Mix 2015-09-12 12:17:00             1.0   \n",
       "35002  Domestic Shorthair Mix 2015-06-20 14:25:00             9.0   \n",
       "64776  Domestic Shorthair Mix 2017-04-03 16:27:00             1.0   \n",
       "35004  Domestic Shorthair Mix 2015-06-20 14:30:00             1.0   \n",
       "35006  Domestic Shorthair Mix 2015-06-20 14:37:00             0.0   \n",
       "\n",
       "       age_of_outcome  \n",
       "39561             0.0  \n",
       "35002             0.0  \n",
       "64776             0.0  \n",
       "35004             0.0  \n",
       "35006             0.0  "
      ]
     },
     "execution_count": 35,
     "metadata": {},
     "output_type": "execute_result"
    }
   ],
   "source": [
    "#noticed that animal type contained Other and Bird, which was not useful to this problem. I excluded them so that data will only reflect Cats and dogs\n",
    "aac = aac[aac.animal_type != 'Other']\n",
    "aac = aac[aac.animal_type != 'Bird']\n",
    "aac.head()"
   ]
  },
  {
   "cell_type": "code",
   "execution_count": 36,
   "metadata": {
    "scrolled": true
   },
   "outputs": [
    {
     "data": {
      "text/html": [
       "<div>\n",
       "<style scoped>\n",
       "    .dataframe tbody tr th:only-of-type {\n",
       "        vertical-align: middle;\n",
       "    }\n",
       "\n",
       "    .dataframe tbody tr th {\n",
       "        vertical-align: top;\n",
       "    }\n",
       "\n",
       "    .dataframe thead th {\n",
       "        text-align: right;\n",
       "    }\n",
       "</style>\n",
       "<table border=\"1\" class=\"dataframe\">\n",
       "  <thead>\n",
       "    <tr style=\"text-align: right;\">\n",
       "      <th></th>\n",
       "      <th></th>\n",
       "      <th>date_of_birth</th>\n",
       "      <th>outcome_datetime</th>\n",
       "      <th>breed</th>\n",
       "      <th>intake_datetime</th>\n",
       "      <th>shelter_length</th>\n",
       "      <th>age_of_outcome</th>\n",
       "    </tr>\n",
       "    <tr>\n",
       "      <th>animal_type</th>\n",
       "      <th>outcome_type</th>\n",
       "      <th></th>\n",
       "      <th></th>\n",
       "      <th></th>\n",
       "      <th></th>\n",
       "      <th></th>\n",
       "      <th></th>\n",
       "    </tr>\n",
       "  </thead>\n",
       "  <tbody>\n",
       "    <tr>\n",
       "      <th rowspan=\"7\" valign=\"top\">Cat</th>\n",
       "      <th>Adoption</th>\n",
       "      <td>12673</td>\n",
       "      <td>12673</td>\n",
       "      <td>12673</td>\n",
       "      <td>12673</td>\n",
       "      <td>12673</td>\n",
       "      <td>12673</td>\n",
       "    </tr>\n",
       "    <tr>\n",
       "      <th>Died</th>\n",
       "      <td>402</td>\n",
       "      <td>402</td>\n",
       "      <td>402</td>\n",
       "      <td>402</td>\n",
       "      <td>402</td>\n",
       "      <td>402</td>\n",
       "    </tr>\n",
       "    <tr>\n",
       "      <th>Disposal</th>\n",
       "      <td>13</td>\n",
       "      <td>13</td>\n",
       "      <td>13</td>\n",
       "      <td>13</td>\n",
       "      <td>13</td>\n",
       "      <td>13</td>\n",
       "    </tr>\n",
       "    <tr>\n",
       "      <th>Euthanasia</th>\n",
       "      <td>1474</td>\n",
       "      <td>1474</td>\n",
       "      <td>1474</td>\n",
       "      <td>1474</td>\n",
       "      <td>1474</td>\n",
       "      <td>1474</td>\n",
       "    </tr>\n",
       "    <tr>\n",
       "      <th>Missing</th>\n",
       "      <td>29</td>\n",
       "      <td>29</td>\n",
       "      <td>29</td>\n",
       "      <td>29</td>\n",
       "      <td>29</td>\n",
       "      <td>29</td>\n",
       "    </tr>\n",
       "    <tr>\n",
       "      <th>Rto-Adopt</th>\n",
       "      <td>36</td>\n",
       "      <td>36</td>\n",
       "      <td>36</td>\n",
       "      <td>36</td>\n",
       "      <td>36</td>\n",
       "      <td>36</td>\n",
       "    </tr>\n",
       "    <tr>\n",
       "      <th>Transfer</th>\n",
       "      <td>13433</td>\n",
       "      <td>13433</td>\n",
       "      <td>13433</td>\n",
       "      <td>13433</td>\n",
       "      <td>13433</td>\n",
       "      <td>13433</td>\n",
       "    </tr>\n",
       "    <tr>\n",
       "      <th rowspan=\"7\" valign=\"top\">Dog</th>\n",
       "      <th>Adoption</th>\n",
       "      <td>20580</td>\n",
       "      <td>20580</td>\n",
       "      <td>20580</td>\n",
       "      <td>20580</td>\n",
       "      <td>20580</td>\n",
       "      <td>20580</td>\n",
       "    </tr>\n",
       "    <tr>\n",
       "      <th>Died</th>\n",
       "      <td>142</td>\n",
       "      <td>142</td>\n",
       "      <td>142</td>\n",
       "      <td>142</td>\n",
       "      <td>142</td>\n",
       "      <td>142</td>\n",
       "    </tr>\n",
       "    <tr>\n",
       "      <th>Disposal</th>\n",
       "      <td>10</td>\n",
       "      <td>10</td>\n",
       "      <td>10</td>\n",
       "      <td>10</td>\n",
       "      <td>10</td>\n",
       "      <td>10</td>\n",
       "    </tr>\n",
       "    <tr>\n",
       "      <th>Euthanasia</th>\n",
       "      <td>1502</td>\n",
       "      <td>1502</td>\n",
       "      <td>1502</td>\n",
       "      <td>1502</td>\n",
       "      <td>1502</td>\n",
       "      <td>1502</td>\n",
       "    </tr>\n",
       "    <tr>\n",
       "      <th>Missing</th>\n",
       "      <td>16</td>\n",
       "      <td>16</td>\n",
       "      <td>16</td>\n",
       "      <td>16</td>\n",
       "      <td>16</td>\n",
       "      <td>16</td>\n",
       "    </tr>\n",
       "    <tr>\n",
       "      <th>Rto-Adopt</th>\n",
       "      <td>143</td>\n",
       "      <td>143</td>\n",
       "      <td>143</td>\n",
       "      <td>143</td>\n",
       "      <td>143</td>\n",
       "      <td>143</td>\n",
       "    </tr>\n",
       "    <tr>\n",
       "      <th>Transfer</th>\n",
       "      <td>9697</td>\n",
       "      <td>9697</td>\n",
       "      <td>9697</td>\n",
       "      <td>9697</td>\n",
       "      <td>9697</td>\n",
       "      <td>9697</td>\n",
       "    </tr>\n",
       "  </tbody>\n",
       "</table>\n",
       "</div>"
      ],
      "text/plain": [
       "                          date_of_birth  outcome_datetime  breed  \\\n",
       "animal_type outcome_type                                           \n",
       "Cat         Adoption              12673             12673  12673   \n",
       "            Died                    402               402    402   \n",
       "            Disposal                 13                13     13   \n",
       "            Euthanasia             1474              1474   1474   \n",
       "            Missing                  29                29     29   \n",
       "            Rto-Adopt                36                36     36   \n",
       "            Transfer              13433             13433  13433   \n",
       "Dog         Adoption              20580             20580  20580   \n",
       "            Died                    142               142    142   \n",
       "            Disposal                 10                10     10   \n",
       "            Euthanasia             1502              1502   1502   \n",
       "            Missing                  16                16     16   \n",
       "            Rto-Adopt               143               143    143   \n",
       "            Transfer               9697              9697   9697   \n",
       "\n",
       "                          intake_datetime  shelter_length  age_of_outcome  \n",
       "animal_type outcome_type                                                   \n",
       "Cat         Adoption                12673           12673           12673  \n",
       "            Died                      402             402             402  \n",
       "            Disposal                   13              13              13  \n",
       "            Euthanasia               1474            1474            1474  \n",
       "            Missing                    29              29              29  \n",
       "            Rto-Adopt                  36              36              36  \n",
       "            Transfer                13433           13433           13433  \n",
       "Dog         Adoption                20580           20580           20580  \n",
       "            Died                      142             142             142  \n",
       "            Disposal                   10              10              10  \n",
       "            Euthanasia               1502            1502            1502  \n",
       "            Missing                    16              16              16  \n",
       "            Rto-Adopt                 143             143             143  \n",
       "            Transfer                 9697            9697            9697  "
      ]
     },
     "execution_count": 36,
     "metadata": {},
     "output_type": "execute_result"
    }
   ],
   "source": [
    "# data story telling portion\n",
    "# reviewing the data,  majority of animals were adopted, which is expected. may need to remove additional columns such as \n",
    "# disposal and Rto-adopt as not sure that they are relevant for data\n",
    "aac.groupby(['animal_type', 'outcome_type']).count()"
   ]
  },
  {
   "cell_type": "code",
   "execution_count": 37,
   "metadata": {},
   "outputs": [
    {
     "data": {
      "image/png": "[encoded data removed]",
      "text/plain": [
       "<Figure size 432x288 with 1 Axes>"
      ]
     },
     "metadata": {
      "needs_background": "light"
     },
     "output_type": "display_data"
    }
   ],
   "source": [
    "#grouping by outcome type and age of outcome to be able to compare. as expected large amount of animals aged 0-4 were adopted\n",
    "\n",
    "aac.groupby(['outcome_type','age_of_outcome'])['outcome_type'].count().unstack().plot(kind='bar')\n",
    "plt.show()\n"
   ]
  },
  {
   "cell_type": "code",
   "execution_count": 38,
   "metadata": {},
   "outputs": [
    {
     "data": {
      "text/html": [
       "<div>\n",
       "<style scoped>\n",
       "    .dataframe tbody tr th:only-of-type {\n",
       "        vertical-align: middle;\n",
       "    }\n",
       "\n",
       "    .dataframe tbody tr th {\n",
       "        vertical-align: top;\n",
       "    }\n",
       "\n",
       "    .dataframe thead th {\n",
       "        text-align: right;\n",
       "    }\n",
       "</style>\n",
       "<table border=\"1\" class=\"dataframe\">\n",
       "  <thead>\n",
       "    <tr style=\"text-align: right;\">\n",
       "      <th></th>\n",
       "      <th>date_of_birth</th>\n",
       "      <th>outcome_type</th>\n",
       "      <th>outcome_datetime</th>\n",
       "      <th>animal_type</th>\n",
       "      <th>breed</th>\n",
       "      <th>intake_datetime</th>\n",
       "      <th>shelter_length</th>\n",
       "      <th>age_of_outcome</th>\n",
       "      <th>age_category</th>\n",
       "    </tr>\n",
       "  </thead>\n",
       "  <tbody>\n",
       "    <tr>\n",
       "      <th>39561</th>\n",
       "      <td>2015-04-06</td>\n",
       "      <td>Transfer</td>\n",
       "      <td>2015-09-21 15:56:00</td>\n",
       "      <td>Cat</td>\n",
       "      <td>Domestic Shorthair Mix</td>\n",
       "      <td>2015-09-12 12:17:00</td>\n",
       "      <td>1.0</td>\n",
       "      <td>0.0</td>\n",
       "      <td>(-1.0, 1.0]</td>\n",
       "    </tr>\n",
       "    <tr>\n",
       "      <th>35002</th>\n",
       "      <td>2015-05-20</td>\n",
       "      <td>Adoption</td>\n",
       "      <td>2015-08-25 08:13:00</td>\n",
       "      <td>Cat</td>\n",
       "      <td>Domestic Shorthair Mix</td>\n",
       "      <td>2015-06-20 14:25:00</td>\n",
       "      <td>9.0</td>\n",
       "      <td>0.0</td>\n",
       "      <td>(-1.0, 1.0]</td>\n",
       "    </tr>\n",
       "    <tr>\n",
       "      <th>64776</th>\n",
       "      <td>2016-08-03</td>\n",
       "      <td>Adoption</td>\n",
       "      <td>2017-04-10 18:55:00</td>\n",
       "      <td>Cat</td>\n",
       "      <td>Domestic Shorthair Mix</td>\n",
       "      <td>2017-04-03 16:27:00</td>\n",
       "      <td>1.0</td>\n",
       "      <td>0.0</td>\n",
       "      <td>(-1.0, 1.0]</td>\n",
       "    </tr>\n",
       "    <tr>\n",
       "      <th>35004</th>\n",
       "      <td>2015-05-05</td>\n",
       "      <td>Adoption</td>\n",
       "      <td>2015-07-01 18:00:00</td>\n",
       "      <td>Cat</td>\n",
       "      <td>Domestic Shorthair Mix</td>\n",
       "      <td>2015-06-20 14:30:00</td>\n",
       "      <td>1.0</td>\n",
       "      <td>0.0</td>\n",
       "      <td>(-1.0, 1.0]</td>\n",
       "    </tr>\n",
       "    <tr>\n",
       "      <th>35006</th>\n",
       "      <td>2015-05-11</td>\n",
       "      <td>Died</td>\n",
       "      <td>2015-06-27 08:36:00</td>\n",
       "      <td>Cat</td>\n",
       "      <td>Domestic Shorthair Mix</td>\n",
       "      <td>2015-06-20 14:37:00</td>\n",
       "      <td>0.0</td>\n",
       "      <td>0.0</td>\n",
       "      <td>(-1.0, 1.0]</td>\n",
       "    </tr>\n",
       "  </tbody>\n",
       "</table>\n",
       "</div>"
      ],
      "text/plain": [
       "      date_of_birth outcome_type    outcome_datetime animal_type  \\\n",
       "39561    2015-04-06     Transfer 2015-09-21 15:56:00         Cat   \n",
       "35002    2015-05-20     Adoption 2015-08-25 08:13:00         Cat   \n",
       "64776    2016-08-03     Adoption 2017-04-10 18:55:00         Cat   \n",
       "35004    2015-05-05     Adoption 2015-07-01 18:00:00         Cat   \n",
       "35006    2015-05-11         Died 2015-06-27 08:36:00         Cat   \n",
       "\n",
       "                        breed     intake_datetime  shelter_length  \\\n",
       "39561  Domestic Shorthair Mix 2015-09-12 12:17:00             1.0   \n",
       "35002  Domestic Shorthair Mix 2015-06-20 14:25:00             9.0   \n",
       "64776  Domestic Shorthair Mix 2017-04-03 16:27:00             1.0   \n",
       "35004  Domestic Shorthair Mix 2015-06-20 14:30:00             1.0   \n",
       "35006  Domestic Shorthair Mix 2015-06-20 14:37:00             0.0   \n",
       "\n",
       "       age_of_outcome age_category  \n",
       "39561             0.0  (-1.0, 1.0]  \n",
       "35002             0.0  (-1.0, 1.0]  \n",
       "64776             0.0  (-1.0, 1.0]  \n",
       "35004             0.0  (-1.0, 1.0]  \n",
       "35006             0.0  (-1.0, 1.0]  "
      ]
     },
     "execution_count": 38,
     "metadata": {},
     "output_type": "execute_result"
    }
   ],
   "source": [
    "bins = pd.IntervalIndex.from_tuples([(-1,1), (1.0, 2.0), (2, 3), (3, 5), (5,8), (8,11), (11,23)])\n",
    "aac['age_category'] = pd.cut(aac['age_of_outcome'], bins)\n",
    "aac.head()"
   ]
  },
  {
   "cell_type": "code",
   "execution_count": 39,
   "metadata": {},
   "outputs": [
    {
     "data": {
      "text/html": [
       "<div>\n",
       "<style scoped>\n",
       "    .dataframe tbody tr th:only-of-type {\n",
       "        vertical-align: middle;\n",
       "    }\n",
       "\n",
       "    .dataframe tbody tr th {\n",
       "        vertical-align: top;\n",
       "    }\n",
       "\n",
       "    .dataframe thead th {\n",
       "        text-align: right;\n",
       "    }\n",
       "</style>\n",
       "<table border=\"1\" class=\"dataframe\">\n",
       "  <thead>\n",
       "    <tr style=\"text-align: right;\">\n",
       "      <th></th>\n",
       "      <th>date_of_birth</th>\n",
       "      <th>outcome_type</th>\n",
       "      <th>outcome_datetime</th>\n",
       "      <th>animal_type</th>\n",
       "      <th>breed</th>\n",
       "      <th>intake_datetime</th>\n",
       "      <th>shelter_length</th>\n",
       "      <th>age_of_outcome</th>\n",
       "      <th>age_category</th>\n",
       "      <th>shelter_bin</th>\n",
       "    </tr>\n",
       "  </thead>\n",
       "  <tbody>\n",
       "    <tr>\n",
       "      <th>39561</th>\n",
       "      <td>2015-04-06</td>\n",
       "      <td>Transfer</td>\n",
       "      <td>2015-09-21 15:56:00</td>\n",
       "      <td>Cat</td>\n",
       "      <td>Domestic Shorthair Mix</td>\n",
       "      <td>2015-09-12 12:17:00</td>\n",
       "      <td>1.0</td>\n",
       "      <td>0.0</td>\n",
       "      <td>(-1.0, 1.0]</td>\n",
       "      <td>(-1.0, 1.0]</td>\n",
       "    </tr>\n",
       "    <tr>\n",
       "      <th>35002</th>\n",
       "      <td>2015-05-20</td>\n",
       "      <td>Adoption</td>\n",
       "      <td>2015-08-25 08:13:00</td>\n",
       "      <td>Cat</td>\n",
       "      <td>Domestic Shorthair Mix</td>\n",
       "      <td>2015-06-20 14:25:00</td>\n",
       "      <td>9.0</td>\n",
       "      <td>0.0</td>\n",
       "      <td>(-1.0, 1.0]</td>\n",
       "      <td>(8.0, 11.0]</td>\n",
       "    </tr>\n",
       "    <tr>\n",
       "      <th>64776</th>\n",
       "      <td>2016-08-03</td>\n",
       "      <td>Adoption</td>\n",
       "      <td>2017-04-10 18:55:00</td>\n",
       "      <td>Cat</td>\n",
       "      <td>Domestic Shorthair Mix</td>\n",
       "      <td>2017-04-03 16:27:00</td>\n",
       "      <td>1.0</td>\n",
       "      <td>0.0</td>\n",
       "      <td>(-1.0, 1.0]</td>\n",
       "      <td>(-1.0, 1.0]</td>\n",
       "    </tr>\n",
       "    <tr>\n",
       "      <th>35004</th>\n",
       "      <td>2015-05-05</td>\n",
       "      <td>Adoption</td>\n",
       "      <td>2015-07-01 18:00:00</td>\n",
       "      <td>Cat</td>\n",
       "      <td>Domestic Shorthair Mix</td>\n",
       "      <td>2015-06-20 14:30:00</td>\n",
       "      <td>1.0</td>\n",
       "      <td>0.0</td>\n",
       "      <td>(-1.0, 1.0]</td>\n",
       "      <td>(-1.0, 1.0]</td>\n",
       "    </tr>\n",
       "    <tr>\n",
       "      <th>35006</th>\n",
       "      <td>2015-05-11</td>\n",
       "      <td>Died</td>\n",
       "      <td>2015-06-27 08:36:00</td>\n",
       "      <td>Cat</td>\n",
       "      <td>Domestic Shorthair Mix</td>\n",
       "      <td>2015-06-20 14:37:00</td>\n",
       "      <td>0.0</td>\n",
       "      <td>0.0</td>\n",
       "      <td>(-1.0, 1.0]</td>\n",
       "      <td>(-1.0, 1.0]</td>\n",
       "    </tr>\n",
       "  </tbody>\n",
       "</table>\n",
       "</div>"
      ],
      "text/plain": [
       "      date_of_birth outcome_type    outcome_datetime animal_type  \\\n",
       "39561    2015-04-06     Transfer 2015-09-21 15:56:00         Cat   \n",
       "35002    2015-05-20     Adoption 2015-08-25 08:13:00         Cat   \n",
       "64776    2016-08-03     Adoption 2017-04-10 18:55:00         Cat   \n",
       "35004    2015-05-05     Adoption 2015-07-01 18:00:00         Cat   \n",
       "35006    2015-05-11         Died 2015-06-27 08:36:00         Cat   \n",
       "\n",
       "                        breed     intake_datetime  shelter_length  \\\n",
       "39561  Domestic Shorthair Mix 2015-09-12 12:17:00             1.0   \n",
       "35002  Domestic Shorthair Mix 2015-06-20 14:25:00             9.0   \n",
       "64776  Domestic Shorthair Mix 2017-04-03 16:27:00             1.0   \n",
       "35004  Domestic Shorthair Mix 2015-06-20 14:30:00             1.0   \n",
       "35006  Domestic Shorthair Mix 2015-06-20 14:37:00             0.0   \n",
       "\n",
       "       age_of_outcome age_category  shelter_bin  \n",
       "39561             0.0  (-1.0, 1.0]  (-1.0, 1.0]  \n",
       "35002             0.0  (-1.0, 1.0]  (8.0, 11.0]  \n",
       "64776             0.0  (-1.0, 1.0]  (-1.0, 1.0]  \n",
       "35004             0.0  (-1.0, 1.0]  (-1.0, 1.0]  \n",
       "35006             0.0  (-1.0, 1.0]  (-1.0, 1.0]  "
      ]
     },
     "execution_count": 39,
     "metadata": {},
     "output_type": "execute_result"
    }
   ],
   "source": [
    "bins = pd.IntervalIndex.from_tuples([(-1,1), (1.0, 2.0), (2, 3), (3, 5), (5,8), (8,11), (11,23)])\n",
    "aac['shelter_bin'] = pd.cut(aac['shelter_length'], bins)\n",
    "aac.head()"
   ]
  },
  {
   "cell_type": "code",
   "execution_count": 40,
   "metadata": {},
   "outputs": [
    {
     "data": {
      "text/plain": [
       "<matplotlib.axes._subplots.AxesSubplot at 0x1ba4ce64a90>"
      ]
     },
     "execution_count": 40,
     "metadata": {},
     "output_type": "execute_result"
    },
    {
     "data": {
      "image/png": "[encoded data removed]",
      "text/plain": [
       "<Figure size 432x288 with 1 Axes>"
      ]
     },
     "metadata": {
      "needs_background": "light"
     },
     "output_type": "display_data"
    }
   ],
   "source": [
    "#wanted to review outcome types adoption and euthanasia for ages as seemed relevant options for study\n",
    "aac2 = aac.set_index(['outcome_type']).loc[['Adoption', 'Euthanasia']]\n",
    "aac2.reset_index().groupby(['outcome_type','age_of_outcome'])['age_of_outcome'].count().unstack().plot(kind='bar')\n",
    "#wanted to see the spread of ages for adoptions and euthanasia - euthanasia very low compared to adoptions\n",
    "#can clearly see a trend with adoptions - the lower the age, the higher the chance of adoption, harder to see a trend with euthanasia "
   ]
  },
  {
   "cell_type": "code",
   "execution_count": 41,
   "metadata": {},
   "outputs": [
    {
     "data": {
      "text/plain": [
       "<matplotlib.axes._subplots.AxesSubplot at 0x1ba4c4bc828>"
      ]
     },
     "execution_count": 41,
     "metadata": {},
     "output_type": "execute_result"
    },
    {
     "data": {
      "image/png": "[encoded data removed]",
      "text/plain": [
       "<Figure size 432x288 with 1 Axes>"
      ]
     },
     "metadata": {
      "needs_background": "light"
     },
     "output_type": "display_data"
    }
   ],
   "source": [
    "aac2.reset_index().groupby(['outcome_type','age_category'])['outcome_type'].size().plot(kind='bar')\n",
    "#regrouped the ages into bins to show how adoption and euthanasia are the top outcomes"
   ]
  },
  {
   "cell_type": "code",
   "execution_count": null,
   "metadata": {},
   "outputs": [],
   "source": []
  },
  {
   "cell_type": "code",
   "execution_count": 42,
   "metadata": {},
   "outputs": [
    {
     "data": {
      "text/plain": [
       "Text(0.5, 0, 'age of euthanized')"
      ]
     },
     "execution_count": 42,
     "metadata": {},
     "output_type": "execute_result"
    },
    {
     "data": {
      "image/png": "[encoded data removed]",
      "text/plain": [
       "<Figure size 432x288 with 1 Axes>"
      ]
     },
     "metadata": {
      "needs_background": "light"
     },
     "output_type": "display_data"
    }
   ],
   "source": [
    "aac3 = aac.set_index(['outcome_type']).loc['Euthanasia']\n",
    "aac3.reset_index().groupby(['outcome_type', 'age_category'])['age_category'].count().plot(kind='bar')\n",
    "plt.xlabel('age of euthanized')\n",
    "#use binning to split the age ranges into more manageable chunks"
   ]
  },
  {
   "cell_type": "code",
   "execution_count": 43,
   "metadata": {
    "scrolled": true
   },
   "outputs": [
    {
     "data": {
      "text/plain": [
       "Text(0.5, 0, 'Euthanasia by age')"
      ]
     },
     "execution_count": 43,
     "metadata": {},
     "output_type": "execute_result"
    },
    {
     "data": {
      "image/png": "[encoded data removed]",
      "text/plain": [
       "<Figure size 432x288 with 1 Axes>"
      ]
     },
     "metadata": {
      "needs_background": "light"
     },
     "output_type": "display_data"
    }
   ],
   "source": [
    "#isolated just the euthanasias to see the distribution of ages\n",
    "aac3 = aac.set_index(['outcome_type']).loc['Euthanasia']\n",
    "aac3.reset_index().groupby(['outcome_type','age_of_outcome'])['age_of_outcome'].count().unstack().plot(kind='bar')\n",
    "plt.xlabel('Euthanasia by age')\n",
    "#we can see by just reviewing the euthanasia graph that the highest animals euthanized were 0-5 years, which is not what I expected\n",
    "#perhaps this is due to illness - would be interesting to compare teo shelter length"
   ]
  },
  {
   "cell_type": "code",
   "execution_count": 44,
   "metadata": {},
   "outputs": [
    {
     "data": {
      "text/plain": [
       "outcome_type  age_of_outcome\n",
       "Euthanasia    0.0               787\n",
       "              1.0               393\n",
       "              2.0               497\n",
       "              3.0               220\n",
       "              4.0               155\n",
       "              5.0               169\n",
       "              6.0                84\n",
       "              7.0                66\n",
       "              8.0               108\n",
       "              9.0                67\n",
       "              10.0              123\n",
       "              11.0               30\n",
       "              12.0               93\n",
       "              13.0               58\n",
       "              14.0               44\n",
       "              15.0               34\n",
       "              16.0               19\n",
       "              17.0               13\n",
       "              18.0                6\n",
       "              19.0                4\n",
       "              20.0                5\n",
       "              22.0                1\n",
       "Name: age_of_outcome, dtype: int64"
      ]
     },
     "execution_count": 44,
     "metadata": {},
     "output_type": "execute_result"
    }
   ],
   "source": [
    "aac3.reset_index().groupby(['outcome_type','age_of_outcome'])['age_of_outcome'].count()\n"
   ]
  },
  {
   "cell_type": "code",
   "execution_count": 45,
   "metadata": {},
   "outputs": [
    {
     "data": {
      "text/plain": [
       "[]"
      ]
     },
     "execution_count": 45,
     "metadata": {},
     "output_type": "execute_result"
    },
    {
     "data": {
      "image/png": "[encoded data removed]",
      "text/plain": [
       "<Figure size 432x288 with 1 Axes>"
      ]
     },
     "metadata": {
      "needs_background": "light"
     },
     "output_type": "display_data"
    }
   ],
   "source": [
    "# you can see that the majority of euthanized animals were in the shelter less than 1 year, leading me to think illness/ disease\n",
    "plt.plot()"
   ]
  },
  {
   "cell_type": "code",
   "execution_count": 46,
   "metadata": {},
   "outputs": [
    {
     "data": {
      "text/plain": [
       "Text(0, 0.5, 'age')"
      ]
     },
     "execution_count": 46,
     "metadata": {},
     "output_type": "execute_result"
    },
    {
     "data": {
      "image/png": "[encoded data removed]",
      "text/plain": [
       "<Figure size 432x288 with 1 Axes>"
      ]
     },
     "metadata": {
      "needs_background": "light"
     },
     "output_type": "display_data"
    }
   ],
   "source": [
    "#you can see that the youngest animals euthanized also have the shortest time at the shelter on average\n",
    "plt.scatter(aac3.age_of_outcome, aac3.shelter_length)\n",
    "plt.xlabel('Shelter length')\n",
    "plt.ylabel('age')"
   ]
  },
  {
   "cell_type": "code",
   "execution_count": 47,
   "metadata": {},
   "outputs": [
    {
     "data": {
      "text/html": [
       "<div>\n",
       "<style scoped>\n",
       "    .dataframe tbody tr th:only-of-type {\n",
       "        vertical-align: middle;\n",
       "    }\n",
       "\n",
       "    .dataframe tbody tr th {\n",
       "        vertical-align: top;\n",
       "    }\n",
       "\n",
       "    .dataframe thead th {\n",
       "        text-align: right;\n",
       "    }\n",
       "</style>\n",
       "<table border=\"1\" class=\"dataframe\">\n",
       "  <thead>\n",
       "    <tr style=\"text-align: right;\">\n",
       "      <th></th>\n",
       "      <th></th>\n",
       "      <th>date_of_birth</th>\n",
       "      <th>outcome_datetime</th>\n",
       "      <th>animal_type</th>\n",
       "      <th>intake_datetime</th>\n",
       "      <th>shelter_length</th>\n",
       "      <th>age_category</th>\n",
       "      <th>shelter_bin</th>\n",
       "    </tr>\n",
       "    <tr>\n",
       "      <th>breed</th>\n",
       "      <th>age_of_outcome</th>\n",
       "      <th></th>\n",
       "      <th></th>\n",
       "      <th></th>\n",
       "      <th></th>\n",
       "      <th></th>\n",
       "      <th></th>\n",
       "      <th></th>\n",
       "    </tr>\n",
       "  </thead>\n",
       "  <tbody>\n",
       "    <tr>\n",
       "      <th rowspan=\"2\" valign=\"top\">Pit Bull Mix</th>\n",
       "      <th>1.0</th>\n",
       "      <td>75</td>\n",
       "      <td>75</td>\n",
       "      <td>75</td>\n",
       "      <td>75</td>\n",
       "      <td>75</td>\n",
       "      <td>75</td>\n",
       "      <td>75</td>\n",
       "    </tr>\n",
       "    <tr>\n",
       "      <th>2.0</th>\n",
       "      <td>125</td>\n",
       "      <td>125</td>\n",
       "      <td>125</td>\n",
       "      <td>125</td>\n",
       "      <td>125</td>\n",
       "      <td>125</td>\n",
       "      <td>125</td>\n",
       "    </tr>\n",
       "    <tr>\n",
       "      <th rowspan=\"3\" valign=\"top\">Domestic Shorthair Mix</th>\n",
       "      <th>2.0</th>\n",
       "      <td>145</td>\n",
       "      <td>145</td>\n",
       "      <td>145</td>\n",
       "      <td>145</td>\n",
       "      <td>145</td>\n",
       "      <td>145</td>\n",
       "      <td>145</td>\n",
       "    </tr>\n",
       "    <tr>\n",
       "      <th>1.0</th>\n",
       "      <td>161</td>\n",
       "      <td>161</td>\n",
       "      <td>161</td>\n",
       "      <td>161</td>\n",
       "      <td>161</td>\n",
       "      <td>161</td>\n",
       "      <td>160</td>\n",
       "    </tr>\n",
       "    <tr>\n",
       "      <th>0.0</th>\n",
       "      <td>487</td>\n",
       "      <td>487</td>\n",
       "      <td>487</td>\n",
       "      <td>487</td>\n",
       "      <td>487</td>\n",
       "      <td>487</td>\n",
       "      <td>487</td>\n",
       "    </tr>\n",
       "  </tbody>\n",
       "</table>\n",
       "</div>"
      ],
      "text/plain": [
       "                                       date_of_birth  outcome_datetime  \\\n",
       "breed                  age_of_outcome                                    \n",
       "Pit Bull Mix           1.0                        75                75   \n",
       "                       2.0                       125               125   \n",
       "Domestic Shorthair Mix 2.0                       145               145   \n",
       "                       1.0                       161               161   \n",
       "                       0.0                       487               487   \n",
       "\n",
       "                                       animal_type  intake_datetime  \\\n",
       "breed                  age_of_outcome                                 \n",
       "Pit Bull Mix           1.0                      75               75   \n",
       "                       2.0                     125              125   \n",
       "Domestic Shorthair Mix 2.0                     145              145   \n",
       "                       1.0                     161              161   \n",
       "                       0.0                     487              487   \n",
       "\n",
       "                                       shelter_length  age_category  \\\n",
       "breed                  age_of_outcome                                 \n",
       "Pit Bull Mix           1.0                         75            75   \n",
       "                       2.0                        125           125   \n",
       "Domestic Shorthair Mix 2.0                        145           145   \n",
       "                       1.0                        161           161   \n",
       "                       0.0                        487           487   \n",
       "\n",
       "                                       shelter_bin  \n",
       "breed                  age_of_outcome               \n",
       "Pit Bull Mix           1.0                      75  \n",
       "                       2.0                     125  \n",
       "Domestic Shorthair Mix 2.0                     145  \n",
       "                       1.0                     160  \n",
       "                       0.0                     487  "
      ]
     },
     "execution_count": 47,
     "metadata": {},
     "output_type": "execute_result"
    }
   ],
   "source": [
    "#I wanted to investigate the highest amount of animals being euthanized to see if there was any distinctions\n",
    "#Almost 500 were cats under 1 year - I think there is more to this than just illness, perhaps this is how the \n",
    "#shelther deals with large volumes? also interesting is that pit bulls account for 125 of dogs 2 years. interesting \n",
    "# this could be due to the breed specifically \n",
    "aac3.groupby(['breed', 'age_of_outcome']).count().sort_values(['date_of_birth']).tail()\n"
   ]
  },
  {
   "cell_type": "code",
   "execution_count": 48,
   "metadata": {},
   "outputs": [
    {
     "data": {
      "text/html": [
       "<div>\n",
       "<style scoped>\n",
       "    .dataframe tbody tr th:only-of-type {\n",
       "        vertical-align: middle;\n",
       "    }\n",
       "\n",
       "    .dataframe tbody tr th {\n",
       "        vertical-align: top;\n",
       "    }\n",
       "\n",
       "    .dataframe thead th {\n",
       "        text-align: right;\n",
       "    }\n",
       "</style>\n",
       "<table border=\"1\" class=\"dataframe\">\n",
       "  <thead>\n",
       "    <tr style=\"text-align: right;\">\n",
       "      <th></th>\n",
       "      <th></th>\n",
       "      <th>outcome_type</th>\n",
       "      <th>date_of_birth</th>\n",
       "      <th>outcome_datetime</th>\n",
       "      <th>animal_type</th>\n",
       "      <th>intake_datetime</th>\n",
       "      <th>shelter_length</th>\n",
       "      <th>age_category</th>\n",
       "      <th>shelter_bin</th>\n",
       "    </tr>\n",
       "    <tr>\n",
       "      <th>breed</th>\n",
       "      <th>age_of_outcome</th>\n",
       "      <th></th>\n",
       "      <th></th>\n",
       "      <th></th>\n",
       "      <th></th>\n",
       "      <th></th>\n",
       "      <th></th>\n",
       "      <th></th>\n",
       "      <th></th>\n",
       "    </tr>\n",
       "  </thead>\n",
       "  <tbody>\n",
       "    <tr>\n",
       "      <th>Domestic Shorthair Mix</th>\n",
       "      <th>2.0</th>\n",
       "      <td>471</td>\n",
       "      <td>471</td>\n",
       "      <td>471</td>\n",
       "      <td>471</td>\n",
       "      <td>471</td>\n",
       "      <td>471</td>\n",
       "      <td>471</td>\n",
       "      <td>456</td>\n",
       "    </tr>\n",
       "    <tr>\n",
       "      <th>Chihuahua Shorthair Mix</th>\n",
       "      <th>1.0</th>\n",
       "      <td>557</td>\n",
       "      <td>557</td>\n",
       "      <td>557</td>\n",
       "      <td>557</td>\n",
       "      <td>557</td>\n",
       "      <td>557</td>\n",
       "      <td>557</td>\n",
       "      <td>554</td>\n",
       "    </tr>\n",
       "    <tr>\n",
       "      <th rowspan=\"3\" valign=\"top\">Pit Bull Mix</th>\n",
       "      <th>2.0</th>\n",
       "      <td>578</td>\n",
       "      <td>578</td>\n",
       "      <td>578</td>\n",
       "      <td>578</td>\n",
       "      <td>578</td>\n",
       "      <td>578</td>\n",
       "      <td>578</td>\n",
       "      <td>542</td>\n",
       "    </tr>\n",
       "    <tr>\n",
       "      <th>0.0</th>\n",
       "      <td>611</td>\n",
       "      <td>611</td>\n",
       "      <td>611</td>\n",
       "      <td>611</td>\n",
       "      <td>611</td>\n",
       "      <td>611</td>\n",
       "      <td>611</td>\n",
       "      <td>610</td>\n",
       "    </tr>\n",
       "    <tr>\n",
       "      <th>1.0</th>\n",
       "      <td>634</td>\n",
       "      <td>634</td>\n",
       "      <td>634</td>\n",
       "      <td>634</td>\n",
       "      <td>634</td>\n",
       "      <td>634</td>\n",
       "      <td>634</td>\n",
       "      <td>602</td>\n",
       "    </tr>\n",
       "    <tr>\n",
       "      <th>Chihuahua Shorthair Mix</th>\n",
       "      <th>0.0</th>\n",
       "      <td>638</td>\n",
       "      <td>638</td>\n",
       "      <td>638</td>\n",
       "      <td>638</td>\n",
       "      <td>638</td>\n",
       "      <td>638</td>\n",
       "      <td>638</td>\n",
       "      <td>635</td>\n",
       "    </tr>\n",
       "    <tr>\n",
       "      <th>Domestic Shorthair Mix</th>\n",
       "      <th>1.0</th>\n",
       "      <td>776</td>\n",
       "      <td>776</td>\n",
       "      <td>776</td>\n",
       "      <td>776</td>\n",
       "      <td>776</td>\n",
       "      <td>776</td>\n",
       "      <td>776</td>\n",
       "      <td>744</td>\n",
       "    </tr>\n",
       "    <tr>\n",
       "      <th>Domestic Medium Hair Mix</th>\n",
       "      <th>0.0</th>\n",
       "      <td>802</td>\n",
       "      <td>802</td>\n",
       "      <td>802</td>\n",
       "      <td>802</td>\n",
       "      <td>802</td>\n",
       "      <td>802</td>\n",
       "      <td>802</td>\n",
       "      <td>796</td>\n",
       "    </tr>\n",
       "    <tr>\n",
       "      <th>Labrador Retriever Mix</th>\n",
       "      <th>0.0</th>\n",
       "      <td>1274</td>\n",
       "      <td>1274</td>\n",
       "      <td>1274</td>\n",
       "      <td>1274</td>\n",
       "      <td>1274</td>\n",
       "      <td>1274</td>\n",
       "      <td>1274</td>\n",
       "      <td>1274</td>\n",
       "    </tr>\n",
       "    <tr>\n",
       "      <th>Domestic Shorthair Mix</th>\n",
       "      <th>0.0</th>\n",
       "      <td>7523</td>\n",
       "      <td>7523</td>\n",
       "      <td>7523</td>\n",
       "      <td>7523</td>\n",
       "      <td>7523</td>\n",
       "      <td>7523</td>\n",
       "      <td>7523</td>\n",
       "      <td>7445</td>\n",
       "    </tr>\n",
       "  </tbody>\n",
       "</table>\n",
       "</div>"
      ],
      "text/plain": [
       "                                         outcome_type  date_of_birth  \\\n",
       "breed                    age_of_outcome                                \n",
       "Domestic Shorthair Mix   2.0                      471            471   \n",
       "Chihuahua Shorthair Mix  1.0                      557            557   \n",
       "Pit Bull Mix             2.0                      578            578   \n",
       "                         0.0                      611            611   \n",
       "                         1.0                      634            634   \n",
       "Chihuahua Shorthair Mix  0.0                      638            638   \n",
       "Domestic Shorthair Mix   1.0                      776            776   \n",
       "Domestic Medium Hair Mix 0.0                      802            802   \n",
       "Labrador Retriever Mix   0.0                     1274           1274   \n",
       "Domestic Shorthair Mix   0.0                     7523           7523   \n",
       "\n",
       "                                         outcome_datetime  animal_type  \\\n",
       "breed                    age_of_outcome                                  \n",
       "Domestic Shorthair Mix   2.0                          471          471   \n",
       "Chihuahua Shorthair Mix  1.0                          557          557   \n",
       "Pit Bull Mix             2.0                          578          578   \n",
       "                         0.0                          611          611   \n",
       "                         1.0                          634          634   \n",
       "Chihuahua Shorthair Mix  0.0                          638          638   \n",
       "Domestic Shorthair Mix   1.0                          776          776   \n",
       "Domestic Medium Hair Mix 0.0                          802          802   \n",
       "Labrador Retriever Mix   0.0                         1274         1274   \n",
       "Domestic Shorthair Mix   0.0                         7523         7523   \n",
       "\n",
       "                                         intake_datetime  shelter_length  \\\n",
       "breed                    age_of_outcome                                    \n",
       "Domestic Shorthair Mix   2.0                         471             471   \n",
       "Chihuahua Shorthair Mix  1.0                         557             557   \n",
       "Pit Bull Mix             2.0                         578             578   \n",
       "                         0.0                         611             611   \n",
       "                         1.0                         634             634   \n",
       "Chihuahua Shorthair Mix  0.0                         638             638   \n",
       "Domestic Shorthair Mix   1.0                         776             776   \n",
       "Domestic Medium Hair Mix 0.0                         802             802   \n",
       "Labrador Retriever Mix   0.0                        1274            1274   \n",
       "Domestic Shorthair Mix   0.0                        7523            7523   \n",
       "\n",
       "                                         age_category  shelter_bin  \n",
       "breed                    age_of_outcome                             \n",
       "Domestic Shorthair Mix   2.0                      471          456  \n",
       "Chihuahua Shorthair Mix  1.0                      557          554  \n",
       "Pit Bull Mix             2.0                      578          542  \n",
       "                         0.0                      611          610  \n",
       "                         1.0                      634          602  \n",
       "Chihuahua Shorthair Mix  0.0                      638          635  \n",
       "Domestic Shorthair Mix   1.0                      776          744  \n",
       "Domestic Medium Hair Mix 0.0                      802          796  \n",
       "Labrador Retriever Mix   0.0                     1274         1274  \n",
       "Domestic Shorthair Mix   0.0                     7523         7445  "
      ]
     },
     "execution_count": 48,
     "metadata": {},
     "output_type": "execute_result"
    }
   ],
   "source": [
    "#wanted to do the same comparison for adoptions - can see that interestingly the cat below 1 accounts for 7500 adoptions\n",
    "#perhaps the ones euthanized are due to illness as around 6%. You can see that Labrador leads for dogs as does chihuaha\n",
    "#can clearly see cats take up a lare portion of adoptions\n",
    "aac4 = aac.set_index(['outcome_type']).loc['Adoption']\n",
    "aac4.reset_index().groupby(['breed', 'age_of_outcome']).count().sort_values(['date_of_birth']).tail(10)"
   ]
  },
  {
   "cell_type": "code",
   "execution_count": 49,
   "metadata": {},
   "outputs": [
    {
     "data": {
      "text/html": [
       "<div>\n",
       "<style scoped>\n",
       "    .dataframe tbody tr th:only-of-type {\n",
       "        vertical-align: middle;\n",
       "    }\n",
       "\n",
       "    .dataframe tbody tr th {\n",
       "        vertical-align: top;\n",
       "    }\n",
       "\n",
       "    .dataframe thead th {\n",
       "        text-align: right;\n",
       "    }\n",
       "</style>\n",
       "<table border=\"1\" class=\"dataframe\">\n",
       "  <thead>\n",
       "    <tr style=\"text-align: right;\">\n",
       "      <th></th>\n",
       "      <th></th>\n",
       "      <th>date_of_birth</th>\n",
       "      <th>outcome_datetime</th>\n",
       "      <th>intake_datetime</th>\n",
       "      <th>shelter_length</th>\n",
       "      <th>age_of_outcome</th>\n",
       "      <th>age_category</th>\n",
       "      <th>shelter_bin</th>\n",
       "    </tr>\n",
       "    <tr>\n",
       "      <th>animal_type</th>\n",
       "      <th>breed</th>\n",
       "      <th></th>\n",
       "      <th></th>\n",
       "      <th></th>\n",
       "      <th></th>\n",
       "      <th></th>\n",
       "      <th></th>\n",
       "      <th></th>\n",
       "    </tr>\n",
       "  </thead>\n",
       "  <tbody>\n",
       "    <tr>\n",
       "      <th rowspan=\"5\" valign=\"top\">Dog</th>\n",
       "      <th>Yorkshire Terrier/Pomeranian</th>\n",
       "      <td>2</td>\n",
       "      <td>2</td>\n",
       "      <td>2</td>\n",
       "      <td>2</td>\n",
       "      <td>2</td>\n",
       "      <td>2</td>\n",
       "      <td>2</td>\n",
       "    </tr>\n",
       "    <tr>\n",
       "      <th>Yorkshire Terrier/Rat Terrier</th>\n",
       "      <td>5</td>\n",
       "      <td>5</td>\n",
       "      <td>5</td>\n",
       "      <td>5</td>\n",
       "      <td>5</td>\n",
       "      <td>5</td>\n",
       "      <td>5</td>\n",
       "    </tr>\n",
       "    <tr>\n",
       "      <th>Yorkshire Terrier/Shih Tzu</th>\n",
       "      <td>2</td>\n",
       "      <td>2</td>\n",
       "      <td>2</td>\n",
       "      <td>2</td>\n",
       "      <td>2</td>\n",
       "      <td>2</td>\n",
       "      <td>2</td>\n",
       "    </tr>\n",
       "    <tr>\n",
       "      <th>Yorkshire Terrier/Soft Coated Wheaten Terrier</th>\n",
       "      <td>1</td>\n",
       "      <td>1</td>\n",
       "      <td>1</td>\n",
       "      <td>1</td>\n",
       "      <td>1</td>\n",
       "      <td>1</td>\n",
       "      <td>1</td>\n",
       "    </tr>\n",
       "    <tr>\n",
       "      <th>Yorkshire Terrier/Yorkshire Terrier</th>\n",
       "      <td>1</td>\n",
       "      <td>1</td>\n",
       "      <td>1</td>\n",
       "      <td>1</td>\n",
       "      <td>1</td>\n",
       "      <td>1</td>\n",
       "      <td>1</td>\n",
       "    </tr>\n",
       "  </tbody>\n",
       "</table>\n",
       "</div>"
      ],
      "text/plain": [
       "                                                           date_of_birth  \\\n",
       "animal_type breed                                                          \n",
       "Dog         Yorkshire Terrier/Pomeranian                               2   \n",
       "            Yorkshire Terrier/Rat Terrier                              5   \n",
       "            Yorkshire Terrier/Shih Tzu                                 2   \n",
       "            Yorkshire Terrier/Soft Coated Wheaten Terrier              1   \n",
       "            Yorkshire Terrier/Yorkshire Terrier                        1   \n",
       "\n",
       "                                                           outcome_datetime  \\\n",
       "animal_type breed                                                             \n",
       "Dog         Yorkshire Terrier/Pomeranian                                  2   \n",
       "            Yorkshire Terrier/Rat Terrier                                 5   \n",
       "            Yorkshire Terrier/Shih Tzu                                    2   \n",
       "            Yorkshire Terrier/Soft Coated Wheaten Terrier                 1   \n",
       "            Yorkshire Terrier/Yorkshire Terrier                           1   \n",
       "\n",
       "                                                           intake_datetime  \\\n",
       "animal_type breed                                                            \n",
       "Dog         Yorkshire Terrier/Pomeranian                                 2   \n",
       "            Yorkshire Terrier/Rat Terrier                                5   \n",
       "            Yorkshire Terrier/Shih Tzu                                   2   \n",
       "            Yorkshire Terrier/Soft Coated Wheaten Terrier                1   \n",
       "            Yorkshire Terrier/Yorkshire Terrier                          1   \n",
       "\n",
       "                                                           shelter_length  \\\n",
       "animal_type breed                                                           \n",
       "Dog         Yorkshire Terrier/Pomeranian                                2   \n",
       "            Yorkshire Terrier/Rat Terrier                               5   \n",
       "            Yorkshire Terrier/Shih Tzu                                  2   \n",
       "            Yorkshire Terrier/Soft Coated Wheaten Terrier               1   \n",
       "            Yorkshire Terrier/Yorkshire Terrier                         1   \n",
       "\n",
       "                                                           age_of_outcome  \\\n",
       "animal_type breed                                                           \n",
       "Dog         Yorkshire Terrier/Pomeranian                                2   \n",
       "            Yorkshire Terrier/Rat Terrier                               5   \n",
       "            Yorkshire Terrier/Shih Tzu                                  2   \n",
       "            Yorkshire Terrier/Soft Coated Wheaten Terrier               1   \n",
       "            Yorkshire Terrier/Yorkshire Terrier                         1   \n",
       "\n",
       "                                                           age_category  \\\n",
       "animal_type breed                                                         \n",
       "Dog         Yorkshire Terrier/Pomeranian                              2   \n",
       "            Yorkshire Terrier/Rat Terrier                             5   \n",
       "            Yorkshire Terrier/Shih Tzu                                2   \n",
       "            Yorkshire Terrier/Soft Coated Wheaten Terrier             1   \n",
       "            Yorkshire Terrier/Yorkshire Terrier                       1   \n",
       "\n",
       "                                                           shelter_bin  \n",
       "animal_type breed                                                       \n",
       "Dog         Yorkshire Terrier/Pomeranian                             2  \n",
       "            Yorkshire Terrier/Rat Terrier                            5  \n",
       "            Yorkshire Terrier/Shih Tzu                               2  \n",
       "            Yorkshire Terrier/Soft Coated Wheaten Terrier            1  \n",
       "            Yorkshire Terrier/Yorkshire Terrier                      1  "
      ]
     },
     "execution_count": 49,
     "metadata": {},
     "output_type": "execute_result"
    }
   ],
   "source": [
    "aac2.groupby(['animal_type', 'breed']).count().tail()"
   ]
  },
  {
   "cell_type": "code",
   "execution_count": 50,
   "metadata": {
    "scrolled": true
   },
   "outputs": [
    {
     "data": {
      "text/html": [
       "<div>\n",
       "<style scoped>\n",
       "    .dataframe tbody tr th:only-of-type {\n",
       "        vertical-align: middle;\n",
       "    }\n",
       "\n",
       "    .dataframe tbody tr th {\n",
       "        vertical-align: top;\n",
       "    }\n",
       "\n",
       "    .dataframe thead th {\n",
       "        text-align: right;\n",
       "    }\n",
       "</style>\n",
       "<table border=\"1\" class=\"dataframe\">\n",
       "  <thead>\n",
       "    <tr style=\"text-align: right;\">\n",
       "      <th></th>\n",
       "      <th>date_of_birth</th>\n",
       "      <th>outcome_datetime</th>\n",
       "      <th>breed</th>\n",
       "      <th>intake_datetime</th>\n",
       "      <th>shelter_length</th>\n",
       "      <th>age_of_outcome</th>\n",
       "      <th>age_category</th>\n",
       "      <th>shelter_bin</th>\n",
       "    </tr>\n",
       "    <tr>\n",
       "      <th>animal_type</th>\n",
       "      <th></th>\n",
       "      <th></th>\n",
       "      <th></th>\n",
       "      <th></th>\n",
       "      <th></th>\n",
       "      <th></th>\n",
       "      <th></th>\n",
       "      <th></th>\n",
       "    </tr>\n",
       "  </thead>\n",
       "  <tbody>\n",
       "    <tr>\n",
       "      <th>Cat</th>\n",
       "      <td>14147</td>\n",
       "      <td>14147</td>\n",
       "      <td>14147</td>\n",
       "      <td>14147</td>\n",
       "      <td>14147</td>\n",
       "      <td>14147</td>\n",
       "      <td>14147</td>\n",
       "      <td>13877</td>\n",
       "    </tr>\n",
       "    <tr>\n",
       "      <th>Dog</th>\n",
       "      <td>22082</td>\n",
       "      <td>22082</td>\n",
       "      <td>22082</td>\n",
       "      <td>22082</td>\n",
       "      <td>22082</td>\n",
       "      <td>22082</td>\n",
       "      <td>22082</td>\n",
       "      <td>21612</td>\n",
       "    </tr>\n",
       "  </tbody>\n",
       "</table>\n",
       "</div>"
      ],
      "text/plain": [
       "             date_of_birth  outcome_datetime  breed  intake_datetime  \\\n",
       "animal_type                                                            \n",
       "Cat                  14147             14147  14147            14147   \n",
       "Dog                  22082             22082  22082            22082   \n",
       "\n",
       "             shelter_length  age_of_outcome  age_category  shelter_bin  \n",
       "animal_type                                                             \n",
       "Cat                   14147           14147         14147        13877  \n",
       "Dog                   22082           22082         22082        21612  "
      ]
     },
     "execution_count": 50,
     "metadata": {},
     "output_type": "execute_result"
    }
   ],
   "source": [
    "aac2.groupby(['animal_type']).count()"
   ]
  },
  {
   "cell_type": "code",
   "execution_count": 51,
   "metadata": {},
   "outputs": [
    {
     "data": {
      "text/html": [
       "<div>\n",
       "<style scoped>\n",
       "    .dataframe tbody tr th:only-of-type {\n",
       "        vertical-align: middle;\n",
       "    }\n",
       "\n",
       "    .dataframe tbody tr th {\n",
       "        vertical-align: top;\n",
       "    }\n",
       "\n",
       "    .dataframe thead th {\n",
       "        text-align: right;\n",
       "    }\n",
       "</style>\n",
       "<table border=\"1\" class=\"dataframe\">\n",
       "  <thead>\n",
       "    <tr style=\"text-align: right;\">\n",
       "      <th></th>\n",
       "      <th></th>\n",
       "      <th>animal_type</th>\n",
       "      <th>date_of_birth</th>\n",
       "      <th>outcome_datetime</th>\n",
       "      <th>intake_datetime</th>\n",
       "      <th>shelter_length</th>\n",
       "      <th>age_category</th>\n",
       "      <th>shelter_bin</th>\n",
       "    </tr>\n",
       "    <tr>\n",
       "      <th>breed</th>\n",
       "      <th>age_of_outcome</th>\n",
       "      <th></th>\n",
       "      <th></th>\n",
       "      <th></th>\n",
       "      <th></th>\n",
       "      <th></th>\n",
       "      <th></th>\n",
       "      <th></th>\n",
       "    </tr>\n",
       "  </thead>\n",
       "  <tbody>\n",
       "    <tr>\n",
       "      <th>Chihuahua Shorthair Mix</th>\n",
       "      <th>1.0</th>\n",
       "      <td>22</td>\n",
       "      <td>22</td>\n",
       "      <td>22</td>\n",
       "      <td>22</td>\n",
       "      <td>22</td>\n",
       "      <td>22</td>\n",
       "      <td>22</td>\n",
       "    </tr>\n",
       "    <tr>\n",
       "      <th>Labrador Retriever Mix</th>\n",
       "      <th>0.0</th>\n",
       "      <td>23</td>\n",
       "      <td>23</td>\n",
       "      <td>23</td>\n",
       "      <td>23</td>\n",
       "      <td>23</td>\n",
       "      <td>23</td>\n",
       "      <td>23</td>\n",
       "    </tr>\n",
       "    <tr>\n",
       "      <th>Chihuahua Shorthair Mix</th>\n",
       "      <th>2.0</th>\n",
       "      <td>28</td>\n",
       "      <td>28</td>\n",
       "      <td>28</td>\n",
       "      <td>28</td>\n",
       "      <td>28</td>\n",
       "      <td>28</td>\n",
       "      <td>27</td>\n",
       "    </tr>\n",
       "    <tr>\n",
       "      <th rowspan=\"2\" valign=\"top\">Pit Bull Mix</th>\n",
       "      <th>5.0</th>\n",
       "      <td>31</td>\n",
       "      <td>31</td>\n",
       "      <td>31</td>\n",
       "      <td>31</td>\n",
       "      <td>31</td>\n",
       "      <td>31</td>\n",
       "      <td>31</td>\n",
       "    </tr>\n",
       "    <tr>\n",
       "      <th>4.0</th>\n",
       "      <td>33</td>\n",
       "      <td>33</td>\n",
       "      <td>33</td>\n",
       "      <td>33</td>\n",
       "      <td>33</td>\n",
       "      <td>33</td>\n",
       "      <td>33</td>\n",
       "    </tr>\n",
       "    <tr>\n",
       "      <th>Chihuahua Shorthair Mix</th>\n",
       "      <th>0.0</th>\n",
       "      <td>33</td>\n",
       "      <td>33</td>\n",
       "      <td>33</td>\n",
       "      <td>33</td>\n",
       "      <td>33</td>\n",
       "      <td>33</td>\n",
       "      <td>33</td>\n",
       "    </tr>\n",
       "    <tr>\n",
       "      <th rowspan=\"4\" valign=\"top\">Pit Bull Mix</th>\n",
       "      <th>0.0</th>\n",
       "      <td>41</td>\n",
       "      <td>41</td>\n",
       "      <td>41</td>\n",
       "      <td>41</td>\n",
       "      <td>41</td>\n",
       "      <td>41</td>\n",
       "      <td>41</td>\n",
       "    </tr>\n",
       "    <tr>\n",
       "      <th>3.0</th>\n",
       "      <td>62</td>\n",
       "      <td>62</td>\n",
       "      <td>62</td>\n",
       "      <td>62</td>\n",
       "      <td>62</td>\n",
       "      <td>62</td>\n",
       "      <td>62</td>\n",
       "    </tr>\n",
       "    <tr>\n",
       "      <th>1.0</th>\n",
       "      <td>75</td>\n",
       "      <td>75</td>\n",
       "      <td>75</td>\n",
       "      <td>75</td>\n",
       "      <td>75</td>\n",
       "      <td>75</td>\n",
       "      <td>75</td>\n",
       "    </tr>\n",
       "    <tr>\n",
       "      <th>2.0</th>\n",
       "      <td>125</td>\n",
       "      <td>125</td>\n",
       "      <td>125</td>\n",
       "      <td>125</td>\n",
       "      <td>125</td>\n",
       "      <td>125</td>\n",
       "      <td>125</td>\n",
       "    </tr>\n",
       "  </tbody>\n",
       "</table>\n",
       "</div>"
      ],
      "text/plain": [
       "                                        animal_type  date_of_birth  \\\n",
       "breed                   age_of_outcome                               \n",
       "Chihuahua Shorthair Mix 1.0                      22             22   \n",
       "Labrador Retriever Mix  0.0                      23             23   \n",
       "Chihuahua Shorthair Mix 2.0                      28             28   \n",
       "Pit Bull Mix            5.0                      31             31   \n",
       "                        4.0                      33             33   \n",
       "Chihuahua Shorthair Mix 0.0                      33             33   \n",
       "Pit Bull Mix            0.0                      41             41   \n",
       "                        3.0                      62             62   \n",
       "                        1.0                      75             75   \n",
       "                        2.0                     125            125   \n",
       "\n",
       "                                        outcome_datetime  intake_datetime  \\\n",
       "breed                   age_of_outcome                                      \n",
       "Chihuahua Shorthair Mix 1.0                           22               22   \n",
       "Labrador Retriever Mix  0.0                           23               23   \n",
       "Chihuahua Shorthair Mix 2.0                           28               28   \n",
       "Pit Bull Mix            5.0                           31               31   \n",
       "                        4.0                           33               33   \n",
       "Chihuahua Shorthair Mix 0.0                           33               33   \n",
       "Pit Bull Mix            0.0                           41               41   \n",
       "                        3.0                           62               62   \n",
       "                        1.0                           75               75   \n",
       "                        2.0                          125              125   \n",
       "\n",
       "                                        shelter_length  age_category  \\\n",
       "breed                   age_of_outcome                                 \n",
       "Chihuahua Shorthair Mix 1.0                         22            22   \n",
       "Labrador Retriever Mix  0.0                         23            23   \n",
       "Chihuahua Shorthair Mix 2.0                         28            28   \n",
       "Pit Bull Mix            5.0                         31            31   \n",
       "                        4.0                         33            33   \n",
       "Chihuahua Shorthair Mix 0.0                         33            33   \n",
       "Pit Bull Mix            0.0                         41            41   \n",
       "                        3.0                         62            62   \n",
       "                        1.0                         75            75   \n",
       "                        2.0                        125           125   \n",
       "\n",
       "                                        shelter_bin  \n",
       "breed                   age_of_outcome               \n",
       "Chihuahua Shorthair Mix 1.0                      22  \n",
       "Labrador Retriever Mix  0.0                      23  \n",
       "Chihuahua Shorthair Mix 2.0                      27  \n",
       "Pit Bull Mix            5.0                      31  \n",
       "                        4.0                      33  \n",
       "Chihuahua Shorthair Mix 0.0                      33  \n",
       "Pit Bull Mix            0.0                      41  \n",
       "                        3.0                      62  \n",
       "                        1.0                      75  \n",
       "                        2.0                     125  "
      ]
     },
     "execution_count": 51,
     "metadata": {},
     "output_type": "execute_result"
    }
   ],
   "source": [
    "#after realizing that the cat breeds are throwing off the data, I am\n",
    "#going to remove cats and review breeds of dogs solely\n",
    "aac5 = aac3.set_index(['animal_type']).loc['Dog']\n",
    "aac5.reset_index().groupby(['breed', 'age_of_outcome']).count().sort_values(['date_of_birth']).tail(10)\n",
    "#this data now shows top dog breeds euhanized by age and breed\n",
    "#we see pit bull leads the charts"
   ]
  },
  {
   "cell_type": "code",
   "execution_count": 52,
   "metadata": {},
   "outputs": [
    {
     "data": {
      "text/plain": [
       "Text(0.5, 0, 'Top Dog Euthanasia')"
      ]
     },
     "execution_count": 52,
     "metadata": {},
     "output_type": "execute_result"
    },
    {
     "data": {
      "image/png": "[encoded data removed]",
      "text/plain": [
       "<Figure size 432x288 with 1 Axes>"
      ]
     },
     "metadata": {
      "needs_background": "light"
     },
     "output_type": "display_data"
    }
   ],
   "source": [
    "aac5.reset_index().groupby(['breed', 'age_of_outcome']).count().sort_values(['date_of_birth']).tail(10).plot(kind='bar')\n",
    "plt.xlabel('Top Dog Euthanasia')"
   ]
  },
  {
   "cell_type": "code",
   "execution_count": 53,
   "metadata": {},
   "outputs": [
    {
     "data": {
      "text/html": [
       "<div>\n",
       "<style scoped>\n",
       "    .dataframe tbody tr th:only-of-type {\n",
       "        vertical-align: middle;\n",
       "    }\n",
       "\n",
       "    .dataframe tbody tr th {\n",
       "        vertical-align: top;\n",
       "    }\n",
       "\n",
       "    .dataframe thead th {\n",
       "        text-align: right;\n",
       "    }\n",
       "</style>\n",
       "<table border=\"1\" class=\"dataframe\">\n",
       "  <thead>\n",
       "    <tr style=\"text-align: right;\">\n",
       "      <th></th>\n",
       "      <th></th>\n",
       "      <th>animal_type</th>\n",
       "      <th>date_of_birth</th>\n",
       "      <th>outcome_datetime</th>\n",
       "      <th>intake_datetime</th>\n",
       "      <th>shelter_length</th>\n",
       "      <th>age_category</th>\n",
       "      <th>shelter_bin</th>\n",
       "    </tr>\n",
       "    <tr>\n",
       "      <th>breed</th>\n",
       "      <th>age_of_outcome</th>\n",
       "      <th></th>\n",
       "      <th></th>\n",
       "      <th></th>\n",
       "      <th></th>\n",
       "      <th></th>\n",
       "      <th></th>\n",
       "      <th></th>\n",
       "    </tr>\n",
       "  </thead>\n",
       "  <tbody>\n",
       "    <tr>\n",
       "      <th>Australian Cattle Dog Mix</th>\n",
       "      <th>0.0</th>\n",
       "      <td>281</td>\n",
       "      <td>281</td>\n",
       "      <td>281</td>\n",
       "      <td>281</td>\n",
       "      <td>281</td>\n",
       "      <td>281</td>\n",
       "      <td>280</td>\n",
       "    </tr>\n",
       "    <tr>\n",
       "      <th>German Shepherd Mix</th>\n",
       "      <th>0.0</th>\n",
       "      <td>349</td>\n",
       "      <td>349</td>\n",
       "      <td>349</td>\n",
       "      <td>349</td>\n",
       "      <td>349</td>\n",
       "      <td>349</td>\n",
       "      <td>349</td>\n",
       "    </tr>\n",
       "    <tr>\n",
       "      <th>Chihuahua Shorthair Mix</th>\n",
       "      <th>2.0</th>\n",
       "      <td>434</td>\n",
       "      <td>434</td>\n",
       "      <td>434</td>\n",
       "      <td>434</td>\n",
       "      <td>434</td>\n",
       "      <td>434</td>\n",
       "      <td>431</td>\n",
       "    </tr>\n",
       "    <tr>\n",
       "      <th>Labrador Retriever Mix</th>\n",
       "      <th>1.0</th>\n",
       "      <td>442</td>\n",
       "      <td>442</td>\n",
       "      <td>442</td>\n",
       "      <td>442</td>\n",
       "      <td>442</td>\n",
       "      <td>442</td>\n",
       "      <td>436</td>\n",
       "    </tr>\n",
       "    <tr>\n",
       "      <th>Chihuahua Shorthair Mix</th>\n",
       "      <th>1.0</th>\n",
       "      <td>557</td>\n",
       "      <td>557</td>\n",
       "      <td>557</td>\n",
       "      <td>557</td>\n",
       "      <td>557</td>\n",
       "      <td>557</td>\n",
       "      <td>554</td>\n",
       "    </tr>\n",
       "    <tr>\n",
       "      <th rowspan=\"3\" valign=\"top\">Pit Bull Mix</th>\n",
       "      <th>2.0</th>\n",
       "      <td>578</td>\n",
       "      <td>578</td>\n",
       "      <td>578</td>\n",
       "      <td>578</td>\n",
       "      <td>578</td>\n",
       "      <td>578</td>\n",
       "      <td>542</td>\n",
       "    </tr>\n",
       "    <tr>\n",
       "      <th>0.0</th>\n",
       "      <td>611</td>\n",
       "      <td>611</td>\n",
       "      <td>611</td>\n",
       "      <td>611</td>\n",
       "      <td>611</td>\n",
       "      <td>611</td>\n",
       "      <td>610</td>\n",
       "    </tr>\n",
       "    <tr>\n",
       "      <th>1.0</th>\n",
       "      <td>634</td>\n",
       "      <td>634</td>\n",
       "      <td>634</td>\n",
       "      <td>634</td>\n",
       "      <td>634</td>\n",
       "      <td>634</td>\n",
       "      <td>602</td>\n",
       "    </tr>\n",
       "    <tr>\n",
       "      <th>Chihuahua Shorthair Mix</th>\n",
       "      <th>0.0</th>\n",
       "      <td>638</td>\n",
       "      <td>638</td>\n",
       "      <td>638</td>\n",
       "      <td>638</td>\n",
       "      <td>638</td>\n",
       "      <td>638</td>\n",
       "      <td>635</td>\n",
       "    </tr>\n",
       "    <tr>\n",
       "      <th>Labrador Retriever Mix</th>\n",
       "      <th>0.0</th>\n",
       "      <td>1274</td>\n",
       "      <td>1274</td>\n",
       "      <td>1274</td>\n",
       "      <td>1274</td>\n",
       "      <td>1274</td>\n",
       "      <td>1274</td>\n",
       "      <td>1274</td>\n",
       "    </tr>\n",
       "  </tbody>\n",
       "</table>\n",
       "</div>"
      ],
      "text/plain": [
       "                                          animal_type  date_of_birth  \\\n",
       "breed                     age_of_outcome                               \n",
       "Australian Cattle Dog Mix 0.0                     281            281   \n",
       "German Shepherd Mix       0.0                     349            349   \n",
       "Chihuahua Shorthair Mix   2.0                     434            434   \n",
       "Labrador Retriever Mix    1.0                     442            442   \n",
       "Chihuahua Shorthair Mix   1.0                     557            557   \n",
       "Pit Bull Mix              2.0                     578            578   \n",
       "                          0.0                     611            611   \n",
       "                          1.0                     634            634   \n",
       "Chihuahua Shorthair Mix   0.0                     638            638   \n",
       "Labrador Retriever Mix    0.0                    1274           1274   \n",
       "\n",
       "                                          outcome_datetime  intake_datetime  \\\n",
       "breed                     age_of_outcome                                      \n",
       "Australian Cattle Dog Mix 0.0                          281              281   \n",
       "German Shepherd Mix       0.0                          349              349   \n",
       "Chihuahua Shorthair Mix   2.0                          434              434   \n",
       "Labrador Retriever Mix    1.0                          442              442   \n",
       "Chihuahua Shorthair Mix   1.0                          557              557   \n",
       "Pit Bull Mix              2.0                          578              578   \n",
       "                          0.0                          611              611   \n",
       "                          1.0                          634              634   \n",
       "Chihuahua Shorthair Mix   0.0                          638              638   \n",
       "Labrador Retriever Mix    0.0                         1274             1274   \n",
       "\n",
       "                                          shelter_length  age_category  \\\n",
       "breed                     age_of_outcome                                 \n",
       "Australian Cattle Dog Mix 0.0                        281           281   \n",
       "German Shepherd Mix       0.0                        349           349   \n",
       "Chihuahua Shorthair Mix   2.0                        434           434   \n",
       "Labrador Retriever Mix    1.0                        442           442   \n",
       "Chihuahua Shorthair Mix   1.0                        557           557   \n",
       "Pit Bull Mix              2.0                        578           578   \n",
       "                          0.0                        611           611   \n",
       "                          1.0                        634           634   \n",
       "Chihuahua Shorthair Mix   0.0                        638           638   \n",
       "Labrador Retriever Mix    0.0                       1274          1274   \n",
       "\n",
       "                                          shelter_bin  \n",
       "breed                     age_of_outcome               \n",
       "Australian Cattle Dog Mix 0.0                     280  \n",
       "German Shepherd Mix       0.0                     349  \n",
       "Chihuahua Shorthair Mix   2.0                     431  \n",
       "Labrador Retriever Mix    1.0                     436  \n",
       "Chihuahua Shorthair Mix   1.0                     554  \n",
       "Pit Bull Mix              2.0                     542  \n",
       "                          0.0                     610  \n",
       "                          1.0                     602  \n",
       "Chihuahua Shorthair Mix   0.0                     635  \n",
       "Labrador Retriever Mix    0.0                    1274  "
      ]
     },
     "execution_count": 53,
     "metadata": {},
     "output_type": "execute_result"
    }
   ],
   "source": [
    "#now lets compare the adoptions to see which breeds lead that category\n",
    "aac6 = aac4.set_index(['animal_type']).loc['Dog']\n",
    "aac6.reset_index().groupby(['breed', 'age_of_outcome']).count().sort_values(['date_of_birth']).tail(10)"
   ]
  },
  {
   "cell_type": "code",
   "execution_count": 54,
   "metadata": {},
   "outputs": [
    {
     "data": {
      "text/plain": [
       "Text(0.5, 0, 'Top Dog Adoptions')"
      ]
     },
     "execution_count": 54,
     "metadata": {},
     "output_type": "execute_result"
    },
    {
     "data": {
      "image/png": "[encoded data removed]",
      "text/plain": [
       "<Figure size 432x288 with 1 Axes>"
      ]
     },
     "metadata": {
      "needs_background": "light"
     },
     "output_type": "display_data"
    }
   ],
   "source": [
    "aac6.reset_index().groupby(['breed', 'age_of_outcome']).count().sort_values(['date_of_birth']).tail(10).plot(kind='bar')\n",
    "plt.xlabel('Top Dog Adoptions')"
   ]
  },
  {
   "cell_type": "code",
   "execution_count": 55,
   "metadata": {},
   "outputs": [],
   "source": [
    "#inferential statisitcs section:\n",
    "#variables that are significant to project question = age, breed of dog\n",
    "#there are significant differences between age and breed that may impact project aim\n",
    "#strong correlations between variables = age and breed\n",
    "#test to analyze these relationships: "
   ]
  },
  {
   "cell_type": "code",
   "execution_count": 56,
   "metadata": {},
   "outputs": [
    {
     "name": "stdout",
     "output_type": "stream",
     "text": [
      "3.977211477011651\n"
     ]
    }
   ],
   "source": [
    "#calculating the covarian between shelter length and age of outcome\n",
    "#can't calculate breed as they are strings - need to be ints\n",
    "cov_matrix = np.cov(aac6['shelter_length'], aac6['age_of_outcome'])\n",
    "shelter_cov = cov_matrix[0,1]\n",
    "print(shelter_cov)"
   ]
  },
  {
   "cell_type": "code",
   "execution_count": null,
   "metadata": {},
   "outputs": [],
   "source": []
  },
  {
   "cell_type": "code",
   "execution_count": 57,
   "metadata": {},
   "outputs": [
    {
     "data": {
      "image/png": "[encoded data removed]",
      "text/plain": [
       "<Figure size 432x288 with 1 Axes>"
      ]
     },
     "metadata": {
      "needs_background": "light"
     },
     "output_type": "display_data"
    }
   ],
   "source": [
    "_ = plt.plot(aac6['age_of_outcome'], aac6['shelter_length'], marker='.', linestyle='none')\n",
    "plt.show()"
   ]
  },
  {
   "cell_type": "code",
   "execution_count": 58,
   "metadata": {},
   "outputs": [],
   "source": [
    "a, b = np.polyfit(aac6['age_of_outcome'], aac6['shelter_length'], 1)"
   ]
  },
  {
   "cell_type": "code",
   "execution_count": 59,
   "metadata": {},
   "outputs": [
    {
     "name": "stdout",
     "output_type": "stream",
     "text": [
      "0.669662940413562\n"
     ]
    }
   ],
   "source": [
    "print(a)"
   ]
  },
  {
   "cell_type": "code",
   "execution_count": 60,
   "metadata": {},
   "outputs": [
    {
     "name": "stdout",
     "output_type": "stream",
     "text": [
      "1.7771704478685182\n"
     ]
    }
   ],
   "source": [
    "print(b)"
   ]
  },
  {
   "cell_type": "code",
   "execution_count": 61,
   "metadata": {},
   "outputs": [],
   "source": [
    "# Make theoretical line to plot\n",
    "x = np.array([0,100])\n",
    "y = a * x + b"
   ]
  },
  {
   "cell_type": "code",
   "execution_count": null,
   "metadata": {},
   "outputs": [],
   "source": []
  },
  {
   "cell_type": "code",
   "execution_count": null,
   "metadata": {},
   "outputs": [],
   "source": []
  },
  {
   "cell_type": "code",
   "execution_count": 62,
   "metadata": {},
   "outputs": [
    {
     "ename": "NameError",
     "evalue": "name 'c' is not defined",
     "output_type": "error",
     "traceback": [
      "\u001b[1;31m---------------------------------------------------------------------------\u001b[0m",
      "\u001b[1;31mNameError\u001b[0m                                 Traceback (most recent call last)",
      "\u001b[1;32m<ipython-input-62-8537e2ec30be>\u001b[0m in \u001b[0;36m<module>\u001b[1;34m\u001b[0m\n\u001b[0;32m      1\u001b[0m \u001b[0m_\u001b[0m \u001b[1;33m=\u001b[0m \u001b[0mplt\u001b[0m\u001b[1;33m.\u001b[0m\u001b[0mplot\u001b[0m\u001b[1;33m(\u001b[0m\u001b[0maac5\u001b[0m\u001b[1;33m[\u001b[0m\u001b[1;34m'age_of_outcome'\u001b[0m\u001b[1;33m]\u001b[0m\u001b[1;33m,\u001b[0m \u001b[0maac5\u001b[0m\u001b[1;33m[\u001b[0m\u001b[1;34m'shelter_length'\u001b[0m\u001b[1;33m]\u001b[0m\u001b[1;33m,\u001b[0m \u001b[0mmarker\u001b[0m\u001b[1;33m=\u001b[0m\u001b[1;34m'.'\u001b[0m\u001b[1;33m,\u001b[0m \u001b[0mlinestyle\u001b[0m\u001b[1;33m=\u001b[0m\u001b[1;34m'none'\u001b[0m\u001b[1;33m)\u001b[0m\u001b[1;33m\u001b[0m\u001b[1;33m\u001b[0m\u001b[0m\n\u001b[1;32m----> 2\u001b[1;33m \u001b[0m_\u001b[0m \u001b[1;33m=\u001b[0m \u001b[0mplt\u001b[0m\u001b[1;33m.\u001b[0m\u001b[0mplot\u001b[0m\u001b[1;33m(\u001b[0m\u001b[0mc\u001b[0m\u001b[1;33m,\u001b[0m\u001b[0md\u001b[0m\u001b[1;33m)\u001b[0m\u001b[1;33m\u001b[0m\u001b[1;33m\u001b[0m\u001b[0m\n\u001b[0m\u001b[0;32m      3\u001b[0m \u001b[0mplt\u001b[0m\u001b[1;33m.\u001b[0m\u001b[0mshow\u001b[0m\u001b[1;33m(\u001b[0m\u001b[1;33m)\u001b[0m\u001b[1;33m\u001b[0m\u001b[1;33m\u001b[0m\u001b[0m\n",
      "\u001b[1;31mNameError\u001b[0m: name 'c' is not defined"
     ]
    },
    {
     "data": {
      "image/png": "[encoded data removed]",
      "text/plain": [
       "<Figure size 432x288 with 1 Axes>"
      ]
     },
     "metadata": {
      "needs_background": "light"
     },
     "output_type": "display_data"
    }
   ],
   "source": [
    "_ = plt.plot(aac5['age_of_outcome'], aac5['shelter_length'], marker='.', linestyle='none')\n",
    "_ = plt.plot(c,d)\n",
    "plt.show()"
   ]
  },
  {
   "cell_type": "code",
   "execution_count": 63,
   "metadata": {},
   "outputs": [],
   "source": [
    "c, d = np.polyfit(aac5['age_of_outcome'], aac5['shelter_length'], 1)"
   ]
  },
  {
   "cell_type": "code",
   "execution_count": 64,
   "metadata": {},
   "outputs": [
    {
     "name": "stdout",
     "output_type": "stream",
     "text": [
      "0.05175131165394166\n"
     ]
    }
   ],
   "source": [
    "print(c)"
   ]
  },
  {
   "cell_type": "code",
   "execution_count": 66,
   "metadata": {},
   "outputs": [
    {
     "name": "stdout",
     "output_type": "stream",
     "text": [
      "1.3800492012455772\n"
     ]
    }
   ],
   "source": [
    "print(d)"
   ]
  },
  {
   "cell_type": "code",
   "execution_count": 67,
   "metadata": {},
   "outputs": [],
   "source": [
    "#calculating the mean and SD of shelter length for adoptions\n",
    "shelter_mean = np.mean(aac6['shelter_length'])\n",
    "shelter_std = np.std(aac6['shelter_length'])"
   ]
  },
  {
   "cell_type": "code",
   "execution_count": 68,
   "metadata": {},
   "outputs": [],
   "source": [
    "#one thing we could test is the rate of adoptions against euthanizations\n",
    "#I could perform a sample of a binomial distribution and use the probablity \n",
    "#of getting adopted against the number of total animals\n",
    "total_adopt = len(aac6)\n",
    "total_euth = len(aac5)\n",
    "prob_adopt = len(aac6)/ (len(aac6) + len(aac5))"
   ]
  },
  {
   "cell_type": "code",
   "execution_count": 69,
   "metadata": {},
   "outputs": [
    {
     "name": "stdout",
     "output_type": "stream",
     "text": [
      "0.9319807988406847\n"
     ]
    }
   ],
   "source": [
    "print(prob_adopt)"
   ]
  },
  {
   "cell_type": "code",
   "execution_count": 70,
   "metadata": {},
   "outputs": [],
   "source": [
    "n_adopt = np.random.binomial(100, prob_adopt, size=10000)"
   ]
  },
  {
   "cell_type": "code",
   "execution_count": 71,
   "metadata": {},
   "outputs": [
    {
     "data": {
      "image/png": "[encoded data removed]",
      "text/plain": [
       "<Figure size 432x288 with 1 Axes>"
      ]
     },
     "metadata": {
      "needs_background": "light"
     },
     "output_type": "display_data"
    }
   ],
   "source": [
    "_ = plt.hist(n_adopt)"
   ]
  },
  {
   "cell_type": "code",
   "execution_count": 72,
   "metadata": {},
   "outputs": [],
   "source": [
    "#need to computer ECDF of above binomial distribution\n",
    "def ecdf(data):\n",
    "    n = len(data)\n",
    "    x = np.sort(data)\n",
    "    y = np.arange(1, n+1) / n\n",
    "    return x, y"
   ]
  },
  {
   "cell_type": "code",
   "execution_count": 73,
   "metadata": {},
   "outputs": [],
   "source": [
    "x, y = ecdf(n_adopt)"
   ]
  },
  {
   "cell_type": "code",
   "execution_count": 74,
   "metadata": {},
   "outputs": [
    {
     "data": {
      "image/png": "[encoded data removed]",
      "text/plain": [
       "<Figure size 432x288 with 1 Axes>"
      ]
     },
     "metadata": {
      "needs_background": "light"
     },
     "output_type": "display_data"
    }
   ],
   "source": [
    "_ = plt.hist(aac6['shelter_length'], bins=100)\n",
    "_ = plt.xlim(0.00, 50)"
   ]
  },
  {
   "cell_type": "code",
   "execution_count": 75,
   "metadata": {},
   "outputs": [
    {
     "data": {
      "image/png": "[encoded data removed]",
      "text/plain": [
       "<Figure size 432x288 with 1 Axes>"
      ]
     },
     "metadata": {
      "needs_background": "light"
     },
     "output_type": "display_data"
    }
   ],
   "source": [
    "_ = plt.plot(x, y, marker='.', linestyle='none')\n",
    "_ = plt.xlabel('Number of adoptions out of 100')\n",
    "_ = plt.ylabel('CDF')\n",
    "plt.show()"
   ]
  },
  {
   "cell_type": "code",
   "execution_count": 76,
   "metadata": {},
   "outputs": [],
   "source": [
    "bins = np.arange(60, max(n_adopt) + 1.5) - 0.5"
   ]
  },
  {
   "cell_type": "code",
   "execution_count": 77,
   "metadata": {},
   "outputs": [
    {
     "name": "stderr",
     "output_type": "stream",
     "text": [
      "C:\\Users\\lacey\\Anaconda3\\lib\\site-packages\\ipykernel_launcher.py:1: MatplotlibDeprecationWarning: \n",
      "The 'normed' kwarg was deprecated in Matplotlib 2.1 and will be removed in 3.1. Use 'density' instead.\n",
      "  \"\"\"Entry point for launching an IPython kernel.\n"
     ]
    },
    {
     "data": {
      "image/png": "[encoded data removed]",
      "text/plain": [
       "<Figure size 432x288 with 1 Axes>"
      ]
     },
     "metadata": {
      "needs_background": "light"
     },
     "output_type": "display_data"
    }
   ],
   "source": [
    "_ = plt.hist(n_adopt, normed=True, bins=bins)\n",
    "_ = plt.xlabel('Number of adoptions')\n",
    "_ = plt.ylabel('PMF')\n",
    "plt.show()"
   ]
  },
  {
   "cell_type": "code",
   "execution_count": 78,
   "metadata": {},
   "outputs": [
    {
     "name": "stdout",
     "output_type": "stream",
     "text": [
      "2.9929\n"
     ]
    }
   ],
   "source": [
    "#poisson distribution of shelter adoptions\n",
    "shelter_pois = np.random.poisson(shelter_mean, size=10000)\n",
    "pois_mean = np.mean(shelter_pois)\n",
    "print(pois_mean)\n",
    "#this implies that the mean shelter length is around 3 years"
   ]
  },
  {
   "cell_type": "code",
   "execution_count": 79,
   "metadata": {},
   "outputs": [
    {
     "name": "stdout",
     "output_type": "stream",
     "text": [
      "0.6495\n"
     ]
    }
   ],
   "source": [
    "pois_min = np.sum(shelter_pois <= 3)\n",
    "pois_perc = pois_min/ 10000\n",
    "print(pois_perc)\n",
    "#we see that 64 percent of animals are adopted betweeen 0-3 years from this distribution"
   ]
  },
  {
   "cell_type": "code",
   "execution_count": 80,
   "metadata": {},
   "outputs": [],
   "source": [
    "adopt_mean = np.mean(aac6['age_of_outcome'])"
   ]
  },
  {
   "cell_type": "code",
   "execution_count": 81,
   "metadata": {},
   "outputs": [
    {
     "name": "stdout",
     "output_type": "stream",
     "text": [
      "1.8439\n"
     ]
    }
   ],
   "source": [
    "#poisson distribution of age of adoptions\n",
    "adopt_pois = np.random.poisson(adopt_mean, size=10000)\n",
    "pois_adopt_mean = np.mean(adopt_pois)\n",
    "print(pois_adopt_mean)\n",
    "#this implies that the mean age of adoption is less than two"
   ]
  },
  {
   "cell_type": "code",
   "execution_count": 82,
   "metadata": {},
   "outputs": [
    {
     "name": "stdout",
     "output_type": "stream",
     "text": [
      "0.7136\n"
     ]
    }
   ],
   "source": [
    "adopt_min = np.sum(adopt_pois <=2)\n",
    "adopt_perc = adopt_min/10000\n",
    "print(adopt_perc)\n",
    "#based on our distribution 72 percent of dogs adopted are 2 or less"
   ]
  },
  {
   "cell_type": "code",
   "execution_count": 83,
   "metadata": {},
   "outputs": [
    {
     "data": {
      "text/html": [
       "<div>\n",
       "<style scoped>\n",
       "    .dataframe tbody tr th:only-of-type {\n",
       "        vertical-align: middle;\n",
       "    }\n",
       "\n",
       "    .dataframe tbody tr th {\n",
       "        vertical-align: top;\n",
       "    }\n",
       "\n",
       "    .dataframe thead th {\n",
       "        text-align: right;\n",
       "    }\n",
       "</style>\n",
       "<table border=\"1\" class=\"dataframe\">\n",
       "  <thead>\n",
       "    <tr style=\"text-align: right;\">\n",
       "      <th></th>\n",
       "      <th>date_of_birth</th>\n",
       "      <th>outcome_datetime</th>\n",
       "      <th>animal_type</th>\n",
       "      <th>breed</th>\n",
       "      <th>intake_datetime</th>\n",
       "      <th>shelter_length</th>\n",
       "      <th>age_of_outcome</th>\n",
       "      <th>age_category</th>\n",
       "      <th>shelter_bin</th>\n",
       "    </tr>\n",
       "    <tr>\n",
       "      <th>outcome_type</th>\n",
       "      <th></th>\n",
       "      <th></th>\n",
       "      <th></th>\n",
       "      <th></th>\n",
       "      <th></th>\n",
       "      <th></th>\n",
       "      <th></th>\n",
       "      <th></th>\n",
       "      <th></th>\n",
       "    </tr>\n",
       "  </thead>\n",
       "  <tbody>\n",
       "    <tr>\n",
       "      <th>Euthanasia</th>\n",
       "      <td>1994-01-25</td>\n",
       "      <td>2014-09-17 11:18:00</td>\n",
       "      <td>Cat</td>\n",
       "      <td>Domestic Shorthair Mix</td>\n",
       "      <td>2014-01-25 13:53:00</td>\n",
       "      <td>33.0</td>\n",
       "      <td>20.0</td>\n",
       "      <td>(11.0, 23.0]</td>\n",
       "      <td>NaN</td>\n",
       "    </tr>\n",
       "    <tr>\n",
       "      <th>Euthanasia</th>\n",
       "      <td>1994-11-21</td>\n",
       "      <td>2014-11-25 16:04:00</td>\n",
       "      <td>Cat</td>\n",
       "      <td>Domestic Shorthair Mix</td>\n",
       "      <td>2014-11-21 12:30:00</td>\n",
       "      <td>0.0</td>\n",
       "      <td>20.0</td>\n",
       "      <td>(11.0, 23.0]</td>\n",
       "      <td>(-1.0, 1.0]</td>\n",
       "    </tr>\n",
       "    <tr>\n",
       "      <th>Euthanasia</th>\n",
       "      <td>1997-06-11</td>\n",
       "      <td>2017-06-12 11:04:00</td>\n",
       "      <td>Cat</td>\n",
       "      <td>Domestic Shorthair Mix</td>\n",
       "      <td>2017-06-11 11:16:00</td>\n",
       "      <td>0.0</td>\n",
       "      <td>20.0</td>\n",
       "      <td>(11.0, 23.0]</td>\n",
       "      <td>(-1.0, 1.0]</td>\n",
       "    </tr>\n",
       "    <tr>\n",
       "      <th>Euthanasia</th>\n",
       "      <td>1994-10-11</td>\n",
       "      <td>2014-10-11 17:58:00</td>\n",
       "      <td>Cat</td>\n",
       "      <td>Domestic Medium Hair Mix</td>\n",
       "      <td>2014-10-11 17:26:00</td>\n",
       "      <td>0.0</td>\n",
       "      <td>20.0</td>\n",
       "      <td>(11.0, 23.0]</td>\n",
       "      <td>(-1.0, 1.0]</td>\n",
       "    </tr>\n",
       "    <tr>\n",
       "      <th>Euthanasia</th>\n",
       "      <td>1995-03-06</td>\n",
       "      <td>2017-03-06 17:09:00</td>\n",
       "      <td>Cat</td>\n",
       "      <td>Domestic Shorthair Mix</td>\n",
       "      <td>2017-03-06 16:31:00</td>\n",
       "      <td>0.0</td>\n",
       "      <td>22.0</td>\n",
       "      <td>(11.0, 23.0]</td>\n",
       "      <td>(-1.0, 1.0]</td>\n",
       "    </tr>\n",
       "  </tbody>\n",
       "</table>\n",
       "</div>"
      ],
      "text/plain": [
       "             date_of_birth    outcome_datetime animal_type  \\\n",
       "outcome_type                                                 \n",
       "Euthanasia      1994-01-25 2014-09-17 11:18:00         Cat   \n",
       "Euthanasia      1994-11-21 2014-11-25 16:04:00         Cat   \n",
       "Euthanasia      1997-06-11 2017-06-12 11:04:00         Cat   \n",
       "Euthanasia      1994-10-11 2014-10-11 17:58:00         Cat   \n",
       "Euthanasia      1995-03-06 2017-03-06 17:09:00         Cat   \n",
       "\n",
       "                                 breed     intake_datetime  shelter_length  \\\n",
       "outcome_type                                                                 \n",
       "Euthanasia      Domestic Shorthair Mix 2014-01-25 13:53:00            33.0   \n",
       "Euthanasia      Domestic Shorthair Mix 2014-11-21 12:30:00             0.0   \n",
       "Euthanasia      Domestic Shorthair Mix 2017-06-11 11:16:00             0.0   \n",
       "Euthanasia    Domestic Medium Hair Mix 2014-10-11 17:26:00             0.0   \n",
       "Euthanasia      Domestic Shorthair Mix 2017-03-06 16:31:00             0.0   \n",
       "\n",
       "              age_of_outcome  age_category  shelter_bin  \n",
       "outcome_type                                             \n",
       "Euthanasia              20.0  (11.0, 23.0]          NaN  \n",
       "Euthanasia              20.0  (11.0, 23.0]  (-1.0, 1.0]  \n",
       "Euthanasia              20.0  (11.0, 23.0]  (-1.0, 1.0]  \n",
       "Euthanasia              20.0  (11.0, 23.0]  (-1.0, 1.0]  \n",
       "Euthanasia              22.0  (11.0, 23.0]  (-1.0, 1.0]  "
      ]
     },
     "execution_count": 83,
     "metadata": {},
     "output_type": "execute_result"
    }
   ],
   "source": [
    "# want to look at subsets of breeds next such as percentage of specific breed adopted vs euthanized\n",
    "#this will be helpful to identify significance with breeds\n",
    "aac_pit = aac.set_index(['outcome_type']).loc[['Adoption', 'Euthanasia']]\n",
    "aac_pit.tail()"
   ]
  },
  {
   "cell_type": "code",
   "execution_count": 84,
   "metadata": {},
   "outputs": [
    {
     "data": {
      "text/html": [
       "<div>\n",
       "<style scoped>\n",
       "    .dataframe tbody tr th:only-of-type {\n",
       "        vertical-align: middle;\n",
       "    }\n",
       "\n",
       "    .dataframe tbody tr th {\n",
       "        vertical-align: top;\n",
       "    }\n",
       "\n",
       "    .dataframe thead th {\n",
       "        text-align: right;\n",
       "    }\n",
       "</style>\n",
       "<table border=\"1\" class=\"dataframe\">\n",
       "  <thead>\n",
       "    <tr style=\"text-align: right;\">\n",
       "      <th></th>\n",
       "      <th>outcome_type</th>\n",
       "      <th>date_of_birth</th>\n",
       "      <th>outcome_datetime</th>\n",
       "      <th>animal_type</th>\n",
       "      <th>intake_datetime</th>\n",
       "      <th>shelter_length</th>\n",
       "      <th>age_of_outcome</th>\n",
       "      <th>age_category</th>\n",
       "      <th>shelter_bin</th>\n",
       "    </tr>\n",
       "    <tr>\n",
       "      <th>breed</th>\n",
       "      <th></th>\n",
       "      <th></th>\n",
       "      <th></th>\n",
       "      <th></th>\n",
       "      <th></th>\n",
       "      <th></th>\n",
       "      <th></th>\n",
       "      <th></th>\n",
       "      <th></th>\n",
       "    </tr>\n",
       "  </thead>\n",
       "  <tbody>\n",
       "    <tr>\n",
       "      <th>Pit Bull Mix</th>\n",
       "      <td>Adoption</td>\n",
       "      <td>2017-01-28</td>\n",
       "      <td>2017-04-09 17:20:00</td>\n",
       "      <td>Dog</td>\n",
       "      <td>2017-04-04 11:59:00</td>\n",
       "      <td>0.0</td>\n",
       "      <td>0.0</td>\n",
       "      <td>(-1.0, 1.0]</td>\n",
       "      <td>(-1.0, 1.0]</td>\n",
       "    </tr>\n",
       "    <tr>\n",
       "      <th>Pit Bull Mix</th>\n",
       "      <td>Adoption</td>\n",
       "      <td>2017-06-14</td>\n",
       "      <td>2018-03-17 15:27:00</td>\n",
       "      <td>Dog</td>\n",
       "      <td>2018-02-14 15:45:00</td>\n",
       "      <td>4.0</td>\n",
       "      <td>0.0</td>\n",
       "      <td>(-1.0, 1.0]</td>\n",
       "      <td>(3.0, 5.0]</td>\n",
       "    </tr>\n",
       "    <tr>\n",
       "      <th>Pit Bull Mix</th>\n",
       "      <td>Adoption</td>\n",
       "      <td>2014-10-13</td>\n",
       "      <td>2015-06-28 18:26:00</td>\n",
       "      <td>Dog</td>\n",
       "      <td>2015-06-13 13:45:00</td>\n",
       "      <td>2.0</td>\n",
       "      <td>0.0</td>\n",
       "      <td>(-1.0, 1.0]</td>\n",
       "      <td>(1.0, 2.0]</td>\n",
       "    </tr>\n",
       "    <tr>\n",
       "      <th>Pit Bull Mix</th>\n",
       "      <td>Adoption</td>\n",
       "      <td>2016-05-06</td>\n",
       "      <td>2017-04-08 17:14:00</td>\n",
       "      <td>Dog</td>\n",
       "      <td>2017-04-04 15:44:00</td>\n",
       "      <td>0.0</td>\n",
       "      <td>0.0</td>\n",
       "      <td>(-1.0, 1.0]</td>\n",
       "      <td>(-1.0, 1.0]</td>\n",
       "    </tr>\n",
       "    <tr>\n",
       "      <th>Pit Bull Mix</th>\n",
       "      <td>Adoption</td>\n",
       "      <td>2017-06-14</td>\n",
       "      <td>2018-02-23 14:32:00</td>\n",
       "      <td>Dog</td>\n",
       "      <td>2018-02-14 18:56:00</td>\n",
       "      <td>1.0</td>\n",
       "      <td>0.0</td>\n",
       "      <td>(-1.0, 1.0]</td>\n",
       "      <td>(-1.0, 1.0]</td>\n",
       "    </tr>\n",
       "  </tbody>\n",
       "</table>\n",
       "</div>"
      ],
      "text/plain": [
       "             outcome_type date_of_birth    outcome_datetime animal_type  \\\n",
       "breed                                                                     \n",
       "Pit Bull Mix     Adoption    2017-01-28 2017-04-09 17:20:00         Dog   \n",
       "Pit Bull Mix     Adoption    2017-06-14 2018-03-17 15:27:00         Dog   \n",
       "Pit Bull Mix     Adoption    2014-10-13 2015-06-28 18:26:00         Dog   \n",
       "Pit Bull Mix     Adoption    2016-05-06 2017-04-08 17:14:00         Dog   \n",
       "Pit Bull Mix     Adoption    2017-06-14 2018-02-23 14:32:00         Dog   \n",
       "\n",
       "                 intake_datetime  shelter_length  age_of_outcome age_category  \\\n",
       "breed                                                                           \n",
       "Pit Bull Mix 2017-04-04 11:59:00             0.0             0.0  (-1.0, 1.0]   \n",
       "Pit Bull Mix 2018-02-14 15:45:00             4.0             0.0  (-1.0, 1.0]   \n",
       "Pit Bull Mix 2015-06-13 13:45:00             2.0             0.0  (-1.0, 1.0]   \n",
       "Pit Bull Mix 2017-04-04 15:44:00             0.0             0.0  (-1.0, 1.0]   \n",
       "Pit Bull Mix 2018-02-14 18:56:00             1.0             0.0  (-1.0, 1.0]   \n",
       "\n",
       "              shelter_bin  \n",
       "breed                      \n",
       "Pit Bull Mix  (-1.0, 1.0]  \n",
       "Pit Bull Mix   (3.0, 5.0]  \n",
       "Pit Bull Mix   (1.0, 2.0]  \n",
       "Pit Bull Mix  (-1.0, 1.0]  \n",
       "Pit Bull Mix  (-1.0, 1.0]  "
      ]
     },
     "execution_count": 84,
     "metadata": {},
     "output_type": "execute_result"
    }
   ],
   "source": [
    "#since pitbulls are the top adopted as well as euthanized breeds, I wanted to run a simulation on these stats to see what the distributions look liked\n",
    "aac_pit = aac_pit.reset_index().set_index(['breed']).loc['Pit Bull Mix']\n",
    "aac_pit.head()"
   ]
  },
  {
   "cell_type": "code",
   "execution_count": 85,
   "metadata": {},
   "outputs": [
    {
     "name": "stdout",
     "output_type": "stream",
     "text": [
      "427\n"
     ]
    }
   ],
   "source": [
    "#I have a dataframe set-up of all euthanized and adopted pit bulls so that I can run some comparisons\n",
    "aac_pit.reset_index()\n",
    "total_pit_euth = len(aac_pit[aac_pit.outcome_type != 'Adoption'])\n",
    "print(total_pit_euth)"
   ]
  },
  {
   "cell_type": "code",
   "execution_count": 86,
   "metadata": {},
   "outputs": [
    {
     "name": "stdout",
     "output_type": "stream",
     "text": [
      "2751\n"
     ]
    }
   ],
   "source": [
    "total_pit = len(aac_pit)\n",
    "print(total_pit)"
   ]
  },
  {
   "cell_type": "code",
   "execution_count": 87,
   "metadata": {},
   "outputs": [
    {
     "name": "stdout",
     "output_type": "stream",
     "text": [
      "2324\n"
     ]
    }
   ],
   "source": [
    "total_pit_adopt = len(aac_pit[aac_pit.outcome_type != 'Euthanasia'])\n",
    "print(total_pit_adopt)"
   ]
  },
  {
   "cell_type": "code",
   "execution_count": 88,
   "metadata": {},
   "outputs": [
    {
     "name": "stdout",
     "output_type": "stream",
     "text": [
      "0.8447837150127226\n"
     ]
    }
   ],
   "source": [
    "#prob of pit getting adopted\n",
    "pit_prob = total_pit_adopt/ total_pit\n",
    "print(pit_prob)"
   ]
  },
  {
   "cell_type": "code",
   "execution_count": 89,
   "metadata": {},
   "outputs": [],
   "source": [
    "n_pit = np.random.binomial(100, pit_prob, size=10000)"
   ]
  },
  {
   "cell_type": "code",
   "execution_count": 90,
   "metadata": {},
   "outputs": [
    {
     "data": {
      "image/png": "[encoded data removed]",
      "text/plain": [
       "<Figure size 432x288 with 1 Axes>"
      ]
     },
     "metadata": {
      "needs_background": "light"
     },
     "output_type": "display_data"
    }
   ],
   "source": [
    "_ = plt.hist(n_pit)"
   ]
  },
  {
   "cell_type": "code",
   "execution_count": 91,
   "metadata": {},
   "outputs": [],
   "source": [
    "x, y = ecdf(n_pit)"
   ]
  },
  {
   "cell_type": "code",
   "execution_count": 92,
   "metadata": {},
   "outputs": [
    {
     "data": {
      "image/png": "[encoded data removed]",
      "text/plain": [
       "<Figure size 432x288 with 1 Axes>"
      ]
     },
     "metadata": {
      "needs_background": "light"
     },
     "output_type": "display_data"
    }
   ],
   "source": [
    "_ = plt.plot(x, y, marker='.', linestyle='none')\n",
    "_ = plt.xlabel('Number of Pit Bull Mix adoptions out of 100')\n",
    "_ = plt.ylabel('CDF')\n",
    "plt.show()"
   ]
  },
  {
   "cell_type": "code",
   "execution_count": 93,
   "metadata": {},
   "outputs": [],
   "source": [
    "pit_euth = aac_pit[aac_pit.outcome_type != 'Adoption']\n",
    "pit_euth_mean = np.mean(pit_euth['age_of_outcome'])"
   ]
  },
  {
   "cell_type": "code",
   "execution_count": 94,
   "metadata": {},
   "outputs": [
    {
     "name": "stdout",
     "output_type": "stream",
     "text": [
      "3.045\n"
     ]
    }
   ],
   "source": [
    "pit_euth_pois = np.random.poisson(pit_euth_mean, size=10000)\n",
    "pois_pit_mean = np.mean(pit_euth_pois)\n",
    "print(pois_pit_mean)\n",
    "#this implies the mean age of euthanasia is about 3 which is surprising low"
   ]
  },
  {
   "cell_type": "code",
   "execution_count": 95,
   "metadata": {},
   "outputs": [
    {
     "name": "stdout",
     "output_type": "stream",
     "text": [
      "0.6314\n"
     ]
    }
   ],
   "source": [
    "pit_min = np.sum(pit_euth_pois <=3)\n",
    "pit_euth_perc = pit_min/10000\n",
    "print(pit_euth_perc)\n",
    "#this suggest that 64% of euthanized pit bulls are 3 and younger, which is really high"
   ]
  },
  {
   "cell_type": "code",
   "execution_count": 96,
   "metadata": {},
   "outputs": [],
   "source": [
    "#poisson of pits being adopted\n",
    "pit_adopt = aac_pit[aac_pit.outcome_type != 'Euthanasia']\n",
    "pit_adopt_mean = np.mean(pit_adopt['age_of_outcome'])"
   ]
  },
  {
   "cell_type": "code",
   "execution_count": 97,
   "metadata": {},
   "outputs": [
    {
     "name": "stdout",
     "output_type": "stream",
     "text": [
      "1.7399\n"
     ]
    }
   ],
   "source": [
    "pit_adopt_pois = np.random.poisson(pit_adopt_mean, size=10000)\n",
    "pois_adopt_mean = np.mean(pit_adopt_pois)\n",
    "print(pois_adopt_mean)\n",
    "#the mean age of adoption is 2 per the distribution"
   ]
  },
  {
   "cell_type": "code",
   "execution_count": 98,
   "metadata": {},
   "outputs": [
    {
     "name": "stdout",
     "output_type": "stream",
     "text": [
      "0.7497\n"
     ]
    }
   ],
   "source": [
    "pit_min_adopt = np.sum(pit_adopt_pois <=2)\n",
    "pit_adopt_perc = pit_min_adopt/10000\n",
    "print(pit_adopt_perc)\n",
    "#distribution applies that 76% of adoptees are 2 and below"
   ]
  },
  {
   "cell_type": "code",
   "execution_count": 99,
   "metadata": {},
   "outputs": [],
   "source": [
    "#want to do poisson distribution for labs as they were the most adopted breed\n"
   ]
  },
  {
   "cell_type": "code",
   "execution_count": 100,
   "metadata": {},
   "outputs": [
    {
     "data": {
      "text/html": [
       "<div>\n",
       "<style scoped>\n",
       "    .dataframe tbody tr th:only-of-type {\n",
       "        vertical-align: middle;\n",
       "    }\n",
       "\n",
       "    .dataframe tbody tr th {\n",
       "        vertical-align: top;\n",
       "    }\n",
       "\n",
       "    .dataframe thead th {\n",
       "        text-align: right;\n",
       "    }\n",
       "</style>\n",
       "<table border=\"1\" class=\"dataframe\">\n",
       "  <thead>\n",
       "    <tr style=\"text-align: right;\">\n",
       "      <th></th>\n",
       "      <th>date_of_birth</th>\n",
       "      <th>outcome_datetime</th>\n",
       "      <th>breed</th>\n",
       "      <th>intake_datetime</th>\n",
       "      <th>shelter_length</th>\n",
       "      <th>age_of_outcome</th>\n",
       "      <th>age_category</th>\n",
       "      <th>shelter_bin</th>\n",
       "    </tr>\n",
       "    <tr>\n",
       "      <th>animal_type</th>\n",
       "      <th></th>\n",
       "      <th></th>\n",
       "      <th></th>\n",
       "      <th></th>\n",
       "      <th></th>\n",
       "      <th></th>\n",
       "      <th></th>\n",
       "      <th></th>\n",
       "    </tr>\n",
       "  </thead>\n",
       "  <tbody>\n",
       "    <tr>\n",
       "      <th>Dog</th>\n",
       "      <td>2015-02-05</td>\n",
       "      <td>2015-06-24 18:52:00</td>\n",
       "      <td>Labrador Retriever Mix</td>\n",
       "      <td>2015-06-20 11:28:00</td>\n",
       "      <td>0.0</td>\n",
       "      <td>0.0</td>\n",
       "      <td>(-1.0, 1.0]</td>\n",
       "      <td>(-1.0, 1.0]</td>\n",
       "    </tr>\n",
       "    <tr>\n",
       "      <th>Dog</th>\n",
       "      <td>2015-02-19</td>\n",
       "      <td>2015-06-23 18:06:00</td>\n",
       "      <td>Labrador Retriever Mix</td>\n",
       "      <td>2015-06-19 13:02:00</td>\n",
       "      <td>0.0</td>\n",
       "      <td>0.0</td>\n",
       "      <td>(-1.0, 1.0]</td>\n",
       "      <td>(-1.0, 1.0]</td>\n",
       "    </tr>\n",
       "    <tr>\n",
       "      <th>Dog</th>\n",
       "      <td>2015-04-05</td>\n",
       "      <td>2015-06-24 17:00:00</td>\n",
       "      <td>Labrador Retriever Mix</td>\n",
       "      <td>2015-06-20 11:28:00</td>\n",
       "      <td>0.0</td>\n",
       "      <td>0.0</td>\n",
       "      <td>(-1.0, 1.0]</td>\n",
       "      <td>(-1.0, 1.0]</td>\n",
       "    </tr>\n",
       "    <tr>\n",
       "      <th>Dog</th>\n",
       "      <td>2014-12-23</td>\n",
       "      <td>2015-07-24 17:35:00</td>\n",
       "      <td>Labrador Retriever Mix</td>\n",
       "      <td>2015-06-23 00:45:00</td>\n",
       "      <td>4.0</td>\n",
       "      <td>0.0</td>\n",
       "      <td>(-1.0, 1.0]</td>\n",
       "      <td>(3.0, 5.0]</td>\n",
       "    </tr>\n",
       "    <tr>\n",
       "      <th>Dog</th>\n",
       "      <td>2014-12-21</td>\n",
       "      <td>2015-07-06 18:11:00</td>\n",
       "      <td>Labrador Retriever Mix</td>\n",
       "      <td>2015-06-21 16:19:00</td>\n",
       "      <td>2.0</td>\n",
       "      <td>0.0</td>\n",
       "      <td>(-1.0, 1.0]</td>\n",
       "      <td>(1.0, 2.0]</td>\n",
       "    </tr>\n",
       "  </tbody>\n",
       "</table>\n",
       "</div>"
      ],
      "text/plain": [
       "            date_of_birth    outcome_datetime                   breed  \\\n",
       "animal_type                                                             \n",
       "Dog            2015-02-05 2015-06-24 18:52:00  Labrador Retriever Mix   \n",
       "Dog            2015-02-19 2015-06-23 18:06:00  Labrador Retriever Mix   \n",
       "Dog            2015-04-05 2015-06-24 17:00:00  Labrador Retriever Mix   \n",
       "Dog            2014-12-23 2015-07-24 17:35:00  Labrador Retriever Mix   \n",
       "Dog            2014-12-21 2015-07-06 18:11:00  Labrador Retriever Mix   \n",
       "\n",
       "                intake_datetime  shelter_length  age_of_outcome age_category  \\\n",
       "animal_type                                                                    \n",
       "Dog         2015-06-20 11:28:00             0.0             0.0  (-1.0, 1.0]   \n",
       "Dog         2015-06-19 13:02:00             0.0             0.0  (-1.0, 1.0]   \n",
       "Dog         2015-06-20 11:28:00             0.0             0.0  (-1.0, 1.0]   \n",
       "Dog         2015-06-23 00:45:00             4.0             0.0  (-1.0, 1.0]   \n",
       "Dog         2015-06-21 16:19:00             2.0             0.0  (-1.0, 1.0]   \n",
       "\n",
       "             shelter_bin  \n",
       "animal_type               \n",
       "Dog          (-1.0, 1.0]  \n",
       "Dog          (-1.0, 1.0]  \n",
       "Dog          (-1.0, 1.0]  \n",
       "Dog           (3.0, 5.0]  \n",
       "Dog           (1.0, 2.0]  "
      ]
     },
     "execution_count": 100,
     "metadata": {},
     "output_type": "execute_result"
    }
   ],
   "source": [
    "lab_adopted = aac6[aac6.breed == 'Labrador Retriever Mix']\n",
    "lab_adopted.head()"
   ]
  },
  {
   "cell_type": "code",
   "execution_count": 101,
   "metadata": {},
   "outputs": [],
   "source": [
    "lab_mean = np.mean(lab_adopted['age_of_outcome'])"
   ]
  },
  {
   "cell_type": "code",
   "execution_count": 102,
   "metadata": {},
   "outputs": [
    {
     "name": "stdout",
     "output_type": "stream",
     "text": [
      "1.3582\n"
     ]
    }
   ],
   "source": [
    "lab_adopt_pois = np.random.poisson(lab_mean, size=10000)\n",
    "lab_adopt_mean = np.mean(lab_adopt_pois)\n",
    "print(lab_adopt_mean)\n",
    "#mean age of adoption for labs is 1.5 "
   ]
  },
  {
   "cell_type": "code",
   "execution_count": 103,
   "metadata": {},
   "outputs": [
    {
     "name": "stdout",
     "output_type": "stream",
     "text": [
      "0.8406\n"
     ]
    }
   ],
   "source": [
    "lab_min_adopt = np.sum(lab_adopt_pois <=2)\n",
    "lab_adopt_perc = lab_min_adopt/10000\n",
    "print(lab_adopt_perc)\n",
    "#this shows that 83% of labs are adopted 2 and below"
   ]
  },
  {
   "cell_type": "code",
   "execution_count": 104,
   "metadata": {},
   "outputs": [
    {
     "name": "stdout",
     "output_type": "stream",
     "text": [
      "2368\n"
     ]
    }
   ],
   "source": [
    "lab_adopted = len(aac6[aac6.breed == 'Labrador Retriever Mix'])\n",
    "print(lab_adopted)"
   ]
  },
  {
   "cell_type": "code",
   "execution_count": 105,
   "metadata": {},
   "outputs": [
    {
     "name": "stdout",
     "output_type": "stream",
     "text": [
      "20580\n"
     ]
    }
   ],
   "source": [
    "total_adopt = len(aac6)\n",
    "print(total_adopt)"
   ]
  },
  {
   "cell_type": "code",
   "execution_count": 106,
   "metadata": {},
   "outputs": [
    {
     "name": "stdout",
     "output_type": "stream",
     "text": [
      "0.11506316812439261\n"
     ]
    }
   ],
   "source": [
    "#wanted to see total amount of dogs adopted that were labs and run distribution on them\n",
    "lab_prob = lab_adopted/ total_adopt\n",
    "print(lab_prob)"
   ]
  },
  {
   "cell_type": "code",
   "execution_count": 107,
   "metadata": {},
   "outputs": [],
   "source": [
    "n_lab = np.random.binomial(100, lab_prob, size=10000)"
   ]
  },
  {
   "cell_type": "code",
   "execution_count": 108,
   "metadata": {},
   "outputs": [
    {
     "data": {
      "image/png": "[encoded data removed]",
      "text/plain": [
       "<Figure size 432x288 with 1 Axes>"
      ]
     },
     "metadata": {
      "needs_background": "light"
     },
     "output_type": "display_data"
    }
   ],
   "source": [
    "_ = plt.hist(n_lab)"
   ]
  },
  {
   "cell_type": "code",
   "execution_count": 109,
   "metadata": {},
   "outputs": [],
   "source": [
    "x, y = ecdf(n_lab)"
   ]
  },
  {
   "cell_type": "code",
   "execution_count": 110,
   "metadata": {},
   "outputs": [
    {
     "data": {
      "image/png": "[encoded data removed]",
      "text/plain": [
       "<Figure size 432x288 with 1 Axes>"
      ]
     },
     "metadata": {
      "needs_background": "light"
     },
     "output_type": "display_data"
    }
   ],
   "source": [
    "_ = plt.plot(x, y, marker='.', linestyle='none')\n",
    "_ = plt.xlabel('Number of Lab Retriever adoptions out of 100')\n",
    "_ = plt.ylabel('CDF')\n",
    "plt.show()"
   ]
  },
  {
   "cell_type": "code",
   "execution_count": 111,
   "metadata": {},
   "outputs": [
    {
     "name": "stdout",
     "output_type": "stream",
     "text": [
      "4.872881355932203\n"
     ]
    }
   ],
   "source": [
    "lab_euth = aac5[aac5.breed == 'Labrador Retriever Mix']\n",
    "lab_euth_mean = np.mean(lab_euth['age_of_outcome'])\n",
    "print(lab_euth_mean)"
   ]
  },
  {
   "cell_type": "code",
   "execution_count": 112,
   "metadata": {},
   "outputs": [
    {
     "name": "stdout",
     "output_type": "stream",
     "text": [
      "118\n"
     ]
    }
   ],
   "source": [
    "lab_euth = len(aac5[aac5.breed == 'Labrador Retriever Mix'])\n",
    "print(lab_euth)"
   ]
  },
  {
   "cell_type": "code",
   "execution_count": 113,
   "metadata": {},
   "outputs": [
    {
     "name": "stdout",
     "output_type": "stream",
     "text": [
      "2486\n"
     ]
    }
   ],
   "source": [
    "total_lab = lab_euth + lab_adopted\n",
    "print(total_lab)"
   ]
  },
  {
   "cell_type": "code",
   "execution_count": 114,
   "metadata": {},
   "outputs": [
    {
     "name": "stdout",
     "output_type": "stream",
     "text": [
      "0.04746580852775543\n"
     ]
    }
   ],
   "source": [
    "lab_prob_euth = lab_euth/ total_lab\n",
    "print(lab_prob_euth)"
   ]
  },
  {
   "cell_type": "code",
   "execution_count": 115,
   "metadata": {},
   "outputs": [],
   "source": [
    "n_lab_euth = np.random.binomial(100, lab_prob_euth, size=10000)"
   ]
  },
  {
   "cell_type": "code",
   "execution_count": 116,
   "metadata": {},
   "outputs": [
    {
     "data": {
      "image/png": "[encoded data removed]",
      "text/plain": [
       "<Figure size 432x288 with 1 Axes>"
      ]
     },
     "metadata": {
      "needs_background": "light"
     },
     "output_type": "display_data"
    }
   ],
   "source": [
    "_ = plt.hist(n_lab_euth)"
   ]
  },
  {
   "cell_type": "code",
   "execution_count": 117,
   "metadata": {},
   "outputs": [],
   "source": [
    "x, y = ecdf(n_lab_euth)"
   ]
  },
  {
   "cell_type": "code",
   "execution_count": 118,
   "metadata": {},
   "outputs": [
    {
     "data": {
      "image/png": "[encoded data removed]",
      "text/plain": [
       "<Figure size 432x288 with 1 Axes>"
      ]
     },
     "metadata": {
      "needs_background": "light"
     },
     "output_type": "display_data"
    }
   ],
   "source": [
    "_ = plt.plot(x, y, marker='.', linestyle='none')\n",
    "_ = plt.xlabel('Number of Lab Retriever euthanized out of 100')\n",
    "_ = plt.ylabel('CDF')\n",
    "plt.show()"
   ]
  },
  {
   "cell_type": "code",
   "execution_count": 366,
   "metadata": {},
   "outputs": [
    {
     "data": {
      "image/png": "[encoded data removed]",
      "text/plain": [
       "<Figure size 432x288 with 1 Axes>"
      ]
     },
     "metadata": {
      "needs_background": "light"
     },
     "output_type": "display_data"
    }
   ],
   "source": [
    "plt.scatter(aac5.shelter_length, aac5.age_of_outcome)\n",
    "plt.title('Euthanasia')\n",
    "plt.show()"
   ]
  },
  {
   "cell_type": "code",
   "execution_count": 365,
   "metadata": {},
   "outputs": [
    {
     "data": {
      "image/png": "[encoded data removed]",
      "text/plain": [
       "<Figure size 432x288 with 1 Axes>"
      ]
     },
     "metadata": {
      "needs_background": "light"
     },
     "output_type": "display_data"
    }
   ],
   "source": [
    "plt.scatter(aac6.shelter_length, aac6.age_of_outcome)\n",
    "plt.title('Adoptions')\n",
    "plt.show()"
   ]
  },
  {
   "cell_type": "code",
   "execution_count": 144,
   "metadata": {},
   "outputs": [
    {
     "data": {
      "text/plain": [
       "dtype('float64')"
      ]
     },
     "execution_count": 144,
     "metadata": {},
     "output_type": "execute_result"
    }
   ],
   "source": [
    "aac5['age_of_outcome'].dtype"
   ]
  },
  {
   "cell_type": "code",
   "execution_count": 155,
   "metadata": {},
   "outputs": [
    {
     "data": {
      "text/plain": [
       "date_of_birth       datetime64[ns]\n",
       "outcome_datetime    datetime64[ns]\n",
       "breed                       object\n",
       "intake_datetime     datetime64[ns]\n",
       "shelter_length             float64\n",
       "age_of_outcome             float64\n",
       "age_category              category\n",
       "shelter_bin               category\n",
       "dtype: object"
      ]
     },
     "execution_count": 155,
     "metadata": {},
     "output_type": "execute_result"
    }
   ],
   "source": [
    "aac5.dtypes"
   ]
  },
  {
   "cell_type": "code",
   "execution_count": 170,
   "metadata": {},
   "outputs": [],
   "source": [
    "#Machine learning section - where I wanted to start out was performing a linear regression on data to predict shelter length\n",
    "#based on age and breed of animal. from there I can tweak the features and tune the paramaters\n",
    "from sklearn.linear_model import LinearRegression\n",
    "#target should be shelter length going to review dogs adopted first so aac6 is my dataset\n"
   ]
  },
  {
   "cell_type": "code",
   "execution_count": null,
   "metadata": {},
   "outputs": [],
   "source": []
  },
  {
   "cell_type": "code",
   "execution_count": 171,
   "metadata": {},
   "outputs": [],
   "source": [
    "#need to reshape data to model\n",
    "#y = y.reshape(-1, 1)\n",
    "#x_age = x_age.reshape(-1, 1)"
   ]
  },
  {
   "cell_type": "code",
   "execution_count": 186,
   "metadata": {},
   "outputs": [
    {
     "data": {
      "image/png": "[encoded data removed]",
      "text/plain": [
       "<Figure size 432x288 with 1 Axes>"
      ]
     },
     "metadata": {
      "needs_background": "light"
     },
     "output_type": "display_data"
    }
   ],
   "source": [
    "_ = plt.scatter(x, y)\n",
    "_ = plt.xlabel('Age of outcome years')\n",
    "_ = plt.ylabel('Shelter Length weeks')\n",
    "plt.show()"
   ]
  },
  {
   "cell_type": "code",
   "execution_count": 367,
   "metadata": {},
   "outputs": [],
   "source": [
    "##target should be shelter length going to review dogs adopted first so aac6 is my dataset\n",
    "#lets review one feature for this prediction, which will be age\n",
    "#need to reshape data to model\n",
    "x = aac6.age_of_outcome\n",
    "x= x.values.reshape(-1,1)\n",
    "y = aac6.shelter_length\n",
    "y= y.values.reshape(-1 ,1)"
   ]
  },
  {
   "cell_type": "code",
   "execution_count": 368,
   "metadata": {},
   "outputs": [
    {
     "data": {
      "text/plain": [
       "LinearRegression(copy_X=True, fit_intercept=True, n_jobs=None, normalize=False)"
      ]
     },
     "execution_count": 368,
     "metadata": {},
     "output_type": "execute_result"
    }
   ],
   "source": [
    "reg = LinearRegression()\n",
    "reg.fit(x, aac6.shelter_length)"
   ]
  },
  {
   "cell_type": "code",
   "execution_count": 369,
   "metadata": {},
   "outputs": [
    {
     "data": {
      "text/plain": [
       "0.045088523223034915"
      ]
     },
     "execution_count": 369,
     "metadata": {},
     "output_type": "execute_result"
    }
   ],
   "source": [
    "reg.score(x, aac6.shelter_length)"
   ]
  },
  {
   "cell_type": "code",
   "execution_count": 370,
   "metadata": {},
   "outputs": [
    {
     "data": {
      "image/png": "[encoded data removed]",
      "text/plain": [
       "<Figure size 432x288 with 1 Axes>"
      ]
     },
     "metadata": {
      "needs_background": "light"
     },
     "output_type": "display_data"
    }
   ],
   "source": [
    "reg.predict(x)\n",
    "_ = plt.hist(reg.predict(x))\n",
    "_ = plt.title('Predicted Shelter Length')\n",
    "_ = plt.xlabel('Shelter Length')\n",
    "_ = plt.ylabel('Frequency')\n",
    "plt.show()"
   ]
  },
  {
   "cell_type": "code",
   "execution_count": null,
   "metadata": {},
   "outputs": [],
   "source": []
  },
  {
   "cell_type": "code",
   "execution_count": 371,
   "metadata": {},
   "outputs": [
    {
     "data": {
      "text/plain": [
       "Text(0.5, 1.0, 'Original Vs Predicted Shelter Length')"
      ]
     },
     "execution_count": 371,
     "metadata": {},
     "output_type": "execute_result"
    },
    {
     "data": {
      "image/png": "[encoded data removed]",
      "text/plain": [
       "<Figure size 432x288 with 1 Axes>"
      ]
     },
     "metadata": {
      "needs_background": "light"
     },
     "output_type": "display_data"
    }
   ],
   "source": [
    "#want to compare the predicted shelter length verse the dataset\n",
    "plt.scatter(aac6.shelter_length, reg.predict(x))\n",
    "plt.xlabel(\"Original Shelter Length\")\n",
    "plt.ylabel(\"Predicted Shelter Length\")\n",
    "plt.title(\"Original Vs Predicted Shelter Length\")\n",
    "#based on the below scatter plot it doesn't seem like the model mirrored the dataset too well. Also, the spread of data for shelter \n",
    "#length may not be suited for this type of model. the model is predicting very low shelter lengths for the majority\n",
    "# such as 1 - 3 weeks. We can see in the data most of the adoptions are below 20 weeks but there is definitely more variety"
   ]
  },
  {
   "cell_type": "code",
   "execution_count": 372,
   "metadata": {},
   "outputs": [
    {
     "name": "stdout",
     "output_type": "stream",
     "text": [
      "Mean squared error: 61.73\n"
     ]
    }
   ],
   "source": [
    "# The mean squared error\n",
    "RSS = np.mean(((reg.predict(x)) - y) ** 2)\n",
    "print(\"Mean squared error: %.2f\" % np.mean(((reg.predict(x)) - y) ** 2))"
   ]
  },
  {
   "cell_type": "code",
   "execution_count": 373,
   "metadata": {},
   "outputs": [
    {
     "name": "stdout",
     "output_type": "stream",
     "text": [
      "54809.92611246892\n"
     ]
    }
   ],
   "source": [
    "#variance\n",
    "ESS = np.sum((reg.predict(x) - np.mean(y)) ** 2)\n",
    "print(np.sum((reg.predict(x) - np.mean(y)) ** 2))"
   ]
  },
  {
   "cell_type": "code",
   "execution_count": 374,
   "metadata": {},
   "outputs": [
    {
     "name": "stdout",
     "output_type": "stream",
     "text": [
      "0.9988749991768133\n"
     ]
    }
   ],
   "source": [
    "#r^2 calculation \n",
    "TSS = RSS + ESS\n",
    "r = ESS/ TSS\n",
    "print(r)"
   ]
  },
  {
   "cell_type": "code",
   "execution_count": 375,
   "metadata": {},
   "outputs": [
    {
     "data": {
      "text/plain": [
       "{'n_jobs': 0}"
      ]
     },
     "execution_count": 375,
     "metadata": {},
     "output_type": "execute_result"
    }
   ],
   "source": [
    "#let's try to tune the hyperparamaters of this model to see if this improves the model\n",
    "from sklearn.model_selection import GridSearchCV\n",
    "param_grid = {'n_jobs': (0,10)}\n",
    "LN = LinearRegression() \n",
    "LN_cv = GridSearchCV(LN, param_grid, cv=5) \n",
    "LN_cv.fit(x, y) \n",
    "LN_cv.best_params_"
   ]
  },
  {
   "cell_type": "code",
   "execution_count": 376,
   "metadata": {},
   "outputs": [
    {
     "data": {
      "text/plain": [
       "-0.01658202453526636"
      ]
     },
     "execution_count": 376,
     "metadata": {},
     "output_type": "execute_result"
    }
   ],
   "source": [
    "LN_cv.best_score_"
   ]
  },
  {
   "cell_type": "code",
   "execution_count": 379,
   "metadata": {},
   "outputs": [
    {
     "name": "stdout",
     "output_type": "stream",
     "text": [
      "                            OLS Regression Results                            \n",
      "==============================================================================\n",
      "Dep. Variable:         shelter_length   R-squared:                       0.045\n",
      "Model:                            OLS   Adj. R-squared:                  0.045\n",
      "Method:                 Least Squares   F-statistic:                     971.6\n",
      "Date:                Sun, 02 Feb 2020   Prob (F-statistic):          1.81e-208\n",
      "Time:                        16:12:23   Log-Likelihood:                -70697.\n",
      "No. Observations:               20580   AIC:                         1.414e+05\n",
      "Df Residuals:                   20578   BIC:                         1.414e+05\n",
      "Df Model:                           1                                         \n",
      "Covariance Type:            nonrobust                                         \n",
      "==================================================================================\n",
      "                     coef    std err          t      P>|t|      [0.025      0.975]\n",
      "----------------------------------------------------------------------------------\n",
      "Intercept          1.7772      0.066     27.087      0.000       1.649       1.906\n",
      "age_of_outcome     0.6697      0.021     31.171      0.000       0.628       0.712\n",
      "==============================================================================\n",
      "Omnibus:                    26984.613   Durbin-Watson:                   1.959\n",
      "Prob(Omnibus):                  0.000   Jarque-Bera (JB):          7992618.024\n",
      "Skew:                           7.267   Prob(JB):                         0.00\n",
      "Kurtosis:                      98.444   Cond. No.                         3.99\n",
      "==============================================================================\n",
      "\n",
      "Warnings:\n",
      "[1] Standard Errors assume that the covariance matrix of the errors is correctly specified.\n"
     ]
    }
   ],
   "source": [
    "#next steps are to do lasso/ ridge/ ols to see if this improves model\n",
    "import statsmodels.api as sm\n",
    "from statsmodels.formula.api import ols\n",
    "m = ols('shelter_length ~ age_of_outcome',aac6).fit()\n",
    "print(m.summary())\n",
    "#based on the summary below, we see that the age is somewhat of a statistically indicative predictor of shelter length. \n",
    "#p>t is 0.00. also the coef is .66 so that is saying that on average each additional year of age has an increase of .66 weeks\n"
   ]
  },
  {
   "cell_type": "code",
   "execution_count": 380,
   "metadata": {},
   "outputs": [
    {
     "data": {
      "image/png": "[encoded data removed]",
      "text/plain": [
       "<Figure size 432x288 with 1 Axes>"
      ]
     },
     "metadata": {
      "needs_background": "light"
     },
     "output_type": "display_data"
    }
   ],
   "source": [
    "#you can see the OLS model is very similar to the one from linear regression - both have fairly low sheltern lengths, ranging from 1 week - 2 weeks\n",
    "plt.hist(m.fittedvalues, color='red')\n",
    "plt.xlabel(\"Predicted Shelter Length\")\n",
    "plt.ylabel(\"Frequencey\")\n",
    "plt.show()"
   ]
  },
  {
   "cell_type": "code",
   "execution_count": 381,
   "metadata": {},
   "outputs": [
    {
     "data": {
      "text/plain": [
       "0.046207191231409823"
      ]
     },
     "execution_count": 381,
     "metadata": {},
     "output_type": "execute_result"
    }
   ],
   "source": [
    "#want to try a ridge regression to see if that improves the model\n",
    "from sklearn.linear_model import Ridge\n",
    "from sklearn.model_selection import train_test_split\n",
    "X_train, X_test, y_train, y_test = train_test_split(x, y, test_size = 0.3, random_state=42)\n",
    "ridge = Ridge(alpha=0.5, normalize=False)\n",
    "ridge.fit(X_train, y_train)\n",
    "ridge_pred = ridge.predict(X_test)\n",
    "ridge.score(X_test, y_test)\n",
    "#ran ridge regression but comes back pretty similar to linear regression. going to try standard scaler and build a pipeline to see if this improves"
   ]
  },
  {
   "cell_type": "code",
   "execution_count": 382,
   "metadata": {},
   "outputs": [
    {
     "name": "stdout",
     "output_type": "stream",
     "text": [
      "0.046206868343692475\n"
     ]
    }
   ],
   "source": [
    "from sklearn.preprocessing import StandardScaler\n",
    "from sklearn.preprocessing import scale\n",
    "from sklearn.pipeline import Pipeline\n",
    "from sklearn.metrics import accuracy_score\n",
    "from sklearn.metrics import r2_score\n",
    "steps = [('scaler', StandardScaler()), ('ridge', Ridge())]\n",
    "pipeline = Pipeline(steps)\n",
    "X_train, X_test, y_train, y_test = train_test_split(x, y, test_size = 0.3, random_state=42)\n",
    "ridge_scaled = pipeline.fit(X_train, y_train)\n",
    "y_pred = pipeline.predict(X_test)\n",
    "print(r2_score(y_test, y_pred))  \n",
    "#seems like even with scaling the data this did not improve the model by much as the r2 score is pretty low"
   ]
  },
  {
   "cell_type": "code",
   "execution_count": 383,
   "metadata": {},
   "outputs": [
    {
     "data": {
      "text/plain": [
       "-0.00026340709033356724"
      ]
     },
     "execution_count": 383,
     "metadata": {},
     "output_type": "execute_result"
    }
   ],
   "source": [
    "#let's try a lasso regression to see how this model holds up\n",
    "from sklearn.linear_model import Lasso\n",
    "X_train, X_test, y_train, y_test = train_test_split(x, y, test_size = 0.3, random_state=42)\n",
    "lasso = Lasso(alpha=0.1, normalize=True)\n",
    "lasso.fit(X_train, y_train)\n",
    "lasso_pred = lasso.predict(X_test)\n",
    "lasso.score(X_test, y_test)"
   ]
  },
  {
   "cell_type": "code",
   "execution_count": 384,
   "metadata": {},
   "outputs": [
    {
     "name": "stdout",
     "output_type": "stream",
     "text": [
      "0.02679821607821109\n"
     ]
    }
   ],
   "source": [
    "#still not a great model, let's try scaling\n",
    "steps = [('scaler', StandardScaler()), ('lasso', Lasso())]\n",
    "pipeline = Pipeline(steps)\n",
    "X_train, X_test, y_train, y_test = train_test_split(x, y, test_size = 0.3, random_state=42)\n",
    "lasso_scaled = pipeline.fit(X_train, y_train)\n",
    "y_pred = pipeline.predict(X_test)\n",
    "print(r2_score(y_test, y_pred))\n",
    "#still not seeing that lass0 produced a good model"
   ]
  },
  {
   "cell_type": "code",
   "execution_count": 385,
   "metadata": {},
   "outputs": [
    {
     "data": {
      "image/png": "[encoded data removed]",
      "text/plain": [
       "<Figure size 432x288 with 1 Axes>"
      ]
     },
     "metadata": {
      "needs_background": "light"
     },
     "output_type": "display_data"
    }
   ],
   "source": [
    "#seems that none of the above models fit the data very well. The best has been the linear regression but still extremely low\n",
    "#score. let's go back and review the scatter plot of shelter length by age\n",
    "plt.scatter(aac6.shelter_length, aac6.age_of_outcome)\n",
    "plt.show()\n",
    "#looks like the outliers from shelter length over 75 weeks may be throwing the data off. let's try removing them"
   ]
  },
  {
   "cell_type": "code",
   "execution_count": 392,
   "metadata": {},
   "outputs": [],
   "source": [
    "y = aac6[aac6.shelter_length < 75]\n",
    "#y = y.shelter_length\n",
    "#y= y.values.reshape(-1 ,1)"
   ]
  },
  {
   "cell_type": "code",
   "execution_count": 393,
   "metadata": {},
   "outputs": [
    {
     "data": {
      "image/png": "[encoded data removed]",
      "text/plain": [
       "<Figure size 432x288 with 1 Axes>"
      ]
     },
     "metadata": {
      "needs_background": "light"
     },
     "output_type": "display_data"
    }
   ],
   "source": [
    "plt.scatter(y.shelter_length, y.age_of_outcome)\n",
    "plt.show()\n",
    "#I removed teh adoptions beyond 75 weeks shelter length and can see the data looks more correlated now - want to re-run some of the \n",
    "#models to see if I get better scores now that some outliers have been removed."
   ]
  },
  {
   "cell_type": "code",
   "execution_count": 394,
   "metadata": {},
   "outputs": [],
   "source": [
    "y = aac6[aac6.shelter_length < 20]\n",
    "x = y.age_of_outcome\n",
    "z = y.shelter_length\n",
    "z = z.values.reshape(-1 ,1)\n",
    "x = x.values.reshape(-1 ,1)"
   ]
  },
  {
   "cell_type": "code",
   "execution_count": 395,
   "metadata": {},
   "outputs": [
    {
     "data": {
      "text/plain": [
       "LinearRegression(copy_X=True, fit_intercept=True, n_jobs=None, normalize=False)"
      ]
     },
     "execution_count": 395,
     "metadata": {},
     "output_type": "execute_result"
    }
   ],
   "source": [
    "reg = LinearRegression()\n",
    "reg.fit(x, z)"
   ]
  },
  {
   "cell_type": "code",
   "execution_count": 396,
   "metadata": {},
   "outputs": [
    {
     "data": {
      "text/plain": [
       "0.02370910903464829"
      ]
     },
     "execution_count": 396,
     "metadata": {},
     "output_type": "execute_result"
    }
   ],
   "source": [
    "reg.score(x, z)"
   ]
  },
  {
   "cell_type": "code",
   "execution_count": 397,
   "metadata": {},
   "outputs": [
    {
     "name": "stdout",
     "output_type": "stream",
     "text": [
      "                            OLS Regression Results                            \n",
      "==============================================================================\n",
      "Dep. Variable:         shelter_length   R-squared:                       0.024\n",
      "Model:                            OLS   Adj. R-squared:                  0.024\n",
      "Method:                 Least Squares   F-statistic:                     484.8\n",
      "Date:                Sun, 02 Feb 2020   Prob (F-statistic):          3.58e-106\n",
      "Time:                        16:18:18   Log-Likelihood:                -52789.\n",
      "No. Observations:               19964   AIC:                         1.056e+05\n",
      "Df Residuals:                   19962   BIC:                         1.056e+05\n",
      "Df Model:                           1                                         \n",
      "Covariance Type:            nonrobust                                         \n",
      "==================================================================================\n",
      "                     coef    std err          t      P>|t|      [0.025      0.975]\n",
      "----------------------------------------------------------------------------------\n",
      "Intercept          1.5905      0.030     52.901      0.000       1.532       1.649\n",
      "age_of_outcome     0.2233      0.010     22.018      0.000       0.203       0.243\n",
      "==============================================================================\n",
      "Omnibus:                     9694.074   Durbin-Watson:                   1.797\n",
      "Prob(Omnibus):                  0.000   Jarque-Bera (JB):            49497.205\n",
      "Skew:                           2.394   Prob(JB):                         0.00\n",
      "Kurtosis:                       9.048   Cond. No.                         3.86\n",
      "==============================================================================\n",
      "\n",
      "Warnings:\n",
      "[1] Standard Errors assume that the covariance matrix of the errors is correctly specified.\n"
     ]
    }
   ],
   "source": [
    "m = ols('shelter_length ~ age_of_outcome',y).fit()\n",
    "print(m.summary())\n",
    "#this actually brought the score down so don't think this is the direction to move towards "
   ]
  },
  {
   "cell_type": "code",
   "execution_count": 422,
   "metadata": {},
   "outputs": [],
   "source": [
    "x = aac6.age_of_outcome\n",
    "x= x.values.reshape(-1,1)\n",
    "y = aac6.shelter_length\n",
    "y= y.values.reshape(-1 ,1)"
   ]
  },
  {
   "cell_type": "code",
   "execution_count": 437,
   "metadata": {},
   "outputs": [
    {
     "name": "stderr",
     "output_type": "stream",
     "text": [
      "C:\\Users\\lacey\\Anaconda3\\lib\\site-packages\\ipykernel_launcher.py:5: DataConversionWarning: A column-vector y was passed when a 1d array was expected. Please change the shape of y to (n_samples,), for example using ravel().\n",
      "  \"\"\"\n"
     ]
    }
   ],
   "source": [
    "from sklearn.ensemble import RandomForestRegressor\n",
    "from sklearn.datasets import make_regression\n",
    "X_train, X_test, y_train, y_test = train_test_split(x, y, test_size=0.2, random_state=0)\n",
    "regressor = RandomForestRegressor(n_estimators=20, random_state=0)\n",
    "regressor.fit(X_train, y_train)\n",
    "y_pred = regressor.predict(X_test)"
   ]
  },
  {
   "cell_type": "code",
   "execution_count": 424,
   "metadata": {},
   "outputs": [
    {
     "name": "stdout",
     "output_type": "stream",
     "text": [
      "Mean Absolute Error: 3.480530030677945\n",
      "Mean Squared Error: 39.38756076688644\n",
      "Root Mean Squared Error: 6.275950985060865\n"
     ]
    }
   ],
   "source": [
    "from sklearn import metrics\n",
    "\n",
    "print('Mean Absolute Error:', metrics.mean_absolute_error(y_test, y_pred))\n",
    "print('Mean Squared Error:', metrics.mean_squared_error(y_test, y_pred))\n",
    "print('Root Mean Squared Error:', np.sqrt(metrics.mean_squared_error(y_test, y_pred)))"
   ]
  },
  {
   "cell_type": "code",
   "execution_count": 438,
   "metadata": {},
   "outputs": [
    {
     "name": "stdout",
     "output_type": "stream",
     "text": [
      "0.04259687819267255\n"
     ]
    }
   ],
   "source": [
    "print(r2_score(y_test, y_pred))\n",
    "# ran a random forrest just on basic paramets and has improved the model but stil not great. "
   ]
  },
  {
   "cell_type": "code",
   "execution_count": 432,
   "metadata": {},
   "outputs": [
    {
     "name": "stdout",
     "output_type": "stream",
     "text": [
      "0.043342069401727246\n"
     ]
    },
    {
     "name": "stderr",
     "output_type": "stream",
     "text": [
      "C:\\Users\\lacey\\Anaconda3\\lib\\site-packages\\ipykernel_launcher.py:3: DataConversionWarning: A column-vector y was passed when a 1d array was expected. Please change the shape of y to (n_samples,), for example using ravel().\n",
      "  This is separate from the ipykernel package so we can avoid doing imports until\n"
     ]
    }
   ],
   "source": [
    "X_train, X_test, y_train, y_test = train_test_split(x, y, test_size=0.2, random_state=42)\n",
    "regressor = RandomForestRegressor(n_estimators=15, random_state=42, bootstrap=True)\n",
    "regressor.fit(X_train, y_train)\n",
    "y_pred = regressor.predict(X_test)\n",
    "print(r2_score(y_test, y_pred))"
   ]
  },
  {
   "cell_type": "code",
   "execution_count": 406,
   "metadata": {},
   "outputs": [
    {
     "name": "stderr",
     "output_type": "stream",
     "text": [
      "C:\\Users\\lacey\\Anaconda3\\lib\\site-packages\\ipykernel_launcher.py:7: DataConversionWarning: A column-vector y was passed when a 1d array was expected. Please change the shape of y to (n_samples,), for example using ravel().\n",
      "  import sys\n"
     ]
    },
    {
     "name": "stdout",
     "output_type": "stream",
     "text": [
      "0.04248036526978982\n"
     ]
    }
   ],
   "source": [
    "#going to try some preprocessing steps to see if this improves the model\n",
    "#normalization\n",
    "from sklearn import preprocessing\n",
    "x = preprocessing.scale(x)\n",
    "X_train, X_test, y_train, y_test = train_test_split(x, y, test_size=0.2, random_state=0)\n",
    "regressor = RandomForestRegressor(n_estimators=60, random_state=0)\n",
    "regressor.fit(X_train, y_train)\n",
    "y_pred = regressor.predict(X_test)\n",
    "print(r2_score(y_test, y_pred))"
   ]
  },
  {
   "cell_type": "code",
   "execution_count": null,
   "metadata": {},
   "outputs": [],
   "source": []
  },
  {
   "cell_type": "code",
   "execution_count": 407,
   "metadata": {},
   "outputs": [
    {
     "data": {
      "text/plain": [
       "0.04080383043969216"
      ]
     },
     "execution_count": 407,
     "metadata": {},
     "output_type": "execute_result"
    }
   ],
   "source": [
    "#scaling\n",
    "x = preprocessing.scale(x)\n",
    "X_train, X_test, y_train, y_test = train_test_split(x, y, random_state=42)\n",
    "scaler = preprocessing.StandardScaler().fit(X_train)\n",
    "X_train = scaler.transform(X_train)\n",
    "X_test = scaler.transform(X_test)\n",
    "LN = LinearRegression()\n",
    "LN.fit(X_train, y_train)\n",
    "y_pred = (LN.predict(X_test))\n",
    "r2_score(y_test, y_pred)\n",
    "#Not really seeing that these are improving the model "
   ]
  },
  {
   "cell_type": "code",
   "execution_count": 408,
   "metadata": {},
   "outputs": [
    {
     "name": "stdout",
     "output_type": "stream",
     "text": [
      "0.045327401825268954\n"
     ]
    }
   ],
   "source": [
    "X_train, X_test, y_train, y_test = train_test_split(x, y, test_size = 0.25)\n",
    "regr = LinearRegression() \n",
    "regr.fit(X_train, y_train) \n",
    "print(regr.score(X_test, y_test))"
   ]
  },
  {
   "cell_type": "code",
   "execution_count": 410,
   "metadata": {},
   "outputs": [
    {
     "data": {
      "image/png": "[encoded data removed]",
      "text/plain": [
       "<Figure size 432x288 with 1 Axes>"
      ]
     },
     "metadata": {
      "needs_background": "light"
     },
     "output_type": "display_data"
    }
   ],
   "source": [
    "#checking if dropping shelter length down to 30 will have an impact\n",
    "y = aac6[aac6.shelter_length < 30]\n",
    "plt.scatter(y.age_of_outcome, y.shelter_length)\n",
    "plt.show()"
   ]
  },
  {
   "cell_type": "code",
   "execution_count": 411,
   "metadata": {},
   "outputs": [
    {
     "name": "stdout",
     "output_type": "stream",
     "text": [
      "0.030215468994000072\n"
     ]
    }
   ],
   "source": [
    "#re-running the linear regression with 10 as shelter length. Also am going to switch the target variable to age and feature\n",
    "#to shelter length to see impacts\n",
    "y = aac6[aac6.shelter_length < 30]\n",
    "x = y.age_of_outcome\n",
    "z = y.shelter_length\n",
    "z = z.values.reshape(-1 ,1)\n",
    "x = x.values.reshape(-1 ,1)\n",
    "\n",
    "X_train, X_test, y_train, y_test = train_test_split(z, x, test_size = 0.25)\n",
    "regr = LinearRegression() \n",
    "regr.fit(X_train, y_train)\n",
    "y_pred = regr.predict(X_test)\n",
    "print(regr.score(X_test, y_test))"
   ]
  },
  {
   "cell_type": "code",
   "execution_count": 412,
   "metadata": {},
   "outputs": [
    {
     "data": {
      "image/png": "[encoded data removed]",
      "text/plain": [
       "<Figure size 432x288 with 1 Axes>"
      ]
     },
     "metadata": {
      "needs_background": "light"
     },
     "output_type": "display_data"
    }
   ],
   "source": [
    "plt.scatter(X_test, y_test, color ='b') \n",
    "plt.plot(X_test, y_pred, color ='k') \n",
    "plt.show()"
   ]
  },
  {
   "cell_type": "code",
   "execution_count": 413,
   "metadata": {},
   "outputs": [
    {
     "name": "stdout",
     "output_type": "stream",
     "text": [
      "                            OLS Regression Results                            \n",
      "==============================================================================\n",
      "Dep. Variable:         age_of_outcome   R-squared:                       0.031\n",
      "Model:                            OLS   Adj. R-squared:                  0.031\n",
      "Method:                 Least Squares   F-statistic:                     652.2\n",
      "Date:                Sun, 02 Feb 2020   Prob (F-statistic):          1.26e-141\n",
      "Time:                        16:24:01   Log-Likelihood:                -46247.\n",
      "No. Observations:               20292   AIC:                         9.250e+04\n",
      "Df Residuals:                   20290   BIC:                         9.251e+04\n",
      "Df Model:                           1                                         \n",
      "Covariance Type:            nonrobust                                         \n",
      "==================================================================================\n",
      "                     coef    std err          t      P>|t|      [0.025      0.975]\n",
      "----------------------------------------------------------------------------------\n",
      "Intercept          1.5757      0.019     83.852      0.000       1.539       1.613\n",
      "shelter_length     0.0964      0.004     25.539      0.000       0.089       0.104\n",
      "==============================================================================\n",
      "Omnibus:                     8511.864   Durbin-Watson:                   0.058\n",
      "Prob(Omnibus):                  0.000   Jarque-Bera (JB):            36219.981\n",
      "Skew:                           2.083   Prob(JB):                         0.00\n",
      "Kurtosis:                       8.047   Cond. No.                         5.69\n",
      "==============================================================================\n",
      "\n",
      "Warnings:\n",
      "[1] Standard Errors assume that the covariance matrix of the errors is correctly specified.\n"
     ]
    }
   ],
   "source": [
    "#looks like swapping the variables does improve the model but only slightly \n",
    "m = ols('age_of_outcome ~ shelter_length',y).fit()\n",
    "print(m.summary())"
   ]
  },
  {
   "cell_type": "code",
   "execution_count": 414,
   "metadata": {},
   "outputs": [
    {
     "data": {
      "text/plain": [
       "0.021804008877680414"
      ]
     },
     "execution_count": 414,
     "metadata": {},
     "output_type": "execute_result"
    }
   ],
   "source": [
    "#running a regression with the variables swapped to see if that improves. Also added preprocessing steps \n",
    "x = preprocessing.scale(x)\n",
    "X_train, X_test, y_train, y_test = train_test_split(z, x, random_state=42)\n",
    "scaler = preprocessing.StandardScaler().fit(X_train)\n",
    "X_train = scaler.transform(X_train)\n",
    "X_test = scaler.transform(X_test)\n",
    "LN = LinearRegression()\n",
    "LN.fit(X_train, y_train)\n",
    "y_pred = (LN.predict(X_test))\n",
    "r2_score(y_test, y_pred)"
   ]
  },
  {
   "cell_type": "code",
   "execution_count": 415,
   "metadata": {},
   "outputs": [
    {
     "data": {
      "image/png": "[encoded data removed]",
      "text/plain": [
       "<Figure size 432x288 with 1 Axes>"
      ]
     },
     "metadata": {
      "needs_background": "light"
     },
     "output_type": "display_data"
    }
   ],
   "source": [
    "plt.scatter(X_test, y_test, color ='b') \n",
    "plt.plot(X_test, y_pred, color ='k') \n",
    "plt.show()\n",
    "#changing the shelter length to 30 weeks does not improve the model. need to stick with original shelter length"
   ]
  },
  {
   "cell_type": "code",
   "execution_count": null,
   "metadata": {},
   "outputs": [],
   "source": [
    "#reading through articles on the r squared score, it seems like the age and shelter length data is fairly spread out\n",
    "# and it just may be that the data is inherently unpredictable because people and adoptions are unpredictable\n",
    "#not everyone is looking to get a puppy for a variety of reasons. you can see from the above graph that the line is going\n",
    "#through the data, but the actual data points have variability which we cannot account for. this is resulting in the model \n",
    "#not fitting the data as well as we would like to see. "
   ]
  },
  {
   "cell_type": "code",
   "execution_count": 419,
   "metadata": {},
   "outputs": [
    {
     "name": "stdout",
     "output_type": "stream",
     "text": [
      "0.03587727383162498\n"
     ]
    }
   ],
   "source": [
    "y = aac6\n",
    "x = y.age_of_outcome\n",
    "z = y.shelter_length\n",
    "z = z.values.reshape(-1 ,1)\n",
    "x = x.values.reshape(-1 ,1)\n",
    "\n",
    "X_train, X_test, y_train, y_test = train_test_split(x, z, test_size = 0.25)\n",
    "regr = LinearRegression() \n",
    "regr.fit(X_train, y_train)\n",
    "y_pred = regr.predict(X_test)\n",
    "print(regr.score(X_test, y_test))"
   ]
  },
  {
   "cell_type": "code",
   "execution_count": 417,
   "metadata": {},
   "outputs": [
    {
     "data": {
      "image/png": "[encoded data removed]",
      "text/plain": [
       "<Figure size 432x288 with 1 Axes>"
      ]
     },
     "metadata": {
      "needs_background": "light"
     },
     "output_type": "display_data"
    }
   ],
   "source": [
    "plt.scatter(X_test, y_test, color ='b') \n",
    "plt.plot(X_test, y_pred, color ='k') \n",
    "plt.show()"
   ]
  },
  {
   "cell_type": "code",
   "execution_count": 445,
   "metadata": {},
   "outputs": [],
   "source": [
    "#seems like the ridge regression was the best model. Going to try to fine tune this as well as random forest\n",
    "y = aac6\n",
    "x = y.age_of_outcome\n",
    "z = y.shelter_length\n",
    "z = z.values.reshape(-1 ,1)\n",
    "x = x.values.reshape(-1 ,1)"
   ]
  },
  {
   "cell_type": "code",
   "execution_count": 499,
   "metadata": {},
   "outputs": [
    {
     "name": "stdout",
     "output_type": "stream",
     "text": [
      "0.04540338757496476\n"
     ]
    }
   ],
   "source": [
    "steps = [('scaler', StandardScaler()), ('ridge', Ridge(alpha =.1, normalize=True))]\n",
    "pipeline = Pipeline(steps)\n",
    "X_train, X_test, y_train, y_test = train_test_split(x, z, test_size = 0.3, random_state=42)\n",
    "ridge_scaled = pipeline.fit(X_train, y_train)\n",
    "y_pred = pipeline.predict(X_test)\n",
    "print(r2_score(y_test, y_pred))"
   ]
  },
  {
   "cell_type": "code",
   "execution_count": 472,
   "metadata": {},
   "outputs": [
    {
     "data": {
      "image/png": "[encoded data removed]",
      "text/plain": [
       "<Figure size 432x288 with 1 Axes>"
      ]
     },
     "metadata": {
      "needs_background": "light"
     },
     "output_type": "display_data"
    }
   ],
   "source": [
    "plt.scatter(X_test, y_test, color='b')\n",
    "plt.plot(X_test, y_pred, color='k')\n",
    "plt.title('Ridge Regression')\n",
    "plt.show()"
   ]
  },
  {
   "cell_type": "code",
   "execution_count": 494,
   "metadata": {},
   "outputs": [
    {
     "name": "stdout",
     "output_type": "stream",
     "text": [
      "0.046206024301681525\n"
     ]
    }
   ],
   "source": [
    "y = aac6\n",
    "x = y.age_of_outcome\n",
    "z = y.shelter_length\n",
    "z = z.values.reshape(-1 ,1)\n",
    "x = x.values.reshape(-1 ,1)\n",
    "\n",
    "ridge = Ridge()\n",
    "parameters = {'alpha': [1e-15, 1e-10, 1e-8, 1e-4, 1e-3, 1e-2, 1, 5, 10, 20]}\n",
    "X_train, X_test, y_train, y_test = train_test_split(x, z, test_size = 0.3, random_state=42)\n",
    "cv = GridSearchCV(ridge, parameters, cv=5)\n",
    "ridge_scaled = cv.fit(X_train, y_train)\n",
    "y_pred = cv.predict(X_test)\n",
    "print(r2_score(y_test, y_pred))"
   ]
  },
  {
   "cell_type": "code",
   "execution_count": 495,
   "metadata": {},
   "outputs": [
    {
     "name": "stdout",
     "output_type": "stream",
     "text": [
      "0.04353692963746994\n"
     ]
    }
   ],
   "source": [
    "print(cv.best_score_)"
   ]
  },
  {
   "cell_type": "code",
   "execution_count": 497,
   "metadata": {},
   "outputs": [
    {
     "name": "stdout",
     "output_type": "stream",
     "text": [
      "{'alpha': 20}\n"
     ]
    }
   ],
   "source": [
    "print(cv.best_params_)"
   ]
  },
  {
   "cell_type": "code",
   "execution_count": 507,
   "metadata": {},
   "outputs": [
    {
     "name": "stderr",
     "output_type": "stream",
     "text": [
      "C:\\Users\\lacey\\Anaconda3\\lib\\site-packages\\ipykernel_launcher.py:4: DataConversionWarning: A column-vector y was passed when a 1d array was expected. Please change the shape of y to (n_samples,), for example using ravel().\n",
      "  after removing the cwd from sys.path.\n"
     ]
    },
    {
     "name": "stdout",
     "output_type": "stream",
     "text": [
      "0.04275091493919081\n"
     ]
    }
   ],
   "source": [
    "x = preprocessing.scale(x)\n",
    "X_train, X_test, y_train, y_test = train_test_split(x, z, test_size=0.2, random_state=0)\n",
    "regressor = RandomForestRegressor(n_estimators=500, random_state=42, min_samples_leaf=200)\n",
    "regressor.fit(X_train, y_train)\n",
    "y_pred = regressor.predict(X_test)\n",
    "print(r2_score(y_test, y_pred))"
   ]
  },
  {
   "cell_type": "code",
   "execution_count": 509,
   "metadata": {},
   "outputs": [
    {
     "data": {
      "image/png": "[encoded data removed]",
      "text/plain": [
       "<Figure size 432x288 with 1 Axes>"
      ]
     },
     "metadata": {
      "needs_background": "light"
     },
     "output_type": "display_data"
    }
   ],
   "source": [
    "plt.scatter(X_test, y_test, color='b')\n",
    "plt.plot(X_test, y_pred, color='k')\n",
    "plt.title('Randon Forest')\n",
    "plt.show()"
   ]
  },
  {
   "cell_type": "code",
   "execution_count": 530,
   "metadata": {},
   "outputs": [
    {
     "name": "stdout",
     "output_type": "stream",
     "text": [
      "0.06198408313832482\n"
     ]
    }
   ],
   "source": [
    "y = aac6\n",
    "x = y.age_of_outcome\n",
    "z = y.shelter_length\n",
    "z = z.values.reshape(-1 ,1)\n",
    "x = x.values.reshape(-1 ,1)\n",
    "\n",
    "X_train, X_test, y_train, y_test = train_test_split(x, z, test_size = 0.25)\n",
    "scaler = preprocessing.StandardScaler().fit(X_train) \n",
    "X_train = scaler.transform(X_train) \n",
    "X_test = scaler.transform(X_test)\n",
    "regr = LinearRegression(normalize=True) \n",
    "regr.fit(X_train, y_train)\n",
    "y_pred = regr.predict(X_test)\n",
    "print(regr.score(X_test, y_test))"
   ]
  },
  {
   "cell_type": "code",
   "execution_count": 531,
   "metadata": {},
   "outputs": [
    {
     "data": {
      "image/png": "[encoded data removed]",
      "text/plain": [
       "<Figure size 432x288 with 1 Axes>"
      ]
     },
     "metadata": {
      "needs_background": "light"
     },
     "output_type": "display_data"
    }
   ],
   "source": [
    "plt.scatter(X_test, y_test, color='b')\n",
    "plt.plot(X_test, y_pred, color='k')\n",
    "plt.title('Linear Regression')\n",
    "plt.show()"
   ]
  },
  {
   "cell_type": "code",
   "execution_count": 532,
   "metadata": {},
   "outputs": [
    {
     "data": {
      "text/plain": [
       "(array([1.2221e+04, 5.0250e+03, 1.5370e+03, 8.0300e+02, 3.6300e+02,\n",
       "        3.8700e+02, 1.7400e+02, 4.8000e+01, 2.0000e+01, 2.0000e+00]),\n",
       " array([ 0. ,  1.8,  3.6,  5.4,  7.2,  9. , 10.8, 12.6, 14.4, 16.2, 18. ]),\n",
       " <a list of 10 Patch objects>)"
      ]
     },
     "execution_count": 532,
     "metadata": {},
     "output_type": "execute_result"
    },
    {
     "data": {
      "image/png": "[encoded data removed]",
      "text/plain": [
       "<Figure size 432x288 with 1 Axes>"
      ]
     },
     "metadata": {
      "needs_background": "light"
     },
     "output_type": "display_data"
    }
   ],
   "source": [
    "plt.hist(x)"
   ]
  },
  {
   "cell_type": "code",
   "execution_count": 535,
   "metadata": {},
   "outputs": [
    {
     "data": {
      "text/plain": [
       "(0, 25)"
      ]
     },
     "execution_count": 535,
     "metadata": {},
     "output_type": "execute_result"
    },
    {
     "data": {
      "image/png": "[encoded data removed]",
      "text/plain": [
       "<Figure size 432x288 with 1 Axes>"
      ]
     },
     "metadata": {
      "needs_background": "light"
     },
     "output_type": "display_data"
    }
   ],
   "source": [
    "plt.hist(aac6.shelter_length)\n",
    "plt.xlim(0,25)"
   ]
  },
  {
   "cell_type": "code",
   "execution_count": 542,
   "metadata": {},
   "outputs": [
    {
     "name": "stdout",
     "output_type": "stream",
     "text": [
      "0.030869593383807792\n"
     ]
    }
   ],
   "source": [
    "y = aac6\n",
    "y = aac6[aac6.age_of_outcome < 7.5]\n",
    "x = y.age_of_outcome\n",
    "z = y[y.shelter_length < 16]\n",
    "z = y.shelter_length\n",
    "z = z.values.reshape(-1 ,1)\n",
    "x = x.values.reshape(-1 ,1)\n",
    "\n",
    "X_train, X_test, y_train, y_test = train_test_split(x, z, test_size = 0.25)\n",
    "scaler = preprocessing.StandardScaler().fit(X_train) \n",
    "X_train = scaler.transform(X_train) \n",
    "X_test = scaler.transform(X_test)\n",
    "regr = LinearRegression(normalize=True) \n",
    "regr.fit(X_train, y_train)\n",
    "y_pred = regr.predict(X_test)\n",
    "print(regr.score(X_test, y_test))"
   ]
  },
  {
   "cell_type": "code",
   "execution_count": 537,
   "metadata": {},
   "outputs": [
    {
     "data": {
      "text/plain": [
       "<matplotlib.collections.PathCollection at 0x1ba53ada390>"
      ]
     },
     "execution_count": 537,
     "metadata": {},
     "output_type": "execute_result"
    },
    {
     "data": {
      "image/png": "[encoded data removed]",
      "text/plain": [
       "<Figure size 432x288 with 1 Axes>"
      ]
     },
     "metadata": {
      "needs_background": "light"
     },
     "output_type": "display_data"
    }
   ],
   "source": [
    "plt.scatter(x, z)\n",
    "#tried removing outliers from both the age and shelter length categories, but is not actually improving the model \n",
    "#after reviewing some articles on overfitting and underfitting, definitely think the model is underfitting\n",
    "#I think this might be due to the fact that the age and shelter actually have a non-linear relationship\n",
    "#I think a polynomial regression may be better suited for this data "
   ]
  },
  {
   "cell_type": "code",
   "execution_count": 548,
   "metadata": {},
   "outputs": [
    {
     "data": {
      "text/plain": [
       "([array([20580.,     0.,     0.,     0.,     0.,     0.,     0.,     0.,\n",
       "             0.,     0.]),\n",
       "  array([1.9916e+04, 4.6700e+02, 1.1100e+02, 5.3000e+01, 1.9000e+01,\n",
       "         5.0000e+00, 2.0000e+00, 3.0000e+00, 1.0000e+00, 3.0000e+00])],\n",
       " array([  0. ,  18.1,  36.2,  54.3,  72.4,  90.5, 108.6, 126.7, 144.8,\n",
       "        162.9, 181. ]),\n",
       " <a list of 2 Lists of Patches objects>)"
      ]
     },
     "execution_count": 548,
     "metadata": {},
     "output_type": "execute_result"
    },
    {
     "data": {
      "image/png": "[encoded data removed]",
      "text/plain": [
       "<Figure size 432x288 with 1 Axes>"
      ]
     },
     "metadata": {
      "needs_background": "light"
     },
     "output_type": "display_data"
    }
   ],
   "source": [
    "from sklearn.preprocessing import PolynomialFeatures\n",
    "y = aac6\n",
    "x = y.age_of_outcome\n",
    "z = y.shelter_length\n",
    "z = z.values.reshape(-1 ,1)\n",
    "x = x.values.reshape(-1 ,1)\n",
    "\n",
    "poly = PolynomialFeatures(2)\n",
    "poly.fit_transform(z)\n",
    "poly = PolynomialFeatures(interaction_only=True)\n",
    "x_ = poly.fit_transform(z)\n",
    "plt.hist(x_)"
   ]
  },
  {
   "cell_type": "code",
   "execution_count": null,
   "metadata": {},
   "outputs": [],
   "source": []
  },
  {
   "cell_type": "code",
   "execution_count": 551,
   "metadata": {},
   "outputs": [
    {
     "name": "stdout",
     "output_type": "stream",
     "text": [
      "0.041648705020241206\n"
     ]
    }
   ],
   "source": [
    "poly = PolynomialFeatures(degree=2)\n",
    "poly_variables = poly.fit_transform(z)\n",
    "\n",
    "poly_var_train, poly_var_test, res_train, res_test = train_test_split(poly_variables, x, test_size = 0.3, random_state = 4)\n",
    "\n",
    "regression = linear_model.LinearRegression()\n",
    "\n",
    "model = regression.fit(poly_var_train, res_train)\n",
    "score = model.score(poly_var_test, res_test)\n",
    "print(score)"
   ]
  },
  {
   "cell_type": "code",
   "execution_count": 558,
   "metadata": {},
   "outputs": [
    {
     "name": "stderr",
     "output_type": "stream",
     "text": [
      "C:\\Users\\lacey\\Anaconda3\\lib\\site-packages\\sklearn\\utils\\validation.py:724: DataConversionWarning: A column-vector y was passed when a 1d array was expected. Please change the shape of y to (n_samples, ), for example using ravel().\n",
      "  y = column_or_1d(y, warn=True)\n",
      "C:\\Users\\lacey\\Anaconda3\\lib\\site-packages\\sklearn\\svm\\base.py:193: FutureWarning: The default value of gamma will change from 'auto' to 'scale' in version 0.22 to account better for unscaled features. Set gamma explicitly to 'auto' or 'scale' to avoid this warning.\n",
      "  \"avoid this warning.\", FutureWarning)\n"
     ]
    },
    {
     "name": "stdout",
     "output_type": "stream",
     "text": [
      "-0.061512167812591174\n"
     ]
    }
   ],
   "source": [
    "#tried an SVR and not really giving the results I epected. \n",
    "from sklearn.svm import SVR\n",
    "X_train, X_test, y_train, y_test = train_test_split(x, z, test_size = 0.25)\n",
    "my_svr = SVR(C=100, epsilon=.2)\n",
    "my_svr.fit(X_train, y_train)\n",
    "p_regression = my_svr.predict(X_test)\n",
    "#p_r_series = pd.Series(index=y_testing.index,data=p_regression)\n",
    "print(my_svr.score(X_test, y_test))"
   ]
  },
  {
   "cell_type": "code",
   "execution_count": null,
   "metadata": {},
   "outputs": [],
   "source": [
    "x = y.age_of_outcome\n",
    "z = y.shelter_length\n",
    "z = z.values.reshape(-1 ,1)\n",
    "x = x.values.reshape(-1 ,1)\n",
    "\n",
    "X_train, X_test, y_train, y_test = train_test_split(x, z, test_size = 0.25)\n",
    "regr = LinearRegression() \n",
    "regr.fit(X_train, y_train)\n",
    "y_pred = regr.predict(X_test)\n",
    "print(regr.score(X_test, y_test))"
   ]
  },
  {
   "cell_type": "code",
   "execution_count": 611,
   "metadata": {},
   "outputs": [],
   "source": [
    "#going to try to add in breed to see if that makes an impact on the scoring of the linear regression\n",
    "#need to convert breeds into dummies\n",
    "df = aac6[['breed', 'age_of_outcome']]\n",
    "df = pd.get_dummies(df)\n",
    "z = aac6.shelter_length\n",
    "z = z.values.reshape(-1 ,1)\n",
    "x = df.values.reshape(-1 ,1378)\n",
    "#features are x and target is z"
   ]
  },
  {
   "cell_type": "code",
   "execution_count": 609,
   "metadata": {},
   "outputs": [
    {
     "name": "stdout",
     "output_type": "stream",
     "text": [
      "<class 'pandas.core.frame.DataFrame'>\n",
      "Index: 20580 entries, Dog to Dog\n",
      "Data columns (total 8 columns):\n",
      "date_of_birth       20580 non-null datetime64[ns]\n",
      "outcome_datetime    20580 non-null datetime64[ns]\n",
      "breed               20580 non-null object\n",
      "intake_datetime     20580 non-null datetime64[ns]\n",
      "shelter_length      20580 non-null float64\n",
      "age_of_outcome      20580 non-null float64\n",
      "age_category        20580 non-null category\n",
      "shelter_bin         20126 non-null category\n",
      "dtypes: category(2), datetime64[ns](3), float64(2), object(1)\n",
      "memory usage: 1.8+ MB\n"
     ]
    }
   ],
   "source": [
    "aac6.info()"
   ]
  },
  {
   "cell_type": "code",
   "execution_count": 606,
   "metadata": {},
   "outputs": [
    {
     "name": "stdout",
     "output_type": "stream",
     "text": [
      "<class 'pandas.core.frame.DataFrame'>\n",
      "Index: 20580 entries, Dog to Dog\n",
      "Columns: 1378 entries, age_of_outcome to breed_Yorkshire Terrier/Yorkshire Terrier\n",
      "dtypes: float64(1), uint8(1377)\n",
      "memory usage: 28.0+ MB\n"
     ]
    }
   ],
   "source": [
    "df.info()\n",
    "#needed to reshape x to match the number of rows for z. both now show same amount of rows 20580 so good for performing regression"
   ]
  },
  {
   "cell_type": "code",
   "execution_count": 605,
   "metadata": {},
   "outputs": [
    {
     "name": "stdout",
     "output_type": "stream",
     "text": [
      "-1.4157819607055316e+20\n"
     ]
    }
   ],
   "source": [
    "#now that breed is incorporated let's do a linear regression\n",
    "X_train, X_test, y_train, y_test = train_test_split(x, z, test_size = 0.25)\n",
    "regr = LinearRegression() \n",
    "regr.fit(X_train, y_train)\n",
    "y_pred = regr.predict(X_test)\n",
    "print(regr.score(X_test, y_test))\n",
    "#getting a very large negative value for r squared which is odd. going to try another regression "
   ]
  },
  {
   "cell_type": "code",
   "execution_count": 613,
   "metadata": {},
   "outputs": [
    {
     "name": "stdout",
     "output_type": "stream",
     "text": [
      "-9.74888236033112e+28\n"
     ]
    }
   ],
   "source": [
    "#this was the model that yielded the highest result in my previous tests. I am still not getting a sensical r squared\n",
    "#I am going to try binning the ages to see if that has an impact\n",
    "X_train, X_test, y_train, y_test = train_test_split(x, z, test_size = 0.25)\n",
    "scaler = preprocessing.StandardScaler().fit(X_train) \n",
    "X_train = scaler.transform(X_train) \n",
    "X_test = scaler.transform(X_test)\n",
    "regr = LinearRegression(normalize=True) \n",
    "regr.fit(X_train, y_train)\n",
    "y_pred = regr.predict(X_test)\n",
    "print(regr.score(X_test, y_test))"
   ]
  },
  {
   "cell_type": "code",
   "execution_count": null,
   "metadata": {},
   "outputs": [],
   "source": []
  },
  {
   "cell_type": "code",
   "execution_count": 614,
   "metadata": {},
   "outputs": [
    {
     "data": {
      "text/html": [
       "<div>\n",
       "<style scoped>\n",
       "    .dataframe tbody tr th:only-of-type {\n",
       "        vertical-align: middle;\n",
       "    }\n",
       "\n",
       "    .dataframe tbody tr th {\n",
       "        vertical-align: top;\n",
       "    }\n",
       "\n",
       "    .dataframe thead th {\n",
       "        text-align: right;\n",
       "    }\n",
       "</style>\n",
       "<table border=\"1\" class=\"dataframe\">\n",
       "  <thead>\n",
       "    <tr style=\"text-align: right;\">\n",
       "      <th></th>\n",
       "      <th>date_of_birth</th>\n",
       "      <th>outcome_datetime</th>\n",
       "      <th>breed</th>\n",
       "      <th>intake_datetime</th>\n",
       "      <th>shelter_length</th>\n",
       "      <th>age_of_outcome</th>\n",
       "      <th>age_category</th>\n",
       "      <th>shelter_bin</th>\n",
       "      <th>age_summary</th>\n",
       "    </tr>\n",
       "    <tr>\n",
       "      <th>animal_type</th>\n",
       "      <th></th>\n",
       "      <th></th>\n",
       "      <th></th>\n",
       "      <th></th>\n",
       "      <th></th>\n",
       "      <th></th>\n",
       "      <th></th>\n",
       "      <th></th>\n",
       "      <th></th>\n",
       "    </tr>\n",
       "  </thead>\n",
       "  <tbody>\n",
       "    <tr>\n",
       "      <th>Dog</th>\n",
       "      <td>2017-01-27</td>\n",
       "      <td>2017-04-08 13:27:00</td>\n",
       "      <td>Basset Hound Mix</td>\n",
       "      <td>2017-04-03 15:02:00</td>\n",
       "      <td>0.0</td>\n",
       "      <td>0.0</td>\n",
       "      <td>(-1.0, 1.0]</td>\n",
       "      <td>(-1.0, 1.0]</td>\n",
       "      <td>(-1.0, 1.0]</td>\n",
       "    </tr>\n",
       "    <tr>\n",
       "      <th>Dog</th>\n",
       "      <td>2017-01-27</td>\n",
       "      <td>2017-04-08 12:21:00</td>\n",
       "      <td>Basset Hound Mix</td>\n",
       "      <td>2017-04-03 15:02:00</td>\n",
       "      <td>0.0</td>\n",
       "      <td>0.0</td>\n",
       "      <td>(-1.0, 1.0]</td>\n",
       "      <td>(-1.0, 1.0]</td>\n",
       "      <td>(-1.0, 1.0]</td>\n",
       "    </tr>\n",
       "    <tr>\n",
       "      <th>Dog</th>\n",
       "      <td>2017-01-27</td>\n",
       "      <td>2017-04-07 18:56:00</td>\n",
       "      <td>Basset Hound Mix</td>\n",
       "      <td>2017-04-03 15:02:00</td>\n",
       "      <td>0.0</td>\n",
       "      <td>0.0</td>\n",
       "      <td>(-1.0, 1.0]</td>\n",
       "      <td>(-1.0, 1.0]</td>\n",
       "      <td>(-1.0, 1.0]</td>\n",
       "    </tr>\n",
       "    <tr>\n",
       "      <th>Dog</th>\n",
       "      <td>2017-01-27</td>\n",
       "      <td>2017-04-07 17:03:00</td>\n",
       "      <td>Basset Hound Mix</td>\n",
       "      <td>2017-04-03 15:02:00</td>\n",
       "      <td>0.0</td>\n",
       "      <td>0.0</td>\n",
       "      <td>(-1.0, 1.0]</td>\n",
       "      <td>(-1.0, 1.0]</td>\n",
       "      <td>(-1.0, 1.0]</td>\n",
       "    </tr>\n",
       "    <tr>\n",
       "      <th>Dog</th>\n",
       "      <td>2016-12-03</td>\n",
       "      <td>2017-04-07 17:45:00</td>\n",
       "      <td>Chihuahua Shorthair Mix</td>\n",
       "      <td>2017-04-03 12:00:00</td>\n",
       "      <td>0.0</td>\n",
       "      <td>0.0</td>\n",
       "      <td>(-1.0, 1.0]</td>\n",
       "      <td>(-1.0, 1.0]</td>\n",
       "      <td>(-1.0, 1.0]</td>\n",
       "    </tr>\n",
       "  </tbody>\n",
       "</table>\n",
       "</div>"
      ],
      "text/plain": [
       "            date_of_birth    outcome_datetime                    breed  \\\n",
       "animal_type                                                              \n",
       "Dog            2017-01-27 2017-04-08 13:27:00         Basset Hound Mix   \n",
       "Dog            2017-01-27 2017-04-08 12:21:00         Basset Hound Mix   \n",
       "Dog            2017-01-27 2017-04-07 18:56:00         Basset Hound Mix   \n",
       "Dog            2017-01-27 2017-04-07 17:03:00         Basset Hound Mix   \n",
       "Dog            2016-12-03 2017-04-07 17:45:00  Chihuahua Shorthair Mix   \n",
       "\n",
       "                intake_datetime  shelter_length  age_of_outcome age_category  \\\n",
       "animal_type                                                                    \n",
       "Dog         2017-04-03 15:02:00             0.0             0.0  (-1.0, 1.0]   \n",
       "Dog         2017-04-03 15:02:00             0.0             0.0  (-1.0, 1.0]   \n",
       "Dog         2017-04-03 15:02:00             0.0             0.0  (-1.0, 1.0]   \n",
       "Dog         2017-04-03 15:02:00             0.0             0.0  (-1.0, 1.0]   \n",
       "Dog         2017-04-03 12:00:00             0.0             0.0  (-1.0, 1.0]   \n",
       "\n",
       "             shelter_bin  age_summary  \n",
       "animal_type                            \n",
       "Dog          (-1.0, 1.0]  (-1.0, 1.0]  \n",
       "Dog          (-1.0, 1.0]  (-1.0, 1.0]  \n",
       "Dog          (-1.0, 1.0]  (-1.0, 1.0]  \n",
       "Dog          (-1.0, 1.0]  (-1.0, 1.0]  \n",
       "Dog          (-1.0, 1.0]  (-1.0, 1.0]  "
      ]
     },
     "execution_count": 614,
     "metadata": {},
     "output_type": "execute_result"
    }
   ],
   "source": [
    "#going to try binning the age data into 0-1 year and beyond 1year to see if that changes the r square \n",
    "bins = pd.IntervalIndex.from_tuples([(-1,1), (1.0, 23.0)])\n",
    "aac6['age_summary'] = pd.cut(aac6['age_of_outcome'], bins)\n",
    "aac6.head()"
   ]
  },
  {
   "cell_type": "code",
   "execution_count": 662,
   "metadata": {},
   "outputs": [
    {
     "data": {
      "text/plain": [
       "0    1\n",
       "1    1\n",
       "2    1\n",
       "3    1\n",
       "4    1\n",
       "Name: age_summary_(-1.0, 1.0], dtype: uint8"
      ]
     },
     "execution_count": 662,
     "metadata": {},
     "output_type": "execute_result"
    }
   ],
   "source": [
    "#seems like I need to convert the age category into dummies as not a numerical value so cant run regression on category\n",
    "df = aac6['age_summary'].reset_index()\n",
    "dt = pd.get_dummies(df)\n",
    "dt = dt.iloc[:, 1]\n",
    "dt.head()"
   ]
  },
  {
   "cell_type": "code",
   "execution_count": null,
   "metadata": {},
   "outputs": [],
   "source": []
  },
  {
   "cell_type": "code",
   "execution_count": 664,
   "metadata": {},
   "outputs": [
    {
     "name": "stdout",
     "output_type": "stream",
     "text": [
      "0.03522885502548134\n"
     ]
    }
   ],
   "source": [
    "#checking the regression now with the new age category\n",
    "y = aac6\n",
    "x = dt\n",
    "z = y.shelter_length\n",
    "z = z.values.reshape(-1 ,1)\n",
    "x = x.values.reshape(-1, 1)\n",
    "\n",
    "\n",
    "X_train, X_test, y_train, y_test = train_test_split(x, z, test_size = 0.25)\n",
    "regr = LinearRegression() \n",
    "regr.fit(X_train, y_train)\n",
    "y_pred = regr.predict(X_test)\n",
    "print(regr.score(X_test, y_test))"
   ]
  },
  {
   "cell_type": "code",
   "execution_count": 621,
   "metadata": {},
   "outputs": [
    {
     "name": "stdout",
     "output_type": "stream",
     "text": [
      "<class 'pandas.core.frame.DataFrame'>\n",
      "Index: 20580 entries, Dog to Dog\n",
      "Data columns (total 2 columns):\n",
      "(-1.0, 1.0]    20580 non-null uint8\n",
      "(1.0, 23.0]    20580 non-null uint8\n",
      "dtypes: uint8(2)\n",
      "memory usage: 841.0+ KB\n"
     ]
    }
   ],
   "source": [
    "df.info()"
   ]
  },
  {
   "cell_type": "code",
   "execution_count": 667,
   "metadata": {},
   "outputs": [
    {
     "data": {
      "image/png": "[encoded data removed]",
      "text/plain": [
       "<Figure size 432x288 with 1 Axes>"
      ]
     },
     "metadata": {
      "needs_background": "light"
     },
     "output_type": "display_data"
    }
   ],
   "source": [
    "plt.scatter(X_test, y_test, color='b')\n",
    "plt.plot(X_test, y_pred, color='k')\n",
    "plt.title('0-1 years')\n",
    "plt.xlabel('Age')\n",
    "plt.ylabel(\"Shelter length\")\n",
    "plt.show()\n",
    "#so after binning the ages into 0-1 and beyond, we can see this decreased the model. Also, in the graph below, you can see\n",
    "#that there are a lot more animals in the 0.00 category than 1. 0 means dog was adopted beyond 1 year"
   ]
  },
  {
   "cell_type": "code",
   "execution_count": 727,
   "metadata": {},
   "outputs": [
    {
     "data": {
      "text/html": [
       "<div>\n",
       "<style scoped>\n",
       "    .dataframe tbody tr th:only-of-type {\n",
       "        vertical-align: middle;\n",
       "    }\n",
       "\n",
       "    .dataframe tbody tr th {\n",
       "        vertical-align: top;\n",
       "    }\n",
       "\n",
       "    .dataframe thead th {\n",
       "        text-align: right;\n",
       "    }\n",
       "</style>\n",
       "<table border=\"1\" class=\"dataframe\">\n",
       "  <thead>\n",
       "    <tr style=\"text-align: right;\">\n",
       "      <th></th>\n",
       "      <th>date_of_birth</th>\n",
       "      <th>outcome_datetime</th>\n",
       "      <th>breed</th>\n",
       "      <th>intake_datetime</th>\n",
       "      <th>shelter_length</th>\n",
       "      <th>age_of_outcome</th>\n",
       "      <th>age_category</th>\n",
       "      <th>shelter_bin</th>\n",
       "      <th>age_summary</th>\n",
       "    </tr>\n",
       "    <tr>\n",
       "      <th>animal_type</th>\n",
       "      <th></th>\n",
       "      <th></th>\n",
       "      <th></th>\n",
       "      <th></th>\n",
       "      <th></th>\n",
       "      <th></th>\n",
       "      <th></th>\n",
       "      <th></th>\n",
       "      <th></th>\n",
       "    </tr>\n",
       "  </thead>\n",
       "  <tbody>\n",
       "    <tr>\n",
       "      <th>Dog</th>\n",
       "      <td>2017-01-27</td>\n",
       "      <td>2017-04-08 13:27:00</td>\n",
       "      <td>Basset Hound Mix</td>\n",
       "      <td>2017-04-03 15:02:00</td>\n",
       "      <td>0.0</td>\n",
       "      <td>0.0</td>\n",
       "      <td>(-1.0, 1.0]</td>\n",
       "      <td>(-1.0, 1.0]</td>\n",
       "      <td>(-1.0, 2.0]</td>\n",
       "    </tr>\n",
       "    <tr>\n",
       "      <th>Dog</th>\n",
       "      <td>2017-01-27</td>\n",
       "      <td>2017-04-08 12:21:00</td>\n",
       "      <td>Basset Hound Mix</td>\n",
       "      <td>2017-04-03 15:02:00</td>\n",
       "      <td>0.0</td>\n",
       "      <td>0.0</td>\n",
       "      <td>(-1.0, 1.0]</td>\n",
       "      <td>(-1.0, 1.0]</td>\n",
       "      <td>(-1.0, 2.0]</td>\n",
       "    </tr>\n",
       "    <tr>\n",
       "      <th>Dog</th>\n",
       "      <td>2017-01-27</td>\n",
       "      <td>2017-04-07 18:56:00</td>\n",
       "      <td>Basset Hound Mix</td>\n",
       "      <td>2017-04-03 15:02:00</td>\n",
       "      <td>0.0</td>\n",
       "      <td>0.0</td>\n",
       "      <td>(-1.0, 1.0]</td>\n",
       "      <td>(-1.0, 1.0]</td>\n",
       "      <td>(-1.0, 2.0]</td>\n",
       "    </tr>\n",
       "    <tr>\n",
       "      <th>Dog</th>\n",
       "      <td>2017-01-27</td>\n",
       "      <td>2017-04-07 17:03:00</td>\n",
       "      <td>Basset Hound Mix</td>\n",
       "      <td>2017-04-03 15:02:00</td>\n",
       "      <td>0.0</td>\n",
       "      <td>0.0</td>\n",
       "      <td>(-1.0, 1.0]</td>\n",
       "      <td>(-1.0, 1.0]</td>\n",
       "      <td>(-1.0, 2.0]</td>\n",
       "    </tr>\n",
       "    <tr>\n",
       "      <th>Dog</th>\n",
       "      <td>2016-12-03</td>\n",
       "      <td>2017-04-07 17:45:00</td>\n",
       "      <td>Chihuahua Shorthair Mix</td>\n",
       "      <td>2017-04-03 12:00:00</td>\n",
       "      <td>0.0</td>\n",
       "      <td>0.0</td>\n",
       "      <td>(-1.0, 1.0]</td>\n",
       "      <td>(-1.0, 1.0]</td>\n",
       "      <td>(-1.0, 2.0]</td>\n",
       "    </tr>\n",
       "  </tbody>\n",
       "</table>\n",
       "</div>"
      ],
      "text/plain": [
       "            date_of_birth    outcome_datetime                    breed  \\\n",
       "animal_type                                                              \n",
       "Dog            2017-01-27 2017-04-08 13:27:00         Basset Hound Mix   \n",
       "Dog            2017-01-27 2017-04-08 12:21:00         Basset Hound Mix   \n",
       "Dog            2017-01-27 2017-04-07 18:56:00         Basset Hound Mix   \n",
       "Dog            2017-01-27 2017-04-07 17:03:00         Basset Hound Mix   \n",
       "Dog            2016-12-03 2017-04-07 17:45:00  Chihuahua Shorthair Mix   \n",
       "\n",
       "                intake_datetime  shelter_length  age_of_outcome age_category  \\\n",
       "animal_type                                                                    \n",
       "Dog         2017-04-03 15:02:00             0.0             0.0  (-1.0, 1.0]   \n",
       "Dog         2017-04-03 15:02:00             0.0             0.0  (-1.0, 1.0]   \n",
       "Dog         2017-04-03 15:02:00             0.0             0.0  (-1.0, 1.0]   \n",
       "Dog         2017-04-03 15:02:00             0.0             0.0  (-1.0, 1.0]   \n",
       "Dog         2017-04-03 12:00:00             0.0             0.0  (-1.0, 1.0]   \n",
       "\n",
       "             shelter_bin  age_summary  \n",
       "animal_type                            \n",
       "Dog          (-1.0, 1.0]  (-1.0, 2.0]  \n",
       "Dog          (-1.0, 1.0]  (-1.0, 2.0]  \n",
       "Dog          (-1.0, 1.0]  (-1.0, 2.0]  \n",
       "Dog          (-1.0, 1.0]  (-1.0, 2.0]  \n",
       "Dog          (-1.0, 1.0]  (-1.0, 2.0]  "
      ]
     },
     "execution_count": 727,
     "metadata": {},
     "output_type": "execute_result"
    }
   ],
   "source": [
    "#since model did not perform as predicted, I am going to bump up age binning to 0-2 years\n",
    "bins = pd.IntervalIndex.from_tuples([(-1, 2.0), (2.0, 23.0)])\n",
    "aac6['age_summary'] = pd.cut(aac6['age_of_outcome'], bins)\n",
    "aac6.head()"
   ]
  },
  {
   "cell_type": "code",
   "execution_count": 728,
   "metadata": {},
   "outputs": [
    {
     "data": {
      "text/plain": [
       "0    1\n",
       "1    1\n",
       "2    1\n",
       "3    1\n",
       "4    1\n",
       "Name: age_summary_(-1.0, 2.0], dtype: uint8"
      ]
     },
     "execution_count": 728,
     "metadata": {},
     "output_type": "execute_result"
    }
   ],
   "source": [
    "df = aac6['age_summary'].reset_index()\n",
    "dt = pd.get_dummies(df)\n",
    "dt = dt.iloc[:, 1]\n",
    "dt.head()"
   ]
  },
  {
   "cell_type": "code",
   "execution_count": 729,
   "metadata": {},
   "outputs": [
    {
     "name": "stdout",
     "output_type": "stream",
     "text": [
      "0.040554575042295204\n"
     ]
    }
   ],
   "source": [
    "y = aac6\n",
    "x = dt\n",
    "z = y.shelter_length\n",
    "z = z.values.reshape(-1 ,1)\n",
    "x = x.values.reshape(-1, 1)\n",
    "\n",
    "\n",
    "X_train, X_test, y_train, y_test = train_test_split(x, z, test_size = 0.25)\n",
    "regr = LinearRegression() \n",
    "regr.fit(X_train, y_train)\n",
    "y_pred = regr.predict(X_test)\n",
    "print(regr.score(X_test, y_test))\n",
    "#model has improved since binning 0-2 years going to try using the best model I found on it to see how tuning impacts"
   ]
  },
  {
   "cell_type": "code",
   "execution_count": 730,
   "metadata": {},
   "outputs": [
    {
     "data": {
      "image/png": "[encoded data removed]",
      "text/plain": [
       "<Figure size 432x288 with 1 Axes>"
      ]
     },
     "metadata": {
      "needs_background": "light"
     },
     "output_type": "display_data"
    }
   ],
   "source": [
    "plt.scatter(X_test, y_test, color='b')\n",
    "plt.plot(X_test, y_pred, color='k')\n",
    "plt.title('0-2 years')\n",
    "plt.xlabel('Age')\n",
    "plt.ylabel(\"Shelter length\")\n",
    "plt.show()\n"
   ]
  },
  {
   "cell_type": "code",
   "execution_count": 737,
   "metadata": {},
   "outputs": [
    {
     "name": "stdout",
     "output_type": "stream",
     "text": [
      "0.04534459427377213\n"
     ]
    }
   ],
   "source": [
    "X_train, X_test, y_train, y_test = train_test_split(x, z, test_size = 0.25)\n",
    "scaler = preprocessing.StandardScaler().fit(X_train) \n",
    "X_train = scaler.transform(X_train) \n",
    "X_test = scaler.transform(X_test)\n",
    "regr = LinearRegression(normalize=True) \n",
    "regr.fit(X_train, y_train)\n",
    "y_pred = regr.predict(X_test)\n",
    "print(regr.score(X_test, y_test))\n",
    "#with tuning you can see the model did improve, but still not as good as the previous feature set I was using. "
   ]
  },
  {
   "cell_type": "code",
   "execution_count": 725,
   "metadata": {},
   "outputs": [
    {
     "data": {
      "image/png": "[encoded data removed]",
      "text/plain": [
       "<Figure size 432x288 with 1 Axes>"
      ]
     },
     "metadata": {
      "needs_background": "light"
     },
     "output_type": "display_data"
    }
   ],
   "source": [
    "plt.scatter(x, z, color='b')\n",
    "plt.title('0-2 years')\n",
    "plt.xlabel('Age')\n",
    "plt.ylabel(\"Shelter length\")\n",
    "plt.show()\n",
    "#you can see below is a graph of the data. the shelter length for 0-2 years spans from 0 - 100 weeks. "
   ]
  },
  {
   "cell_type": "code",
   "execution_count": null,
   "metadata": {},
   "outputs": [],
   "source": []
  },
  {
   "cell_type": "code",
   "execution_count": null,
   "metadata": {},
   "outputs": [],
   "source": []
  },
  {
   "cell_type": "code",
   "execution_count": null,
   "metadata": {},
   "outputs": [],
   "source": []
  }
 ],
 "metadata": {
  "kernelspec": {
   "display_name": "Python 3",
   "language": "python",
   "name": "python3"
  },
  "language_info": {
   "codemirror_mode": {
    "name": "ipython",
    "version": 3
   },
   "file_extension": ".py",
   "mimetype": "text/x-python",
   "name": "python",
   "nbconvert_exporter": "python",
   "pygments_lexer": "ipython3",
   "version": "3.7.3"
  }
 },
 "nbformat": 4,
 "nbformat_minor": 2
}
