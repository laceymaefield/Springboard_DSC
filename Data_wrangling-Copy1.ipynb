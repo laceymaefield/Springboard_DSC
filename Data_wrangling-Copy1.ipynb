{
 "cells": [
  {
   "cell_type": "code",
   "execution_count": 1,
   "metadata": {},
   "outputs": [],
   "source": [
    "#Data wrangling AAC data-set\n",
    "import pandas as pd\n",
    "import numpy as np\n",
    "import datetime\n",
    "from dateutil.relativedelta import relativedelta\n",
    "from datetime import date\n",
    "import matplotlib.pyplot as plt"
   ]
  },
  {
   "cell_type": "code",
   "execution_count": 2,
   "metadata": {},
   "outputs": [
    {
     "data": {
      "text/html": [
       "<div>\n",
       "<style scoped>\n",
       "    .dataframe tbody tr th:only-of-type {\n",
       "        vertical-align: middle;\n",
       "    }\n",
       "\n",
       "    .dataframe tbody tr th {\n",
       "        vertical-align: top;\n",
       "    }\n",
       "\n",
       "    .dataframe thead th {\n",
       "        text-align: right;\n",
       "    }\n",
       "</style>\n",
       "<table border=\"1\" class=\"dataframe\">\n",
       "  <thead>\n",
       "    <tr style=\"text-align: right;\">\n",
       "      <th></th>\n",
       "      <th>date_of_birth</th>\n",
       "      <th>outcome_type</th>\n",
       "      <th>outcome_datetime</th>\n",
       "      <th>animal_type</th>\n",
       "      <th>breed</th>\n",
       "      <th>intake_datetime</th>\n",
       "    </tr>\n",
       "  </thead>\n",
       "  <tbody>\n",
       "    <tr>\n",
       "      <th>0</th>\n",
       "      <td>2007-07-09 00:00:00</td>\n",
       "      <td>Return to Owner</td>\n",
       "      <td>2017-12-07 14:07:00</td>\n",
       "      <td>Dog</td>\n",
       "      <td>Spinone Italiano Mix</td>\n",
       "      <td>2017-12-07 00:00:00</td>\n",
       "    </tr>\n",
       "    <tr>\n",
       "      <th>1</th>\n",
       "      <td>2007-07-09 00:00:00</td>\n",
       "      <td>Return to Owner</td>\n",
       "      <td>2014-12-20 16:35:00</td>\n",
       "      <td>Dog</td>\n",
       "      <td>Spinone Italiano Mix</td>\n",
       "      <td>2014-12-19 10:21:00</td>\n",
       "    </tr>\n",
       "    <tr>\n",
       "      <th>2</th>\n",
       "      <td>2007-07-09 00:00:00</td>\n",
       "      <td>Return to Owner</td>\n",
       "      <td>2014-03-08 17:10:00</td>\n",
       "      <td>Dog</td>\n",
       "      <td>Spinone Italiano Mix</td>\n",
       "      <td>2014-03-07 14:26:00</td>\n",
       "    </tr>\n",
       "    <tr>\n",
       "      <th>3</th>\n",
       "      <td>2004-04-02 00:00:00</td>\n",
       "      <td>Transfer</td>\n",
       "      <td>2014-04-07 15:12:00</td>\n",
       "      <td>Dog</td>\n",
       "      <td>Dachshund</td>\n",
       "      <td>2014-04-02 15:55:00</td>\n",
       "    </tr>\n",
       "    <tr>\n",
       "      <th>4</th>\n",
       "      <td>1997-10-16 00:00:00</td>\n",
       "      <td>Return to Owner</td>\n",
       "      <td>2013-11-16 11:54:00</td>\n",
       "      <td>Dog</td>\n",
       "      <td>Shetland Sheepdog</td>\n",
       "      <td>2013-11-16 09:02:00</td>\n",
       "    </tr>\n",
       "  </tbody>\n",
       "</table>\n",
       "</div>"
      ],
      "text/plain": [
       "         date_of_birth     outcome_type     outcome_datetime animal_type  \\\n",
       "0  2007-07-09 00:00:00  Return to Owner  2017-12-07 14:07:00         Dog   \n",
       "1  2007-07-09 00:00:00  Return to Owner  2014-12-20 16:35:00         Dog   \n",
       "2  2007-07-09 00:00:00  Return to Owner  2014-03-08 17:10:00         Dog   \n",
       "3  2004-04-02 00:00:00         Transfer  2014-04-07 15:12:00         Dog   \n",
       "4  1997-10-16 00:00:00  Return to Owner  2013-11-16 11:54:00         Dog   \n",
       "\n",
       "                  breed      intake_datetime  \n",
       "0  Spinone Italiano Mix  2017-12-07 00:00:00  \n",
       "1  Spinone Italiano Mix  2014-12-19 10:21:00  \n",
       "2  Spinone Italiano Mix  2014-03-07 14:26:00  \n",
       "3             Dachshund  2014-04-02 15:55:00  \n",
       "4     Shetland Sheepdog  2013-11-16 09:02:00  "
      ]
     },
     "execution_count": 2,
     "metadata": {},
     "output_type": "execute_result"
    }
   ],
   "source": [
    "aac = pd.read_csv(\"../Documents/aac_intakes_outcomes.csv\", usecols=['outcome_datetime', 'intake_datetime', 'outcome_type', 'animal_type', 'breed', 'date_of_birth'])\n",
    "aac.head()"
   ]
  },
  {
   "cell_type": "code",
   "execution_count": 3,
   "metadata": {},
   "outputs": [],
   "source": [
    "aac['outcome_datetime'] = pd.to_datetime(aac['outcome_datetime'])\n",
    "aac['intake_datetime'] = pd.to_datetime(aac['intake_datetime'])"
   ]
  },
  {
   "cell_type": "code",
   "execution_count": 4,
   "metadata": {},
   "outputs": [
    {
     "name": "stdout",
     "output_type": "stream",
     "text": [
      "<class 'pandas.core.frame.DataFrame'>\n",
      "RangeIndex: 79672 entries, 0 to 79671\n",
      "Data columns (total 6 columns):\n",
      "date_of_birth       79672 non-null object\n",
      "outcome_type        79662 non-null object\n",
      "outcome_datetime    79672 non-null datetime64[ns]\n",
      "animal_type         79672 non-null object\n",
      "breed               79672 non-null object\n",
      "intake_datetime     79672 non-null datetime64[ns]\n",
      "dtypes: datetime64[ns](2), object(4)\n",
      "memory usage: 3.6+ MB\n"
     ]
    }
   ],
   "source": [
    "aac.info()"
   ]
  },
  {
   "cell_type": "code",
   "execution_count": 5,
   "metadata": {},
   "outputs": [
    {
     "data": {
      "text/html": [
       "<div>\n",
       "<style scoped>\n",
       "    .dataframe tbody tr th:only-of-type {\n",
       "        vertical-align: middle;\n",
       "    }\n",
       "\n",
       "    .dataframe tbody tr th {\n",
       "        vertical-align: top;\n",
       "    }\n",
       "\n",
       "    .dataframe thead th {\n",
       "        text-align: right;\n",
       "    }\n",
       "</style>\n",
       "<table border=\"1\" class=\"dataframe\">\n",
       "  <thead>\n",
       "    <tr style=\"text-align: right;\">\n",
       "      <th></th>\n",
       "      <th>date_of_birth</th>\n",
       "      <th>outcome_type</th>\n",
       "      <th>outcome_datetime</th>\n",
       "      <th>animal_type</th>\n",
       "      <th>breed</th>\n",
       "      <th>intake_datetime</th>\n",
       "      <th>shelter_length</th>\n",
       "    </tr>\n",
       "  </thead>\n",
       "  <tbody>\n",
       "    <tr>\n",
       "      <th>0</th>\n",
       "      <td>2007-07-09 00:00:00</td>\n",
       "      <td>Return to Owner</td>\n",
       "      <td>2017-12-07 14:07:00</td>\n",
       "      <td>Dog</td>\n",
       "      <td>Spinone Italiano Mix</td>\n",
       "      <td>2017-12-07 00:00:00</td>\n",
       "      <td>0 days 14:07:00</td>\n",
       "    </tr>\n",
       "    <tr>\n",
       "      <th>1</th>\n",
       "      <td>2007-07-09 00:00:00</td>\n",
       "      <td>Return to Owner</td>\n",
       "      <td>2014-12-20 16:35:00</td>\n",
       "      <td>Dog</td>\n",
       "      <td>Spinone Italiano Mix</td>\n",
       "      <td>2014-12-19 10:21:00</td>\n",
       "      <td>1 days 06:14:00</td>\n",
       "    </tr>\n",
       "    <tr>\n",
       "      <th>2</th>\n",
       "      <td>2007-07-09 00:00:00</td>\n",
       "      <td>Return to Owner</td>\n",
       "      <td>2014-03-08 17:10:00</td>\n",
       "      <td>Dog</td>\n",
       "      <td>Spinone Italiano Mix</td>\n",
       "      <td>2014-03-07 14:26:00</td>\n",
       "      <td>1 days 02:44:00</td>\n",
       "    </tr>\n",
       "    <tr>\n",
       "      <th>3</th>\n",
       "      <td>2004-04-02 00:00:00</td>\n",
       "      <td>Transfer</td>\n",
       "      <td>2014-04-07 15:12:00</td>\n",
       "      <td>Dog</td>\n",
       "      <td>Dachshund</td>\n",
       "      <td>2014-04-02 15:55:00</td>\n",
       "      <td>4 days 23:17:00</td>\n",
       "    </tr>\n",
       "    <tr>\n",
       "      <th>4</th>\n",
       "      <td>1997-10-16 00:00:00</td>\n",
       "      <td>Return to Owner</td>\n",
       "      <td>2013-11-16 11:54:00</td>\n",
       "      <td>Dog</td>\n",
       "      <td>Shetland Sheepdog</td>\n",
       "      <td>2013-11-16 09:02:00</td>\n",
       "      <td>0 days 02:52:00</td>\n",
       "    </tr>\n",
       "  </tbody>\n",
       "</table>\n",
       "</div>"
      ],
      "text/plain": [
       "         date_of_birth     outcome_type    outcome_datetime animal_type  \\\n",
       "0  2007-07-09 00:00:00  Return to Owner 2017-12-07 14:07:00         Dog   \n",
       "1  2007-07-09 00:00:00  Return to Owner 2014-12-20 16:35:00         Dog   \n",
       "2  2007-07-09 00:00:00  Return to Owner 2014-03-08 17:10:00         Dog   \n",
       "3  2004-04-02 00:00:00         Transfer 2014-04-07 15:12:00         Dog   \n",
       "4  1997-10-16 00:00:00  Return to Owner 2013-11-16 11:54:00         Dog   \n",
       "\n",
       "                  breed     intake_datetime  shelter_length  \n",
       "0  Spinone Italiano Mix 2017-12-07 00:00:00 0 days 14:07:00  \n",
       "1  Spinone Italiano Mix 2014-12-19 10:21:00 1 days 06:14:00  \n",
       "2  Spinone Italiano Mix 2014-03-07 14:26:00 1 days 02:44:00  \n",
       "3             Dachshund 2014-04-02 15:55:00 4 days 23:17:00  \n",
       "4     Shetland Sheepdog 2013-11-16 09:02:00 0 days 02:52:00  "
      ]
     },
     "execution_count": 5,
     "metadata": {},
     "output_type": "execute_result"
    }
   ],
   "source": [
    "#created a columne to show length of stay at shelter\n",
    "aac['shelter_length'] = (aac['outcome_datetime'] - aac['intake_datetime'])\n",
    "aac.head()"
   ]
  },
  {
   "cell_type": "code",
   "execution_count": 6,
   "metadata": {},
   "outputs": [
    {
     "name": "stdout",
     "output_type": "stream",
     "text": [
      "<class 'pandas.core.frame.DataFrame'>\n",
      "Int64Index: 64881 entries, 3 to 79671\n",
      "Data columns (total 7 columns):\n",
      "date_of_birth       64881 non-null object\n",
      "outcome_type        64871 non-null object\n",
      "outcome_datetime    64881 non-null datetime64[ns]\n",
      "animal_type         64881 non-null object\n",
      "breed               64881 non-null object\n",
      "intake_datetime     64881 non-null datetime64[ns]\n",
      "shelter_length      64881 non-null timedelta64[ns]\n",
      "dtypes: datetime64[ns](2), object(4), timedelta64[ns](1)\n",
      "memory usage: 4.0+ MB\n"
     ]
    }
   ],
   "source": [
    "#removed return to owner as this implies dog ran away and was sent to shelter as lost dog(null value)\n",
    "aac = aac[aac.outcome_type != 'Return to Owner']\n",
    "aac.info()"
   ]
  },
  {
   "cell_type": "code",
   "execution_count": 9,
   "metadata": {},
   "outputs": [],
   "source": [
    "aac['shelter_length'] = aac['shelter_length'].astype('timedelta64[W]')\n"
   ]
  },
  {
   "cell_type": "code",
   "execution_count": 10,
   "metadata": {},
   "outputs": [],
   "source": [
    "aac['shelter_length'] = aac['shelter_length'] / np.timedelta64(1,'W')"
   ]
  },
  {
   "cell_type": "code",
   "execution_count": 11,
   "metadata": {},
   "outputs": [
    {
     "data": {
      "text/html": [
       "<div>\n",
       "<style scoped>\n",
       "    .dataframe tbody tr th:only-of-type {\n",
       "        vertical-align: middle;\n",
       "    }\n",
       "\n",
       "    .dataframe tbody tr th {\n",
       "        vertical-align: top;\n",
       "    }\n",
       "\n",
       "    .dataframe thead th {\n",
       "        text-align: right;\n",
       "    }\n",
       "</style>\n",
       "<table border=\"1\" class=\"dataframe\">\n",
       "  <thead>\n",
       "    <tr style=\"text-align: right;\">\n",
       "      <th></th>\n",
       "      <th>date_of_birth</th>\n",
       "      <th>outcome_type</th>\n",
       "      <th>outcome_datetime</th>\n",
       "      <th>animal_type</th>\n",
       "      <th>breed</th>\n",
       "      <th>intake_datetime</th>\n",
       "      <th>shelter_length</th>\n",
       "    </tr>\n",
       "  </thead>\n",
       "  <tbody>\n",
       "    <tr>\n",
       "      <th>3</th>\n",
       "      <td>2004-04-02 00:00:00</td>\n",
       "      <td>Transfer</td>\n",
       "      <td>2014-04-07 15:12:00</td>\n",
       "      <td>Dog</td>\n",
       "      <td>Dachshund</td>\n",
       "      <td>2014-04-02 15:55:00</td>\n",
       "      <td>0.0</td>\n",
       "    </tr>\n",
       "    <tr>\n",
       "      <th>11</th>\n",
       "      <td>2000-01-21 00:00:00</td>\n",
       "      <td>Transfer</td>\n",
       "      <td>2014-12-22 15:23:00</td>\n",
       "      <td>Cat</td>\n",
       "      <td>American Shorthair Mix</td>\n",
       "      <td>2014-12-08 12:30:00</td>\n",
       "      <td>2.0</td>\n",
       "    </tr>\n",
       "    <tr>\n",
       "      <th>12</th>\n",
       "      <td>1997-10-03 00:00:00</td>\n",
       "      <td>Adoption</td>\n",
       "      <td>2013-11-22 09:44:00</td>\n",
       "      <td>Dog</td>\n",
       "      <td>Dachshund Mix</td>\n",
       "      <td>2013-10-03 15:47:00</td>\n",
       "      <td>7.0</td>\n",
       "    </tr>\n",
       "    <tr>\n",
       "      <th>13</th>\n",
       "      <td>2000-04-27 00:00:00</td>\n",
       "      <td>Euthanasia</td>\n",
       "      <td>2015-02-17 16:25:00</td>\n",
       "      <td>Dog</td>\n",
       "      <td>Border Collie Mix</td>\n",
       "      <td>2015-02-17 13:17:00</td>\n",
       "      <td>0.0</td>\n",
       "    </tr>\n",
       "    <tr>\n",
       "      <th>14</th>\n",
       "      <td>1999-06-01 00:00:00</td>\n",
       "      <td>Adoption</td>\n",
       "      <td>2016-10-07 12:34:00</td>\n",
       "      <td>Dog</td>\n",
       "      <td>Chihuahua Shorthair</td>\n",
       "      <td>2016-09-28 12:05:00</td>\n",
       "      <td>1.0</td>\n",
       "    </tr>\n",
       "  </tbody>\n",
       "</table>\n",
       "</div>"
      ],
      "text/plain": [
       "          date_of_birth outcome_type    outcome_datetime animal_type  \\\n",
       "3   2004-04-02 00:00:00     Transfer 2014-04-07 15:12:00         Dog   \n",
       "11  2000-01-21 00:00:00     Transfer 2014-12-22 15:23:00         Cat   \n",
       "12  1997-10-03 00:00:00     Adoption 2013-11-22 09:44:00         Dog   \n",
       "13  2000-04-27 00:00:00   Euthanasia 2015-02-17 16:25:00         Dog   \n",
       "14  1999-06-01 00:00:00     Adoption 2016-10-07 12:34:00         Dog   \n",
       "\n",
       "                     breed     intake_datetime  shelter_length  \n",
       "3                Dachshund 2014-04-02 15:55:00             0.0  \n",
       "11  American Shorthair Mix 2014-12-08 12:30:00             2.0  \n",
       "12           Dachshund Mix 2013-10-03 15:47:00             7.0  \n",
       "13       Border Collie Mix 2015-02-17 13:17:00             0.0  \n",
       "14     Chihuahua Shorthair 2016-09-28 12:05:00             1.0  "
      ]
     },
     "execution_count": 11,
     "metadata": {},
     "output_type": "execute_result"
    }
   ],
   "source": [
    "#rounded the shelther length column to weeks for comparison but may need to change to month - lowest is 0 and highest is 181\n",
    "aac.head()"
   ]
  },
  {
   "cell_type": "code",
   "execution_count": 12,
   "metadata": {},
   "outputs": [],
   "source": [
    "aac['date_of_birth'] = pd.to_datetime(aac['date_of_birth'])\n",
    "aac['age_of_outcome'] = (aac['outcome_datetime'] - aac['date_of_birth'])"
   ]
  },
  {
   "cell_type": "code",
   "execution_count": 13,
   "metadata": {},
   "outputs": [
    {
     "data": {
      "text/html": [
       "<div>\n",
       "<style scoped>\n",
       "    .dataframe tbody tr th:only-of-type {\n",
       "        vertical-align: middle;\n",
       "    }\n",
       "\n",
       "    .dataframe tbody tr th {\n",
       "        vertical-align: top;\n",
       "    }\n",
       "\n",
       "    .dataframe thead th {\n",
       "        text-align: right;\n",
       "    }\n",
       "</style>\n",
       "<table border=\"1\" class=\"dataframe\">\n",
       "  <thead>\n",
       "    <tr style=\"text-align: right;\">\n",
       "      <th></th>\n",
       "      <th>date_of_birth</th>\n",
       "      <th>outcome_type</th>\n",
       "      <th>outcome_datetime</th>\n",
       "      <th>animal_type</th>\n",
       "      <th>breed</th>\n",
       "      <th>intake_datetime</th>\n",
       "      <th>shelter_length</th>\n",
       "      <th>age_of_outcome</th>\n",
       "    </tr>\n",
       "  </thead>\n",
       "  <tbody>\n",
       "    <tr>\n",
       "      <th>3</th>\n",
       "      <td>2004-04-02</td>\n",
       "      <td>Transfer</td>\n",
       "      <td>2014-04-07 15:12:00</td>\n",
       "      <td>Dog</td>\n",
       "      <td>Dachshund</td>\n",
       "      <td>2014-04-02 15:55:00</td>\n",
       "      <td>0.0</td>\n",
       "      <td>3657 days 15:12:00</td>\n",
       "    </tr>\n",
       "    <tr>\n",
       "      <th>11</th>\n",
       "      <td>2000-01-21</td>\n",
       "      <td>Transfer</td>\n",
       "      <td>2014-12-22 15:23:00</td>\n",
       "      <td>Cat</td>\n",
       "      <td>American Shorthair Mix</td>\n",
       "      <td>2014-12-08 12:30:00</td>\n",
       "      <td>2.0</td>\n",
       "      <td>5449 days 15:23:00</td>\n",
       "    </tr>\n",
       "    <tr>\n",
       "      <th>12</th>\n",
       "      <td>1997-10-03</td>\n",
       "      <td>Adoption</td>\n",
       "      <td>2013-11-22 09:44:00</td>\n",
       "      <td>Dog</td>\n",
       "      <td>Dachshund Mix</td>\n",
       "      <td>2013-10-03 15:47:00</td>\n",
       "      <td>7.0</td>\n",
       "      <td>5894 days 09:44:00</td>\n",
       "    </tr>\n",
       "    <tr>\n",
       "      <th>13</th>\n",
       "      <td>2000-04-27</td>\n",
       "      <td>Euthanasia</td>\n",
       "      <td>2015-02-17 16:25:00</td>\n",
       "      <td>Dog</td>\n",
       "      <td>Border Collie Mix</td>\n",
       "      <td>2015-02-17 13:17:00</td>\n",
       "      <td>0.0</td>\n",
       "      <td>5409 days 16:25:00</td>\n",
       "    </tr>\n",
       "    <tr>\n",
       "      <th>14</th>\n",
       "      <td>1999-06-01</td>\n",
       "      <td>Adoption</td>\n",
       "      <td>2016-10-07 12:34:00</td>\n",
       "      <td>Dog</td>\n",
       "      <td>Chihuahua Shorthair</td>\n",
       "      <td>2016-09-28 12:05:00</td>\n",
       "      <td>1.0</td>\n",
       "      <td>6338 days 12:34:00</td>\n",
       "    </tr>\n",
       "  </tbody>\n",
       "</table>\n",
       "</div>"
      ],
      "text/plain": [
       "   date_of_birth outcome_type    outcome_datetime animal_type  \\\n",
       "3     2004-04-02     Transfer 2014-04-07 15:12:00         Dog   \n",
       "11    2000-01-21     Transfer 2014-12-22 15:23:00         Cat   \n",
       "12    1997-10-03     Adoption 2013-11-22 09:44:00         Dog   \n",
       "13    2000-04-27   Euthanasia 2015-02-17 16:25:00         Dog   \n",
       "14    1999-06-01     Adoption 2016-10-07 12:34:00         Dog   \n",
       "\n",
       "                     breed     intake_datetime  shelter_length  \\\n",
       "3                Dachshund 2014-04-02 15:55:00             0.0   \n",
       "11  American Shorthair Mix 2014-12-08 12:30:00             2.0   \n",
       "12           Dachshund Mix 2013-10-03 15:47:00             7.0   \n",
       "13       Border Collie Mix 2015-02-17 13:17:00             0.0   \n",
       "14     Chihuahua Shorthair 2016-09-28 12:05:00             1.0   \n",
       "\n",
       "       age_of_outcome  \n",
       "3  3657 days 15:12:00  \n",
       "11 5449 days 15:23:00  \n",
       "12 5894 days 09:44:00  \n",
       "13 5409 days 16:25:00  \n",
       "14 6338 days 12:34:00  "
      ]
     },
     "execution_count": 13,
     "metadata": {},
     "output_type": "execute_result"
    }
   ],
   "source": [
    "aac.head()"
   ]
  },
  {
   "cell_type": "code",
   "execution_count": null,
   "metadata": {},
   "outputs": [],
   "source": []
  },
  {
   "cell_type": "code",
   "execution_count": 16,
   "metadata": {},
   "outputs": [],
   "source": [
    "#calculating the age of the animal at outcome so that this can be sorted on - calculating based on years\n",
    "aac['age_of_outcome'] = aac['age_of_outcome'].astype('timedelta64[Y]')"
   ]
  },
  {
   "cell_type": "code",
   "execution_count": 17,
   "metadata": {},
   "outputs": [],
   "source": [
    "aac['age_of_outcome'] = aac['age_of_outcome'] / np.timedelta64(1,'Y')"
   ]
  },
  {
   "cell_type": "code",
   "execution_count": 18,
   "metadata": {},
   "outputs": [
    {
     "data": {
      "text/html": [
       "<div>\n",
       "<style scoped>\n",
       "    .dataframe tbody tr th:only-of-type {\n",
       "        vertical-align: middle;\n",
       "    }\n",
       "\n",
       "    .dataframe tbody tr th {\n",
       "        vertical-align: top;\n",
       "    }\n",
       "\n",
       "    .dataframe thead th {\n",
       "        text-align: right;\n",
       "    }\n",
       "</style>\n",
       "<table border=\"1\" class=\"dataframe\">\n",
       "  <thead>\n",
       "    <tr style=\"text-align: right;\">\n",
       "      <th></th>\n",
       "      <th>date_of_birth</th>\n",
       "      <th>outcome_type</th>\n",
       "      <th>outcome_datetime</th>\n",
       "      <th>animal_type</th>\n",
       "      <th>breed</th>\n",
       "      <th>intake_datetime</th>\n",
       "      <th>shelter_length</th>\n",
       "      <th>age_of_outcome</th>\n",
       "    </tr>\n",
       "  </thead>\n",
       "  <tbody>\n",
       "    <tr>\n",
       "      <th>3</th>\n",
       "      <td>2004-04-02</td>\n",
       "      <td>Transfer</td>\n",
       "      <td>2014-04-07 15:12:00</td>\n",
       "      <td>Dog</td>\n",
       "      <td>Dachshund</td>\n",
       "      <td>2014-04-02 15:55:00</td>\n",
       "      <td>0.0</td>\n",
       "      <td>10.0</td>\n",
       "    </tr>\n",
       "    <tr>\n",
       "      <th>11</th>\n",
       "      <td>2000-01-21</td>\n",
       "      <td>Transfer</td>\n",
       "      <td>2014-12-22 15:23:00</td>\n",
       "      <td>Cat</td>\n",
       "      <td>American Shorthair Mix</td>\n",
       "      <td>2014-12-08 12:30:00</td>\n",
       "      <td>2.0</td>\n",
       "      <td>14.0</td>\n",
       "    </tr>\n",
       "    <tr>\n",
       "      <th>12</th>\n",
       "      <td>1997-10-03</td>\n",
       "      <td>Adoption</td>\n",
       "      <td>2013-11-22 09:44:00</td>\n",
       "      <td>Dog</td>\n",
       "      <td>Dachshund Mix</td>\n",
       "      <td>2013-10-03 15:47:00</td>\n",
       "      <td>7.0</td>\n",
       "      <td>16.0</td>\n",
       "    </tr>\n",
       "    <tr>\n",
       "      <th>13</th>\n",
       "      <td>2000-04-27</td>\n",
       "      <td>Euthanasia</td>\n",
       "      <td>2015-02-17 16:25:00</td>\n",
       "      <td>Dog</td>\n",
       "      <td>Border Collie Mix</td>\n",
       "      <td>2015-02-17 13:17:00</td>\n",
       "      <td>0.0</td>\n",
       "      <td>14.0</td>\n",
       "    </tr>\n",
       "    <tr>\n",
       "      <th>14</th>\n",
       "      <td>1999-06-01</td>\n",
       "      <td>Adoption</td>\n",
       "      <td>2016-10-07 12:34:00</td>\n",
       "      <td>Dog</td>\n",
       "      <td>Chihuahua Shorthair</td>\n",
       "      <td>2016-09-28 12:05:00</td>\n",
       "      <td>1.0</td>\n",
       "      <td>17.0</td>\n",
       "    </tr>\n",
       "  </tbody>\n",
       "</table>\n",
       "</div>"
      ],
      "text/plain": [
       "   date_of_birth outcome_type    outcome_datetime animal_type  \\\n",
       "3     2004-04-02     Transfer 2014-04-07 15:12:00         Dog   \n",
       "11    2000-01-21     Transfer 2014-12-22 15:23:00         Cat   \n",
       "12    1997-10-03     Adoption 2013-11-22 09:44:00         Dog   \n",
       "13    2000-04-27   Euthanasia 2015-02-17 16:25:00         Dog   \n",
       "14    1999-06-01     Adoption 2016-10-07 12:34:00         Dog   \n",
       "\n",
       "                     breed     intake_datetime  shelter_length  age_of_outcome  \n",
       "3                Dachshund 2014-04-02 15:55:00             0.0            10.0  \n",
       "11  American Shorthair Mix 2014-12-08 12:30:00             2.0            14.0  \n",
       "12           Dachshund Mix 2013-10-03 15:47:00             7.0            16.0  \n",
       "13       Border Collie Mix 2015-02-17 13:17:00             0.0            14.0  \n",
       "14     Chihuahua Shorthair 2016-09-28 12:05:00             1.0            17.0  "
      ]
     },
     "execution_count": 18,
     "metadata": {},
     "output_type": "execute_result"
    }
   ],
   "source": [
    "aac.head()"
   ]
  },
  {
   "cell_type": "code",
   "execution_count": 19,
   "metadata": {},
   "outputs": [
    {
     "data": {
      "text/html": [
       "<div>\n",
       "<style scoped>\n",
       "    .dataframe tbody tr th:only-of-type {\n",
       "        vertical-align: middle;\n",
       "    }\n",
       "\n",
       "    .dataframe tbody tr th {\n",
       "        vertical-align: top;\n",
       "    }\n",
       "\n",
       "    .dataframe thead th {\n",
       "        text-align: right;\n",
       "    }\n",
       "</style>\n",
       "<table border=\"1\" class=\"dataframe\">\n",
       "  <thead>\n",
       "    <tr style=\"text-align: right;\">\n",
       "      <th></th>\n",
       "      <th>date_of_birth</th>\n",
       "      <th>outcome_type</th>\n",
       "      <th>outcome_datetime</th>\n",
       "      <th>animal_type</th>\n",
       "      <th>breed</th>\n",
       "      <th>intake_datetime</th>\n",
       "      <th>shelter_length</th>\n",
       "      <th>age_of_outcome</th>\n",
       "    </tr>\n",
       "  </thead>\n",
       "  <tbody>\n",
       "    <tr>\n",
       "      <th>66636</th>\n",
       "      <td>2017-07-01</td>\n",
       "      <td>Euthanasia</td>\n",
       "      <td>2017-05-12 16:43:00</td>\n",
       "      <td>Cat</td>\n",
       "      <td>Domestic Shorthair Mix</td>\n",
       "      <td>2017-05-12 15:50:00</td>\n",
       "      <td>0.0</td>\n",
       "      <td>-1.0</td>\n",
       "    </tr>\n",
       "    <tr>\n",
       "      <th>35969</th>\n",
       "      <td>2015-07-06</td>\n",
       "      <td>Transfer</td>\n",
       "      <td>2015-07-05 14:46:00</td>\n",
       "      <td>Cat</td>\n",
       "      <td>Domestic Shorthair Mix</td>\n",
       "      <td>2015-07-05 13:25:00</td>\n",
       "      <td>0.0</td>\n",
       "      <td>-1.0</td>\n",
       "    </tr>\n",
       "    <tr>\n",
       "      <th>57630</th>\n",
       "      <td>2016-10-28</td>\n",
       "      <td>Transfer</td>\n",
       "      <td>2016-10-04 15:13:00</td>\n",
       "      <td>Cat</td>\n",
       "      <td>Domestic Shorthair Mix</td>\n",
       "      <td>2016-10-04 12:49:00</td>\n",
       "      <td>0.0</td>\n",
       "      <td>-1.0</td>\n",
       "    </tr>\n",
       "    <tr>\n",
       "      <th>68511</th>\n",
       "      <td>2014-12-12</td>\n",
       "      <td>Adoption</td>\n",
       "      <td>2014-09-10 17:29:00</td>\n",
       "      <td>Dog</td>\n",
       "      <td>Border Collie Mix</td>\n",
       "      <td>2014-09-09 11:02:00</td>\n",
       "      <td>0.0</td>\n",
       "      <td>-1.0</td>\n",
       "    </tr>\n",
       "    <tr>\n",
       "      <th>32209</th>\n",
       "      <td>2015-08-29</td>\n",
       "      <td>Adoption</td>\n",
       "      <td>2015-05-24 17:01:00</td>\n",
       "      <td>Cat</td>\n",
       "      <td>Domestic Shorthair Mix</td>\n",
       "      <td>2015-05-12 12:37:00</td>\n",
       "      <td>1.0</td>\n",
       "      <td>-1.0</td>\n",
       "    </tr>\n",
       "  </tbody>\n",
       "</table>\n",
       "</div>"
      ],
      "text/plain": [
       "      date_of_birth outcome_type    outcome_datetime animal_type  \\\n",
       "66636    2017-07-01   Euthanasia 2017-05-12 16:43:00         Cat   \n",
       "35969    2015-07-06     Transfer 2015-07-05 14:46:00         Cat   \n",
       "57630    2016-10-28     Transfer 2016-10-04 15:13:00         Cat   \n",
       "68511    2014-12-12     Adoption 2014-09-10 17:29:00         Dog   \n",
       "32209    2015-08-29     Adoption 2015-05-24 17:01:00         Cat   \n",
       "\n",
       "                        breed     intake_datetime  shelter_length  \\\n",
       "66636  Domestic Shorthair Mix 2017-05-12 15:50:00             0.0   \n",
       "35969  Domestic Shorthair Mix 2015-07-05 13:25:00             0.0   \n",
       "57630  Domestic Shorthair Mix 2016-10-04 12:49:00             0.0   \n",
       "68511       Border Collie Mix 2014-09-09 11:02:00             0.0   \n",
       "32209  Domestic Shorthair Mix 2015-05-12 12:37:00             1.0   \n",
       "\n",
       "       age_of_outcome  \n",
       "66636            -1.0  \n",
       "35969            -1.0  \n",
       "57630            -1.0  \n",
       "68511            -1.0  \n",
       "32209            -1.0  "
      ]
     },
     "execution_count": 19,
     "metadata": {},
     "output_type": "execute_result"
    }
   ],
   "source": [
    "aac = aac.sort_values(['age_of_outcome'])\n",
    "aac.head()"
   ]
  },
  {
   "cell_type": "code",
   "execution_count": 20,
   "metadata": {},
   "outputs": [
    {
     "data": {
      "text/html": [
       "<div>\n",
       "<style scoped>\n",
       "    .dataframe tbody tr th:only-of-type {\n",
       "        vertical-align: middle;\n",
       "    }\n",
       "\n",
       "    .dataframe tbody tr th {\n",
       "        vertical-align: top;\n",
       "    }\n",
       "\n",
       "    .dataframe thead th {\n",
       "        text-align: right;\n",
       "    }\n",
       "</style>\n",
       "<table border=\"1\" class=\"dataframe\">\n",
       "  <thead>\n",
       "    <tr style=\"text-align: right;\">\n",
       "      <th></th>\n",
       "      <th>date_of_birth</th>\n",
       "      <th>outcome_type</th>\n",
       "      <th>outcome_datetime</th>\n",
       "      <th>animal_type</th>\n",
       "      <th>breed</th>\n",
       "      <th>intake_datetime</th>\n",
       "      <th>shelter_length</th>\n",
       "      <th>age_of_outcome</th>\n",
       "    </tr>\n",
       "  </thead>\n",
       "  <tbody>\n",
       "    <tr>\n",
       "      <th>39561</th>\n",
       "      <td>2015-04-06</td>\n",
       "      <td>Transfer</td>\n",
       "      <td>2015-09-21 15:56:00</td>\n",
       "      <td>Cat</td>\n",
       "      <td>Domestic Shorthair Mix</td>\n",
       "      <td>2015-09-12 12:17:00</td>\n",
       "      <td>1.0</td>\n",
       "      <td>0.0</td>\n",
       "    </tr>\n",
       "    <tr>\n",
       "      <th>35002</th>\n",
       "      <td>2015-05-20</td>\n",
       "      <td>Adoption</td>\n",
       "      <td>2015-08-25 08:13:00</td>\n",
       "      <td>Cat</td>\n",
       "      <td>Domestic Shorthair Mix</td>\n",
       "      <td>2015-06-20 14:25:00</td>\n",
       "      <td>9.0</td>\n",
       "      <td>0.0</td>\n",
       "    </tr>\n",
       "    <tr>\n",
       "      <th>64776</th>\n",
       "      <td>2016-08-03</td>\n",
       "      <td>Adoption</td>\n",
       "      <td>2017-04-10 18:55:00</td>\n",
       "      <td>Cat</td>\n",
       "      <td>Domestic Shorthair Mix</td>\n",
       "      <td>2017-04-03 16:27:00</td>\n",
       "      <td>1.0</td>\n",
       "      <td>0.0</td>\n",
       "    </tr>\n",
       "    <tr>\n",
       "      <th>35004</th>\n",
       "      <td>2015-05-05</td>\n",
       "      <td>Adoption</td>\n",
       "      <td>2015-07-01 18:00:00</td>\n",
       "      <td>Cat</td>\n",
       "      <td>Domestic Shorthair Mix</td>\n",
       "      <td>2015-06-20 14:30:00</td>\n",
       "      <td>1.0</td>\n",
       "      <td>0.0</td>\n",
       "    </tr>\n",
       "    <tr>\n",
       "      <th>35006</th>\n",
       "      <td>2015-05-11</td>\n",
       "      <td>Died</td>\n",
       "      <td>2015-06-27 08:36:00</td>\n",
       "      <td>Cat</td>\n",
       "      <td>Domestic Shorthair Mix</td>\n",
       "      <td>2015-06-20 14:37:00</td>\n",
       "      <td>0.0</td>\n",
       "      <td>0.0</td>\n",
       "    </tr>\n",
       "  </tbody>\n",
       "</table>\n",
       "</div>"
      ],
      "text/plain": [
       "      date_of_birth outcome_type    outcome_datetime animal_type  \\\n",
       "39561    2015-04-06     Transfer 2015-09-21 15:56:00         Cat   \n",
       "35002    2015-05-20     Adoption 2015-08-25 08:13:00         Cat   \n",
       "64776    2016-08-03     Adoption 2017-04-10 18:55:00         Cat   \n",
       "35004    2015-05-05     Adoption 2015-07-01 18:00:00         Cat   \n",
       "35006    2015-05-11         Died 2015-06-27 08:36:00         Cat   \n",
       "\n",
       "                        breed     intake_datetime  shelter_length  \\\n",
       "39561  Domestic Shorthair Mix 2015-09-12 12:17:00             1.0   \n",
       "35002  Domestic Shorthair Mix 2015-06-20 14:25:00             9.0   \n",
       "64776  Domestic Shorthair Mix 2017-04-03 16:27:00             1.0   \n",
       "35004  Domestic Shorthair Mix 2015-06-20 14:30:00             1.0   \n",
       "35006  Domestic Shorthair Mix 2015-06-20 14:37:00             0.0   \n",
       "\n",
       "       age_of_outcome  \n",
       "39561             0.0  \n",
       "35002             0.0  \n",
       "64776             0.0  \n",
       "35004             0.0  \n",
       "35006             0.0  "
      ]
     },
     "execution_count": 20,
     "metadata": {},
     "output_type": "execute_result"
    }
   ],
   "source": [
    "#removed ages that are -1 aprox 5 as most likely human error\n",
    "aac = aac[aac.age_of_outcome != -1.0]\n",
    "aac.head()\n"
   ]
  },
  {
   "cell_type": "code",
   "execution_count": 21,
   "metadata": {},
   "outputs": [
    {
     "data": {
      "text/html": [
       "<div>\n",
       "<style scoped>\n",
       "    .dataframe tbody tr th:only-of-type {\n",
       "        vertical-align: middle;\n",
       "    }\n",
       "\n",
       "    .dataframe tbody tr th {\n",
       "        vertical-align: top;\n",
       "    }\n",
       "\n",
       "    .dataframe thead th {\n",
       "        text-align: right;\n",
       "    }\n",
       "</style>\n",
       "<table border=\"1\" class=\"dataframe\">\n",
       "  <thead>\n",
       "    <tr style=\"text-align: right;\">\n",
       "      <th></th>\n",
       "      <th>date_of_birth</th>\n",
       "      <th>outcome_type</th>\n",
       "      <th>outcome_datetime</th>\n",
       "      <th>animal_type</th>\n",
       "      <th>breed</th>\n",
       "      <th>intake_datetime</th>\n",
       "      <th>shelter_length</th>\n",
       "      <th>age_of_outcome</th>\n",
       "    </tr>\n",
       "  </thead>\n",
       "  <tbody>\n",
       "    <tr>\n",
       "      <th>68455</th>\n",
       "      <td>1997-06-11</td>\n",
       "      <td>Euthanasia</td>\n",
       "      <td>2017-06-12 11:04:00</td>\n",
       "      <td>Cat</td>\n",
       "      <td>Domestic Shorthair Mix</td>\n",
       "      <td>2017-06-11 11:16:00</td>\n",
       "      <td>0.0</td>\n",
       "      <td>20.0</td>\n",
       "    </tr>\n",
       "    <tr>\n",
       "      <th>23051</th>\n",
       "      <td>1994-10-11</td>\n",
       "      <td>Euthanasia</td>\n",
       "      <td>2014-10-11 17:58:00</td>\n",
       "      <td>Cat</td>\n",
       "      <td>Domestic Medium Hair Mix</td>\n",
       "      <td>2014-10-11 17:26:00</td>\n",
       "      <td>0.0</td>\n",
       "      <td>20.0</td>\n",
       "    </tr>\n",
       "    <tr>\n",
       "      <th>60535</th>\n",
       "      <td>1996-12-11</td>\n",
       "      <td>Transfer</td>\n",
       "      <td>2016-12-16 00:00:00</td>\n",
       "      <td>Bird</td>\n",
       "      <td>Cockatoo</td>\n",
       "      <td>2016-12-11 14:55:00</td>\n",
       "      <td>0.0</td>\n",
       "      <td>20.0</td>\n",
       "    </tr>\n",
       "    <tr>\n",
       "      <th>63649</th>\n",
       "      <td>1995-03-06</td>\n",
       "      <td>Euthanasia</td>\n",
       "      <td>2017-03-06 17:09:00</td>\n",
       "      <td>Cat</td>\n",
       "      <td>Domestic Shorthair Mix</td>\n",
       "      <td>2017-03-06 16:31:00</td>\n",
       "      <td>0.0</td>\n",
       "      <td>22.0</td>\n",
       "    </tr>\n",
       "    <tr>\n",
       "      <th>60536</th>\n",
       "      <td>1991-12-11</td>\n",
       "      <td>Transfer</td>\n",
       "      <td>2016-12-16 00:00:00</td>\n",
       "      <td>Bird</td>\n",
       "      <td>Cockatoo</td>\n",
       "      <td>2016-12-11 14:55:00</td>\n",
       "      <td>0.0</td>\n",
       "      <td>25.0</td>\n",
       "    </tr>\n",
       "  </tbody>\n",
       "</table>\n",
       "</div>"
      ],
      "text/plain": [
       "      date_of_birth outcome_type    outcome_datetime animal_type  \\\n",
       "68455    1997-06-11   Euthanasia 2017-06-12 11:04:00         Cat   \n",
       "23051    1994-10-11   Euthanasia 2014-10-11 17:58:00         Cat   \n",
       "60535    1996-12-11     Transfer 2016-12-16 00:00:00        Bird   \n",
       "63649    1995-03-06   Euthanasia 2017-03-06 17:09:00         Cat   \n",
       "60536    1991-12-11     Transfer 2016-12-16 00:00:00        Bird   \n",
       "\n",
       "                          breed     intake_datetime  shelter_length  \\\n",
       "68455    Domestic Shorthair Mix 2017-06-11 11:16:00             0.0   \n",
       "23051  Domestic Medium Hair Mix 2014-10-11 17:26:00             0.0   \n",
       "60535                  Cockatoo 2016-12-11 14:55:00             0.0   \n",
       "63649    Domestic Shorthair Mix 2017-03-06 16:31:00             0.0   \n",
       "60536                  Cockatoo 2016-12-11 14:55:00             0.0   \n",
       "\n",
       "       age_of_outcome  \n",
       "68455            20.0  \n",
       "23051            20.0  \n",
       "60535            20.0  \n",
       "63649            22.0  \n",
       "60536            25.0  "
      ]
     },
     "execution_count": 21,
     "metadata": {},
     "output_type": "execute_result"
    }
   ],
   "source": [
    "aac.tail()"
   ]
  },
  {
   "cell_type": "code",
   "execution_count": 22,
   "metadata": {},
   "outputs": [
    {
     "data": {
      "text/plain": [
       "date_of_birth       False\n",
       "outcome_type         True\n",
       "outcome_datetime    False\n",
       "animal_type         False\n",
       "breed               False\n",
       "intake_datetime     False\n",
       "shelter_length      False\n",
       "age_of_outcome      False\n",
       "dtype: bool"
      ]
     },
     "execution_count": 22,
     "metadata": {},
     "output_type": "execute_result"
    }
   ],
   "source": [
    "#checking for any null values - see that outcome_type contains some\n",
    "aac.isna().any()"
   ]
  },
  {
   "cell_type": "code",
   "execution_count": 23,
   "metadata": {},
   "outputs": [
    {
     "data": {
      "text/plain": [
       "16566    False\n",
       "16568    False\n",
       "70554    False\n",
       "16528    False\n",
       "16526    False\n",
       "70584    False\n",
       "16574    False\n",
       "60536    False\n",
       "70572    False\n",
       "16478    False\n",
       "59034     True\n",
       "20020     True\n",
       "63150     True\n",
       "71335     True\n",
       "71341     True\n",
       "11057     True\n",
       "9016      True\n",
       "71339     True\n",
       "14583     True\n",
       "44097     True\n",
       "Name: outcome_type, dtype: bool"
      ]
     },
     "execution_count": 23,
     "metadata": {},
     "output_type": "execute_result"
    }
   ],
   "source": [
    "#used sort_values to isolate the Nan values\n",
    "aac['outcome_type'].isna().sort_values().tail(20)"
   ]
  },
  {
   "cell_type": "code",
   "execution_count": 24,
   "metadata": {},
   "outputs": [
    {
     "data": {
      "text/plain": [
       "date_of_birth       2014-03-09 00:00:00\n",
       "outcome_type                        NaN\n",
       "outcome_datetime    2014-03-09 18:15:00\n",
       "animal_type                       Other\n",
       "breed                           Bat Mix\n",
       "intake_datetime     2014-03-09 16:38:00\n",
       "shelter_length                        0\n",
       "age_of_outcome                        0\n",
       "Name: 11057, dtype: object"
      ]
     },
     "execution_count": 24,
     "metadata": {},
     "output_type": "execute_result"
    }
   ],
   "source": [
    "aac.loc[11057]"
   ]
  },
  {
   "cell_type": "code",
   "execution_count": 25,
   "metadata": {},
   "outputs": [],
   "source": [
    "#since only 10 entries had Nan values, I decided to drop, especially since entries seemed inconsistent upon reviewing\n",
    "aac = aac.dropna(subset = ['outcome_type'])"
   ]
  },
  {
   "cell_type": "code",
   "execution_count": 26,
   "metadata": {},
   "outputs": [
    {
     "data": {
      "text/plain": [
       "date_of_birth       False\n",
       "outcome_type        False\n",
       "outcome_datetime    False\n",
       "animal_type         False\n",
       "breed               False\n",
       "intake_datetime     False\n",
       "shelter_length      False\n",
       "age_of_outcome      False\n",
       "dtype: bool"
      ]
     },
     "execution_count": 26,
     "metadata": {},
     "output_type": "execute_result"
    }
   ],
   "source": [
    "aac.isna().any()"
   ]
  },
  {
   "cell_type": "code",
   "execution_count": null,
   "metadata": {},
   "outputs": [],
   "source": []
  },
  {
   "cell_type": "code",
   "execution_count": 27,
   "metadata": {
    "scrolled": true
   },
   "outputs": [
    {
     "data": {
      "text/html": [
       "<div>\n",
       "<style scoped>\n",
       "    .dataframe tbody tr th:only-of-type {\n",
       "        vertical-align: middle;\n",
       "    }\n",
       "\n",
       "    .dataframe tbody tr th {\n",
       "        vertical-align: top;\n",
       "    }\n",
       "\n",
       "    .dataframe thead th {\n",
       "        text-align: right;\n",
       "    }\n",
       "</style>\n",
       "<table border=\"1\" class=\"dataframe\">\n",
       "  <thead>\n",
       "    <tr style=\"text-align: right;\">\n",
       "      <th></th>\n",
       "      <th>date_of_birth</th>\n",
       "      <th>outcome_type</th>\n",
       "      <th>outcome_datetime</th>\n",
       "      <th>animal_type</th>\n",
       "      <th>breed</th>\n",
       "      <th>intake_datetime</th>\n",
       "      <th>shelter_length</th>\n",
       "      <th>age_of_outcome</th>\n",
       "    </tr>\n",
       "  </thead>\n",
       "  <tbody>\n",
       "    <tr>\n",
       "      <th>39561</th>\n",
       "      <td>2015-04-06</td>\n",
       "      <td>Transfer</td>\n",
       "      <td>2015-09-21 15:56:00</td>\n",
       "      <td>Cat</td>\n",
       "      <td>Domestic Shorthair Mix</td>\n",
       "      <td>2015-09-12 12:17:00</td>\n",
       "      <td>1.0</td>\n",
       "      <td>0.0</td>\n",
       "    </tr>\n",
       "    <tr>\n",
       "      <th>35002</th>\n",
       "      <td>2015-05-20</td>\n",
       "      <td>Adoption</td>\n",
       "      <td>2015-08-25 08:13:00</td>\n",
       "      <td>Cat</td>\n",
       "      <td>Domestic Shorthair Mix</td>\n",
       "      <td>2015-06-20 14:25:00</td>\n",
       "      <td>9.0</td>\n",
       "      <td>0.0</td>\n",
       "    </tr>\n",
       "    <tr>\n",
       "      <th>64776</th>\n",
       "      <td>2016-08-03</td>\n",
       "      <td>Adoption</td>\n",
       "      <td>2017-04-10 18:55:00</td>\n",
       "      <td>Cat</td>\n",
       "      <td>Domestic Shorthair Mix</td>\n",
       "      <td>2017-04-03 16:27:00</td>\n",
       "      <td>1.0</td>\n",
       "      <td>0.0</td>\n",
       "    </tr>\n",
       "    <tr>\n",
       "      <th>35004</th>\n",
       "      <td>2015-05-05</td>\n",
       "      <td>Adoption</td>\n",
       "      <td>2015-07-01 18:00:00</td>\n",
       "      <td>Cat</td>\n",
       "      <td>Domestic Shorthair Mix</td>\n",
       "      <td>2015-06-20 14:30:00</td>\n",
       "      <td>1.0</td>\n",
       "      <td>0.0</td>\n",
       "    </tr>\n",
       "    <tr>\n",
       "      <th>35006</th>\n",
       "      <td>2015-05-11</td>\n",
       "      <td>Died</td>\n",
       "      <td>2015-06-27 08:36:00</td>\n",
       "      <td>Cat</td>\n",
       "      <td>Domestic Shorthair Mix</td>\n",
       "      <td>2015-06-20 14:37:00</td>\n",
       "      <td>0.0</td>\n",
       "      <td>0.0</td>\n",
       "    </tr>\n",
       "  </tbody>\n",
       "</table>\n",
       "</div>"
      ],
      "text/plain": [
       "      date_of_birth outcome_type    outcome_datetime animal_type  \\\n",
       "39561    2015-04-06     Transfer 2015-09-21 15:56:00         Cat   \n",
       "35002    2015-05-20     Adoption 2015-08-25 08:13:00         Cat   \n",
       "64776    2016-08-03     Adoption 2017-04-10 18:55:00         Cat   \n",
       "35004    2015-05-05     Adoption 2015-07-01 18:00:00         Cat   \n",
       "35006    2015-05-11         Died 2015-06-27 08:36:00         Cat   \n",
       "\n",
       "                        breed     intake_datetime  shelter_length  \\\n",
       "39561  Domestic Shorthair Mix 2015-09-12 12:17:00             1.0   \n",
       "35002  Domestic Shorthair Mix 2015-06-20 14:25:00             9.0   \n",
       "64776  Domestic Shorthair Mix 2017-04-03 16:27:00             1.0   \n",
       "35004  Domestic Shorthair Mix 2015-06-20 14:30:00             1.0   \n",
       "35006  Domestic Shorthair Mix 2015-06-20 14:37:00             0.0   \n",
       "\n",
       "       age_of_outcome  \n",
       "39561             0.0  \n",
       "35002             0.0  \n",
       "64776             0.0  \n",
       "35004             0.0  \n",
       "35006             0.0  "
      ]
     },
     "execution_count": 27,
     "metadata": {},
     "output_type": "execute_result"
    }
   ],
   "source": [
    "#noticed that animal type contained Other and Bird, which was not useful to this problem. I excluded them so that data will only reflect Cats and dogs\n",
    "aac = aac[aac.animal_type != 'Other']\n",
    "aac = aac[aac.animal_type != 'Bird']\n",
    "aac.head()"
   ]
  },
  {
   "cell_type": "code",
   "execution_count": 28,
   "metadata": {
    "scrolled": true
   },
   "outputs": [
    {
     "data": {
      "text/html": [
       "<div>\n",
       "<style scoped>\n",
       "    .dataframe tbody tr th:only-of-type {\n",
       "        vertical-align: middle;\n",
       "    }\n",
       "\n",
       "    .dataframe tbody tr th {\n",
       "        vertical-align: top;\n",
       "    }\n",
       "\n",
       "    .dataframe thead th {\n",
       "        text-align: right;\n",
       "    }\n",
       "</style>\n",
       "<table border=\"1\" class=\"dataframe\">\n",
       "  <thead>\n",
       "    <tr style=\"text-align: right;\">\n",
       "      <th></th>\n",
       "      <th></th>\n",
       "      <th>date_of_birth</th>\n",
       "      <th>outcome_datetime</th>\n",
       "      <th>breed</th>\n",
       "      <th>intake_datetime</th>\n",
       "      <th>shelter_length</th>\n",
       "      <th>age_of_outcome</th>\n",
       "    </tr>\n",
       "    <tr>\n",
       "      <th>animal_type</th>\n",
       "      <th>outcome_type</th>\n",
       "      <th></th>\n",
       "      <th></th>\n",
       "      <th></th>\n",
       "      <th></th>\n",
       "      <th></th>\n",
       "      <th></th>\n",
       "    </tr>\n",
       "  </thead>\n",
       "  <tbody>\n",
       "    <tr>\n",
       "      <th rowspan=\"7\" valign=\"top\">Cat</th>\n",
       "      <th>Adoption</th>\n",
       "      <td>12673</td>\n",
       "      <td>12673</td>\n",
       "      <td>12673</td>\n",
       "      <td>12673</td>\n",
       "      <td>12673</td>\n",
       "      <td>12673</td>\n",
       "    </tr>\n",
       "    <tr>\n",
       "      <th>Died</th>\n",
       "      <td>402</td>\n",
       "      <td>402</td>\n",
       "      <td>402</td>\n",
       "      <td>402</td>\n",
       "      <td>402</td>\n",
       "      <td>402</td>\n",
       "    </tr>\n",
       "    <tr>\n",
       "      <th>Disposal</th>\n",
       "      <td>13</td>\n",
       "      <td>13</td>\n",
       "      <td>13</td>\n",
       "      <td>13</td>\n",
       "      <td>13</td>\n",
       "      <td>13</td>\n",
       "    </tr>\n",
       "    <tr>\n",
       "      <th>Euthanasia</th>\n",
       "      <td>1474</td>\n",
       "      <td>1474</td>\n",
       "      <td>1474</td>\n",
       "      <td>1474</td>\n",
       "      <td>1474</td>\n",
       "      <td>1474</td>\n",
       "    </tr>\n",
       "    <tr>\n",
       "      <th>Missing</th>\n",
       "      <td>29</td>\n",
       "      <td>29</td>\n",
       "      <td>29</td>\n",
       "      <td>29</td>\n",
       "      <td>29</td>\n",
       "      <td>29</td>\n",
       "    </tr>\n",
       "    <tr>\n",
       "      <th>Rto-Adopt</th>\n",
       "      <td>36</td>\n",
       "      <td>36</td>\n",
       "      <td>36</td>\n",
       "      <td>36</td>\n",
       "      <td>36</td>\n",
       "      <td>36</td>\n",
       "    </tr>\n",
       "    <tr>\n",
       "      <th>Transfer</th>\n",
       "      <td>13433</td>\n",
       "      <td>13433</td>\n",
       "      <td>13433</td>\n",
       "      <td>13433</td>\n",
       "      <td>13433</td>\n",
       "      <td>13433</td>\n",
       "    </tr>\n",
       "    <tr>\n",
       "      <th rowspan=\"7\" valign=\"top\">Dog</th>\n",
       "      <th>Adoption</th>\n",
       "      <td>20580</td>\n",
       "      <td>20580</td>\n",
       "      <td>20580</td>\n",
       "      <td>20580</td>\n",
       "      <td>20580</td>\n",
       "      <td>20580</td>\n",
       "    </tr>\n",
       "    <tr>\n",
       "      <th>Died</th>\n",
       "      <td>142</td>\n",
       "      <td>142</td>\n",
       "      <td>142</td>\n",
       "      <td>142</td>\n",
       "      <td>142</td>\n",
       "      <td>142</td>\n",
       "    </tr>\n",
       "    <tr>\n",
       "      <th>Disposal</th>\n",
       "      <td>10</td>\n",
       "      <td>10</td>\n",
       "      <td>10</td>\n",
       "      <td>10</td>\n",
       "      <td>10</td>\n",
       "      <td>10</td>\n",
       "    </tr>\n",
       "    <tr>\n",
       "      <th>Euthanasia</th>\n",
       "      <td>1502</td>\n",
       "      <td>1502</td>\n",
       "      <td>1502</td>\n",
       "      <td>1502</td>\n",
       "      <td>1502</td>\n",
       "      <td>1502</td>\n",
       "    </tr>\n",
       "    <tr>\n",
       "      <th>Missing</th>\n",
       "      <td>16</td>\n",
       "      <td>16</td>\n",
       "      <td>16</td>\n",
       "      <td>16</td>\n",
       "      <td>16</td>\n",
       "      <td>16</td>\n",
       "    </tr>\n",
       "    <tr>\n",
       "      <th>Rto-Adopt</th>\n",
       "      <td>143</td>\n",
       "      <td>143</td>\n",
       "      <td>143</td>\n",
       "      <td>143</td>\n",
       "      <td>143</td>\n",
       "      <td>143</td>\n",
       "    </tr>\n",
       "    <tr>\n",
       "      <th>Transfer</th>\n",
       "      <td>9697</td>\n",
       "      <td>9697</td>\n",
       "      <td>9697</td>\n",
       "      <td>9697</td>\n",
       "      <td>9697</td>\n",
       "      <td>9697</td>\n",
       "    </tr>\n",
       "  </tbody>\n",
       "</table>\n",
       "</div>"
      ],
      "text/plain": [
       "                          date_of_birth  outcome_datetime  breed  \\\n",
       "animal_type outcome_type                                           \n",
       "Cat         Adoption              12673             12673  12673   \n",
       "            Died                    402               402    402   \n",
       "            Disposal                 13                13     13   \n",
       "            Euthanasia             1474              1474   1474   \n",
       "            Missing                  29                29     29   \n",
       "            Rto-Adopt                36                36     36   \n",
       "            Transfer              13433             13433  13433   \n",
       "Dog         Adoption              20580             20580  20580   \n",
       "            Died                    142               142    142   \n",
       "            Disposal                 10                10     10   \n",
       "            Euthanasia             1502              1502   1502   \n",
       "            Missing                  16                16     16   \n",
       "            Rto-Adopt               143               143    143   \n",
       "            Transfer               9697              9697   9697   \n",
       "\n",
       "                          intake_datetime  shelter_length  age_of_outcome  \n",
       "animal_type outcome_type                                                   \n",
       "Cat         Adoption                12673           12673           12673  \n",
       "            Died                      402             402             402  \n",
       "            Disposal                   13              13              13  \n",
       "            Euthanasia               1474            1474            1474  \n",
       "            Missing                    29              29              29  \n",
       "            Rto-Adopt                  36              36              36  \n",
       "            Transfer                13433           13433           13433  \n",
       "Dog         Adoption                20580           20580           20580  \n",
       "            Died                      142             142             142  \n",
       "            Disposal                   10              10              10  \n",
       "            Euthanasia               1502            1502            1502  \n",
       "            Missing                    16              16              16  \n",
       "            Rto-Adopt                 143             143             143  \n",
       "            Transfer                 9697            9697            9697  "
      ]
     },
     "execution_count": 28,
     "metadata": {},
     "output_type": "execute_result"
    }
   ],
   "source": [
    "# data story telling portion\n",
    "# reviewing the data,  majority of animals were adopted, which is expected. may need to remove additional columns such as \n",
    "# disposal and Rto-adopt as not sure that they are relevant for data\n",
    "aac.groupby(['animal_type', 'outcome_type']).count()"
   ]
  },
  {
   "cell_type": "code",
   "execution_count": 29,
   "metadata": {},
   "outputs": [
    {
     "data": {
      "image/png": "[encoded data removed]",
      "text/plain": [
       "<Figure size 432x288 with 1 Axes>"
      ]
     },
     "metadata": {
      "needs_background": "light"
     },
     "output_type": "display_data"
    }
   ],
   "source": [
    "#grouping by outcome type and age of outcome to be able to compare. as expected large amount of animals aged 0-4 were adopted\n",
    "\n",
    "aac.groupby(['outcome_type','age_of_outcome'])['outcome_type'].count().unstack().plot(kind='bar')\n",
    "plt.show()\n"
   ]
  },
  {
   "cell_type": "code",
   "execution_count": 30,
   "metadata": {},
   "outputs": [
    {
     "data": {
      "text/html": [
       "<div>\n",
       "<style scoped>\n",
       "    .dataframe tbody tr th:only-of-type {\n",
       "        vertical-align: middle;\n",
       "    }\n",
       "\n",
       "    .dataframe tbody tr th {\n",
       "        vertical-align: top;\n",
       "    }\n",
       "\n",
       "    .dataframe thead th {\n",
       "        text-align: right;\n",
       "    }\n",
       "</style>\n",
       "<table border=\"1\" class=\"dataframe\">\n",
       "  <thead>\n",
       "    <tr style=\"text-align: right;\">\n",
       "      <th></th>\n",
       "      <th>date_of_birth</th>\n",
       "      <th>outcome_type</th>\n",
       "      <th>outcome_datetime</th>\n",
       "      <th>animal_type</th>\n",
       "      <th>breed</th>\n",
       "      <th>intake_datetime</th>\n",
       "      <th>shelter_length</th>\n",
       "      <th>age_of_outcome</th>\n",
       "      <th>age_category</th>\n",
       "    </tr>\n",
       "  </thead>\n",
       "  <tbody>\n",
       "    <tr>\n",
       "      <th>39561</th>\n",
       "      <td>2015-04-06</td>\n",
       "      <td>Transfer</td>\n",
       "      <td>2015-09-21 15:56:00</td>\n",
       "      <td>Cat</td>\n",
       "      <td>Domestic Shorthair Mix</td>\n",
       "      <td>2015-09-12 12:17:00</td>\n",
       "      <td>1.0</td>\n",
       "      <td>0.0</td>\n",
       "      <td>(-1.0, 1.0]</td>\n",
       "    </tr>\n",
       "    <tr>\n",
       "      <th>35002</th>\n",
       "      <td>2015-05-20</td>\n",
       "      <td>Adoption</td>\n",
       "      <td>2015-08-25 08:13:00</td>\n",
       "      <td>Cat</td>\n",
       "      <td>Domestic Shorthair Mix</td>\n",
       "      <td>2015-06-20 14:25:00</td>\n",
       "      <td>9.0</td>\n",
       "      <td>0.0</td>\n",
       "      <td>(-1.0, 1.0]</td>\n",
       "    </tr>\n",
       "    <tr>\n",
       "      <th>64776</th>\n",
       "      <td>2016-08-03</td>\n",
       "      <td>Adoption</td>\n",
       "      <td>2017-04-10 18:55:00</td>\n",
       "      <td>Cat</td>\n",
       "      <td>Domestic Shorthair Mix</td>\n",
       "      <td>2017-04-03 16:27:00</td>\n",
       "      <td>1.0</td>\n",
       "      <td>0.0</td>\n",
       "      <td>(-1.0, 1.0]</td>\n",
       "    </tr>\n",
       "    <tr>\n",
       "      <th>35004</th>\n",
       "      <td>2015-05-05</td>\n",
       "      <td>Adoption</td>\n",
       "      <td>2015-07-01 18:00:00</td>\n",
       "      <td>Cat</td>\n",
       "      <td>Domestic Shorthair Mix</td>\n",
       "      <td>2015-06-20 14:30:00</td>\n",
       "      <td>1.0</td>\n",
       "      <td>0.0</td>\n",
       "      <td>(-1.0, 1.0]</td>\n",
       "    </tr>\n",
       "    <tr>\n",
       "      <th>35006</th>\n",
       "      <td>2015-05-11</td>\n",
       "      <td>Died</td>\n",
       "      <td>2015-06-27 08:36:00</td>\n",
       "      <td>Cat</td>\n",
       "      <td>Domestic Shorthair Mix</td>\n",
       "      <td>2015-06-20 14:37:00</td>\n",
       "      <td>0.0</td>\n",
       "      <td>0.0</td>\n",
       "      <td>(-1.0, 1.0]</td>\n",
       "    </tr>\n",
       "  </tbody>\n",
       "</table>\n",
       "</div>"
      ],
      "text/plain": [
       "      date_of_birth outcome_type    outcome_datetime animal_type  \\\n",
       "39561    2015-04-06     Transfer 2015-09-21 15:56:00         Cat   \n",
       "35002    2015-05-20     Adoption 2015-08-25 08:13:00         Cat   \n",
       "64776    2016-08-03     Adoption 2017-04-10 18:55:00         Cat   \n",
       "35004    2015-05-05     Adoption 2015-07-01 18:00:00         Cat   \n",
       "35006    2015-05-11         Died 2015-06-27 08:36:00         Cat   \n",
       "\n",
       "                        breed     intake_datetime  shelter_length  \\\n",
       "39561  Domestic Shorthair Mix 2015-09-12 12:17:00             1.0   \n",
       "35002  Domestic Shorthair Mix 2015-06-20 14:25:00             9.0   \n",
       "64776  Domestic Shorthair Mix 2017-04-03 16:27:00             1.0   \n",
       "35004  Domestic Shorthair Mix 2015-06-20 14:30:00             1.0   \n",
       "35006  Domestic Shorthair Mix 2015-06-20 14:37:00             0.0   \n",
       "\n",
       "       age_of_outcome age_category  \n",
       "39561             0.0  (-1.0, 1.0]  \n",
       "35002             0.0  (-1.0, 1.0]  \n",
       "64776             0.0  (-1.0, 1.0]  \n",
       "35004             0.0  (-1.0, 1.0]  \n",
       "35006             0.0  (-1.0, 1.0]  "
      ]
     },
     "execution_count": 30,
     "metadata": {},
     "output_type": "execute_result"
    }
   ],
   "source": [
    "bins = pd.IntervalIndex.from_tuples([(-1,1), (1.0, 2.0), (2, 3), (3, 5), (5,8), (8,11), (11,23)])\n",
    "aac['age_category'] = pd.cut(aac['age_of_outcome'], bins)\n",
    "aac.head()"
   ]
  },
  {
   "cell_type": "code",
   "execution_count": 31,
   "metadata": {},
   "outputs": [
    {
     "data": {
      "text/html": [
       "<div>\n",
       "<style scoped>\n",
       "    .dataframe tbody tr th:only-of-type {\n",
       "        vertical-align: middle;\n",
       "    }\n",
       "\n",
       "    .dataframe tbody tr th {\n",
       "        vertical-align: top;\n",
       "    }\n",
       "\n",
       "    .dataframe thead th {\n",
       "        text-align: right;\n",
       "    }\n",
       "</style>\n",
       "<table border=\"1\" class=\"dataframe\">\n",
       "  <thead>\n",
       "    <tr style=\"text-align: right;\">\n",
       "      <th></th>\n",
       "      <th>date_of_birth</th>\n",
       "      <th>outcome_type</th>\n",
       "      <th>outcome_datetime</th>\n",
       "      <th>animal_type</th>\n",
       "      <th>breed</th>\n",
       "      <th>intake_datetime</th>\n",
       "      <th>shelter_length</th>\n",
       "      <th>age_of_outcome</th>\n",
       "      <th>age_category</th>\n",
       "      <th>shelter_bin</th>\n",
       "    </tr>\n",
       "  </thead>\n",
       "  <tbody>\n",
       "    <tr>\n",
       "      <th>39561</th>\n",
       "      <td>2015-04-06</td>\n",
       "      <td>Transfer</td>\n",
       "      <td>2015-09-21 15:56:00</td>\n",
       "      <td>Cat</td>\n",
       "      <td>Domestic Shorthair Mix</td>\n",
       "      <td>2015-09-12 12:17:00</td>\n",
       "      <td>1.0</td>\n",
       "      <td>0.0</td>\n",
       "      <td>(-1.0, 1.0]</td>\n",
       "      <td>(-1.0, 1.0]</td>\n",
       "    </tr>\n",
       "    <tr>\n",
       "      <th>35002</th>\n",
       "      <td>2015-05-20</td>\n",
       "      <td>Adoption</td>\n",
       "      <td>2015-08-25 08:13:00</td>\n",
       "      <td>Cat</td>\n",
       "      <td>Domestic Shorthair Mix</td>\n",
       "      <td>2015-06-20 14:25:00</td>\n",
       "      <td>9.0</td>\n",
       "      <td>0.0</td>\n",
       "      <td>(-1.0, 1.0]</td>\n",
       "      <td>(8.0, 11.0]</td>\n",
       "    </tr>\n",
       "    <tr>\n",
       "      <th>64776</th>\n",
       "      <td>2016-08-03</td>\n",
       "      <td>Adoption</td>\n",
       "      <td>2017-04-10 18:55:00</td>\n",
       "      <td>Cat</td>\n",
       "      <td>Domestic Shorthair Mix</td>\n",
       "      <td>2017-04-03 16:27:00</td>\n",
       "      <td>1.0</td>\n",
       "      <td>0.0</td>\n",
       "      <td>(-1.0, 1.0]</td>\n",
       "      <td>(-1.0, 1.0]</td>\n",
       "    </tr>\n",
       "    <tr>\n",
       "      <th>35004</th>\n",
       "      <td>2015-05-05</td>\n",
       "      <td>Adoption</td>\n",
       "      <td>2015-07-01 18:00:00</td>\n",
       "      <td>Cat</td>\n",
       "      <td>Domestic Shorthair Mix</td>\n",
       "      <td>2015-06-20 14:30:00</td>\n",
       "      <td>1.0</td>\n",
       "      <td>0.0</td>\n",
       "      <td>(-1.0, 1.0]</td>\n",
       "      <td>(-1.0, 1.0]</td>\n",
       "    </tr>\n",
       "    <tr>\n",
       "      <th>35006</th>\n",
       "      <td>2015-05-11</td>\n",
       "      <td>Died</td>\n",
       "      <td>2015-06-27 08:36:00</td>\n",
       "      <td>Cat</td>\n",
       "      <td>Domestic Shorthair Mix</td>\n",
       "      <td>2015-06-20 14:37:00</td>\n",
       "      <td>0.0</td>\n",
       "      <td>0.0</td>\n",
       "      <td>(-1.0, 1.0]</td>\n",
       "      <td>(-1.0, 1.0]</td>\n",
       "    </tr>\n",
       "  </tbody>\n",
       "</table>\n",
       "</div>"
      ],
      "text/plain": [
       "      date_of_birth outcome_type    outcome_datetime animal_type  \\\n",
       "39561    2015-04-06     Transfer 2015-09-21 15:56:00         Cat   \n",
       "35002    2015-05-20     Adoption 2015-08-25 08:13:00         Cat   \n",
       "64776    2016-08-03     Adoption 2017-04-10 18:55:00         Cat   \n",
       "35004    2015-05-05     Adoption 2015-07-01 18:00:00         Cat   \n",
       "35006    2015-05-11         Died 2015-06-27 08:36:00         Cat   \n",
       "\n",
       "                        breed     intake_datetime  shelter_length  \\\n",
       "39561  Domestic Shorthair Mix 2015-09-12 12:17:00             1.0   \n",
       "35002  Domestic Shorthair Mix 2015-06-20 14:25:00             9.0   \n",
       "64776  Domestic Shorthair Mix 2017-04-03 16:27:00             1.0   \n",
       "35004  Domestic Shorthair Mix 2015-06-20 14:30:00             1.0   \n",
       "35006  Domestic Shorthair Mix 2015-06-20 14:37:00             0.0   \n",
       "\n",
       "       age_of_outcome age_category  shelter_bin  \n",
       "39561             0.0  (-1.0, 1.0]  (-1.0, 1.0]  \n",
       "35002             0.0  (-1.0, 1.0]  (8.0, 11.0]  \n",
       "64776             0.0  (-1.0, 1.0]  (-1.0, 1.0]  \n",
       "35004             0.0  (-1.0, 1.0]  (-1.0, 1.0]  \n",
       "35006             0.0  (-1.0, 1.0]  (-1.0, 1.0]  "
      ]
     },
     "execution_count": 31,
     "metadata": {},
     "output_type": "execute_result"
    }
   ],
   "source": [
    "bins = pd.IntervalIndex.from_tuples([(-1,1), (1.0, 2.0), (2, 3), (3, 5), (5,8), (8,11), (11,23)])\n",
    "aac['shelter_bin'] = pd.cut(aac['shelter_length'], bins)\n",
    "aac.head()"
   ]
  },
  {
   "cell_type": "code",
   "execution_count": 32,
   "metadata": {},
   "outputs": [
    {
     "data": {
      "text/plain": [
       "<matplotlib.axes._subplots.AxesSubplot at 0x26ed1c5e128>"
      ]
     },
     "execution_count": 32,
     "metadata": {},
     "output_type": "execute_result"
    },
    {
     "data": {
      "image/png": "[encoded data removed]",
      "text/plain": [
       "<Figure size 432x288 with 1 Axes>"
      ]
     },
     "metadata": {
      "needs_background": "light"
     },
     "output_type": "display_data"
    }
   ],
   "source": [
    "#wanted to review outcome types adoption and euthanasia for ages as seemed relevant options for study\n",
    "aac2 = aac.set_index(['outcome_type']).loc[['Adoption', 'Euthanasia']]\n",
    "aac2.reset_index().groupby(['outcome_type','age_of_outcome'])['age_of_outcome'].count().unstack().plot(kind='bar')\n",
    "#wanted to see the spread of ages for adoptions and euthanasia - euthanasia very low compared to adoptions\n",
    "#can clearly see a trend with adoptions - the lower the age, the higher the chance of adoption, harder to see a trend with euthanasia "
   ]
  },
  {
   "cell_type": "code",
   "execution_count": 33,
   "metadata": {},
   "outputs": [
    {
     "data": {
      "text/plain": [
       "<matplotlib.axes._subplots.AxesSubplot at 0x26ed2ca0eb8>"
      ]
     },
     "execution_count": 33,
     "metadata": {},
     "output_type": "execute_result"
    },
    {
     "data": {
      "image/png": "[encoded data removed]",
      "text/plain": [
       "<Figure size 432x288 with 1 Axes>"
      ]
     },
     "metadata": {
      "needs_background": "light"
     },
     "output_type": "display_data"
    }
   ],
   "source": [
    "aac2.reset_index().groupby(['outcome_type','age_category'])['outcome_type'].size().plot(kind='bar')\n",
    "#regrouped the ages into bins to show how adoption and euthanasia are the top outcomes"
   ]
  },
  {
   "cell_type": "code",
   "execution_count": null,
   "metadata": {},
   "outputs": [],
   "source": []
  },
  {
   "cell_type": "code",
   "execution_count": 34,
   "metadata": {},
   "outputs": [
    {
     "data": {
      "text/plain": [
       "Text(0.5, 0, 'age of euthanized')"
      ]
     },
     "execution_count": 34,
     "metadata": {},
     "output_type": "execute_result"
    },
    {
     "data": {
      "image/png": "[encoded data removed]",
      "text/plain": [
       "<Figure size 432x288 with 1 Axes>"
      ]
     },
     "metadata": {
      "needs_background": "light"
     },
     "output_type": "display_data"
    }
   ],
   "source": [
    "aac3 = aac.set_index(['outcome_type']).loc['Euthanasia']\n",
    "aac3.reset_index().groupby(['outcome_type', 'age_category'])['age_category'].count().plot(kind='bar')\n",
    "plt.xlabel('age of euthanized')\n",
    "#use binning to split the age ranges into more manageable chunks"
   ]
  },
  {
   "cell_type": "code",
   "execution_count": 35,
   "metadata": {
    "scrolled": true
   },
   "outputs": [
    {
     "data": {
      "text/plain": [
       "Text(0.5, 0, 'Euthanasia by age')"
      ]
     },
     "execution_count": 35,
     "metadata": {},
     "output_type": "execute_result"
    },
    {
     "data": {
      "image/png": "[encoded data removed]",
      "text/plain": [
       "<Figure size 432x288 with 1 Axes>"
      ]
     },
     "metadata": {
      "needs_background": "light"
     },
     "output_type": "display_data"
    }
   ],
   "source": [
    "#isolated just the euthanasias to see the distribution of ages\n",
    "aac3 = aac.set_index(['outcome_type']).loc['Euthanasia']\n",
    "aac3.reset_index().groupby(['outcome_type','age_of_outcome'])['age_of_outcome'].count().unstack().plot(kind='bar')\n",
    "plt.xlabel('Euthanasia by age')\n",
    "#we can see by just reviewing the euthanasia graph that the highest animals euthanized were 0-5 years, which is not what I expected\n",
    "#perhaps this is due to illness - would be interesting to compare teo shelter length"
   ]
  },
  {
   "cell_type": "code",
   "execution_count": 36,
   "metadata": {},
   "outputs": [
    {
     "data": {
      "text/plain": [
       "outcome_type  age_of_outcome\n",
       "Euthanasia    0.0               787\n",
       "              1.0               393\n",
       "              2.0               497\n",
       "              3.0               220\n",
       "              4.0               155\n",
       "              5.0               169\n",
       "              6.0                84\n",
       "              7.0                66\n",
       "              8.0               108\n",
       "              9.0                67\n",
       "              10.0              123\n",
       "              11.0               30\n",
       "              12.0               93\n",
       "              13.0               58\n",
       "              14.0               44\n",
       "              15.0               34\n",
       "              16.0               19\n",
       "              17.0               13\n",
       "              18.0                6\n",
       "              19.0                4\n",
       "              20.0                5\n",
       "              22.0                1\n",
       "Name: age_of_outcome, dtype: int64"
      ]
     },
     "execution_count": 36,
     "metadata": {},
     "output_type": "execute_result"
    }
   ],
   "source": [
    "aac3.reset_index().groupby(['outcome_type','age_of_outcome'])['age_of_outcome'].count()\n"
   ]
  },
  {
   "cell_type": "code",
   "execution_count": 37,
   "metadata": {},
   "outputs": [
    {
     "data": {
      "text/plain": [
       "[]"
      ]
     },
     "execution_count": 37,
     "metadata": {},
     "output_type": "execute_result"
    },
    {
     "data": {
      "image/png": "[encoded data removed]",
      "text/plain": [
       "<Figure size 432x288 with 1 Axes>"
      ]
     },
     "metadata": {
      "needs_background": "light"
     },
     "output_type": "display_data"
    }
   ],
   "source": [
    "# you can see that the majority of euthanized animals were in the shelter less than 1 year, leading me to think illness/ disease\n",
    "plt.plot()"
   ]
  },
  {
   "cell_type": "code",
   "execution_count": 38,
   "metadata": {},
   "outputs": [
    {
     "data": {
      "text/plain": [
       "Text(0, 0.5, 'age')"
      ]
     },
     "execution_count": 38,
     "metadata": {},
     "output_type": "execute_result"
    },
    {
     "data": {
      "image/png": "[encoded data removed]",
      "text/plain": [
       "<Figure size 432x288 with 1 Axes>"
      ]
     },
     "metadata": {
      "needs_background": "light"
     },
     "output_type": "display_data"
    }
   ],
   "source": [
    "#you can see that the youngest animals euthanized also have the shortest time at the shelter on average\n",
    "plt.scatter(aac3.age_of_outcome, aac3.shelter_length)\n",
    "plt.xlabel('Shelter length')\n",
    "plt.ylabel('age')"
   ]
  },
  {
   "cell_type": "code",
   "execution_count": 39,
   "metadata": {},
   "outputs": [
    {
     "data": {
      "text/html": [
       "<div>\n",
       "<style scoped>\n",
       "    .dataframe tbody tr th:only-of-type {\n",
       "        vertical-align: middle;\n",
       "    }\n",
       "\n",
       "    .dataframe tbody tr th {\n",
       "        vertical-align: top;\n",
       "    }\n",
       "\n",
       "    .dataframe thead th {\n",
       "        text-align: right;\n",
       "    }\n",
       "</style>\n",
       "<table border=\"1\" class=\"dataframe\">\n",
       "  <thead>\n",
       "    <tr style=\"text-align: right;\">\n",
       "      <th></th>\n",
       "      <th></th>\n",
       "      <th>date_of_birth</th>\n",
       "      <th>outcome_datetime</th>\n",
       "      <th>animal_type</th>\n",
       "      <th>intake_datetime</th>\n",
       "      <th>shelter_length</th>\n",
       "      <th>age_category</th>\n",
       "      <th>shelter_bin</th>\n",
       "    </tr>\n",
       "    <tr>\n",
       "      <th>breed</th>\n",
       "      <th>age_of_outcome</th>\n",
       "      <th></th>\n",
       "      <th></th>\n",
       "      <th></th>\n",
       "      <th></th>\n",
       "      <th></th>\n",
       "      <th></th>\n",
       "      <th></th>\n",
       "    </tr>\n",
       "  </thead>\n",
       "  <tbody>\n",
       "    <tr>\n",
       "      <th rowspan=\"2\" valign=\"top\">Pit Bull Mix</th>\n",
       "      <th>1.0</th>\n",
       "      <td>75</td>\n",
       "      <td>75</td>\n",
       "      <td>75</td>\n",
       "      <td>75</td>\n",
       "      <td>75</td>\n",
       "      <td>75</td>\n",
       "      <td>75</td>\n",
       "    </tr>\n",
       "    <tr>\n",
       "      <th>2.0</th>\n",
       "      <td>125</td>\n",
       "      <td>125</td>\n",
       "      <td>125</td>\n",
       "      <td>125</td>\n",
       "      <td>125</td>\n",
       "      <td>125</td>\n",
       "      <td>125</td>\n",
       "    </tr>\n",
       "    <tr>\n",
       "      <th rowspan=\"3\" valign=\"top\">Domestic Shorthair Mix</th>\n",
       "      <th>2.0</th>\n",
       "      <td>145</td>\n",
       "      <td>145</td>\n",
       "      <td>145</td>\n",
       "      <td>145</td>\n",
       "      <td>145</td>\n",
       "      <td>145</td>\n",
       "      <td>145</td>\n",
       "    </tr>\n",
       "    <tr>\n",
       "      <th>1.0</th>\n",
       "      <td>161</td>\n",
       "      <td>161</td>\n",
       "      <td>161</td>\n",
       "      <td>161</td>\n",
       "      <td>161</td>\n",
       "      <td>161</td>\n",
       "      <td>160</td>\n",
       "    </tr>\n",
       "    <tr>\n",
       "      <th>0.0</th>\n",
       "      <td>487</td>\n",
       "      <td>487</td>\n",
       "      <td>487</td>\n",
       "      <td>487</td>\n",
       "      <td>487</td>\n",
       "      <td>487</td>\n",
       "      <td>487</td>\n",
       "    </tr>\n",
       "  </tbody>\n",
       "</table>\n",
       "</div>"
      ],
      "text/plain": [
       "                                       date_of_birth  outcome_datetime  \\\n",
       "breed                  age_of_outcome                                    \n",
       "Pit Bull Mix           1.0                        75                75   \n",
       "                       2.0                       125               125   \n",
       "Domestic Shorthair Mix 2.0                       145               145   \n",
       "                       1.0                       161               161   \n",
       "                       0.0                       487               487   \n",
       "\n",
       "                                       animal_type  intake_datetime  \\\n",
       "breed                  age_of_outcome                                 \n",
       "Pit Bull Mix           1.0                      75               75   \n",
       "                       2.0                     125              125   \n",
       "Domestic Shorthair Mix 2.0                     145              145   \n",
       "                       1.0                     161              161   \n",
       "                       0.0                     487              487   \n",
       "\n",
       "                                       shelter_length  age_category  \\\n",
       "breed                  age_of_outcome                                 \n",
       "Pit Bull Mix           1.0                         75            75   \n",
       "                       2.0                        125           125   \n",
       "Domestic Shorthair Mix 2.0                        145           145   \n",
       "                       1.0                        161           161   \n",
       "                       0.0                        487           487   \n",
       "\n",
       "                                       shelter_bin  \n",
       "breed                  age_of_outcome               \n",
       "Pit Bull Mix           1.0                      75  \n",
       "                       2.0                     125  \n",
       "Domestic Shorthair Mix 2.0                     145  \n",
       "                       1.0                     160  \n",
       "                       0.0                     487  "
      ]
     },
     "execution_count": 39,
     "metadata": {},
     "output_type": "execute_result"
    }
   ],
   "source": [
    "#I wanted to investigate the highest amount of animals being euthanized to see if there was any distinctions\n",
    "#Almost 500 were cats under 1 year - I think there is more to this than just illness, perhaps this is how the \n",
    "#shelther deals with large volumes? also interesting is that pit bulls account for 125 of dogs 2 years. interesting \n",
    "# this could be due to the breed specifically \n",
    "aac3.groupby(['breed', 'age_of_outcome']).count().sort_values(['date_of_birth']).tail()\n"
   ]
  },
  {
   "cell_type": "code",
   "execution_count": 40,
   "metadata": {},
   "outputs": [
    {
     "data": {
      "text/html": [
       "<div>\n",
       "<style scoped>\n",
       "    .dataframe tbody tr th:only-of-type {\n",
       "        vertical-align: middle;\n",
       "    }\n",
       "\n",
       "    .dataframe tbody tr th {\n",
       "        vertical-align: top;\n",
       "    }\n",
       "\n",
       "    .dataframe thead th {\n",
       "        text-align: right;\n",
       "    }\n",
       "</style>\n",
       "<table border=\"1\" class=\"dataframe\">\n",
       "  <thead>\n",
       "    <tr style=\"text-align: right;\">\n",
       "      <th></th>\n",
       "      <th></th>\n",
       "      <th>outcome_type</th>\n",
       "      <th>date_of_birth</th>\n",
       "      <th>outcome_datetime</th>\n",
       "      <th>animal_type</th>\n",
       "      <th>intake_datetime</th>\n",
       "      <th>shelter_length</th>\n",
       "      <th>age_category</th>\n",
       "      <th>shelter_bin</th>\n",
       "    </tr>\n",
       "    <tr>\n",
       "      <th>breed</th>\n",
       "      <th>age_of_outcome</th>\n",
       "      <th></th>\n",
       "      <th></th>\n",
       "      <th></th>\n",
       "      <th></th>\n",
       "      <th></th>\n",
       "      <th></th>\n",
       "      <th></th>\n",
       "      <th></th>\n",
       "    </tr>\n",
       "  </thead>\n",
       "  <tbody>\n",
       "    <tr>\n",
       "      <th>Domestic Shorthair Mix</th>\n",
       "      <th>2.0</th>\n",
       "      <td>471</td>\n",
       "      <td>471</td>\n",
       "      <td>471</td>\n",
       "      <td>471</td>\n",
       "      <td>471</td>\n",
       "      <td>471</td>\n",
       "      <td>471</td>\n",
       "      <td>456</td>\n",
       "    </tr>\n",
       "    <tr>\n",
       "      <th>Chihuahua Shorthair Mix</th>\n",
       "      <th>1.0</th>\n",
       "      <td>557</td>\n",
       "      <td>557</td>\n",
       "      <td>557</td>\n",
       "      <td>557</td>\n",
       "      <td>557</td>\n",
       "      <td>557</td>\n",
       "      <td>557</td>\n",
       "      <td>554</td>\n",
       "    </tr>\n",
       "    <tr>\n",
       "      <th rowspan=\"3\" valign=\"top\">Pit Bull Mix</th>\n",
       "      <th>2.0</th>\n",
       "      <td>578</td>\n",
       "      <td>578</td>\n",
       "      <td>578</td>\n",
       "      <td>578</td>\n",
       "      <td>578</td>\n",
       "      <td>578</td>\n",
       "      <td>578</td>\n",
       "      <td>542</td>\n",
       "    </tr>\n",
       "    <tr>\n",
       "      <th>0.0</th>\n",
       "      <td>611</td>\n",
       "      <td>611</td>\n",
       "      <td>611</td>\n",
       "      <td>611</td>\n",
       "      <td>611</td>\n",
       "      <td>611</td>\n",
       "      <td>611</td>\n",
       "      <td>610</td>\n",
       "    </tr>\n",
       "    <tr>\n",
       "      <th>1.0</th>\n",
       "      <td>634</td>\n",
       "      <td>634</td>\n",
       "      <td>634</td>\n",
       "      <td>634</td>\n",
       "      <td>634</td>\n",
       "      <td>634</td>\n",
       "      <td>634</td>\n",
       "      <td>602</td>\n",
       "    </tr>\n",
       "    <tr>\n",
       "      <th>Chihuahua Shorthair Mix</th>\n",
       "      <th>0.0</th>\n",
       "      <td>638</td>\n",
       "      <td>638</td>\n",
       "      <td>638</td>\n",
       "      <td>638</td>\n",
       "      <td>638</td>\n",
       "      <td>638</td>\n",
       "      <td>638</td>\n",
       "      <td>635</td>\n",
       "    </tr>\n",
       "    <tr>\n",
       "      <th>Domestic Shorthair Mix</th>\n",
       "      <th>1.0</th>\n",
       "      <td>776</td>\n",
       "      <td>776</td>\n",
       "      <td>776</td>\n",
       "      <td>776</td>\n",
       "      <td>776</td>\n",
       "      <td>776</td>\n",
       "      <td>776</td>\n",
       "      <td>744</td>\n",
       "    </tr>\n",
       "    <tr>\n",
       "      <th>Domestic Medium Hair Mix</th>\n",
       "      <th>0.0</th>\n",
       "      <td>802</td>\n",
       "      <td>802</td>\n",
       "      <td>802</td>\n",
       "      <td>802</td>\n",
       "      <td>802</td>\n",
       "      <td>802</td>\n",
       "      <td>802</td>\n",
       "      <td>796</td>\n",
       "    </tr>\n",
       "    <tr>\n",
       "      <th>Labrador Retriever Mix</th>\n",
       "      <th>0.0</th>\n",
       "      <td>1274</td>\n",
       "      <td>1274</td>\n",
       "      <td>1274</td>\n",
       "      <td>1274</td>\n",
       "      <td>1274</td>\n",
       "      <td>1274</td>\n",
       "      <td>1274</td>\n",
       "      <td>1274</td>\n",
       "    </tr>\n",
       "    <tr>\n",
       "      <th>Domestic Shorthair Mix</th>\n",
       "      <th>0.0</th>\n",
       "      <td>7523</td>\n",
       "      <td>7523</td>\n",
       "      <td>7523</td>\n",
       "      <td>7523</td>\n",
       "      <td>7523</td>\n",
       "      <td>7523</td>\n",
       "      <td>7523</td>\n",
       "      <td>7445</td>\n",
       "    </tr>\n",
       "  </tbody>\n",
       "</table>\n",
       "</div>"
      ],
      "text/plain": [
       "                                         outcome_type  date_of_birth  \\\n",
       "breed                    age_of_outcome                                \n",
       "Domestic Shorthair Mix   2.0                      471            471   \n",
       "Chihuahua Shorthair Mix  1.0                      557            557   \n",
       "Pit Bull Mix             2.0                      578            578   \n",
       "                         0.0                      611            611   \n",
       "                         1.0                      634            634   \n",
       "Chihuahua Shorthair Mix  0.0                      638            638   \n",
       "Domestic Shorthair Mix   1.0                      776            776   \n",
       "Domestic Medium Hair Mix 0.0                      802            802   \n",
       "Labrador Retriever Mix   0.0                     1274           1274   \n",
       "Domestic Shorthair Mix   0.0                     7523           7523   \n",
       "\n",
       "                                         outcome_datetime  animal_type  \\\n",
       "breed                    age_of_outcome                                  \n",
       "Domestic Shorthair Mix   2.0                          471          471   \n",
       "Chihuahua Shorthair Mix  1.0                          557          557   \n",
       "Pit Bull Mix             2.0                          578          578   \n",
       "                         0.0                          611          611   \n",
       "                         1.0                          634          634   \n",
       "Chihuahua Shorthair Mix  0.0                          638          638   \n",
       "Domestic Shorthair Mix   1.0                          776          776   \n",
       "Domestic Medium Hair Mix 0.0                          802          802   \n",
       "Labrador Retriever Mix   0.0                         1274         1274   \n",
       "Domestic Shorthair Mix   0.0                         7523         7523   \n",
       "\n",
       "                                         intake_datetime  shelter_length  \\\n",
       "breed                    age_of_outcome                                    \n",
       "Domestic Shorthair Mix   2.0                         471             471   \n",
       "Chihuahua Shorthair Mix  1.0                         557             557   \n",
       "Pit Bull Mix             2.0                         578             578   \n",
       "                         0.0                         611             611   \n",
       "                         1.0                         634             634   \n",
       "Chihuahua Shorthair Mix  0.0                         638             638   \n",
       "Domestic Shorthair Mix   1.0                         776             776   \n",
       "Domestic Medium Hair Mix 0.0                         802             802   \n",
       "Labrador Retriever Mix   0.0                        1274            1274   \n",
       "Domestic Shorthair Mix   0.0                        7523            7523   \n",
       "\n",
       "                                         age_category  shelter_bin  \n",
       "breed                    age_of_outcome                             \n",
       "Domestic Shorthair Mix   2.0                      471          456  \n",
       "Chihuahua Shorthair Mix  1.0                      557          554  \n",
       "Pit Bull Mix             2.0                      578          542  \n",
       "                         0.0                      611          610  \n",
       "                         1.0                      634          602  \n",
       "Chihuahua Shorthair Mix  0.0                      638          635  \n",
       "Domestic Shorthair Mix   1.0                      776          744  \n",
       "Domestic Medium Hair Mix 0.0                      802          796  \n",
       "Labrador Retriever Mix   0.0                     1274         1274  \n",
       "Domestic Shorthair Mix   0.0                     7523         7445  "
      ]
     },
     "execution_count": 40,
     "metadata": {},
     "output_type": "execute_result"
    }
   ],
   "source": [
    "#wanted to do the same comparison for adoptions - can see that interestingly the cat below 1 accounts for 7500 adoptions\n",
    "#perhaps the ones euthanized are due to illness as around 6%. You can see that Labrador leads for dogs as does chihuaha\n",
    "#can clearly see cats take up a lare portion of adoptions\n",
    "aac4 = aac.set_index(['outcome_type']).loc['Adoption']\n",
    "aac4.reset_index().groupby(['breed', 'age_of_outcome']).count().sort_values(['date_of_birth']).tail(10)"
   ]
  },
  {
   "cell_type": "code",
   "execution_count": 41,
   "metadata": {},
   "outputs": [
    {
     "data": {
      "text/html": [
       "<div>\n",
       "<style scoped>\n",
       "    .dataframe tbody tr th:only-of-type {\n",
       "        vertical-align: middle;\n",
       "    }\n",
       "\n",
       "    .dataframe tbody tr th {\n",
       "        vertical-align: top;\n",
       "    }\n",
       "\n",
       "    .dataframe thead th {\n",
       "        text-align: right;\n",
       "    }\n",
       "</style>\n",
       "<table border=\"1\" class=\"dataframe\">\n",
       "  <thead>\n",
       "    <tr style=\"text-align: right;\">\n",
       "      <th></th>\n",
       "      <th></th>\n",
       "      <th>date_of_birth</th>\n",
       "      <th>outcome_datetime</th>\n",
       "      <th>intake_datetime</th>\n",
       "      <th>shelter_length</th>\n",
       "      <th>age_of_outcome</th>\n",
       "      <th>age_category</th>\n",
       "      <th>shelter_bin</th>\n",
       "    </tr>\n",
       "    <tr>\n",
       "      <th>animal_type</th>\n",
       "      <th>breed</th>\n",
       "      <th></th>\n",
       "      <th></th>\n",
       "      <th></th>\n",
       "      <th></th>\n",
       "      <th></th>\n",
       "      <th></th>\n",
       "      <th></th>\n",
       "    </tr>\n",
       "  </thead>\n",
       "  <tbody>\n",
       "    <tr>\n",
       "      <th rowspan=\"5\" valign=\"top\">Dog</th>\n",
       "      <th>Yorkshire Terrier/Pomeranian</th>\n",
       "      <td>2</td>\n",
       "      <td>2</td>\n",
       "      <td>2</td>\n",
       "      <td>2</td>\n",
       "      <td>2</td>\n",
       "      <td>2</td>\n",
       "      <td>2</td>\n",
       "    </tr>\n",
       "    <tr>\n",
       "      <th>Yorkshire Terrier/Rat Terrier</th>\n",
       "      <td>5</td>\n",
       "      <td>5</td>\n",
       "      <td>5</td>\n",
       "      <td>5</td>\n",
       "      <td>5</td>\n",
       "      <td>5</td>\n",
       "      <td>5</td>\n",
       "    </tr>\n",
       "    <tr>\n",
       "      <th>Yorkshire Terrier/Shih Tzu</th>\n",
       "      <td>2</td>\n",
       "      <td>2</td>\n",
       "      <td>2</td>\n",
       "      <td>2</td>\n",
       "      <td>2</td>\n",
       "      <td>2</td>\n",
       "      <td>2</td>\n",
       "    </tr>\n",
       "    <tr>\n",
       "      <th>Yorkshire Terrier/Soft Coated Wheaten Terrier</th>\n",
       "      <td>1</td>\n",
       "      <td>1</td>\n",
       "      <td>1</td>\n",
       "      <td>1</td>\n",
       "      <td>1</td>\n",
       "      <td>1</td>\n",
       "      <td>1</td>\n",
       "    </tr>\n",
       "    <tr>\n",
       "      <th>Yorkshire Terrier/Yorkshire Terrier</th>\n",
       "      <td>1</td>\n",
       "      <td>1</td>\n",
       "      <td>1</td>\n",
       "      <td>1</td>\n",
       "      <td>1</td>\n",
       "      <td>1</td>\n",
       "      <td>1</td>\n",
       "    </tr>\n",
       "  </tbody>\n",
       "</table>\n",
       "</div>"
      ],
      "text/plain": [
       "                                                           date_of_birth  \\\n",
       "animal_type breed                                                          \n",
       "Dog         Yorkshire Terrier/Pomeranian                               2   \n",
       "            Yorkshire Terrier/Rat Terrier                              5   \n",
       "            Yorkshire Terrier/Shih Tzu                                 2   \n",
       "            Yorkshire Terrier/Soft Coated Wheaten Terrier              1   \n",
       "            Yorkshire Terrier/Yorkshire Terrier                        1   \n",
       "\n",
       "                                                           outcome_datetime  \\\n",
       "animal_type breed                                                             \n",
       "Dog         Yorkshire Terrier/Pomeranian                                  2   \n",
       "            Yorkshire Terrier/Rat Terrier                                 5   \n",
       "            Yorkshire Terrier/Shih Tzu                                    2   \n",
       "            Yorkshire Terrier/Soft Coated Wheaten Terrier                 1   \n",
       "            Yorkshire Terrier/Yorkshire Terrier                           1   \n",
       "\n",
       "                                                           intake_datetime  \\\n",
       "animal_type breed                                                            \n",
       "Dog         Yorkshire Terrier/Pomeranian                                 2   \n",
       "            Yorkshire Terrier/Rat Terrier                                5   \n",
       "            Yorkshire Terrier/Shih Tzu                                   2   \n",
       "            Yorkshire Terrier/Soft Coated Wheaten Terrier                1   \n",
       "            Yorkshire Terrier/Yorkshire Terrier                          1   \n",
       "\n",
       "                                                           shelter_length  \\\n",
       "animal_type breed                                                           \n",
       "Dog         Yorkshire Terrier/Pomeranian                                2   \n",
       "            Yorkshire Terrier/Rat Terrier                               5   \n",
       "            Yorkshire Terrier/Shih Tzu                                  2   \n",
       "            Yorkshire Terrier/Soft Coated Wheaten Terrier               1   \n",
       "            Yorkshire Terrier/Yorkshire Terrier                         1   \n",
       "\n",
       "                                                           age_of_outcome  \\\n",
       "animal_type breed                                                           \n",
       "Dog         Yorkshire Terrier/Pomeranian                                2   \n",
       "            Yorkshire Terrier/Rat Terrier                               5   \n",
       "            Yorkshire Terrier/Shih Tzu                                  2   \n",
       "            Yorkshire Terrier/Soft Coated Wheaten Terrier               1   \n",
       "            Yorkshire Terrier/Yorkshire Terrier                         1   \n",
       "\n",
       "                                                           age_category  \\\n",
       "animal_type breed                                                         \n",
       "Dog         Yorkshire Terrier/Pomeranian                              2   \n",
       "            Yorkshire Terrier/Rat Terrier                             5   \n",
       "            Yorkshire Terrier/Shih Tzu                                2   \n",
       "            Yorkshire Terrier/Soft Coated Wheaten Terrier             1   \n",
       "            Yorkshire Terrier/Yorkshire Terrier                       1   \n",
       "\n",
       "                                                           shelter_bin  \n",
       "animal_type breed                                                       \n",
       "Dog         Yorkshire Terrier/Pomeranian                             2  \n",
       "            Yorkshire Terrier/Rat Terrier                            5  \n",
       "            Yorkshire Terrier/Shih Tzu                               2  \n",
       "            Yorkshire Terrier/Soft Coated Wheaten Terrier            1  \n",
       "            Yorkshire Terrier/Yorkshire Terrier                      1  "
      ]
     },
     "execution_count": 41,
     "metadata": {},
     "output_type": "execute_result"
    }
   ],
   "source": [
    "aac2.groupby(['animal_type', 'breed']).count().tail()"
   ]
  },
  {
   "cell_type": "code",
   "execution_count": 42,
   "metadata": {
    "scrolled": true
   },
   "outputs": [
    {
     "data": {
      "text/html": [
       "<div>\n",
       "<style scoped>\n",
       "    .dataframe tbody tr th:only-of-type {\n",
       "        vertical-align: middle;\n",
       "    }\n",
       "\n",
       "    .dataframe tbody tr th {\n",
       "        vertical-align: top;\n",
       "    }\n",
       "\n",
       "    .dataframe thead th {\n",
       "        text-align: right;\n",
       "    }\n",
       "</style>\n",
       "<table border=\"1\" class=\"dataframe\">\n",
       "  <thead>\n",
       "    <tr style=\"text-align: right;\">\n",
       "      <th></th>\n",
       "      <th>date_of_birth</th>\n",
       "      <th>outcome_datetime</th>\n",
       "      <th>breed</th>\n",
       "      <th>intake_datetime</th>\n",
       "      <th>shelter_length</th>\n",
       "      <th>age_of_outcome</th>\n",
       "      <th>age_category</th>\n",
       "      <th>shelter_bin</th>\n",
       "    </tr>\n",
       "    <tr>\n",
       "      <th>animal_type</th>\n",
       "      <th></th>\n",
       "      <th></th>\n",
       "      <th></th>\n",
       "      <th></th>\n",
       "      <th></th>\n",
       "      <th></th>\n",
       "      <th></th>\n",
       "      <th></th>\n",
       "    </tr>\n",
       "  </thead>\n",
       "  <tbody>\n",
       "    <tr>\n",
       "      <th>Cat</th>\n",
       "      <td>14147</td>\n",
       "      <td>14147</td>\n",
       "      <td>14147</td>\n",
       "      <td>14147</td>\n",
       "      <td>14147</td>\n",
       "      <td>14147</td>\n",
       "      <td>14147</td>\n",
       "      <td>13877</td>\n",
       "    </tr>\n",
       "    <tr>\n",
       "      <th>Dog</th>\n",
       "      <td>22082</td>\n",
       "      <td>22082</td>\n",
       "      <td>22082</td>\n",
       "      <td>22082</td>\n",
       "      <td>22082</td>\n",
       "      <td>22082</td>\n",
       "      <td>22082</td>\n",
       "      <td>21612</td>\n",
       "    </tr>\n",
       "  </tbody>\n",
       "</table>\n",
       "</div>"
      ],
      "text/plain": [
       "             date_of_birth  outcome_datetime  breed  intake_datetime  \\\n",
       "animal_type                                                            \n",
       "Cat                  14147             14147  14147            14147   \n",
       "Dog                  22082             22082  22082            22082   \n",
       "\n",
       "             shelter_length  age_of_outcome  age_category  shelter_bin  \n",
       "animal_type                                                             \n",
       "Cat                   14147           14147         14147        13877  \n",
       "Dog                   22082           22082         22082        21612  "
      ]
     },
     "execution_count": 42,
     "metadata": {},
     "output_type": "execute_result"
    }
   ],
   "source": [
    "aac2.groupby(['animal_type']).count()"
   ]
  },
  {
   "cell_type": "code",
   "execution_count": 43,
   "metadata": {},
   "outputs": [
    {
     "data": {
      "text/html": [
       "<div>\n",
       "<style scoped>\n",
       "    .dataframe tbody tr th:only-of-type {\n",
       "        vertical-align: middle;\n",
       "    }\n",
       "\n",
       "    .dataframe tbody tr th {\n",
       "        vertical-align: top;\n",
       "    }\n",
       "\n",
       "    .dataframe thead th {\n",
       "        text-align: right;\n",
       "    }\n",
       "</style>\n",
       "<table border=\"1\" class=\"dataframe\">\n",
       "  <thead>\n",
       "    <tr style=\"text-align: right;\">\n",
       "      <th></th>\n",
       "      <th></th>\n",
       "      <th>animal_type</th>\n",
       "      <th>date_of_birth</th>\n",
       "      <th>outcome_datetime</th>\n",
       "      <th>intake_datetime</th>\n",
       "      <th>shelter_length</th>\n",
       "      <th>age_category</th>\n",
       "      <th>shelter_bin</th>\n",
       "    </tr>\n",
       "    <tr>\n",
       "      <th>breed</th>\n",
       "      <th>age_of_outcome</th>\n",
       "      <th></th>\n",
       "      <th></th>\n",
       "      <th></th>\n",
       "      <th></th>\n",
       "      <th></th>\n",
       "      <th></th>\n",
       "      <th></th>\n",
       "    </tr>\n",
       "  </thead>\n",
       "  <tbody>\n",
       "    <tr>\n",
       "      <th>Chihuahua Shorthair Mix</th>\n",
       "      <th>1.0</th>\n",
       "      <td>22</td>\n",
       "      <td>22</td>\n",
       "      <td>22</td>\n",
       "      <td>22</td>\n",
       "      <td>22</td>\n",
       "      <td>22</td>\n",
       "      <td>22</td>\n",
       "    </tr>\n",
       "    <tr>\n",
       "      <th>Labrador Retriever Mix</th>\n",
       "      <th>0.0</th>\n",
       "      <td>23</td>\n",
       "      <td>23</td>\n",
       "      <td>23</td>\n",
       "      <td>23</td>\n",
       "      <td>23</td>\n",
       "      <td>23</td>\n",
       "      <td>23</td>\n",
       "    </tr>\n",
       "    <tr>\n",
       "      <th>Chihuahua Shorthair Mix</th>\n",
       "      <th>2.0</th>\n",
       "      <td>28</td>\n",
       "      <td>28</td>\n",
       "      <td>28</td>\n",
       "      <td>28</td>\n",
       "      <td>28</td>\n",
       "      <td>28</td>\n",
       "      <td>27</td>\n",
       "    </tr>\n",
       "    <tr>\n",
       "      <th rowspan=\"2\" valign=\"top\">Pit Bull Mix</th>\n",
       "      <th>5.0</th>\n",
       "      <td>31</td>\n",
       "      <td>31</td>\n",
       "      <td>31</td>\n",
       "      <td>31</td>\n",
       "      <td>31</td>\n",
       "      <td>31</td>\n",
       "      <td>31</td>\n",
       "    </tr>\n",
       "    <tr>\n",
       "      <th>4.0</th>\n",
       "      <td>33</td>\n",
       "      <td>33</td>\n",
       "      <td>33</td>\n",
       "      <td>33</td>\n",
       "      <td>33</td>\n",
       "      <td>33</td>\n",
       "      <td>33</td>\n",
       "    </tr>\n",
       "    <tr>\n",
       "      <th>Chihuahua Shorthair Mix</th>\n",
       "      <th>0.0</th>\n",
       "      <td>33</td>\n",
       "      <td>33</td>\n",
       "      <td>33</td>\n",
       "      <td>33</td>\n",
       "      <td>33</td>\n",
       "      <td>33</td>\n",
       "      <td>33</td>\n",
       "    </tr>\n",
       "    <tr>\n",
       "      <th rowspan=\"4\" valign=\"top\">Pit Bull Mix</th>\n",
       "      <th>0.0</th>\n",
       "      <td>41</td>\n",
       "      <td>41</td>\n",
       "      <td>41</td>\n",
       "      <td>41</td>\n",
       "      <td>41</td>\n",
       "      <td>41</td>\n",
       "      <td>41</td>\n",
       "    </tr>\n",
       "    <tr>\n",
       "      <th>3.0</th>\n",
       "      <td>62</td>\n",
       "      <td>62</td>\n",
       "      <td>62</td>\n",
       "      <td>62</td>\n",
       "      <td>62</td>\n",
       "      <td>62</td>\n",
       "      <td>62</td>\n",
       "    </tr>\n",
       "    <tr>\n",
       "      <th>1.0</th>\n",
       "      <td>75</td>\n",
       "      <td>75</td>\n",
       "      <td>75</td>\n",
       "      <td>75</td>\n",
       "      <td>75</td>\n",
       "      <td>75</td>\n",
       "      <td>75</td>\n",
       "    </tr>\n",
       "    <tr>\n",
       "      <th>2.0</th>\n",
       "      <td>125</td>\n",
       "      <td>125</td>\n",
       "      <td>125</td>\n",
       "      <td>125</td>\n",
       "      <td>125</td>\n",
       "      <td>125</td>\n",
       "      <td>125</td>\n",
       "    </tr>\n",
       "  </tbody>\n",
       "</table>\n",
       "</div>"
      ],
      "text/plain": [
       "                                        animal_type  date_of_birth  \\\n",
       "breed                   age_of_outcome                               \n",
       "Chihuahua Shorthair Mix 1.0                      22             22   \n",
       "Labrador Retriever Mix  0.0                      23             23   \n",
       "Chihuahua Shorthair Mix 2.0                      28             28   \n",
       "Pit Bull Mix            5.0                      31             31   \n",
       "                        4.0                      33             33   \n",
       "Chihuahua Shorthair Mix 0.0                      33             33   \n",
       "Pit Bull Mix            0.0                      41             41   \n",
       "                        3.0                      62             62   \n",
       "                        1.0                      75             75   \n",
       "                        2.0                     125            125   \n",
       "\n",
       "                                        outcome_datetime  intake_datetime  \\\n",
       "breed                   age_of_outcome                                      \n",
       "Chihuahua Shorthair Mix 1.0                           22               22   \n",
       "Labrador Retriever Mix  0.0                           23               23   \n",
       "Chihuahua Shorthair Mix 2.0                           28               28   \n",
       "Pit Bull Mix            5.0                           31               31   \n",
       "                        4.0                           33               33   \n",
       "Chihuahua Shorthair Mix 0.0                           33               33   \n",
       "Pit Bull Mix            0.0                           41               41   \n",
       "                        3.0                           62               62   \n",
       "                        1.0                           75               75   \n",
       "                        2.0                          125              125   \n",
       "\n",
       "                                        shelter_length  age_category  \\\n",
       "breed                   age_of_outcome                                 \n",
       "Chihuahua Shorthair Mix 1.0                         22            22   \n",
       "Labrador Retriever Mix  0.0                         23            23   \n",
       "Chihuahua Shorthair Mix 2.0                         28            28   \n",
       "Pit Bull Mix            5.0                         31            31   \n",
       "                        4.0                         33            33   \n",
       "Chihuahua Shorthair Mix 0.0                         33            33   \n",
       "Pit Bull Mix            0.0                         41            41   \n",
       "                        3.0                         62            62   \n",
       "                        1.0                         75            75   \n",
       "                        2.0                        125           125   \n",
       "\n",
       "                                        shelter_bin  \n",
       "breed                   age_of_outcome               \n",
       "Chihuahua Shorthair Mix 1.0                      22  \n",
       "Labrador Retriever Mix  0.0                      23  \n",
       "Chihuahua Shorthair Mix 2.0                      27  \n",
       "Pit Bull Mix            5.0                      31  \n",
       "                        4.0                      33  \n",
       "Chihuahua Shorthair Mix 0.0                      33  \n",
       "Pit Bull Mix            0.0                      41  \n",
       "                        3.0                      62  \n",
       "                        1.0                      75  \n",
       "                        2.0                     125  "
      ]
     },
     "execution_count": 43,
     "metadata": {},
     "output_type": "execute_result"
    }
   ],
   "source": [
    "#after realizing that the cat breeds are throwing off the data, I am\n",
    "#going to remove cats and review breeds of dogs solely\n",
    "aac5 = aac3.set_index(['animal_type']).loc['Dog']\n",
    "aac5.reset_index().groupby(['breed', 'age_of_outcome']).count().sort_values(['date_of_birth']).tail(10)\n",
    "#this data now shows top dog breeds euhanized by age and breed\n",
    "#we see pit bull leads the charts"
   ]
  },
  {
   "cell_type": "code",
   "execution_count": 44,
   "metadata": {},
   "outputs": [
    {
     "data": {
      "text/plain": [
       "Text(0.5, 0, 'Top Dog Euthanasia')"
      ]
     },
     "execution_count": 44,
     "metadata": {},
     "output_type": "execute_result"
    },
    {
     "data": {
      "image/png": "[encoded data removed]",
      "text/plain": [
       "<Figure size 432x288 with 1 Axes>"
      ]
     },
     "metadata": {
      "needs_background": "light"
     },
     "output_type": "display_data"
    }
   ],
   "source": [
    "aac5.reset_index().groupby(['breed', 'age_of_outcome']).count().sort_values(['date_of_birth']).tail(10).plot(kind='bar')\n",
    "plt.xlabel('Top Dog Euthanasia')"
   ]
  },
  {
   "cell_type": "code",
   "execution_count": 45,
   "metadata": {},
   "outputs": [
    {
     "data": {
      "text/html": [
       "<div>\n",
       "<style scoped>\n",
       "    .dataframe tbody tr th:only-of-type {\n",
       "        vertical-align: middle;\n",
       "    }\n",
       "\n",
       "    .dataframe tbody tr th {\n",
       "        vertical-align: top;\n",
       "    }\n",
       "\n",
       "    .dataframe thead th {\n",
       "        text-align: right;\n",
       "    }\n",
       "</style>\n",
       "<table border=\"1\" class=\"dataframe\">\n",
       "  <thead>\n",
       "    <tr style=\"text-align: right;\">\n",
       "      <th></th>\n",
       "      <th></th>\n",
       "      <th>animal_type</th>\n",
       "      <th>date_of_birth</th>\n",
       "      <th>outcome_datetime</th>\n",
       "      <th>intake_datetime</th>\n",
       "      <th>shelter_length</th>\n",
       "      <th>age_category</th>\n",
       "      <th>shelter_bin</th>\n",
       "    </tr>\n",
       "    <tr>\n",
       "      <th>breed</th>\n",
       "      <th>age_of_outcome</th>\n",
       "      <th></th>\n",
       "      <th></th>\n",
       "      <th></th>\n",
       "      <th></th>\n",
       "      <th></th>\n",
       "      <th></th>\n",
       "      <th></th>\n",
       "    </tr>\n",
       "  </thead>\n",
       "  <tbody>\n",
       "    <tr>\n",
       "      <th>Australian Cattle Dog Mix</th>\n",
       "      <th>0.0</th>\n",
       "      <td>281</td>\n",
       "      <td>281</td>\n",
       "      <td>281</td>\n",
       "      <td>281</td>\n",
       "      <td>281</td>\n",
       "      <td>281</td>\n",
       "      <td>280</td>\n",
       "    </tr>\n",
       "    <tr>\n",
       "      <th>German Shepherd Mix</th>\n",
       "      <th>0.0</th>\n",
       "      <td>349</td>\n",
       "      <td>349</td>\n",
       "      <td>349</td>\n",
       "      <td>349</td>\n",
       "      <td>349</td>\n",
       "      <td>349</td>\n",
       "      <td>349</td>\n",
       "    </tr>\n",
       "    <tr>\n",
       "      <th>Chihuahua Shorthair Mix</th>\n",
       "      <th>2.0</th>\n",
       "      <td>434</td>\n",
       "      <td>434</td>\n",
       "      <td>434</td>\n",
       "      <td>434</td>\n",
       "      <td>434</td>\n",
       "      <td>434</td>\n",
       "      <td>431</td>\n",
       "    </tr>\n",
       "    <tr>\n",
       "      <th>Labrador Retriever Mix</th>\n",
       "      <th>1.0</th>\n",
       "      <td>442</td>\n",
       "      <td>442</td>\n",
       "      <td>442</td>\n",
       "      <td>442</td>\n",
       "      <td>442</td>\n",
       "      <td>442</td>\n",
       "      <td>436</td>\n",
       "    </tr>\n",
       "    <tr>\n",
       "      <th>Chihuahua Shorthair Mix</th>\n",
       "      <th>1.0</th>\n",
       "      <td>557</td>\n",
       "      <td>557</td>\n",
       "      <td>557</td>\n",
       "      <td>557</td>\n",
       "      <td>557</td>\n",
       "      <td>557</td>\n",
       "      <td>554</td>\n",
       "    </tr>\n",
       "    <tr>\n",
       "      <th rowspan=\"3\" valign=\"top\">Pit Bull Mix</th>\n",
       "      <th>2.0</th>\n",
       "      <td>578</td>\n",
       "      <td>578</td>\n",
       "      <td>578</td>\n",
       "      <td>578</td>\n",
       "      <td>578</td>\n",
       "      <td>578</td>\n",
       "      <td>542</td>\n",
       "    </tr>\n",
       "    <tr>\n",
       "      <th>0.0</th>\n",
       "      <td>611</td>\n",
       "      <td>611</td>\n",
       "      <td>611</td>\n",
       "      <td>611</td>\n",
       "      <td>611</td>\n",
       "      <td>611</td>\n",
       "      <td>610</td>\n",
       "    </tr>\n",
       "    <tr>\n",
       "      <th>1.0</th>\n",
       "      <td>634</td>\n",
       "      <td>634</td>\n",
       "      <td>634</td>\n",
       "      <td>634</td>\n",
       "      <td>634</td>\n",
       "      <td>634</td>\n",
       "      <td>602</td>\n",
       "    </tr>\n",
       "    <tr>\n",
       "      <th>Chihuahua Shorthair Mix</th>\n",
       "      <th>0.0</th>\n",
       "      <td>638</td>\n",
       "      <td>638</td>\n",
       "      <td>638</td>\n",
       "      <td>638</td>\n",
       "      <td>638</td>\n",
       "      <td>638</td>\n",
       "      <td>635</td>\n",
       "    </tr>\n",
       "    <tr>\n",
       "      <th>Labrador Retriever Mix</th>\n",
       "      <th>0.0</th>\n",
       "      <td>1274</td>\n",
       "      <td>1274</td>\n",
       "      <td>1274</td>\n",
       "      <td>1274</td>\n",
       "      <td>1274</td>\n",
       "      <td>1274</td>\n",
       "      <td>1274</td>\n",
       "    </tr>\n",
       "  </tbody>\n",
       "</table>\n",
       "</div>"
      ],
      "text/plain": [
       "                                          animal_type  date_of_birth  \\\n",
       "breed                     age_of_outcome                               \n",
       "Australian Cattle Dog Mix 0.0                     281            281   \n",
       "German Shepherd Mix       0.0                     349            349   \n",
       "Chihuahua Shorthair Mix   2.0                     434            434   \n",
       "Labrador Retriever Mix    1.0                     442            442   \n",
       "Chihuahua Shorthair Mix   1.0                     557            557   \n",
       "Pit Bull Mix              2.0                     578            578   \n",
       "                          0.0                     611            611   \n",
       "                          1.0                     634            634   \n",
       "Chihuahua Shorthair Mix   0.0                     638            638   \n",
       "Labrador Retriever Mix    0.0                    1274           1274   \n",
       "\n",
       "                                          outcome_datetime  intake_datetime  \\\n",
       "breed                     age_of_outcome                                      \n",
       "Australian Cattle Dog Mix 0.0                          281              281   \n",
       "German Shepherd Mix       0.0                          349              349   \n",
       "Chihuahua Shorthair Mix   2.0                          434              434   \n",
       "Labrador Retriever Mix    1.0                          442              442   \n",
       "Chihuahua Shorthair Mix   1.0                          557              557   \n",
       "Pit Bull Mix              2.0                          578              578   \n",
       "                          0.0                          611              611   \n",
       "                          1.0                          634              634   \n",
       "Chihuahua Shorthair Mix   0.0                          638              638   \n",
       "Labrador Retriever Mix    0.0                         1274             1274   \n",
       "\n",
       "                                          shelter_length  age_category  \\\n",
       "breed                     age_of_outcome                                 \n",
       "Australian Cattle Dog Mix 0.0                        281           281   \n",
       "German Shepherd Mix       0.0                        349           349   \n",
       "Chihuahua Shorthair Mix   2.0                        434           434   \n",
       "Labrador Retriever Mix    1.0                        442           442   \n",
       "Chihuahua Shorthair Mix   1.0                        557           557   \n",
       "Pit Bull Mix              2.0                        578           578   \n",
       "                          0.0                        611           611   \n",
       "                          1.0                        634           634   \n",
       "Chihuahua Shorthair Mix   0.0                        638           638   \n",
       "Labrador Retriever Mix    0.0                       1274          1274   \n",
       "\n",
       "                                          shelter_bin  \n",
       "breed                     age_of_outcome               \n",
       "Australian Cattle Dog Mix 0.0                     280  \n",
       "German Shepherd Mix       0.0                     349  \n",
       "Chihuahua Shorthair Mix   2.0                     431  \n",
       "Labrador Retriever Mix    1.0                     436  \n",
       "Chihuahua Shorthair Mix   1.0                     554  \n",
       "Pit Bull Mix              2.0                     542  \n",
       "                          0.0                     610  \n",
       "                          1.0                     602  \n",
       "Chihuahua Shorthair Mix   0.0                     635  \n",
       "Labrador Retriever Mix    0.0                    1274  "
      ]
     },
     "execution_count": 45,
     "metadata": {},
     "output_type": "execute_result"
    }
   ],
   "source": [
    "#now lets compare the adoptions to see which breeds lead that category\n",
    "aac6 = aac4.set_index(['animal_type']).loc['Dog']\n",
    "aac6.reset_index().groupby(['breed', 'age_of_outcome']).count().sort_values(['date_of_birth']).tail(10)"
   ]
  },
  {
   "cell_type": "code",
   "execution_count": 46,
   "metadata": {},
   "outputs": [
    {
     "data": {
      "text/plain": [
       "Text(0.5, 0, 'Top Dog Adoptions')"
      ]
     },
     "execution_count": 46,
     "metadata": {},
     "output_type": "execute_result"
    },
    {
     "data": {
      "image/png": "[encoded data removed]",
      "text/plain": [
       "<Figure size 432x288 with 1 Axes>"
      ]
     },
     "metadata": {
      "needs_background": "light"
     },
     "output_type": "display_data"
    }
   ],
   "source": [
    "aac6.reset_index().groupby(['breed', 'age_of_outcome']).count().sort_values(['date_of_birth']).tail(10).plot(kind='bar')\n",
    "plt.xlabel('Top Dog Adoptions')"
   ]
  },
  {
   "cell_type": "code",
   "execution_count": null,
   "metadata": {},
   "outputs": [],
   "source": [
    "#inferential statisitcs section:\n",
    "#variables that are significant to project question = age, breed of dog\n",
    "#there are significant differences between age and breed that may impact project aim\n",
    "#strong correlations between variables = age and breed\n",
    "#test to analyze these relationships: "
   ]
  },
  {
   "cell_type": "code",
   "execution_count": 51,
   "metadata": {},
   "outputs": [
    {
     "name": "stdout",
     "output_type": "stream",
     "text": [
      "3.977211477011651\n"
     ]
    }
   ],
   "source": [
    "#calculating the covarian between shelter length and age of outcome\n",
    "#can't calculate breed as they are strings - need to be ints\n",
    "cov_matrix = np.cov(aac6['shelter_length'], aac6['age_of_outcome'])\n",
    "shelter_cov = cov_matrix[0,1]\n",
    "print(shelter_cov)"
   ]
  },
  {
   "cell_type": "code",
   "execution_count": null,
   "metadata": {},
   "outputs": [],
   "source": []
  },
  {
   "cell_type": "code",
   "execution_count": 73,
   "metadata": {},
   "outputs": [
    {
     "data": {
      "image/png": "[encoded data removed]",
      "text/plain": [
       "<Figure size 432x288 with 1 Axes>"
      ]
     },
     "metadata": {
      "needs_background": "light"
     },
     "output_type": "display_data"
    }
   ],
   "source": [
    "_ = plt.plot(aac6['age_of_outcome'], aac6['shelter_length'], marker='.', linestyle='none')\n",
    "plt.show()"
   ]
  },
  {
   "cell_type": "code",
   "execution_count": 58,
   "metadata": {},
   "outputs": [],
   "source": [
    "a, b = np.polyfit(aac6['age_of_outcome'], aac6['shelter_length'], 1)"
   ]
  },
  {
   "cell_type": "code",
   "execution_count": 59,
   "metadata": {},
   "outputs": [
    {
     "name": "stdout",
     "output_type": "stream",
     "text": [
      "0.669662940413562\n"
     ]
    }
   ],
   "source": [
    "print(a)"
   ]
  },
  {
   "cell_type": "code",
   "execution_count": 61,
   "metadata": {},
   "outputs": [
    {
     "name": "stdout",
     "output_type": "stream",
     "text": [
      "1.7771704478685182\n"
     ]
    }
   ],
   "source": [
    "print(b)"
   ]
  },
  {
   "cell_type": "code",
   "execution_count": 70,
   "metadata": {},
   "outputs": [],
   "source": [
    "# Make theoretical line to plot\n",
    "x = np.array([0,100])\n",
    "y = a * x + b"
   ]
  },
  {
   "cell_type": "code",
   "execution_count": null,
   "metadata": {},
   "outputs": [],
   "source": []
  },
  {
   "cell_type": "code",
   "execution_count": null,
   "metadata": {},
   "outputs": [],
   "source": []
  },
  {
   "cell_type": "code",
   "execution_count": 69,
   "metadata": {},
   "outputs": [
    {
     "data": {
      "image/png": "[encoded data removed]",
      "text/plain": [
       "<Figure size 432x288 with 1 Axes>"
      ]
     },
     "metadata": {
      "needs_background": "light"
     },
     "output_type": "display_data"
    }
   ],
   "source": [
    "_ = plt.plot(aac5['age_of_outcome'], aac5['shelter_length'], marker='.', linestyle='none')\n",
    "_ = plt.plot(c,d)\n",
    "plt.show()"
   ]
  },
  {
   "cell_type": "code",
   "execution_count": 66,
   "metadata": {},
   "outputs": [],
   "source": [
    "c, d = np.polyfit(aac5['age_of_outcome'], aac5['shelter_length'], 1)"
   ]
  },
  {
   "cell_type": "code",
   "execution_count": 67,
   "metadata": {},
   "outputs": [
    {
     "name": "stdout",
     "output_type": "stream",
     "text": [
      "0.05175131165394166\n"
     ]
    }
   ],
   "source": [
    "print(c)"
   ]
  },
  {
   "cell_type": "code",
   "execution_count": 68,
   "metadata": {},
   "outputs": [
    {
     "name": "stdout",
     "output_type": "stream",
     "text": [
      "1.3800492012455772\n"
     ]
    }
   ],
   "source": [
    "print(d)"
   ]
  },
  {
   "cell_type": "code",
   "execution_count": 78,
   "metadata": {},
   "outputs": [],
   "source": [
    "#calculating the mean and SD of shelter length for adoptions\n",
    "shelter_mean = np.mean(aac6['shelter_length'])\n",
    "shelter_std = np.std(aac6['shelter_length'])"
   ]
  },
  {
   "cell_type": "code",
   "execution_count": 105,
   "metadata": {},
   "outputs": [],
   "source": [
    "#one thing we could test is the rate of adoptions against euthanizations\n",
    "#I could perform a sample of a binomial distribution and use the probablity \n",
    "#of getting adopted against the number of total animals\n",
    "total_adopt = len(aac6)\n",
    "total_euth = len(aac5)\n",
    "prob_adopt = len(aac6)/ (len(aac6) + len(aac5))"
   ]
  },
  {
   "cell_type": "code",
   "execution_count": 106,
   "metadata": {},
   "outputs": [
    {
     "name": "stdout",
     "output_type": "stream",
     "text": [
      "0.9319807988406847\n"
     ]
    }
   ],
   "source": [
    "print(prob_adopt)"
   ]
  },
  {
   "cell_type": "code",
   "execution_count": 107,
   "metadata": {},
   "outputs": [],
   "source": [
    "n_adopt = np.random.binomial(100, prob_adopt, size=10000)"
   ]
  },
  {
   "cell_type": "code",
   "execution_count": 109,
   "metadata": {},
   "outputs": [
    {
     "data": {
      "image/png": "[encoded data removed]",
      "text/plain": [
       "<Figure size 432x288 with 1 Axes>"
      ]
     },
     "metadata": {
      "needs_background": "light"
     },
     "output_type": "display_data"
    }
   ],
   "source": [
    "_ = plt.hist(n_adopt)"
   ]
  },
  {
   "cell_type": "code",
   "execution_count": 110,
   "metadata": {},
   "outputs": [],
   "source": [
    "#need to computer ECDF of above binomial distribution\n",
    "def ecdf(data):\n",
    "    n = len(data)\n",
    "    x = np.sort(data)\n",
    "    y = np.arange(1, n+1) / n\n",
    "    return x, y"
   ]
  },
  {
   "cell_type": "code",
   "execution_count": 111,
   "metadata": {},
   "outputs": [],
   "source": [
    "x, y = ecdf(n_adopt)"
   ]
  },
  {
   "cell_type": "code",
   "execution_count": 102,
   "metadata": {},
   "outputs": [
    {
     "data": {
      "image/png": "[encoded data removed]",
      "text/plain": [
       "<Figure size 432x288 with 1 Axes>"
      ]
     },
     "metadata": {
      "needs_background": "light"
     },
     "output_type": "display_data"
    }
   ],
   "source": [
    "_ = plt.hist(aac6['shelter_length'], bins=100)\n",
    "_ = plt.xlim(0.00, 50)"
   ]
  },
  {
   "cell_type": "code",
   "execution_count": 112,
   "metadata": {},
   "outputs": [
    {
     "data": {
      "image/png": "[encoded data removed]",
      "text/plain": [
       "<Figure size 432x288 with 1 Axes>"
      ]
     },
     "metadata": {
      "needs_background": "light"
     },
     "output_type": "display_data"
    }
   ],
   "source": [
    "_ = plt.plot(x, y, marker='.', linestyle='none')\n",
    "_ = plt.xlabel('Number of adoptions out of 100')\n",
    "_ = plt.ylabel('CDF')\n",
    "plt.show()"
   ]
  },
  {
   "cell_type": "code",
   "execution_count": 116,
   "metadata": {},
   "outputs": [],
   "source": [
    "bins = np.arange(60, max(n_adopt) + 1.5) - 0.5"
   ]
  },
  {
   "cell_type": "code",
   "execution_count": 118,
   "metadata": {},
   "outputs": [
    {
     "name": "stderr",
     "output_type": "stream",
     "text": [
      "C:\\Users\\lacey\\Anaconda3\\lib\\site-packages\\ipykernel_launcher.py:1: MatplotlibDeprecationWarning: \n",
      "The 'normed' kwarg was deprecated in Matplotlib 2.1 and will be removed in 3.1. Use 'density' instead.\n",
      "  \"\"\"Entry point for launching an IPython kernel.\n"
     ]
    },
    {
     "data": {
      "image/png": "[encoded data removed]",
      "text/plain": [
       "<Figure size 432x288 with 1 Axes>"
      ]
     },
     "metadata": {
      "needs_background": "light"
     },
     "output_type": "display_data"
    }
   ],
   "source": [
    "_ = plt.hist(n_adopt, normed=True, bins=bins)\n",
    "_ = plt.xlabel('Number of adoptions')\n",
    "_ = plt.ylabel('PMF')\n",
    "plt.show()"
   ]
  },
  {
   "cell_type": "code",
   "execution_count": 121,
   "metadata": {},
   "outputs": [
    {
     "name": "stdout",
     "output_type": "stream",
     "text": [
      "3.0291\n"
     ]
    }
   ],
   "source": [
    "#poisson distribution of shelter adoptions\n",
    "shelter_pois = np.random.poisson(shelter_mean, size=10000)\n",
    "pois_mean = np.mean(shelter_pois)\n",
    "print(pois_mean)\n",
    "#this implies that the mean shelter length is around 3 years"
   ]
  },
  {
   "cell_type": "code",
   "execution_count": 124,
   "metadata": {},
   "outputs": [
    {
     "name": "stdout",
     "output_type": "stream",
     "text": [
      "0.6416\n"
     ]
    }
   ],
   "source": [
    "pois_min = np.sum(shelter_pois <= 3)\n",
    "pois_perc = pois_min/ 10000\n",
    "print(pois_perc)\n",
    "#we see that 64 percent of animals are adopted betweeen 0-3 years from this distribution"
   ]
  },
  {
   "cell_type": "code",
   "execution_count": 125,
   "metadata": {},
   "outputs": [],
   "source": [
    "adopt_mean = np.mean(aac6['age_of_outcome'])"
   ]
  },
  {
   "cell_type": "code",
   "execution_count": 127,
   "metadata": {},
   "outputs": [
    {
     "name": "stdout",
     "output_type": "stream",
     "text": [
      "1.8343\n"
     ]
    }
   ],
   "source": [
    "#poisson distribution of age of adoptions\n",
    "adopt_pois = np.random.poisson(adopt_mean, size=10000)\n",
    "pois_adopt_mean = np.mean(adopt_pois)\n",
    "print(pois_adopt_mean)\n",
    "#this implies that the mean age of adoption is less than two"
   ]
  },
  {
   "cell_type": "code",
   "execution_count": 128,
   "metadata": {},
   "outputs": [
    {
     "name": "stdout",
     "output_type": "stream",
     "text": [
      "0.7257\n"
     ]
    }
   ],
   "source": [
    "adopt_min = np.sum(adopt_pois <=2)\n",
    "adopt_perc = adopt_min/10000\n",
    "print(adopt_perc)\n",
    "#based on our distribution 72 percent of dogs adopted are 2 or less"
   ]
  },
  {
   "cell_type": "code",
   "execution_count": 206,
   "metadata": {},
   "outputs": [
    {
     "data": {
      "text/html": [
       "<div>\n",
       "<style scoped>\n",
       "    .dataframe tbody tr th:only-of-type {\n",
       "        vertical-align: middle;\n",
       "    }\n",
       "\n",
       "    .dataframe tbody tr th {\n",
       "        vertical-align: top;\n",
       "    }\n",
       "\n",
       "    .dataframe thead th {\n",
       "        text-align: right;\n",
       "    }\n",
       "</style>\n",
       "<table border=\"1\" class=\"dataframe\">\n",
       "  <thead>\n",
       "    <tr style=\"text-align: right;\">\n",
       "      <th></th>\n",
       "      <th>date_of_birth</th>\n",
       "      <th>outcome_datetime</th>\n",
       "      <th>animal_type</th>\n",
       "      <th>breed</th>\n",
       "      <th>intake_datetime</th>\n",
       "      <th>shelter_length</th>\n",
       "      <th>age_of_outcome</th>\n",
       "      <th>age_category</th>\n",
       "      <th>shelter_bin</th>\n",
       "    </tr>\n",
       "    <tr>\n",
       "      <th>outcome_type</th>\n",
       "      <th></th>\n",
       "      <th></th>\n",
       "      <th></th>\n",
       "      <th></th>\n",
       "      <th></th>\n",
       "      <th></th>\n",
       "      <th></th>\n",
       "      <th></th>\n",
       "      <th></th>\n",
       "    </tr>\n",
       "  </thead>\n",
       "  <tbody>\n",
       "    <tr>\n",
       "      <th>Euthanasia</th>\n",
       "      <td>1994-01-25</td>\n",
       "      <td>2014-09-17 11:18:00</td>\n",
       "      <td>Cat</td>\n",
       "      <td>Domestic Shorthair Mix</td>\n",
       "      <td>2014-01-25 13:53:00</td>\n",
       "      <td>33.0</td>\n",
       "      <td>20.0</td>\n",
       "      <td>(11.0, 23.0]</td>\n",
       "      <td>NaN</td>\n",
       "    </tr>\n",
       "    <tr>\n",
       "      <th>Euthanasia</th>\n",
       "      <td>1994-11-21</td>\n",
       "      <td>2014-11-25 16:04:00</td>\n",
       "      <td>Cat</td>\n",
       "      <td>Domestic Shorthair Mix</td>\n",
       "      <td>2014-11-21 12:30:00</td>\n",
       "      <td>0.0</td>\n",
       "      <td>20.0</td>\n",
       "      <td>(11.0, 23.0]</td>\n",
       "      <td>(-1.0, 1.0]</td>\n",
       "    </tr>\n",
       "    <tr>\n",
       "      <th>Euthanasia</th>\n",
       "      <td>1997-06-11</td>\n",
       "      <td>2017-06-12 11:04:00</td>\n",
       "      <td>Cat</td>\n",
       "      <td>Domestic Shorthair Mix</td>\n",
       "      <td>2017-06-11 11:16:00</td>\n",
       "      <td>0.0</td>\n",
       "      <td>20.0</td>\n",
       "      <td>(11.0, 23.0]</td>\n",
       "      <td>(-1.0, 1.0]</td>\n",
       "    </tr>\n",
       "    <tr>\n",
       "      <th>Euthanasia</th>\n",
       "      <td>1994-10-11</td>\n",
       "      <td>2014-10-11 17:58:00</td>\n",
       "      <td>Cat</td>\n",
       "      <td>Domestic Medium Hair Mix</td>\n",
       "      <td>2014-10-11 17:26:00</td>\n",
       "      <td>0.0</td>\n",
       "      <td>20.0</td>\n",
       "      <td>(11.0, 23.0]</td>\n",
       "      <td>(-1.0, 1.0]</td>\n",
       "    </tr>\n",
       "    <tr>\n",
       "      <th>Euthanasia</th>\n",
       "      <td>1995-03-06</td>\n",
       "      <td>2017-03-06 17:09:00</td>\n",
       "      <td>Cat</td>\n",
       "      <td>Domestic Shorthair Mix</td>\n",
       "      <td>2017-03-06 16:31:00</td>\n",
       "      <td>0.0</td>\n",
       "      <td>22.0</td>\n",
       "      <td>(11.0, 23.0]</td>\n",
       "      <td>(-1.0, 1.0]</td>\n",
       "    </tr>\n",
       "  </tbody>\n",
       "</table>\n",
       "</div>"
      ],
      "text/plain": [
       "             date_of_birth    outcome_datetime animal_type  \\\n",
       "outcome_type                                                 \n",
       "Euthanasia      1994-01-25 2014-09-17 11:18:00         Cat   \n",
       "Euthanasia      1994-11-21 2014-11-25 16:04:00         Cat   \n",
       "Euthanasia      1997-06-11 2017-06-12 11:04:00         Cat   \n",
       "Euthanasia      1994-10-11 2014-10-11 17:58:00         Cat   \n",
       "Euthanasia      1995-03-06 2017-03-06 17:09:00         Cat   \n",
       "\n",
       "                                 breed     intake_datetime  shelter_length  \\\n",
       "outcome_type                                                                 \n",
       "Euthanasia      Domestic Shorthair Mix 2014-01-25 13:53:00            33.0   \n",
       "Euthanasia      Domestic Shorthair Mix 2014-11-21 12:30:00             0.0   \n",
       "Euthanasia      Domestic Shorthair Mix 2017-06-11 11:16:00             0.0   \n",
       "Euthanasia    Domestic Medium Hair Mix 2014-10-11 17:26:00             0.0   \n",
       "Euthanasia      Domestic Shorthair Mix 2017-03-06 16:31:00             0.0   \n",
       "\n",
       "              age_of_outcome  age_category  shelter_bin  \n",
       "outcome_type                                             \n",
       "Euthanasia              20.0  (11.0, 23.0]          NaN  \n",
       "Euthanasia              20.0  (11.0, 23.0]  (-1.0, 1.0]  \n",
       "Euthanasia              20.0  (11.0, 23.0]  (-1.0, 1.0]  \n",
       "Euthanasia              20.0  (11.0, 23.0]  (-1.0, 1.0]  \n",
       "Euthanasia              22.0  (11.0, 23.0]  (-1.0, 1.0]  "
      ]
     },
     "execution_count": 206,
     "metadata": {},
     "output_type": "execute_result"
    }
   ],
   "source": [
    "# want to look at subsets of breeds next such as percentage of specific breed adopted vs euthanized\n",
    "#this will be helpful to identify significance with breeds\n",
    "aac_pit = aac.set_index(['outcome_type']).loc[['Adoption', 'Euthanasia']]\n",
    "aac_pit.tail()"
   ]
  },
  {
   "cell_type": "code",
   "execution_count": 210,
   "metadata": {},
   "outputs": [
    {
     "data": {
      "text/html": [
       "<div>\n",
       "<style scoped>\n",
       "    .dataframe tbody tr th:only-of-type {\n",
       "        vertical-align: middle;\n",
       "    }\n",
       "\n",
       "    .dataframe tbody tr th {\n",
       "        vertical-align: top;\n",
       "    }\n",
       "\n",
       "    .dataframe thead th {\n",
       "        text-align: right;\n",
       "    }\n",
       "</style>\n",
       "<table border=\"1\" class=\"dataframe\">\n",
       "  <thead>\n",
       "    <tr style=\"text-align: right;\">\n",
       "      <th></th>\n",
       "      <th>outcome_type</th>\n",
       "      <th>date_of_birth</th>\n",
       "      <th>outcome_datetime</th>\n",
       "      <th>animal_type</th>\n",
       "      <th>intake_datetime</th>\n",
       "      <th>shelter_length</th>\n",
       "      <th>age_of_outcome</th>\n",
       "      <th>age_category</th>\n",
       "      <th>shelter_bin</th>\n",
       "    </tr>\n",
       "    <tr>\n",
       "      <th>breed</th>\n",
       "      <th></th>\n",
       "      <th></th>\n",
       "      <th></th>\n",
       "      <th></th>\n",
       "      <th></th>\n",
       "      <th></th>\n",
       "      <th></th>\n",
       "      <th></th>\n",
       "      <th></th>\n",
       "    </tr>\n",
       "  </thead>\n",
       "  <tbody>\n",
       "    <tr>\n",
       "      <th>Pit Bull Mix</th>\n",
       "      <td>Adoption</td>\n",
       "      <td>2017-01-28</td>\n",
       "      <td>2017-04-09 17:20:00</td>\n",
       "      <td>Dog</td>\n",
       "      <td>2017-04-04 11:59:00</td>\n",
       "      <td>0.0</td>\n",
       "      <td>0.0</td>\n",
       "      <td>(-1.0, 1.0]</td>\n",
       "      <td>(-1.0, 1.0]</td>\n",
       "    </tr>\n",
       "    <tr>\n",
       "      <th>Pit Bull Mix</th>\n",
       "      <td>Adoption</td>\n",
       "      <td>2017-06-14</td>\n",
       "      <td>2018-03-17 15:27:00</td>\n",
       "      <td>Dog</td>\n",
       "      <td>2018-02-14 15:45:00</td>\n",
       "      <td>4.0</td>\n",
       "      <td>0.0</td>\n",
       "      <td>(-1.0, 1.0]</td>\n",
       "      <td>(3.0, 5.0]</td>\n",
       "    </tr>\n",
       "    <tr>\n",
       "      <th>Pit Bull Mix</th>\n",
       "      <td>Adoption</td>\n",
       "      <td>2014-10-13</td>\n",
       "      <td>2015-06-28 18:26:00</td>\n",
       "      <td>Dog</td>\n",
       "      <td>2015-06-13 13:45:00</td>\n",
       "      <td>2.0</td>\n",
       "      <td>0.0</td>\n",
       "      <td>(-1.0, 1.0]</td>\n",
       "      <td>(1.0, 2.0]</td>\n",
       "    </tr>\n",
       "    <tr>\n",
       "      <th>Pit Bull Mix</th>\n",
       "      <td>Adoption</td>\n",
       "      <td>2016-05-06</td>\n",
       "      <td>2017-04-08 17:14:00</td>\n",
       "      <td>Dog</td>\n",
       "      <td>2017-04-04 15:44:00</td>\n",
       "      <td>0.0</td>\n",
       "      <td>0.0</td>\n",
       "      <td>(-1.0, 1.0]</td>\n",
       "      <td>(-1.0, 1.0]</td>\n",
       "    </tr>\n",
       "    <tr>\n",
       "      <th>Pit Bull Mix</th>\n",
       "      <td>Adoption</td>\n",
       "      <td>2017-06-14</td>\n",
       "      <td>2018-02-23 14:32:00</td>\n",
       "      <td>Dog</td>\n",
       "      <td>2018-02-14 18:56:00</td>\n",
       "      <td>1.0</td>\n",
       "      <td>0.0</td>\n",
       "      <td>(-1.0, 1.0]</td>\n",
       "      <td>(-1.0, 1.0]</td>\n",
       "    </tr>\n",
       "  </tbody>\n",
       "</table>\n",
       "</div>"
      ],
      "text/plain": [
       "             outcome_type date_of_birth    outcome_datetime animal_type  \\\n",
       "breed                                                                     \n",
       "Pit Bull Mix     Adoption    2017-01-28 2017-04-09 17:20:00         Dog   \n",
       "Pit Bull Mix     Adoption    2017-06-14 2018-03-17 15:27:00         Dog   \n",
       "Pit Bull Mix     Adoption    2014-10-13 2015-06-28 18:26:00         Dog   \n",
       "Pit Bull Mix     Adoption    2016-05-06 2017-04-08 17:14:00         Dog   \n",
       "Pit Bull Mix     Adoption    2017-06-14 2018-02-23 14:32:00         Dog   \n",
       "\n",
       "                 intake_datetime  shelter_length  age_of_outcome age_category  \\\n",
       "breed                                                                           \n",
       "Pit Bull Mix 2017-04-04 11:59:00             0.0             0.0  (-1.0, 1.0]   \n",
       "Pit Bull Mix 2018-02-14 15:45:00             4.0             0.0  (-1.0, 1.0]   \n",
       "Pit Bull Mix 2015-06-13 13:45:00             2.0             0.0  (-1.0, 1.0]   \n",
       "Pit Bull Mix 2017-04-04 15:44:00             0.0             0.0  (-1.0, 1.0]   \n",
       "Pit Bull Mix 2018-02-14 18:56:00             1.0             0.0  (-1.0, 1.0]   \n",
       "\n",
       "              shelter_bin  \n",
       "breed                      \n",
       "Pit Bull Mix  (-1.0, 1.0]  \n",
       "Pit Bull Mix   (3.0, 5.0]  \n",
       "Pit Bull Mix   (1.0, 2.0]  \n",
       "Pit Bull Mix  (-1.0, 1.0]  \n",
       "Pit Bull Mix  (-1.0, 1.0]  "
      ]
     },
     "execution_count": 210,
     "metadata": {},
     "output_type": "execute_result"
    }
   ],
   "source": [
    "#since pitbulls are the top adopted as well as euthanized breeds, I wanted to run a simulation on these stats to see what the distributions look liked\n",
    "aac_pit = aac_pit.reset_index().set_index(['breed']).loc['Pit Bull Mix']\n",
    "aac_pit.head()"
   ]
  },
  {
   "cell_type": "code",
   "execution_count": 233,
   "metadata": {},
   "outputs": [
    {
     "name": "stdout",
     "output_type": "stream",
     "text": [
      "427\n"
     ]
    }
   ],
   "source": [
    "#I have a dataframe set-up of all euthanized and adopted pit bulls so that I can run some comparisons\n",
    "aac_pit.reset_index()\n",
    "total_pit_euth = len(aac_pit[aac_pit.outcome_type != 'Adoption'])\n",
    "print(total_pit_euth)"
   ]
  },
  {
   "cell_type": "code",
   "execution_count": 234,
   "metadata": {},
   "outputs": [
    {
     "name": "stdout",
     "output_type": "stream",
     "text": [
      "2751\n"
     ]
    }
   ],
   "source": [
    "total_pit = len(aac_pit)\n",
    "print(total_pit)"
   ]
  },
  {
   "cell_type": "code",
   "execution_count": 235,
   "metadata": {},
   "outputs": [
    {
     "name": "stdout",
     "output_type": "stream",
     "text": [
      "2324\n"
     ]
    }
   ],
   "source": [
    "total_pit_adopt = len(aac_pit[aac_pit.outcome_type != 'Euthanasia'])\n",
    "print(total_pit_adopt)"
   ]
  },
  {
   "cell_type": "code",
   "execution_count": 245,
   "metadata": {},
   "outputs": [
    {
     "name": "stdout",
     "output_type": "stream",
     "text": [
      "0.8447837150127226\n"
     ]
    }
   ],
   "source": [
    "#prob of pit getting adopted\n",
    "pit_prob = total_pit_adopt/ total_pit\n",
    "print(pit_prob)"
   ]
  },
  {
   "cell_type": "code",
   "execution_count": 246,
   "metadata": {},
   "outputs": [],
   "source": [
    "n_pit = np.random.binomial(100, pit_prob, size=10000)"
   ]
  },
  {
   "cell_type": "code",
   "execution_count": 247,
   "metadata": {},
   "outputs": [
    {
     "data": {
      "image/png": "[encoded data removed]",
      "text/plain": [
       "<Figure size 432x288 with 1 Axes>"
      ]
     },
     "metadata": {
      "needs_background": "light"
     },
     "output_type": "display_data"
    }
   ],
   "source": [
    "_ = plt.hist(n_pit)"
   ]
  },
  {
   "cell_type": "code",
   "execution_count": 248,
   "metadata": {},
   "outputs": [],
   "source": [
    "x, y = ecdf(n_pit)"
   ]
  },
  {
   "cell_type": "code",
   "execution_count": 249,
   "metadata": {},
   "outputs": [
    {
     "data": {
      "image/png": "[encoded data removed]",
      "text/plain": [
       "<Figure size 432x288 with 1 Axes>"
      ]
     },
     "metadata": {
      "needs_background": "light"
     },
     "output_type": "display_data"
    }
   ],
   "source": [
    "_ = plt.plot(x, y, marker='.', linestyle='none')\n",
    "_ = plt.xlabel('Number of Pit Bull Mix adoptions out of 100')\n",
    "_ = plt.ylabel('CDF')\n",
    "plt.show()"
   ]
  },
  {
   "cell_type": "code",
   "execution_count": 260,
   "metadata": {},
   "outputs": [],
   "source": [
    "pit_euth = aac_pit[aac_pit.outcome_type != 'Adoption']\n",
    "pit_euth_mean = np.mean(pit_euth['age_of_outcome'])"
   ]
  },
  {
   "cell_type": "code",
   "execution_count": 261,
   "metadata": {},
   "outputs": [
    {
     "name": "stdout",
     "output_type": "stream",
     "text": [
      "3.0705\n"
     ]
    }
   ],
   "source": [
    "pit_euth_pois = np.random.poisson(pit_euth_mean, size=10000)\n",
    "pois_pit_mean = np.mean(pit_euth_pois)\n",
    "print(pois_pit_mean)\n",
    "#this implies the mean age of euthanasia is about 3 which is surprising low"
   ]
  },
  {
   "cell_type": "code",
   "execution_count": 267,
   "metadata": {},
   "outputs": [
    {
     "name": "stdout",
     "output_type": "stream",
     "text": [
      "0.6314\n"
     ]
    }
   ],
   "source": [
    "pit_min = np.sum(pit_euth_pois <=3)\n",
    "pit_euth_perc = pit_min/10000\n",
    "print(pit_euth_perc)\n",
    "#this suggest that 64% of euthanized pit bulls are 3 and younger, which is really high"
   ]
  },
  {
   "cell_type": "code",
   "execution_count": 265,
   "metadata": {},
   "outputs": [],
   "source": [
    "#poisson of pits being adopted\n",
    "pit_adopt = aac_pit[aac_pit.outcome_type != 'Euthanasia']\n",
    "pit_adopt_mean = np.mean(pit_adopt['age_of_outcome'])"
   ]
  },
  {
   "cell_type": "code",
   "execution_count": 266,
   "metadata": {},
   "outputs": [
    {
     "name": "stdout",
     "output_type": "stream",
     "text": [
      "1.6948\n"
     ]
    }
   ],
   "source": [
    "pit_adopt_pois = np.random.poisson(pit_adopt_mean, size=10000)\n",
    "pois_adopt_mean = np.mean(pit_adopt_pois)\n",
    "print(pois_adopt_mean)\n",
    "#the mean age of adoption is 2 per the distribution"
   ]
  },
  {
   "cell_type": "code",
   "execution_count": 270,
   "metadata": {},
   "outputs": [
    {
     "name": "stdout",
     "output_type": "stream",
     "text": [
      "0.7618\n"
     ]
    }
   ],
   "source": [
    "pit_min_adopt = np.sum(pit_adopt_pois <=2)\n",
    "pit_adopt_perc = pit_min_adopt/10000\n",
    "print(pit_adopt_perc)\n",
    "#distribution applies that 76% of adoptees are 2 and below"
   ]
  },
  {
   "cell_type": "code",
   "execution_count": null,
   "metadata": {},
   "outputs": [],
   "source": [
    "#want to do poisson distribution for labs as they were the most adopted breed\n"
   ]
  },
  {
   "cell_type": "code",
   "execution_count": 272,
   "metadata": {},
   "outputs": [
    {
     "data": {
      "text/html": [
       "<div>\n",
       "<style scoped>\n",
       "    .dataframe tbody tr th:only-of-type {\n",
       "        vertical-align: middle;\n",
       "    }\n",
       "\n",
       "    .dataframe tbody tr th {\n",
       "        vertical-align: top;\n",
       "    }\n",
       "\n",
       "    .dataframe thead th {\n",
       "        text-align: right;\n",
       "    }\n",
       "</style>\n",
       "<table border=\"1\" class=\"dataframe\">\n",
       "  <thead>\n",
       "    <tr style=\"text-align: right;\">\n",
       "      <th></th>\n",
       "      <th>date_of_birth</th>\n",
       "      <th>outcome_datetime</th>\n",
       "      <th>breed</th>\n",
       "      <th>intake_datetime</th>\n",
       "      <th>shelter_length</th>\n",
       "      <th>age_of_outcome</th>\n",
       "      <th>age_category</th>\n",
       "      <th>shelter_bin</th>\n",
       "    </tr>\n",
       "    <tr>\n",
       "      <th>animal_type</th>\n",
       "      <th></th>\n",
       "      <th></th>\n",
       "      <th></th>\n",
       "      <th></th>\n",
       "      <th></th>\n",
       "      <th></th>\n",
       "      <th></th>\n",
       "      <th></th>\n",
       "    </tr>\n",
       "  </thead>\n",
       "  <tbody>\n",
       "    <tr>\n",
       "      <th>Dog</th>\n",
       "      <td>2015-02-05</td>\n",
       "      <td>2015-06-24 18:52:00</td>\n",
       "      <td>Labrador Retriever Mix</td>\n",
       "      <td>2015-06-20 11:28:00</td>\n",
       "      <td>0.0</td>\n",
       "      <td>0.0</td>\n",
       "      <td>(-1.0, 1.0]</td>\n",
       "      <td>(-1.0, 1.0]</td>\n",
       "    </tr>\n",
       "    <tr>\n",
       "      <th>Dog</th>\n",
       "      <td>2015-02-19</td>\n",
       "      <td>2015-06-23 18:06:00</td>\n",
       "      <td>Labrador Retriever Mix</td>\n",
       "      <td>2015-06-19 13:02:00</td>\n",
       "      <td>0.0</td>\n",
       "      <td>0.0</td>\n",
       "      <td>(-1.0, 1.0]</td>\n",
       "      <td>(-1.0, 1.0]</td>\n",
       "    </tr>\n",
       "    <tr>\n",
       "      <th>Dog</th>\n",
       "      <td>2015-04-05</td>\n",
       "      <td>2015-06-24 17:00:00</td>\n",
       "      <td>Labrador Retriever Mix</td>\n",
       "      <td>2015-06-20 11:28:00</td>\n",
       "      <td>0.0</td>\n",
       "      <td>0.0</td>\n",
       "      <td>(-1.0, 1.0]</td>\n",
       "      <td>(-1.0, 1.0]</td>\n",
       "    </tr>\n",
       "    <tr>\n",
       "      <th>Dog</th>\n",
       "      <td>2014-12-23</td>\n",
       "      <td>2015-07-24 17:35:00</td>\n",
       "      <td>Labrador Retriever Mix</td>\n",
       "      <td>2015-06-23 00:45:00</td>\n",
       "      <td>4.0</td>\n",
       "      <td>0.0</td>\n",
       "      <td>(-1.0, 1.0]</td>\n",
       "      <td>(3.0, 5.0]</td>\n",
       "    </tr>\n",
       "    <tr>\n",
       "      <th>Dog</th>\n",
       "      <td>2014-12-21</td>\n",
       "      <td>2015-07-06 18:11:00</td>\n",
       "      <td>Labrador Retriever Mix</td>\n",
       "      <td>2015-06-21 16:19:00</td>\n",
       "      <td>2.0</td>\n",
       "      <td>0.0</td>\n",
       "      <td>(-1.0, 1.0]</td>\n",
       "      <td>(1.0, 2.0]</td>\n",
       "    </tr>\n",
       "  </tbody>\n",
       "</table>\n",
       "</div>"
      ],
      "text/plain": [
       "            date_of_birth    outcome_datetime                   breed  \\\n",
       "animal_type                                                             \n",
       "Dog            2015-02-05 2015-06-24 18:52:00  Labrador Retriever Mix   \n",
       "Dog            2015-02-19 2015-06-23 18:06:00  Labrador Retriever Mix   \n",
       "Dog            2015-04-05 2015-06-24 17:00:00  Labrador Retriever Mix   \n",
       "Dog            2014-12-23 2015-07-24 17:35:00  Labrador Retriever Mix   \n",
       "Dog            2014-12-21 2015-07-06 18:11:00  Labrador Retriever Mix   \n",
       "\n",
       "                intake_datetime  shelter_length  age_of_outcome age_category  \\\n",
       "animal_type                                                                    \n",
       "Dog         2015-06-20 11:28:00             0.0             0.0  (-1.0, 1.0]   \n",
       "Dog         2015-06-19 13:02:00             0.0             0.0  (-1.0, 1.0]   \n",
       "Dog         2015-06-20 11:28:00             0.0             0.0  (-1.0, 1.0]   \n",
       "Dog         2015-06-23 00:45:00             4.0             0.0  (-1.0, 1.0]   \n",
       "Dog         2015-06-21 16:19:00             2.0             0.0  (-1.0, 1.0]   \n",
       "\n",
       "             shelter_bin  \n",
       "animal_type               \n",
       "Dog          (-1.0, 1.0]  \n",
       "Dog          (-1.0, 1.0]  \n",
       "Dog          (-1.0, 1.0]  \n",
       "Dog           (3.0, 5.0]  \n",
       "Dog           (1.0, 2.0]  "
      ]
     },
     "execution_count": 272,
     "metadata": {},
     "output_type": "execute_result"
    }
   ],
   "source": [
    "lab_adopted = aac6[aac6.breed == 'Labrador Retriever Mix']\n",
    "lab_adopted.head()"
   ]
  },
  {
   "cell_type": "code",
   "execution_count": 276,
   "metadata": {},
   "outputs": [],
   "source": [
    "lab_mean = np.mean(lab_adopted['age_of_outcome'])"
   ]
  },
  {
   "cell_type": "code",
   "execution_count": 277,
   "metadata": {},
   "outputs": [
    {
     "name": "stdout",
     "output_type": "stream",
     "text": [
      "1.3793\n"
     ]
    }
   ],
   "source": [
    "lab_adopt_pois = np.random.poisson(lab_mean, size=10000)\n",
    "lab_adopt_mean = np.mean(lab_adopt_pois)\n",
    "print(lab_adopt_mean)\n",
    "#mean age of adoption for labs is 1.5 "
   ]
  },
  {
   "cell_type": "code",
   "execution_count": 278,
   "metadata": {},
   "outputs": [
    {
     "name": "stdout",
     "output_type": "stream",
     "text": [
      "0.8394\n"
     ]
    }
   ],
   "source": [
    "lab_min_adopt = np.sum(lab_adopt_pois <=2)\n",
    "lab_adopt_perc = lab_min_adopt/10000\n",
    "print(lab_adopt_perc)\n",
    "#this shows that 83% of labs are adopted 2 and below"
   ]
  },
  {
   "cell_type": "code",
   "execution_count": 280,
   "metadata": {},
   "outputs": [
    {
     "name": "stdout",
     "output_type": "stream",
     "text": [
      "2368\n"
     ]
    }
   ],
   "source": [
    "lab_adopted = len(aac6[aac6.breed == 'Labrador Retriever Mix'])\n",
    "print(lab_adopted)"
   ]
  },
  {
   "cell_type": "code",
   "execution_count": 282,
   "metadata": {},
   "outputs": [
    {
     "name": "stdout",
     "output_type": "stream",
     "text": [
      "20580\n"
     ]
    }
   ],
   "source": [
    "total_adopt = len(aac6)\n",
    "print(total_adopt)"
   ]
  },
  {
   "cell_type": "code",
   "execution_count": 284,
   "metadata": {},
   "outputs": [
    {
     "name": "stdout",
     "output_type": "stream",
     "text": [
      "0.11506316812439261\n"
     ]
    }
   ],
   "source": [
    "#wanted to see total amount of dogs adopted that were labs and run distribution on them\n",
    "lab_prob = lab_adopted/ total_adopt\n",
    "print(lab_prob)"
   ]
  },
  {
   "cell_type": "code",
   "execution_count": 285,
   "metadata": {},
   "outputs": [],
   "source": [
    "n_lab = np.random.binomial(100, lab_prob, size=10000)"
   ]
  },
  {
   "cell_type": "code",
   "execution_count": 286,
   "metadata": {},
   "outputs": [
    {
     "data": {
      "image/png": "[encoded data removed]",
      "text/plain": [
       "<Figure size 432x288 with 1 Axes>"
      ]
     },
     "metadata": {
      "needs_background": "light"
     },
     "output_type": "display_data"
    }
   ],
   "source": [
    "_ = plt.hist(n_lab)"
   ]
  },
  {
   "cell_type": "code",
   "execution_count": 287,
   "metadata": {},
   "outputs": [],
   "source": [
    "x, y = ecdf(n_lab)"
   ]
  },
  {
   "cell_type": "code",
   "execution_count": 288,
   "metadata": {},
   "outputs": [
    {
     "data": {
      "image/png": "[encoded data removed]",
      "text/plain": [
       "<Figure size 432x288 with 1 Axes>"
      ]
     },
     "metadata": {
      "needs_background": "light"
     },
     "output_type": "display_data"
    }
   ],
   "source": [
    "_ = plt.plot(x, y, marker='.', linestyle='none')\n",
    "_ = plt.xlabel('Number of Lab Retriever adoptions out of 100')\n",
    "_ = plt.ylabel('CDF')\n",
    "plt.show()"
   ]
  },
  {
   "cell_type": "code",
   "execution_count": 292,
   "metadata": {},
   "outputs": [
    {
     "name": "stdout",
     "output_type": "stream",
     "text": [
      "4.872881355932203\n"
     ]
    }
   ],
   "source": [
    "lab_euth = aac5[aac5.breed == 'Labrador Retriever Mix']\n",
    "lab_euth_mean = np.mean(lab_euth['age_of_outcome'])\n",
    "print(lab_euth_mean)"
   ]
  },
  {
   "cell_type": "code",
   "execution_count": 293,
   "metadata": {},
   "outputs": [
    {
     "name": "stdout",
     "output_type": "stream",
     "text": [
      "118\n"
     ]
    }
   ],
   "source": [
    "lab_euth = len(aac5[aac5.breed == 'Labrador Retriever Mix'])\n",
    "print(lab_euth)"
   ]
  },
  {
   "cell_type": "code",
   "execution_count": 295,
   "metadata": {},
   "outputs": [
    {
     "name": "stdout",
     "output_type": "stream",
     "text": [
      "2486\n"
     ]
    }
   ],
   "source": [
    "total_lab = lab_euth + lab_adopted\n",
    "print(total_lab)"
   ]
  },
  {
   "cell_type": "code",
   "execution_count": 296,
   "metadata": {},
   "outputs": [
    {
     "name": "stdout",
     "output_type": "stream",
     "text": [
      "0.04746580852775543\n"
     ]
    }
   ],
   "source": [
    "lab_prob_euth = lab_euth/ total_lab\n",
    "print(lab_prob_euth)"
   ]
  },
  {
   "cell_type": "code",
   "execution_count": 297,
   "metadata": {},
   "outputs": [],
   "source": [
    "n_lab_euth = np.random.binomial(100, lab_prob_euth, size=10000)"
   ]
  },
  {
   "cell_type": "code",
   "execution_count": 298,
   "metadata": {},
   "outputs": [
    {
     "data": {
      "image/png": "[encoded data removed]",
      "text/plain": [
       "<Figure size 432x288 with 1 Axes>"
      ]
     },
     "metadata": {
      "needs_background": "light"
     },
     "output_type": "display_data"
    }
   ],
   "source": [
    "_ = plt.hist(n_lab_euth)"
   ]
  },
  {
   "cell_type": "code",
   "execution_count": 299,
   "metadata": {},
   "outputs": [],
   "source": [
    "x, y = ecdf(n_lab_euth)"
   ]
  },
  {
   "cell_type": "code",
   "execution_count": 300,
   "metadata": {},
   "outputs": [
    {
     "data": {
      "image/png": "[encoded data removed]",
      "text/plain": [
       "<Figure size 432x288 with 1 Axes>"
      ]
     },
     "metadata": {
      "needs_background": "light"
     },
     "output_type": "display_data"
    }
   ],
   "source": [
    "_ = plt.plot(x, y, marker='.', linestyle='none')\n",
    "_ = plt.xlabel('Number of Lab Retriever euthanized out of 100')\n",
    "_ = plt.ylabel('CDF')\n",
    "plt.show()"
   ]
  },
  {
   "cell_type": "code",
   "execution_count": null,
   "metadata": {},
   "outputs": [],
   "source": []
  },
  {
   "cell_type": "code",
   "execution_count": null,
   "metadata": {},
   "outputs": [],
   "source": []
  }
 ],
 "metadata": {
  "kernelspec": {
   "display_name": "Python 3",
   "language": "python",
   "name": "python3"
  },
  "language_info": {
   "codemirror_mode": {
    "name": "ipython",
    "version": 3
   },
   "file_extension": ".py",
   "mimetype": "text/x-python",
   "name": "python",
   "nbconvert_exporter": "python",
   "pygments_lexer": "ipython3",
   "version": "3.7.3"
  }
 },
 "nbformat": 4,
 "nbformat_minor": 2
}
